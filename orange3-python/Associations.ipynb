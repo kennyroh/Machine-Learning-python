{
 "nbformat": 4,
 "nbformat_minor": 0,
 "metadata": {
  "colab": {
   "provenance": [],
   "collapsed_sections": [],
   "authorship_tag": "ABX9TyNvQ6gXEU1KjQmQFdDL0IRW"
  },
  "kernelspec": {
   "name": "python3",
   "language": "python",
   "display_name": "Python 3 (ipykernel)"
  },
  "language_info": {
   "name": "python"
  }
 },
 "cells": [
  {
   "cell_type": "markdown",
   "source": [
    "# 4.3.2 데이터세트 및\n",
    "# 4.3.4 파이선 연관 분석"
   ],
   "metadata": {
    "id": "_wTaoxYofT72"
   }
  },
  {
   "cell_type": "code",
   "source": [
    "# from google.colab import drive\n",
    "# drive.mount('/content/drive')"
   ],
   "metadata": {
    "id": "_-Wg62x9fa0M",
    "ExecuteTime": {
     "end_time": "2023-07-28T06:22:19.126232Z",
     "start_time": "2023-07-28T06:22:19.065020Z"
    }
   },
   "execution_count": 21,
   "outputs": []
  },
  {
   "cell_type": "code",
   "source": [
    "import pandas as pd\n",
    "import numpy as np\n",
    "df = pd.read_csv('basket_analysis.csv')\n",
    "df.shape"
   ],
   "metadata": {
    "colab": {
     "base_uri": "https://localhost:8080/"
    },
    "id": "KNyMQ3ByGav4",
    "executionInfo": {
     "status": "ok",
     "timestamp": 1657954712639,
     "user_tz": -540,
     "elapsed": 276,
     "user": {
      "displayName": "Jason SJ Yim",
      "userId": "00334139127424328539"
     }
    },
    "outputId": "5c4ce4b7-549b-4c78-85e2-455d01ed31c6",
    "ExecuteTime": {
     "end_time": "2023-07-28T06:22:19.186060Z",
     "start_time": "2023-07-28T06:22:19.069968Z"
    }
   },
   "execution_count": 22,
   "outputs": [
    {
     "data": {
      "text/plain": "(999, 17)"
     },
     "execution_count": 22,
     "metadata": {},
     "output_type": "execute_result"
    }
   ]
  },
  {
   "cell_type": "code",
   "source": [
    "df.head(3)"
   ],
   "metadata": {
    "colab": {
     "base_uri": "https://localhost:8080/",
     "height": 225
    },
    "id": "VCG6JaiNG7XV",
    "executionInfo": {
     "status": "ok",
     "timestamp": 1657954715058,
     "user_tz": -540,
     "elapsed": 306,
     "user": {
      "displayName": "Jason SJ Yim",
      "userId": "00334139127424328539"
     }
    },
    "outputId": "d918974d-79f8-46b4-8af9-0fe0ba1e0474",
    "ExecuteTime": {
     "end_time": "2023-07-28T06:22:19.186841Z",
     "start_time": "2023-07-28T06:22:19.088591Z"
    }
   },
   "execution_count": 23,
   "outputs": [
    {
     "data": {
      "text/plain": "   Unnamed: 0  Apple  Bread  Butter  Cheese   Corn   Dill   Eggs  Ice cream  \\\n0           0  False   True   False   False   True   True  False       True   \n1           1  False  False   False   False  False  False  False      False   \n2           2   True  False    True   False  False   True  False       True   \n\n   Kidney Beans   Milk  Nutmeg  Onion  Sugar  Unicorn  Yogurt  chocolate  \n0         False  False   False  False   True    False    True       True  \n1         False   True   False  False  False    False   False      False  \n2         False   True   False  False  False    False    True       True  ",
      "text/html": "<div>\n<style scoped>\n    .dataframe tbody tr th:only-of-type {\n        vertical-align: middle;\n    }\n\n    .dataframe tbody tr th {\n        vertical-align: top;\n    }\n\n    .dataframe thead th {\n        text-align: right;\n    }\n</style>\n<table border=\"1\" class=\"dataframe\">\n  <thead>\n    <tr style=\"text-align: right;\">\n      <th></th>\n      <th>Unnamed: 0</th>\n      <th>Apple</th>\n      <th>Bread</th>\n      <th>Butter</th>\n      <th>Cheese</th>\n      <th>Corn</th>\n      <th>Dill</th>\n      <th>Eggs</th>\n      <th>Ice cream</th>\n      <th>Kidney Beans</th>\n      <th>Milk</th>\n      <th>Nutmeg</th>\n      <th>Onion</th>\n      <th>Sugar</th>\n      <th>Unicorn</th>\n      <th>Yogurt</th>\n      <th>chocolate</th>\n    </tr>\n  </thead>\n  <tbody>\n    <tr>\n      <th>0</th>\n      <td>0</td>\n      <td>False</td>\n      <td>True</td>\n      <td>False</td>\n      <td>False</td>\n      <td>True</td>\n      <td>True</td>\n      <td>False</td>\n      <td>True</td>\n      <td>False</td>\n      <td>False</td>\n      <td>False</td>\n      <td>False</td>\n      <td>True</td>\n      <td>False</td>\n      <td>True</td>\n      <td>True</td>\n    </tr>\n    <tr>\n      <th>1</th>\n      <td>1</td>\n      <td>False</td>\n      <td>False</td>\n      <td>False</td>\n      <td>False</td>\n      <td>False</td>\n      <td>False</td>\n      <td>False</td>\n      <td>False</td>\n      <td>False</td>\n      <td>True</td>\n      <td>False</td>\n      <td>False</td>\n      <td>False</td>\n      <td>False</td>\n      <td>False</td>\n      <td>False</td>\n    </tr>\n    <tr>\n      <th>2</th>\n      <td>2</td>\n      <td>True</td>\n      <td>False</td>\n      <td>True</td>\n      <td>False</td>\n      <td>False</td>\n      <td>True</td>\n      <td>False</td>\n      <td>True</td>\n      <td>False</td>\n      <td>True</td>\n      <td>False</td>\n      <td>False</td>\n      <td>False</td>\n      <td>False</td>\n      <td>True</td>\n      <td>True</td>\n    </tr>\n  </tbody>\n</table>\n</div>"
     },
     "execution_count": 23,
     "metadata": {},
     "output_type": "execute_result"
    }
   ]
  },
  {
   "cell_type": "code",
   "source": [
    "# Unnamed: 0 컬럼 제거\n",
    "df = df.drop('Unnamed: 0',axis=1) # 새로축에서 unnamed: 0d을 지우고 싶다.\n",
    "df.head(3)"
   ],
   "metadata": {
    "colab": {
     "base_uri": "https://localhost:8080/",
     "height": 205
    },
    "id": "V0lZyik64A4g",
    "executionInfo": {
     "status": "ok",
     "timestamp": 1657954717743,
     "user_tz": -540,
     "elapsed": 288,
     "user": {
      "displayName": "Jason SJ Yim",
      "userId": "00334139127424328539"
     }
    },
    "outputId": "453a2c1b-012c-4331-e7f5-376bacfcaadd",
    "ExecuteTime": {
     "end_time": "2023-07-28T06:22:19.187410Z",
     "start_time": "2023-07-28T06:22:19.093470Z"
    }
   },
   "execution_count": 24,
   "outputs": [
    {
     "data": {
      "text/plain": "   Apple  Bread  Butter  Cheese   Corn   Dill   Eggs  Ice cream  Kidney Beans  \\\n0  False   True   False   False   True   True  False       True         False   \n1  False  False   False   False  False  False  False      False         False   \n2   True  False    True   False  False   True  False       True         False   \n\n    Milk  Nutmeg  Onion  Sugar  Unicorn  Yogurt  chocolate  \n0  False   False  False   True    False    True       True  \n1   True   False  False  False    False   False      False  \n2   True   False  False  False    False    True       True  ",
      "text/html": "<div>\n<style scoped>\n    .dataframe tbody tr th:only-of-type {\n        vertical-align: middle;\n    }\n\n    .dataframe tbody tr th {\n        vertical-align: top;\n    }\n\n    .dataframe thead th {\n        text-align: right;\n    }\n</style>\n<table border=\"1\" class=\"dataframe\">\n  <thead>\n    <tr style=\"text-align: right;\">\n      <th></th>\n      <th>Apple</th>\n      <th>Bread</th>\n      <th>Butter</th>\n      <th>Cheese</th>\n      <th>Corn</th>\n      <th>Dill</th>\n      <th>Eggs</th>\n      <th>Ice cream</th>\n      <th>Kidney Beans</th>\n      <th>Milk</th>\n      <th>Nutmeg</th>\n      <th>Onion</th>\n      <th>Sugar</th>\n      <th>Unicorn</th>\n      <th>Yogurt</th>\n      <th>chocolate</th>\n    </tr>\n  </thead>\n  <tbody>\n    <tr>\n      <th>0</th>\n      <td>False</td>\n      <td>True</td>\n      <td>False</td>\n      <td>False</td>\n      <td>True</td>\n      <td>True</td>\n      <td>False</td>\n      <td>True</td>\n      <td>False</td>\n      <td>False</td>\n      <td>False</td>\n      <td>False</td>\n      <td>True</td>\n      <td>False</td>\n      <td>True</td>\n      <td>True</td>\n    </tr>\n    <tr>\n      <th>1</th>\n      <td>False</td>\n      <td>False</td>\n      <td>False</td>\n      <td>False</td>\n      <td>False</td>\n      <td>False</td>\n      <td>False</td>\n      <td>False</td>\n      <td>False</td>\n      <td>True</td>\n      <td>False</td>\n      <td>False</td>\n      <td>False</td>\n      <td>False</td>\n      <td>False</td>\n      <td>False</td>\n    </tr>\n    <tr>\n      <th>2</th>\n      <td>True</td>\n      <td>False</td>\n      <td>True</td>\n      <td>False</td>\n      <td>False</td>\n      <td>True</td>\n      <td>False</td>\n      <td>True</td>\n      <td>False</td>\n      <td>True</td>\n      <td>False</td>\n      <td>False</td>\n      <td>False</td>\n      <td>False</td>\n      <td>True</td>\n      <td>True</td>\n    </tr>\n  </tbody>\n</table>\n</div>"
     },
     "execution_count": 24,
     "metadata": {},
     "output_type": "execute_result"
    }
   ]
  },
  {
   "cell_type": "code",
   "source": [
    "df1 = df.replace(True, 1).replace(False, \"\")   # True를 1로, False를 결측값으로 변환\n",
    "df1.head(3)"
   ],
   "metadata": {
    "colab": {
     "base_uri": "https://localhost:8080/",
     "height": 205
    },
    "executionInfo": {
     "status": "ok",
     "timestamp": 1657944092122,
     "user_tz": -540,
     "elapsed": 290,
     "user": {
      "displayName": "Jason SJ Yim",
      "userId": "00334139127424328539"
     }
    },
    "outputId": "771fd4b3-b4eb-46b4-e66a-123ac33106ea",
    "id": "szh6yu2U4Swt",
    "ExecuteTime": {
     "end_time": "2023-07-28T06:22:19.189382Z",
     "start_time": "2023-07-28T06:22:19.111786Z"
    }
   },
   "execution_count": 25,
   "outputs": [
    {
     "data": {
      "text/plain": "  Apple Bread Butter Cheese Corn Dill Eggs Ice cream Kidney Beans Milk Nutmeg  \\\n0           1                  1    1              1                            \n1                                                                    1          \n2     1            1                1              1                 1          \n\n  Onion Sugar Unicorn Yogurt chocolate  \n0           1              1         1  \n1                                       \n2                          1         1  ",
      "text/html": "<div>\n<style scoped>\n    .dataframe tbody tr th:only-of-type {\n        vertical-align: middle;\n    }\n\n    .dataframe tbody tr th {\n        vertical-align: top;\n    }\n\n    .dataframe thead th {\n        text-align: right;\n    }\n</style>\n<table border=\"1\" class=\"dataframe\">\n  <thead>\n    <tr style=\"text-align: right;\">\n      <th></th>\n      <th>Apple</th>\n      <th>Bread</th>\n      <th>Butter</th>\n      <th>Cheese</th>\n      <th>Corn</th>\n      <th>Dill</th>\n      <th>Eggs</th>\n      <th>Ice cream</th>\n      <th>Kidney Beans</th>\n      <th>Milk</th>\n      <th>Nutmeg</th>\n      <th>Onion</th>\n      <th>Sugar</th>\n      <th>Unicorn</th>\n      <th>Yogurt</th>\n      <th>chocolate</th>\n    </tr>\n  </thead>\n  <tbody>\n    <tr>\n      <th>0</th>\n      <td></td>\n      <td>1</td>\n      <td></td>\n      <td></td>\n      <td>1</td>\n      <td>1</td>\n      <td></td>\n      <td>1</td>\n      <td></td>\n      <td></td>\n      <td></td>\n      <td></td>\n      <td>1</td>\n      <td></td>\n      <td>1</td>\n      <td>1</td>\n    </tr>\n    <tr>\n      <th>1</th>\n      <td></td>\n      <td></td>\n      <td></td>\n      <td></td>\n      <td></td>\n      <td></td>\n      <td></td>\n      <td></td>\n      <td></td>\n      <td>1</td>\n      <td></td>\n      <td></td>\n      <td></td>\n      <td></td>\n      <td></td>\n      <td></td>\n    </tr>\n    <tr>\n      <th>2</th>\n      <td>1</td>\n      <td></td>\n      <td>1</td>\n      <td></td>\n      <td></td>\n      <td>1</td>\n      <td></td>\n      <td>1</td>\n      <td></td>\n      <td>1</td>\n      <td></td>\n      <td></td>\n      <td></td>\n      <td></td>\n      <td>1</td>\n      <td>1</td>\n    </tr>\n  </tbody>\n</table>\n</div>"
     },
     "execution_count": 25,
     "metadata": {},
     "output_type": "execute_result"
    }
   ]
  },
  {
   "cell_type": "code",
   "source": [
    "# 데이터프레임 df1를 구글 클라우드 지정 경로에 basket_analysis_number.csv 파일명으로 저장\n",
    "df1.to_csv('basket_analysis_number.csv', index=False)"
   ],
   "metadata": {
    "id": "o32yUj7LHcUB",
    "ExecuteTime": {
     "end_time": "2023-07-28T06:22:19.189577Z",
     "start_time": "2023-07-28T06:22:19.133472Z"
    }
   },
   "execution_count": 26,
   "outputs": []
  },
  {
   "cell_type": "code",
   "source": [
    "df.head(3)"
   ],
   "metadata": {
    "colab": {
     "base_uri": "https://localhost:8080/",
     "height": 205
    },
    "id": "8TsKvg8FKWn3",
    "executionInfo": {
     "status": "ok",
     "timestamp": 1657954722809,
     "user_tz": -540,
     "elapsed": 281,
     "user": {
      "displayName": "Jason SJ Yim",
      "userId": "00334139127424328539"
     }
    },
    "outputId": "f654498e-c8be-4817-bd39-f1f70d5c190d",
    "ExecuteTime": {
     "end_time": "2023-07-28T06:22:19.190196Z",
     "start_time": "2023-07-28T06:22:19.152528Z"
    }
   },
   "execution_count": 27,
   "outputs": [
    {
     "data": {
      "text/plain": "   Apple  Bread  Butter  Cheese   Corn   Dill   Eggs  Ice cream  Kidney Beans  \\\n0  False   True   False   False   True   True  False       True         False   \n1  False  False   False   False  False  False  False      False         False   \n2   True  False    True   False  False   True  False       True         False   \n\n    Milk  Nutmeg  Onion  Sugar  Unicorn  Yogurt  chocolate  \n0  False   False  False   True    False    True       True  \n1   True   False  False  False    False   False      False  \n2   True   False  False  False    False    True       True  ",
      "text/html": "<div>\n<style scoped>\n    .dataframe tbody tr th:only-of-type {\n        vertical-align: middle;\n    }\n\n    .dataframe tbody tr th {\n        vertical-align: top;\n    }\n\n    .dataframe thead th {\n        text-align: right;\n    }\n</style>\n<table border=\"1\" class=\"dataframe\">\n  <thead>\n    <tr style=\"text-align: right;\">\n      <th></th>\n      <th>Apple</th>\n      <th>Bread</th>\n      <th>Butter</th>\n      <th>Cheese</th>\n      <th>Corn</th>\n      <th>Dill</th>\n      <th>Eggs</th>\n      <th>Ice cream</th>\n      <th>Kidney Beans</th>\n      <th>Milk</th>\n      <th>Nutmeg</th>\n      <th>Onion</th>\n      <th>Sugar</th>\n      <th>Unicorn</th>\n      <th>Yogurt</th>\n      <th>chocolate</th>\n    </tr>\n  </thead>\n  <tbody>\n    <tr>\n      <th>0</th>\n      <td>False</td>\n      <td>True</td>\n      <td>False</td>\n      <td>False</td>\n      <td>True</td>\n      <td>True</td>\n      <td>False</td>\n      <td>True</td>\n      <td>False</td>\n      <td>False</td>\n      <td>False</td>\n      <td>False</td>\n      <td>True</td>\n      <td>False</td>\n      <td>True</td>\n      <td>True</td>\n    </tr>\n    <tr>\n      <th>1</th>\n      <td>False</td>\n      <td>False</td>\n      <td>False</td>\n      <td>False</td>\n      <td>False</td>\n      <td>False</td>\n      <td>False</td>\n      <td>False</td>\n      <td>False</td>\n      <td>True</td>\n      <td>False</td>\n      <td>False</td>\n      <td>False</td>\n      <td>False</td>\n      <td>False</td>\n      <td>False</td>\n    </tr>\n    <tr>\n      <th>2</th>\n      <td>True</td>\n      <td>False</td>\n      <td>True</td>\n      <td>False</td>\n      <td>False</td>\n      <td>True</td>\n      <td>False</td>\n      <td>True</td>\n      <td>False</td>\n      <td>True</td>\n      <td>False</td>\n      <td>False</td>\n      <td>False</td>\n      <td>False</td>\n      <td>True</td>\n      <td>True</td>\n    </tr>\n  </tbody>\n</table>\n</div>"
     },
     "execution_count": 27,
     "metadata": {},
     "output_type": "execute_result"
    }
   ]
  },
  {
   "cell_type": "code",
   "source": [
    "# mlxtend 라이브러리에서 apriori, association_rules 기능 import \n",
    "from mlxtend.frequent_patterns import apriori, association_rules\n",
    "import warnings\n",
    "warnings.filterwarnings('ignore')"
   ],
   "metadata": {
    "id": "jokF2MvlH1X1",
    "ExecuteTime": {
     "end_time": "2023-07-28T06:22:19.190346Z",
     "start_time": "2023-07-28T06:22:19.157147Z"
    }
   },
   "execution_count": 28,
   "outputs": []
  },
  {
   "cell_type": "code",
   "source": [
    "# Apriori 알고리듬을 통해 Frequent Itemsets 계산\n",
    "# 오렌지3 Frequent Itemsets 환경설정과 동일하게 설정\n",
    "frequent_itemsets = apriori(df,\n",
    "                            min_support = .01,\n",
    "                            max_len = 6,\n",
    "                            use_colnames = True)"
   ],
   "metadata": {
    "id": "zWLoIM2AY9JP",
    "ExecuteTime": {
     "end_time": "2023-07-28T06:22:19.483826Z",
     "start_time": "2023-07-28T06:22:19.161717Z"
    }
   },
   "execution_count": 29,
   "outputs": []
  },
  {
   "cell_type": "code",
   "source": [
    "# Frequent Itemset를 support값에 따라 sort 후 첫 5행까지 디스플레이\n",
    "frequent_itemsets.sort_values(by=['support']).head()"
   ],
   "metadata": {
    "colab": {
     "base_uri": "https://localhost:8080/",
     "height": 206
    },
    "id": "5TNyQxvVe5Wf",
    "executionInfo": {
     "status": "ok",
     "timestamp": 1657954737405,
     "user_tz": -540,
     "elapsed": 281,
     "user": {
      "displayName": "Jason SJ Yim",
      "userId": "00334139127424328539"
     }
    },
    "outputId": "0cc386d4-7c97-47f7-c099-f6922b835037",
    "ExecuteTime": {
     "end_time": "2023-07-28T06:22:19.484480Z",
     "start_time": "2023-07-28T06:22:19.330802Z"
    }
   },
   "execution_count": 30,
   "outputs": [
    {
     "data": {
      "text/plain": "      support                                           itemsets\n9415  0.01001  (Unicorn, Corn, Bread, Eggs, Kidney Beans, Sugar)\n7924  0.01001       (Apple, Nutmeg, Dill, Eggs, Cheese, Unicorn)\n7930  0.01001         (Apple, Yogurt, Dill, Eggs, Cheese, Sugar)\n7934  0.01001  (Apple, Milk, Dill, Cheese, Kidney Beans, Ice ...\n7936  0.01001  (Apple, Onion, Dill, Cheese, Kidney Beans, Ice...",
      "text/html": "<div>\n<style scoped>\n    .dataframe tbody tr th:only-of-type {\n        vertical-align: middle;\n    }\n\n    .dataframe tbody tr th {\n        vertical-align: top;\n    }\n\n    .dataframe thead th {\n        text-align: right;\n    }\n</style>\n<table border=\"1\" class=\"dataframe\">\n  <thead>\n    <tr style=\"text-align: right;\">\n      <th></th>\n      <th>support</th>\n      <th>itemsets</th>\n    </tr>\n  </thead>\n  <tbody>\n    <tr>\n      <th>9415</th>\n      <td>0.01001</td>\n      <td>(Unicorn, Corn, Bread, Eggs, Kidney Beans, Sugar)</td>\n    </tr>\n    <tr>\n      <th>7924</th>\n      <td>0.01001</td>\n      <td>(Apple, Nutmeg, Dill, Eggs, Cheese, Unicorn)</td>\n    </tr>\n    <tr>\n      <th>7930</th>\n      <td>0.01001</td>\n      <td>(Apple, Yogurt, Dill, Eggs, Cheese, Sugar)</td>\n    </tr>\n    <tr>\n      <th>7934</th>\n      <td>0.01001</td>\n      <td>(Apple, Milk, Dill, Cheese, Kidney Beans, Ice ...</td>\n    </tr>\n    <tr>\n      <th>7936</th>\n      <td>0.01001</td>\n      <td>(Apple, Onion, Dill, Cheese, Kidney Beans, Ice...</td>\n    </tr>\n  </tbody>\n</table>\n</div>"
     },
     "execution_count": 30,
     "metadata": {},
     "output_type": "execute_result"
    }
   ]
  },
  {
   "cell_type": "code",
   "source": [
    "# Frequent_Itemsets를 대상으로 연관 규칙(Association rule) 생성 \n",
    "rules = association_rules(frequent_itemsets,\n",
    "                            metric = 'support',\n",
    "                            min_threshold=0.01)"
   ],
   "metadata": {
    "id": "qq9DxCrHatKZ",
    "ExecuteTime": {
     "end_time": "2023-07-28T06:22:22.535409Z",
     "start_time": "2023-07-28T06:22:19.511820Z"
    }
   },
   "execution_count": 31,
   "outputs": []
  },
  {
   "cell_type": "code",
   "source": [
    "rules.shape"
   ],
   "metadata": {
    "colab": {
     "base_uri": "https://localhost:8080/"
    },
    "id": "TIIRu11Tk_kJ",
    "executionInfo": {
     "status": "ok",
     "timestamp": 1657954754514,
     "user_tz": -540,
     "elapsed": 252,
     "user": {
      "displayName": "Jason SJ Yim",
      "userId": "00334139127424328539"
     }
    },
    "outputId": "3135f21c-2c57-447e-ac7a-43a2d2e84b08",
    "ExecuteTime": {
     "end_time": "2023-07-28T06:22:22.544477Z",
     "start_time": "2023-07-28T06:22:22.537315Z"
    }
   },
   "execution_count": 32,
   "outputs": [
    {
     "data": {
      "text/plain": "(473170, 10)"
     },
     "execution_count": 32,
     "metadata": {},
     "output_type": "execute_result"
    }
   ]
  },
  {
   "cell_type": "code",
   "source": [
    "rules"
   ],
   "metadata": {
    "colab": {
     "base_uri": "https://localhost:8080/",
     "height": 572
    },
    "id": "OXQ7OLN2LZEl",
    "executionInfo": {
     "status": "ok",
     "timestamp": 1657954756114,
     "user_tz": -540,
     "elapsed": 259,
     "user": {
      "displayName": "Jason SJ Yim",
      "userId": "00334139127424328539"
     }
    },
    "outputId": "df1193c9-e721-4751-bd5d-60d9d12415e9",
    "ExecuteTime": {
     "end_time": "2023-07-28T06:22:22.598074Z",
     "start_time": "2023-07-28T06:22:22.542922Z"
    }
   },
   "execution_count": 33,
   "outputs": [
    {
     "data": {
      "text/plain": "       antecedents                                  consequents  \\\n0          (Apple)                                      (Bread)   \n1          (Bread)                                      (Apple)   \n2          (Apple)                                     (Butter)   \n3         (Butter)                                      (Apple)   \n4          (Apple)                                     (Cheese)   \n...            ...                                          ...   \n473165    (Yogurt)   (chocolate, Nutmeg, Sugar, Onion, Unicorn)   \n473166    (Nutmeg)   (chocolate, Yogurt, Sugar, Onion, Unicorn)   \n473167     (Sugar)  (chocolate, Yogurt, Nutmeg, Onion, Unicorn)   \n473168     (Onion)  (chocolate, Yogurt, Nutmeg, Sugar, Unicorn)   \n473169   (Unicorn)    (chocolate, Yogurt, Nutmeg, Onion, Sugar)   \n\n        antecedent support  consequent support   support  confidence  \\\n0                 0.383383            0.384384  0.154154    0.402089   \n1                 0.384384            0.383383  0.154154    0.401042   \n2                 0.383383            0.420420  0.188188    0.490862   \n3                 0.420420            0.383383  0.188188    0.447619   \n4                 0.383383            0.404404  0.162162    0.422977   \n...                    ...                 ...       ...         ...   \n473165            0.420420            0.021021  0.012012    0.028571   \n473166            0.401401            0.026026  0.012012    0.029925   \n473167            0.409409            0.026026  0.012012    0.029340   \n473168            0.403403            0.022022  0.012012    0.029777   \n473169            0.389389            0.023023  0.012012    0.030848   \n\n            lift  leverage  conviction  zhangs_metric  \n0       1.046059  0.006788    1.029610       0.071407  \n1       1.046059  0.006788    1.029482       0.071524  \n2       1.167549  0.027006    1.138354       0.232730  \n3       1.167549  0.027006    1.116289       0.247602  \n4       1.045925  0.007120    1.032186       0.071208  \n...          ...       ...         ...            ...  \n473165  1.359184  0.003174    1.007772       0.455959  \n473166  1.149818  0.001565    1.004019       0.217670  \n473167  1.127327  0.001357    1.003414       0.191243  \n473168  1.352132  0.003128    1.007993       0.436521  \n473169  1.339890  0.003047    1.008074       0.415437  \n\n[473170 rows x 10 columns]",
      "text/html": "<div>\n<style scoped>\n    .dataframe tbody tr th:only-of-type {\n        vertical-align: middle;\n    }\n\n    .dataframe tbody tr th {\n        vertical-align: top;\n    }\n\n    .dataframe thead th {\n        text-align: right;\n    }\n</style>\n<table border=\"1\" class=\"dataframe\">\n  <thead>\n    <tr style=\"text-align: right;\">\n      <th></th>\n      <th>antecedents</th>\n      <th>consequents</th>\n      <th>antecedent support</th>\n      <th>consequent support</th>\n      <th>support</th>\n      <th>confidence</th>\n      <th>lift</th>\n      <th>leverage</th>\n      <th>conviction</th>\n      <th>zhangs_metric</th>\n    </tr>\n  </thead>\n  <tbody>\n    <tr>\n      <th>0</th>\n      <td>(Apple)</td>\n      <td>(Bread)</td>\n      <td>0.383383</td>\n      <td>0.384384</td>\n      <td>0.154154</td>\n      <td>0.402089</td>\n      <td>1.046059</td>\n      <td>0.006788</td>\n      <td>1.029610</td>\n      <td>0.071407</td>\n    </tr>\n    <tr>\n      <th>1</th>\n      <td>(Bread)</td>\n      <td>(Apple)</td>\n      <td>0.384384</td>\n      <td>0.383383</td>\n      <td>0.154154</td>\n      <td>0.401042</td>\n      <td>1.046059</td>\n      <td>0.006788</td>\n      <td>1.029482</td>\n      <td>0.071524</td>\n    </tr>\n    <tr>\n      <th>2</th>\n      <td>(Apple)</td>\n      <td>(Butter)</td>\n      <td>0.383383</td>\n      <td>0.420420</td>\n      <td>0.188188</td>\n      <td>0.490862</td>\n      <td>1.167549</td>\n      <td>0.027006</td>\n      <td>1.138354</td>\n      <td>0.232730</td>\n    </tr>\n    <tr>\n      <th>3</th>\n      <td>(Butter)</td>\n      <td>(Apple)</td>\n      <td>0.420420</td>\n      <td>0.383383</td>\n      <td>0.188188</td>\n      <td>0.447619</td>\n      <td>1.167549</td>\n      <td>0.027006</td>\n      <td>1.116289</td>\n      <td>0.247602</td>\n    </tr>\n    <tr>\n      <th>4</th>\n      <td>(Apple)</td>\n      <td>(Cheese)</td>\n      <td>0.383383</td>\n      <td>0.404404</td>\n      <td>0.162162</td>\n      <td>0.422977</td>\n      <td>1.045925</td>\n      <td>0.007120</td>\n      <td>1.032186</td>\n      <td>0.071208</td>\n    </tr>\n    <tr>\n      <th>...</th>\n      <td>...</td>\n      <td>...</td>\n      <td>...</td>\n      <td>...</td>\n      <td>...</td>\n      <td>...</td>\n      <td>...</td>\n      <td>...</td>\n      <td>...</td>\n      <td>...</td>\n    </tr>\n    <tr>\n      <th>473165</th>\n      <td>(Yogurt)</td>\n      <td>(chocolate, Nutmeg, Sugar, Onion, Unicorn)</td>\n      <td>0.420420</td>\n      <td>0.021021</td>\n      <td>0.012012</td>\n      <td>0.028571</td>\n      <td>1.359184</td>\n      <td>0.003174</td>\n      <td>1.007772</td>\n      <td>0.455959</td>\n    </tr>\n    <tr>\n      <th>473166</th>\n      <td>(Nutmeg)</td>\n      <td>(chocolate, Yogurt, Sugar, Onion, Unicorn)</td>\n      <td>0.401401</td>\n      <td>0.026026</td>\n      <td>0.012012</td>\n      <td>0.029925</td>\n      <td>1.149818</td>\n      <td>0.001565</td>\n      <td>1.004019</td>\n      <td>0.217670</td>\n    </tr>\n    <tr>\n      <th>473167</th>\n      <td>(Sugar)</td>\n      <td>(chocolate, Yogurt, Nutmeg, Onion, Unicorn)</td>\n      <td>0.409409</td>\n      <td>0.026026</td>\n      <td>0.012012</td>\n      <td>0.029340</td>\n      <td>1.127327</td>\n      <td>0.001357</td>\n      <td>1.003414</td>\n      <td>0.191243</td>\n    </tr>\n    <tr>\n      <th>473168</th>\n      <td>(Onion)</td>\n      <td>(chocolate, Yogurt, Nutmeg, Sugar, Unicorn)</td>\n      <td>0.403403</td>\n      <td>0.022022</td>\n      <td>0.012012</td>\n      <td>0.029777</td>\n      <td>1.352132</td>\n      <td>0.003128</td>\n      <td>1.007993</td>\n      <td>0.436521</td>\n    </tr>\n    <tr>\n      <th>473169</th>\n      <td>(Unicorn)</td>\n      <td>(chocolate, Yogurt, Nutmeg, Onion, Sugar)</td>\n      <td>0.389389</td>\n      <td>0.023023</td>\n      <td>0.012012</td>\n      <td>0.030848</td>\n      <td>1.339890</td>\n      <td>0.003047</td>\n      <td>1.008074</td>\n      <td>0.415437</td>\n    </tr>\n  </tbody>\n</table>\n<p>473170 rows × 10 columns</p>\n</div>"
     },
     "execution_count": 33,
     "metadata": {},
     "output_type": "execute_result"
    }
   ]
  },
  {
   "cell_type": "code",
   "source": [
    "c1 = rules['confidence'] > 0.85   # 조건 C1 생성\n",
    "filtered_rules = rules[c1]        # 조건 C1을 만족하는 연관 규칙 필터링\n",
    "filtered_rules.shape"
   ],
   "metadata": {
    "colab": {
     "base_uri": "https://localhost:8080/"
    },
    "id": "XaiYVWg7oEy8",
    "executionInfo": {
     "status": "ok",
     "timestamp": 1657954760728,
     "user_tz": -540,
     "elapsed": 258,
     "user": {
      "displayName": "Jason SJ Yim",
      "userId": "00334139127424328539"
     }
    },
    "outputId": "53fa8ccd-58a8-4a51-8bb7-83eb46c4e2e0",
    "ExecuteTime": {
     "end_time": "2023-07-28T06:22:22.600764Z",
     "start_time": "2023-07-28T06:22:22.570595Z"
    }
   },
   "execution_count": 34,
   "outputs": [
    {
     "data": {
      "text/plain": "(36, 10)"
     },
     "execution_count": 34,
     "metadata": {},
     "output_type": "execute_result"
    }
   ]
  },
  {
   "cell_type": "code",
   "source": [
    "# support 변수 기준으로 내림차순 정렬\n",
    "filtered_rules.sort_values(by=['support'],ascending=False)"
   ],
   "metadata": {
    "colab": {
     "base_uri": "https://localhost:8080/",
     "height": 1000
    },
    "id": "8hM7oaxHcqUK",
    "executionInfo": {
     "status": "ok",
     "timestamp": 1657954763124,
     "user_tz": -540,
     "elapsed": 283,
     "user": {
      "displayName": "Jason SJ Yim",
      "userId": "00334139127424328539"
     }
    },
    "outputId": "7ead5b5d-8843-4253-ed93-781bdde1032a",
    "ExecuteTime": {
     "end_time": "2023-07-28T06:22:22.692322Z",
     "start_time": "2023-07-28T06:22:22.600971Z"
    }
   },
   "execution_count": 35,
   "outputs": [
    {
     "data": {
      "text/plain": "                                           antecedents     consequents  \\\n287049             (Nutmeg, Corn, Milk, Bread, Butter)  (Kidney Beans)   \n321209            (Nutmeg, Corn, Milk, Bread, Unicorn)  (Kidney Beans)   \n249166      (Apple, Nutmeg, Sugar, Unicorn, Ice cream)          (Corn)   \n246872           (Apple, Nutmeg, Sugar, Eggs, Unicorn)          (Corn)   \n223126         (Apple, Nutmeg, Sugar, Cheese, Unicorn)          (Corn)   \n287174              (Corn, Milk, Bread, Butter, Sugar)  (Kidney Beans)   \n253816      (Apple, chocolate, Nutmeg, Sugar, Unicorn)          (Corn)   \n321147              (Nutmeg, Corn, Milk, Bread, Sugar)  (Kidney Beans)   \n219717           (Apple, Unicorn, Eggs, Cheese, Sugar)          (Corn)   \n367463         (Nutmeg, Corn, Milk, Butter, Ice cream)  (Kidney Beans)   \n318977          (Nutmeg, Corn, Milk, Bread, Ice cream)  (Kidney Beans)   \n411667          (chocolate, Dill, Eggs, Cheese, Sugar)  (Kidney Beans)   \n287111              (Butter, Corn, Milk, Bread, Onion)  (Kidney Beans)   \n337517  (chocolate, Kidney Beans, Bread, Onion, Sugar)        (Yogurt)   \n423757       (chocolate, Sugar, Eggs, Cheese, Unicorn)  (Kidney Beans)   \n456371        (chocolate, Yogurt, Dill, Eggs, Unicorn)          (Milk)   \n172597            (Apple, Unicorn, Bread, Eggs, Sugar)          (Corn)   \n331005         (Nutmeg, Bread, Eggs, Onion, Ice cream)         (Sugar)   \n312405         (Nutmeg, Sugar, Bread, Cheese, Unicorn)  (Kidney Beans)   \n168505          (Apple, Sugar, Bread, Cheese, Unicorn)          (Corn)   \n301617          (Nutmeg, Corn, Bread, Cheese, Unicorn)  (Kidney Beans)   \n440686    (Corn, Kidney Beans, Eggs, Onion, Ice cream)        (Yogurt)   \n168316            (Apple, Nutmeg, Corn, Bread, Cheese)         (Sugar)   \n421216     (chocolate, Eggs, Cheese, Sugar, Ice cream)  (Kidney Beans)   \n413095      (chocolate, Nutmeg, Eggs, Cheese, Unicorn)          (Dill)   \n167638           (Apple, Bread, Eggs, Cheese, Unicorn)          (Corn)   \n316003            (Yogurt, Corn, Bread, Dill, Unicorn)         (Sugar)   \n440067           (Yogurt, Nutmeg, Corn, Dill, Unicorn)     (chocolate)   \n381105            (Sugar, Milk, Dill, Butter, Unicorn)     (chocolate)   \n393625             (Nutmeg, Corn, Dill, Eggs, Unicorn)        (Cheese)   \n180719       (Apple, Onion, Bread, Eggs, Kidney Beans)        (Yogurt)   \n325552       (chocolate, Bread, Dill, Eggs, Ice cream)        (Yogurt)   \n264357   (Apple, Onion, Eggs, Kidney Beans, Ice cream)          (Milk)   \n161190           (Apple, Bread, Eggs, Butter, Unicorn)          (Corn)   \n254807          (Apple, Nutmeg, Dill, Eggs, Ice cream)         (Sugar)   \n172287           (Apple, Nutmeg, Bread, Eggs, Unicorn)          (Corn)   \n\n        antecedent support  consequent support   support  confidence  \\\n287049            0.024024            0.408408  0.021021    0.875000   \n321209            0.021021            0.408408  0.019019    0.904762   \n249166            0.022022            0.407407  0.019019    0.863636   \n246872            0.021021            0.407407  0.018018    0.857143   \n223126            0.021021            0.407407  0.018018    0.857143   \n287174            0.021021            0.408408  0.018018    0.857143   \n253816            0.021021            0.407407  0.018018    0.857143   \n321147            0.021021            0.408408  0.018018    0.857143   \n219717            0.021021            0.407407  0.018018    0.857143   \n367463            0.021021            0.408408  0.018018    0.857143   \n318977            0.019019            0.408408  0.017017    0.894737   \n411667            0.020020            0.408408  0.017017    0.850000   \n287111            0.020020            0.408408  0.017017    0.850000   \n337517            0.018018            0.420420  0.016016    0.888889   \n423757            0.018018            0.408408  0.016016    0.888889   \n456371            0.018018            0.405405  0.016016    0.888889   \n172597            0.017017            0.407407  0.015015    0.882353   \n331005            0.016016            0.409409  0.014014    0.875000   \n312405            0.016016            0.408408  0.014014    0.875000   \n168505            0.016016            0.407407  0.014014    0.875000   \n301617            0.014014            0.408408  0.013013    0.928571   \n440686            0.015015            0.420420  0.013013    0.866667   \n168316            0.015015            0.409409  0.013013    0.866667   \n421216            0.015015            0.408408  0.013013    0.866667   \n413095            0.014014            0.398398  0.013013    0.928571   \n167638            0.014014            0.407407  0.013013    0.928571   \n316003            0.014014            0.409409  0.012012    0.857143   \n440067            0.014014            0.421421  0.012012    0.857143   \n381105            0.014014            0.421421  0.012012    0.857143   \n393625            0.014014            0.404404  0.012012    0.857143   \n180719            0.014014            0.420420  0.012012    0.857143   \n325552            0.014014            0.420420  0.012012    0.857143   \n264357            0.014014            0.405405  0.012012    0.857143   \n161190            0.014014            0.407407  0.012012    0.857143   \n254807            0.012012            0.409409  0.011011    0.916667   \n172287            0.011011            0.407407  0.010010    0.909091   \n\n            lift  leverage  conviction  zhangs_metric  \n287049  2.142463  0.011209    4.732733       0.546374  \n321209  2.215336  0.010434    6.211712       0.560381  \n249166  2.119835  0.010047    4.345679       0.540161  \n246872  2.103896  0.009454    4.148148       0.535958  \n223126  2.103896  0.009454    4.148148       0.535958  \n287174  2.098739  0.009433    4.141141       0.534765  \n253816  2.103896  0.009454    4.148148       0.535958  \n321147  2.098739  0.009433    4.141141       0.534765  \n219717  2.103896  0.009454    4.148148       0.535958  \n367463  2.098739  0.009433    4.141141       0.534765  \n318977  2.190789  0.009249    5.620120       0.554082  \n411667  2.081250  0.008841    3.943944       0.530133  \n287111  2.081250  0.008841    3.943944       0.530133  \n337517  2.114286  0.008441    5.216216       0.536697  \n423757  2.176471  0.008657    5.324324       0.550459  \n456371  2.192593  0.008711    5.351351       0.553899  \n172597  2.165775  0.008082    5.037037       0.547590  \n331005  2.137225  0.007457    4.724725       0.540764  \n312405  2.142463  0.007473    4.732733       0.541927  \n168505  2.147727  0.007489    4.740741       0.543090  \n301617  2.273634  0.007290    8.282282       0.568137  \n440686  2.061429  0.006700    4.346847       0.522749  \n168316  2.116870  0.006866    4.429429       0.535647  \n421216  2.122059  0.006881    4.436937       0.536820  \n413095  2.330761  0.007430    8.422422       0.579071  \n167638  2.279221  0.007304    8.296296       0.569231  \n316003  2.093608  0.006275    4.134134       0.529780  \n440067  2.033933  0.006106    4.050050       0.515567  \n381105  2.033933  0.006106    4.050050       0.515567  \n393625  2.119519  0.006345    4.169169       0.535702  \n180719  2.038776  0.006120    4.057057       0.516751  \n325552  2.038776  0.006120    4.057057       0.516751  \n264357  2.114286  0.006331    4.162162       0.534518  \n161190  2.103896  0.006303    4.148148       0.532149  \n254807  2.238998  0.006093    7.087087       0.560099  \n172287  2.231405  0.005524    6.518519       0.557996  ",
      "text/html": "<div>\n<style scoped>\n    .dataframe tbody tr th:only-of-type {\n        vertical-align: middle;\n    }\n\n    .dataframe tbody tr th {\n        vertical-align: top;\n    }\n\n    .dataframe thead th {\n        text-align: right;\n    }\n</style>\n<table border=\"1\" class=\"dataframe\">\n  <thead>\n    <tr style=\"text-align: right;\">\n      <th></th>\n      <th>antecedents</th>\n      <th>consequents</th>\n      <th>antecedent support</th>\n      <th>consequent support</th>\n      <th>support</th>\n      <th>confidence</th>\n      <th>lift</th>\n      <th>leverage</th>\n      <th>conviction</th>\n      <th>zhangs_metric</th>\n    </tr>\n  </thead>\n  <tbody>\n    <tr>\n      <th>287049</th>\n      <td>(Nutmeg, Corn, Milk, Bread, Butter)</td>\n      <td>(Kidney Beans)</td>\n      <td>0.024024</td>\n      <td>0.408408</td>\n      <td>0.021021</td>\n      <td>0.875000</td>\n      <td>2.142463</td>\n      <td>0.011209</td>\n      <td>4.732733</td>\n      <td>0.546374</td>\n    </tr>\n    <tr>\n      <th>321209</th>\n      <td>(Nutmeg, Corn, Milk, Bread, Unicorn)</td>\n      <td>(Kidney Beans)</td>\n      <td>0.021021</td>\n      <td>0.408408</td>\n      <td>0.019019</td>\n      <td>0.904762</td>\n      <td>2.215336</td>\n      <td>0.010434</td>\n      <td>6.211712</td>\n      <td>0.560381</td>\n    </tr>\n    <tr>\n      <th>249166</th>\n      <td>(Apple, Nutmeg, Sugar, Unicorn, Ice cream)</td>\n      <td>(Corn)</td>\n      <td>0.022022</td>\n      <td>0.407407</td>\n      <td>0.019019</td>\n      <td>0.863636</td>\n      <td>2.119835</td>\n      <td>0.010047</td>\n      <td>4.345679</td>\n      <td>0.540161</td>\n    </tr>\n    <tr>\n      <th>246872</th>\n      <td>(Apple, Nutmeg, Sugar, Eggs, Unicorn)</td>\n      <td>(Corn)</td>\n      <td>0.021021</td>\n      <td>0.407407</td>\n      <td>0.018018</td>\n      <td>0.857143</td>\n      <td>2.103896</td>\n      <td>0.009454</td>\n      <td>4.148148</td>\n      <td>0.535958</td>\n    </tr>\n    <tr>\n      <th>223126</th>\n      <td>(Apple, Nutmeg, Sugar, Cheese, Unicorn)</td>\n      <td>(Corn)</td>\n      <td>0.021021</td>\n      <td>0.407407</td>\n      <td>0.018018</td>\n      <td>0.857143</td>\n      <td>2.103896</td>\n      <td>0.009454</td>\n      <td>4.148148</td>\n      <td>0.535958</td>\n    </tr>\n    <tr>\n      <th>287174</th>\n      <td>(Corn, Milk, Bread, Butter, Sugar)</td>\n      <td>(Kidney Beans)</td>\n      <td>0.021021</td>\n      <td>0.408408</td>\n      <td>0.018018</td>\n      <td>0.857143</td>\n      <td>2.098739</td>\n      <td>0.009433</td>\n      <td>4.141141</td>\n      <td>0.534765</td>\n    </tr>\n    <tr>\n      <th>253816</th>\n      <td>(Apple, chocolate, Nutmeg, Sugar, Unicorn)</td>\n      <td>(Corn)</td>\n      <td>0.021021</td>\n      <td>0.407407</td>\n      <td>0.018018</td>\n      <td>0.857143</td>\n      <td>2.103896</td>\n      <td>0.009454</td>\n      <td>4.148148</td>\n      <td>0.535958</td>\n    </tr>\n    <tr>\n      <th>321147</th>\n      <td>(Nutmeg, Corn, Milk, Bread, Sugar)</td>\n      <td>(Kidney Beans)</td>\n      <td>0.021021</td>\n      <td>0.408408</td>\n      <td>0.018018</td>\n      <td>0.857143</td>\n      <td>2.098739</td>\n      <td>0.009433</td>\n      <td>4.141141</td>\n      <td>0.534765</td>\n    </tr>\n    <tr>\n      <th>219717</th>\n      <td>(Apple, Unicorn, Eggs, Cheese, Sugar)</td>\n      <td>(Corn)</td>\n      <td>0.021021</td>\n      <td>0.407407</td>\n      <td>0.018018</td>\n      <td>0.857143</td>\n      <td>2.103896</td>\n      <td>0.009454</td>\n      <td>4.148148</td>\n      <td>0.535958</td>\n    </tr>\n    <tr>\n      <th>367463</th>\n      <td>(Nutmeg, Corn, Milk, Butter, Ice cream)</td>\n      <td>(Kidney Beans)</td>\n      <td>0.021021</td>\n      <td>0.408408</td>\n      <td>0.018018</td>\n      <td>0.857143</td>\n      <td>2.098739</td>\n      <td>0.009433</td>\n      <td>4.141141</td>\n      <td>0.534765</td>\n    </tr>\n    <tr>\n      <th>318977</th>\n      <td>(Nutmeg, Corn, Milk, Bread, Ice cream)</td>\n      <td>(Kidney Beans)</td>\n      <td>0.019019</td>\n      <td>0.408408</td>\n      <td>0.017017</td>\n      <td>0.894737</td>\n      <td>2.190789</td>\n      <td>0.009249</td>\n      <td>5.620120</td>\n      <td>0.554082</td>\n    </tr>\n    <tr>\n      <th>411667</th>\n      <td>(chocolate, Dill, Eggs, Cheese, Sugar)</td>\n      <td>(Kidney Beans)</td>\n      <td>0.020020</td>\n      <td>0.408408</td>\n      <td>0.017017</td>\n      <td>0.850000</td>\n      <td>2.081250</td>\n      <td>0.008841</td>\n      <td>3.943944</td>\n      <td>0.530133</td>\n    </tr>\n    <tr>\n      <th>287111</th>\n      <td>(Butter, Corn, Milk, Bread, Onion)</td>\n      <td>(Kidney Beans)</td>\n      <td>0.020020</td>\n      <td>0.408408</td>\n      <td>0.017017</td>\n      <td>0.850000</td>\n      <td>2.081250</td>\n      <td>0.008841</td>\n      <td>3.943944</td>\n      <td>0.530133</td>\n    </tr>\n    <tr>\n      <th>337517</th>\n      <td>(chocolate, Kidney Beans, Bread, Onion, Sugar)</td>\n      <td>(Yogurt)</td>\n      <td>0.018018</td>\n      <td>0.420420</td>\n      <td>0.016016</td>\n      <td>0.888889</td>\n      <td>2.114286</td>\n      <td>0.008441</td>\n      <td>5.216216</td>\n      <td>0.536697</td>\n    </tr>\n    <tr>\n      <th>423757</th>\n      <td>(chocolate, Sugar, Eggs, Cheese, Unicorn)</td>\n      <td>(Kidney Beans)</td>\n      <td>0.018018</td>\n      <td>0.408408</td>\n      <td>0.016016</td>\n      <td>0.888889</td>\n      <td>2.176471</td>\n      <td>0.008657</td>\n      <td>5.324324</td>\n      <td>0.550459</td>\n    </tr>\n    <tr>\n      <th>456371</th>\n      <td>(chocolate, Yogurt, Dill, Eggs, Unicorn)</td>\n      <td>(Milk)</td>\n      <td>0.018018</td>\n      <td>0.405405</td>\n      <td>0.016016</td>\n      <td>0.888889</td>\n      <td>2.192593</td>\n      <td>0.008711</td>\n      <td>5.351351</td>\n      <td>0.553899</td>\n    </tr>\n    <tr>\n      <th>172597</th>\n      <td>(Apple, Unicorn, Bread, Eggs, Sugar)</td>\n      <td>(Corn)</td>\n      <td>0.017017</td>\n      <td>0.407407</td>\n      <td>0.015015</td>\n      <td>0.882353</td>\n      <td>2.165775</td>\n      <td>0.008082</td>\n      <td>5.037037</td>\n      <td>0.547590</td>\n    </tr>\n    <tr>\n      <th>331005</th>\n      <td>(Nutmeg, Bread, Eggs, Onion, Ice cream)</td>\n      <td>(Sugar)</td>\n      <td>0.016016</td>\n      <td>0.409409</td>\n      <td>0.014014</td>\n      <td>0.875000</td>\n      <td>2.137225</td>\n      <td>0.007457</td>\n      <td>4.724725</td>\n      <td>0.540764</td>\n    </tr>\n    <tr>\n      <th>312405</th>\n      <td>(Nutmeg, Sugar, Bread, Cheese, Unicorn)</td>\n      <td>(Kidney Beans)</td>\n      <td>0.016016</td>\n      <td>0.408408</td>\n      <td>0.014014</td>\n      <td>0.875000</td>\n      <td>2.142463</td>\n      <td>0.007473</td>\n      <td>4.732733</td>\n      <td>0.541927</td>\n    </tr>\n    <tr>\n      <th>168505</th>\n      <td>(Apple, Sugar, Bread, Cheese, Unicorn)</td>\n      <td>(Corn)</td>\n      <td>0.016016</td>\n      <td>0.407407</td>\n      <td>0.014014</td>\n      <td>0.875000</td>\n      <td>2.147727</td>\n      <td>0.007489</td>\n      <td>4.740741</td>\n      <td>0.543090</td>\n    </tr>\n    <tr>\n      <th>301617</th>\n      <td>(Nutmeg, Corn, Bread, Cheese, Unicorn)</td>\n      <td>(Kidney Beans)</td>\n      <td>0.014014</td>\n      <td>0.408408</td>\n      <td>0.013013</td>\n      <td>0.928571</td>\n      <td>2.273634</td>\n      <td>0.007290</td>\n      <td>8.282282</td>\n      <td>0.568137</td>\n    </tr>\n    <tr>\n      <th>440686</th>\n      <td>(Corn, Kidney Beans, Eggs, Onion, Ice cream)</td>\n      <td>(Yogurt)</td>\n      <td>0.015015</td>\n      <td>0.420420</td>\n      <td>0.013013</td>\n      <td>0.866667</td>\n      <td>2.061429</td>\n      <td>0.006700</td>\n      <td>4.346847</td>\n      <td>0.522749</td>\n    </tr>\n    <tr>\n      <th>168316</th>\n      <td>(Apple, Nutmeg, Corn, Bread, Cheese)</td>\n      <td>(Sugar)</td>\n      <td>0.015015</td>\n      <td>0.409409</td>\n      <td>0.013013</td>\n      <td>0.866667</td>\n      <td>2.116870</td>\n      <td>0.006866</td>\n      <td>4.429429</td>\n      <td>0.535647</td>\n    </tr>\n    <tr>\n      <th>421216</th>\n      <td>(chocolate, Eggs, Cheese, Sugar, Ice cream)</td>\n      <td>(Kidney Beans)</td>\n      <td>0.015015</td>\n      <td>0.408408</td>\n      <td>0.013013</td>\n      <td>0.866667</td>\n      <td>2.122059</td>\n      <td>0.006881</td>\n      <td>4.436937</td>\n      <td>0.536820</td>\n    </tr>\n    <tr>\n      <th>413095</th>\n      <td>(chocolate, Nutmeg, Eggs, Cheese, Unicorn)</td>\n      <td>(Dill)</td>\n      <td>0.014014</td>\n      <td>0.398398</td>\n      <td>0.013013</td>\n      <td>0.928571</td>\n      <td>2.330761</td>\n      <td>0.007430</td>\n      <td>8.422422</td>\n      <td>0.579071</td>\n    </tr>\n    <tr>\n      <th>167638</th>\n      <td>(Apple, Bread, Eggs, Cheese, Unicorn)</td>\n      <td>(Corn)</td>\n      <td>0.014014</td>\n      <td>0.407407</td>\n      <td>0.013013</td>\n      <td>0.928571</td>\n      <td>2.279221</td>\n      <td>0.007304</td>\n      <td>8.296296</td>\n      <td>0.569231</td>\n    </tr>\n    <tr>\n      <th>316003</th>\n      <td>(Yogurt, Corn, Bread, Dill, Unicorn)</td>\n      <td>(Sugar)</td>\n      <td>0.014014</td>\n      <td>0.409409</td>\n      <td>0.012012</td>\n      <td>0.857143</td>\n      <td>2.093608</td>\n      <td>0.006275</td>\n      <td>4.134134</td>\n      <td>0.529780</td>\n    </tr>\n    <tr>\n      <th>440067</th>\n      <td>(Yogurt, Nutmeg, Corn, Dill, Unicorn)</td>\n      <td>(chocolate)</td>\n      <td>0.014014</td>\n      <td>0.421421</td>\n      <td>0.012012</td>\n      <td>0.857143</td>\n      <td>2.033933</td>\n      <td>0.006106</td>\n      <td>4.050050</td>\n      <td>0.515567</td>\n    </tr>\n    <tr>\n      <th>381105</th>\n      <td>(Sugar, Milk, Dill, Butter, Unicorn)</td>\n      <td>(chocolate)</td>\n      <td>0.014014</td>\n      <td>0.421421</td>\n      <td>0.012012</td>\n      <td>0.857143</td>\n      <td>2.033933</td>\n      <td>0.006106</td>\n      <td>4.050050</td>\n      <td>0.515567</td>\n    </tr>\n    <tr>\n      <th>393625</th>\n      <td>(Nutmeg, Corn, Dill, Eggs, Unicorn)</td>\n      <td>(Cheese)</td>\n      <td>0.014014</td>\n      <td>0.404404</td>\n      <td>0.012012</td>\n      <td>0.857143</td>\n      <td>2.119519</td>\n      <td>0.006345</td>\n      <td>4.169169</td>\n      <td>0.535702</td>\n    </tr>\n    <tr>\n      <th>180719</th>\n      <td>(Apple, Onion, Bread, Eggs, Kidney Beans)</td>\n      <td>(Yogurt)</td>\n      <td>0.014014</td>\n      <td>0.420420</td>\n      <td>0.012012</td>\n      <td>0.857143</td>\n      <td>2.038776</td>\n      <td>0.006120</td>\n      <td>4.057057</td>\n      <td>0.516751</td>\n    </tr>\n    <tr>\n      <th>325552</th>\n      <td>(chocolate, Bread, Dill, Eggs, Ice cream)</td>\n      <td>(Yogurt)</td>\n      <td>0.014014</td>\n      <td>0.420420</td>\n      <td>0.012012</td>\n      <td>0.857143</td>\n      <td>2.038776</td>\n      <td>0.006120</td>\n      <td>4.057057</td>\n      <td>0.516751</td>\n    </tr>\n    <tr>\n      <th>264357</th>\n      <td>(Apple, Onion, Eggs, Kidney Beans, Ice cream)</td>\n      <td>(Milk)</td>\n      <td>0.014014</td>\n      <td>0.405405</td>\n      <td>0.012012</td>\n      <td>0.857143</td>\n      <td>2.114286</td>\n      <td>0.006331</td>\n      <td>4.162162</td>\n      <td>0.534518</td>\n    </tr>\n    <tr>\n      <th>161190</th>\n      <td>(Apple, Bread, Eggs, Butter, Unicorn)</td>\n      <td>(Corn)</td>\n      <td>0.014014</td>\n      <td>0.407407</td>\n      <td>0.012012</td>\n      <td>0.857143</td>\n      <td>2.103896</td>\n      <td>0.006303</td>\n      <td>4.148148</td>\n      <td>0.532149</td>\n    </tr>\n    <tr>\n      <th>254807</th>\n      <td>(Apple, Nutmeg, Dill, Eggs, Ice cream)</td>\n      <td>(Sugar)</td>\n      <td>0.012012</td>\n      <td>0.409409</td>\n      <td>0.011011</td>\n      <td>0.916667</td>\n      <td>2.238998</td>\n      <td>0.006093</td>\n      <td>7.087087</td>\n      <td>0.560099</td>\n    </tr>\n    <tr>\n      <th>172287</th>\n      <td>(Apple, Nutmeg, Bread, Eggs, Unicorn)</td>\n      <td>(Corn)</td>\n      <td>0.011011</td>\n      <td>0.407407</td>\n      <td>0.010010</td>\n      <td>0.909091</td>\n      <td>2.231405</td>\n      <td>0.005524</td>\n      <td>6.518519</td>\n      <td>0.557996</td>\n    </tr>\n  </tbody>\n</table>\n</div>"
     },
     "execution_count": 35,
     "metadata": {},
     "output_type": "execute_result"
    }
   ]
  },
  {
   "cell_type": "code",
   "source": [],
   "metadata": {
    "id": "n46DSTxDi3wD",
    "ExecuteTime": {
     "end_time": "2023-07-28T06:22:22.692616Z",
     "start_time": "2023-07-28T06:22:22.636736Z"
    }
   },
   "execution_count": 35,
   "outputs": []
  }
 ]
}
