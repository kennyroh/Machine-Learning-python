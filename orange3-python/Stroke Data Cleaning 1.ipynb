{
 "cells": [
  {
   "cell_type": "markdown",
   "metadata": {
    "id": "1sG971tPeUHL"
   },
   "source": [
    "# 5.1.4 데이터 불러오기"
   ]
  },
  {
   "cell_type": "markdown",
   "source": [],
   "metadata": {
    "collapsed": false
   }
  },
  {
   "cell_type": "code",
   "source": [
    "# from google.colab import drive\n",
    "# drive.mount('/content/drive')"
   ],
   "metadata": {
    "id": "PcVkwvi8elQW",
    "colab": {
     "base_uri": "https://localhost:8080/"
    },
    "executionInfo": {
     "status": "ok",
     "timestamp": 1662434970064,
     "user_tz": -540,
     "elapsed": 2237,
     "user": {
      "displayName": "Jason SJ Yim",
      "userId": "00334139127424328539"
     }
    },
    "outputId": "ba61a6d5-af18-4165-a742-ea9679741641",
    "ExecuteTime": {
     "end_time": "2023-07-31T08:52:11.676789Z",
     "start_time": "2023-07-31T08:52:11.500694Z"
    }
   },
   "execution_count": 121,
   "outputs": []
  },
  {
   "cell_type": "code",
   "execution_count": 122,
   "metadata": {
    "colab": {
     "base_uri": "https://localhost:8080/",
     "height": 225
    },
    "id": "8Fu3nys6eUHM",
    "executionInfo": {
     "status": "ok",
     "timestamp": 1662434973738,
     "user_tz": -540,
     "elapsed": 265,
     "user": {
      "displayName": "Jason SJ Yim",
      "userId": "00334139127424328539"
     }
    },
    "outputId": "c1c57907-a372-4635-b658-2afd79d8286c",
    "ExecuteTime": {
     "end_time": "2023-07-31T08:52:11.936626Z",
     "start_time": "2023-07-31T08:52:11.506284Z"
    }
   },
   "outputs": [
    {
     "data": {
      "text/plain": "      id  gender   age  hypertension  heart_disease ever_married  \\\n0   9046    Male 67.00             0              1          Yes   \n1  51676  Female 61.00             0              0          Yes   \n2  31112    Male 80.00             0              1          Yes   \n\n       work_type Residence_type  avg_glucose_level   bmi   smoking_status  \\\n0        Private          Urban             228.69 36.60  formerly smoked   \n1  Self-employed          Rural             202.21   NaN     never smoked   \n2        Private          Rural             105.92 32.50     never smoked   \n\n   stroke  \n0       1  \n1       1  \n2       1  ",
      "text/html": "<div>\n<style scoped>\n    .dataframe tbody tr th:only-of-type {\n        vertical-align: middle;\n    }\n\n    .dataframe tbody tr th {\n        vertical-align: top;\n    }\n\n    .dataframe thead th {\n        text-align: right;\n    }\n</style>\n<table border=\"1\" class=\"dataframe\">\n  <thead>\n    <tr style=\"text-align: right;\">\n      <th></th>\n      <th>id</th>\n      <th>gender</th>\n      <th>age</th>\n      <th>hypertension</th>\n      <th>heart_disease</th>\n      <th>ever_married</th>\n      <th>work_type</th>\n      <th>Residence_type</th>\n      <th>avg_glucose_level</th>\n      <th>bmi</th>\n      <th>smoking_status</th>\n      <th>stroke</th>\n    </tr>\n  </thead>\n  <tbody>\n    <tr>\n      <th>0</th>\n      <td>9046</td>\n      <td>Male</td>\n      <td>67.00</td>\n      <td>0</td>\n      <td>1</td>\n      <td>Yes</td>\n      <td>Private</td>\n      <td>Urban</td>\n      <td>228.69</td>\n      <td>36.60</td>\n      <td>formerly smoked</td>\n      <td>1</td>\n    </tr>\n    <tr>\n      <th>1</th>\n      <td>51676</td>\n      <td>Female</td>\n      <td>61.00</td>\n      <td>0</td>\n      <td>0</td>\n      <td>Yes</td>\n      <td>Self-employed</td>\n      <td>Rural</td>\n      <td>202.21</td>\n      <td>NaN</td>\n      <td>never smoked</td>\n      <td>1</td>\n    </tr>\n    <tr>\n      <th>2</th>\n      <td>31112</td>\n      <td>Male</td>\n      <td>80.00</td>\n      <td>0</td>\n      <td>1</td>\n      <td>Yes</td>\n      <td>Private</td>\n      <td>Rural</td>\n      <td>105.92</td>\n      <td>32.50</td>\n      <td>never smoked</td>\n      <td>1</td>\n    </tr>\n  </tbody>\n</table>\n</div>"
     },
     "execution_count": 122,
     "metadata": {},
     "output_type": "execute_result"
    }
   ],
   "source": [
    "import pandas as pd       # pandas library 불러내기\n",
    "import numpy as np        # numpy library 불러내기\n",
    "pd.set_option('display.max_columns', None)   # 결과물로 보여주는 열 갯수 최대화\n",
    "pd.set_option('display.max_rows', None)      # 결과물로 보여주는 행 갯수 최대화\n",
    "df = pd.read_csv('healthcare-dataset-stroke-data.csv') \n",
    "                                             # 데이터파일을 불러와서 데이터프레임(df)에 저장\n",
    "df.head(3)                                   # 데이터프레임(df)를 3행까기 보여주기"
   ]
  },
  {
   "cell_type": "code",
   "execution_count": 123,
   "metadata": {
    "colab": {
     "base_uri": "https://localhost:8080/"
    },
    "id": "He5LEnyPeUHO",
    "executionInfo": {
     "status": "ok",
     "timestamp": 1662428887228,
     "user_tz": -540,
     "elapsed": 271,
     "user": {
      "displayName": "Jason SJ Yim",
      "userId": "00334139127424328539"
     }
    },
    "outputId": "1b05b073-ee1d-459c-f65c-38b6f741167e",
    "ExecuteTime": {
     "end_time": "2023-07-31T08:52:12.003062Z",
     "start_time": "2023-07-31T08:52:11.530035Z"
    }
   },
   "outputs": [
    {
     "data": {
      "text/plain": "(5110, 12)"
     },
     "execution_count": 123,
     "metadata": {},
     "output_type": "execute_result"
    }
   ],
   "source": [
    "df.shape"
   ]
  },
  {
   "cell_type": "code",
   "execution_count": 124,
   "metadata": {
    "colab": {
     "base_uri": "https://localhost:8080/"
    },
    "id": "dWJSmuMReUHP",
    "executionInfo": {
     "status": "ok",
     "timestamp": 1662428891984,
     "user_tz": -540,
     "elapsed": 254,
     "user": {
      "displayName": "Jason SJ Yim",
      "userId": "00334139127424328539"
     }
    },
    "outputId": "09f00fb6-c14f-4e94-ae8d-b7c52d0f30ba",
    "ExecuteTime": {
     "end_time": "2023-07-31T08:52:12.079789Z",
     "start_time": "2023-07-31T08:52:11.534563Z"
    }
   },
   "outputs": [
    {
     "name": "stdout",
     "output_type": "stream",
     "text": [
      "<class 'pandas.core.frame.DataFrame'>\n",
      "RangeIndex: 5110 entries, 0 to 5109\n",
      "Data columns (total 12 columns):\n",
      " #   Column             Non-Null Count  Dtype  \n",
      "---  ------             --------------  -----  \n",
      " 0   id                 5110 non-null   int64  \n",
      " 1   gender             5110 non-null   object \n",
      " 2   age                5110 non-null   float64\n",
      " 3   hypertension       5110 non-null   int64  \n",
      " 4   heart_disease      5110 non-null   int64  \n",
      " 5   ever_married       5110 non-null   object \n",
      " 6   work_type          5110 non-null   object \n",
      " 7   Residence_type     5110 non-null   object \n",
      " 8   avg_glucose_level  5110 non-null   float64\n",
      " 9   bmi                4909 non-null   float64\n",
      " 10  smoking_status     5110 non-null   object \n",
      " 11  stroke             5110 non-null   int64  \n",
      "dtypes: float64(3), int64(4), object(5)\n",
      "memory usage: 479.2+ KB\n"
     ]
    }
   ],
   "source": [
    "df.info()"
   ]
  },
  {
   "cell_type": "markdown",
   "metadata": {
    "id": "qQfCW4ZmeUHP"
   },
   "source": [
    "# 5.1.5 ID 변수 설정"
   ]
  },
  {
   "cell_type": "code",
   "execution_count": 125,
   "metadata": {
    "id": "NvzUJAYyeUHQ",
    "outputId": "d3797ee4-5e0b-4a69-a2ee-1140a4c04a84",
    "colab": {
     "base_uri": "https://localhost:8080/"
    },
    "executionInfo": {
     "status": "ok",
     "timestamp": 1662430913075,
     "user_tz": -540,
     "elapsed": 417,
     "user": {
      "displayName": "Jason SJ Yim",
      "userId": "00334139127424328539"
     }
    },
    "ExecuteTime": {
     "end_time": "2023-07-31T08:52:12.165395Z",
     "start_time": "2023-07-31T08:52:11.549964Z"
    }
   },
   "outputs": [
    {
     "data": {
      "text/plain": "dtype('int64')"
     },
     "execution_count": 125,
     "metadata": {},
     "output_type": "execute_result"
    }
   ],
   "source": [
    "# 추가 코딩\n",
    "df['id'].dtypes"
   ]
  },
  {
   "cell_type": "code",
   "execution_count": 126,
   "metadata": {
    "id": "30LDW8lTeUHQ",
    "outputId": "097dd852-a239-43c8-aeda-27863ec4013a",
    "colab": {
     "base_uri": "https://localhost:8080/"
    },
    "executionInfo": {
     "status": "ok",
     "timestamp": 1662430915068,
     "user_tz": -540,
     "elapsed": 3,
     "user": {
      "displayName": "Jason SJ Yim",
      "userId": "00334139127424328539"
     }
    },
    "ExecuteTime": {
     "end_time": "2023-07-31T08:52:12.223741Z",
     "start_time": "2023-07-31T08:52:11.556717Z"
    }
   },
   "outputs": [
    {
     "data": {
      "text/plain": "0"
     },
     "execution_count": 126,
     "metadata": {},
     "output_type": "execute_result"
    }
   ],
   "source": [
    "df['id'].isnull().sum()   # ID 변수인 id 값의 결측값 확인"
   ]
  },
  {
   "cell_type": "code",
   "execution_count": 127,
   "outputs": [
    {
     "data": {
      "text/plain": "0    4861\n1     249\nName: stroke, dtype: int64"
     },
     "execution_count": 127,
     "metadata": {},
     "output_type": "execute_result"
    }
   ],
   "source": [
    "df['stroke'].value_counts(dropna=False) # 결측값 포함하지마세요. \n",
    "# df['stroke'].value_counts()"
   ],
   "metadata": {
    "collapsed": false,
    "ExecuteTime": {
     "end_time": "2023-07-31T08:52:12.264461Z",
     "start_time": "2023-07-31T08:52:11.561359Z"
    }
   }
  },
  {
   "cell_type": "code",
   "execution_count": 128,
   "metadata": {
    "id": "4s6QQjkmeUHR",
    "outputId": "b1a438a3-d78b-429e-8376-5b180159b8b9",
    "colab": {
     "base_uri": "https://localhost:8080/"
    },
    "executionInfo": {
     "status": "ok",
     "timestamp": 1662430923052,
     "user_tz": -540,
     "elapsed": 289,
     "user": {
      "displayName": "Jason SJ Yim",
      "userId": "00334139127424328539"
     }
    },
    "ExecuteTime": {
     "end_time": "2023-07-31T08:52:12.269924Z",
     "start_time": "2023-07-31T08:52:11.566778Z"
    }
   },
   "outputs": [
    {
     "name": "stdout",
     "output_type": "stream",
     "text": [
      "5110\n"
     ]
    }
   ],
   "source": [
    "# ID 변수인 id 값의 중복 여부를 체크하기 위해 유일한(unique) 값의 개수 체크 \n",
    "\n",
    "n = len(pd.unique(df['id']))   # pd.unique는 유일한 변수값을 출력하고 len은 값의 개수를 카운트  \n",
    "print(n)"
   ]
  },
  {
   "cell_type": "code",
   "execution_count": 129,
   "metadata": {
    "id": "XBc4Dzs2eUHS",
    "outputId": "ecd05ea1-5be9-406e-c594-578a2213e79b",
    "colab": {
     "base_uri": "https://localhost:8080/"
    },
    "executionInfo": {
     "status": "ok",
     "timestamp": 1662430926301,
     "user_tz": -540,
     "elapsed": 305,
     "user": {
      "displayName": "Jason SJ Yim",
      "userId": "00334139127424328539"
     }
    },
    "ExecuteTime": {
     "end_time": "2023-07-31T08:52:12.270211Z",
     "start_time": "2023-07-31T08:52:11.573209Z"
    }
   },
   "outputs": [
    {
     "name": "stdout",
     "output_type": "stream",
     "text": [
      "0\n"
     ]
    }
   ],
   "source": [
    "# 추가 코딩 \n",
    "# 숫자형태가 아닌 SERIALNO의 갯수를 세는 파이썬 코드\n",
    "\n",
    "mask = pd.to_numeric(df['id'], errors='coerce').isna()\n",
    "a = mask.sum() \n",
    "print (a)  "
   ]
  },
  {
   "cell_type": "markdown",
   "metadata": {
    "id": "6NRHYvIFeUHS"
   },
   "source": [
    "# 5.1.7 타겟변수 생성"
   ]
  },
  {
   "cell_type": "code",
   "execution_count": 130,
   "metadata": {
    "id": "aBPPMXVZeUHT",
    "outputId": "44d779c1-0894-4a61-ea4e-bf7b4b33386d",
    "colab": {
     "base_uri": "https://localhost:8080/"
    },
    "executionInfo": {
     "status": "ok",
     "timestamp": 1662430963361,
     "user_tz": -540,
     "elapsed": 310,
     "user": {
      "displayName": "Jason SJ Yim",
      "userId": "00334139127424328539"
     }
    },
    "ExecuteTime": {
     "end_time": "2023-07-31T08:52:12.285300Z",
     "start_time": "2023-07-31T08:52:11.577055Z"
    }
   },
   "outputs": [
    {
     "data": {
      "text/plain": "dtype('int64')"
     },
     "execution_count": 130,
     "metadata": {},
     "output_type": "execute_result"
    }
   ],
   "source": [
    "# 추가 코딩\n",
    "df['stroke'].dtype"
   ]
  },
  {
   "cell_type": "code",
   "execution_count": 131,
   "metadata": {
    "scrolled": true,
    "id": "LvahG3s0eUHT",
    "outputId": "20e74beb-4c26-4959-c6c9-c9ce31f83360",
    "colab": {
     "base_uri": "https://localhost:8080/"
    },
    "executionInfo": {
     "status": "ok",
     "timestamp": 1662430965494,
     "user_tz": -540,
     "elapsed": 3,
     "user": {
      "displayName": "Jason SJ Yim",
      "userId": "00334139127424328539"
     }
    },
    "ExecuteTime": {
     "end_time": "2023-07-31T08:52:12.285640Z",
     "start_time": "2023-07-31T08:52:11.584532Z"
    }
   },
   "outputs": [
    {
     "data": {
      "text/plain": "0"
     },
     "execution_count": 131,
     "metadata": {},
     "output_type": "execute_result"
    }
   ],
   "source": [
    "# 추가 코딩\n",
    "df['stroke'].isnull().sum()"
   ]
  },
  {
   "cell_type": "code",
   "execution_count": 132,
   "metadata": {
    "id": "F7FuKxBeeUHU",
    "outputId": "b31c9107-a251-4267-e295-3e1552ea3995",
    "colab": {
     "base_uri": "https://localhost:8080/"
    },
    "executionInfo": {
     "status": "ok",
     "timestamp": 1662430969409,
     "user_tz": -540,
     "elapsed": 285,
     "user": {
      "displayName": "Jason SJ Yim",
      "userId": "00334139127424328539"
     }
    },
    "ExecuteTime": {
     "end_time": "2023-07-31T08:52:12.285902Z",
     "start_time": "2023-07-31T08:52:11.590878Z"
    }
   },
   "outputs": [
    {
     "data": {
      "text/plain": "0    4861\n1     249\nName: stroke, dtype: int64"
     },
     "execution_count": 132,
     "metadata": {},
     "output_type": "execute_result"
    }
   ],
   "source": [
    "df['stroke'].value_counts(dropna=False)"
   ]
  },
  {
   "cell_type": "code",
   "execution_count": 133,
   "metadata": {
    "id": "Nfu5rgwUeUHU",
    "outputId": "1ed85f36-3ae3-4b45-e8da-127c8341c3b5",
    "colab": {
     "base_uri": "https://localhost:8080/"
    },
    "executionInfo": {
     "status": "ok",
     "timestamp": 1662431049137,
     "user_tz": -540,
     "elapsed": 284,
     "user": {
      "displayName": "Jason SJ Yim",
      "userId": "00334139127424328539"
     }
    },
    "ExecuteTime": {
     "end_time": "2023-07-31T08:52:12.306646Z",
     "start_time": "2023-07-31T08:52:11.602575Z"
    }
   },
   "outputs": [
    {
     "data": {
      "text/plain": "0   0.95\n1   0.05\nName: stroke, dtype: float64"
     },
     "execution_count": 133,
     "metadata": {},
     "output_type": "execute_result"
    }
   ],
   "source": [
    "df['stroke'].value_counts(dropna=False, normalize=True)"
   ]
  },
  {
   "cell_type": "markdown",
   "metadata": {
    "id": "lkNS6ggMeUHU"
   },
   "source": [
    "# 5.1.7 기타 변수 데이터 처리"
   ]
  },
  {
   "cell_type": "code",
   "execution_count": 134,
   "metadata": {
    "id": "tOOOyWU_eUHV",
    "outputId": "32182fd7-001f-411b-91bb-9c4adb686437",
    "colab": {
     "base_uri": "https://localhost:8080/"
    },
    "executionInfo": {
     "status": "ok",
     "timestamp": 1662431051543,
     "user_tz": -540,
     "elapsed": 280,
     "user": {
      "displayName": "Jason SJ Yim",
      "userId": "00334139127424328539"
     }
    },
    "ExecuteTime": {
     "end_time": "2023-07-31T08:52:12.307526Z",
     "start_time": "2023-07-31T08:52:11.607819Z"
    }
   },
   "outputs": [
    {
     "data": {
      "text/plain": "age                  float64\navg_glucose_level    float64\nbmi                  float64\ndtype: object"
     },
     "execution_count": 134,
     "metadata": {},
     "output_type": "execute_result"
    }
   ],
   "source": [
    "cols = ['age','avg_glucose_level','bmi'] # 구간 변수를 cols에 저장\n",
    "df[cols].dtypes"
   ]
  },
  {
   "cell_type": "code",
   "execution_count": 135,
   "metadata": {
    "scrolled": true,
    "id": "hYRz7YCoeUHV",
    "outputId": "6b8e96cd-e442-443c-e9a1-3f8625475779",
    "colab": {
     "base_uri": "https://localhost:8080/",
     "height": 300
    },
    "executionInfo": {
     "status": "ok",
     "timestamp": 1662431057610,
     "user_tz": -540,
     "elapsed": 308,
     "user": {
      "displayName": "Jason SJ Yim",
      "userId": "00334139127424328539"
     }
    },
    "ExecuteTime": {
     "end_time": "2023-07-31T08:52:12.307966Z",
     "start_time": "2023-07-31T08:52:11.615230Z"
    }
   },
   "outputs": [
    {
     "data": {
      "text/plain": "          age  avg_glucose_level     bmi\ncount 5110.00            5110.00 4909.00\nmean    43.23             106.15   28.89\nstd     22.61              45.28    7.85\nmin      0.08              55.12   10.30\n25%     25.00              77.25   23.50\n50%     45.00              91.88   28.10\n75%     61.00             114.09   33.10\nmax     82.00             271.74   97.60",
      "text/html": "<div>\n<style scoped>\n    .dataframe tbody tr th:only-of-type {\n        vertical-align: middle;\n    }\n\n    .dataframe tbody tr th {\n        vertical-align: top;\n    }\n\n    .dataframe thead th {\n        text-align: right;\n    }\n</style>\n<table border=\"1\" class=\"dataframe\">\n  <thead>\n    <tr style=\"text-align: right;\">\n      <th></th>\n      <th>age</th>\n      <th>avg_glucose_level</th>\n      <th>bmi</th>\n    </tr>\n  </thead>\n  <tbody>\n    <tr>\n      <th>count</th>\n      <td>5110.00</td>\n      <td>5110.00</td>\n      <td>4909.00</td>\n    </tr>\n    <tr>\n      <th>mean</th>\n      <td>43.23</td>\n      <td>106.15</td>\n      <td>28.89</td>\n    </tr>\n    <tr>\n      <th>std</th>\n      <td>22.61</td>\n      <td>45.28</td>\n      <td>7.85</td>\n    </tr>\n    <tr>\n      <th>min</th>\n      <td>0.08</td>\n      <td>55.12</td>\n      <td>10.30</td>\n    </tr>\n    <tr>\n      <th>25%</th>\n      <td>25.00</td>\n      <td>77.25</td>\n      <td>23.50</td>\n    </tr>\n    <tr>\n      <th>50%</th>\n      <td>45.00</td>\n      <td>91.88</td>\n      <td>28.10</td>\n    </tr>\n    <tr>\n      <th>75%</th>\n      <td>61.00</td>\n      <td>114.09</td>\n      <td>33.10</td>\n    </tr>\n    <tr>\n      <th>max</th>\n      <td>82.00</td>\n      <td>271.74</td>\n      <td>97.60</td>\n    </tr>\n  </tbody>\n</table>\n</div>"
     },
     "execution_count": 135,
     "metadata": {},
     "output_type": "execute_result"
    }
   ],
   "source": [
    "pd.options.display.float_format = '{:.2f}'.format # 소숫점 2자리로 숫자 표기 제한\n",
    "df[cols].describe()"
   ]
  },
  {
   "cell_type": "code",
   "execution_count": 136,
   "metadata": {
    "scrolled": true,
    "id": "9V-Bmw4KeUHV",
    "ExecuteTime": {
     "end_time": "2023-07-31T08:52:12.322962Z",
     "start_time": "2023-07-31T08:52:11.631842Z"
    }
   },
   "outputs": [
    {
     "data": {
      "text/plain": "0        True\n1        True\n2        True\n3        True\n4        True\n5        True\n6        True\n7        True\n8        True\n9        True\n10       True\n11       True\n12       True\n13       True\n14       True\n15       True\n16       True\n17       True\n18       True\n19       True\n20       True\n21       True\n22       True\n23       True\n24       True\n25       True\n26       True\n27       True\n28       True\n29       True\n30       True\n31       True\n32       True\n33       True\n34       True\n35       True\n36       True\n37       True\n38       True\n39       True\n40       True\n41       True\n42       True\n43       True\n44       True\n45       True\n46       True\n47       True\n48       True\n49       True\n50       True\n51       True\n52       True\n53       True\n54       True\n55       True\n56       True\n57       True\n58       True\n59       True\n60       True\n61       True\n62       True\n63       True\n64       True\n65       True\n66       True\n67       True\n68       True\n69       True\n70       True\n71       True\n72       True\n73       True\n74       True\n75       True\n76       True\n77       True\n78       True\n79       True\n80       True\n81       True\n82       True\n83       True\n84       True\n85       True\n86       True\n87       True\n88       True\n89       True\n90       True\n91       True\n92       True\n93       True\n94       True\n95       True\n96       True\n97       True\n98       True\n99       True\n100      True\n101      True\n102      True\n103      True\n104      True\n105      True\n106      True\n107      True\n108      True\n109      True\n110      True\n111      True\n112      True\n113      True\n114      True\n115      True\n116      True\n117      True\n118      True\n119      True\n120      True\n121      True\n122      True\n123      True\n124      True\n125      True\n126      True\n127      True\n128      True\n129      True\n130      True\n131      True\n132      True\n133      True\n134      True\n135      True\n136      True\n137      True\n138      True\n139      True\n140      True\n141      True\n142      True\n143      True\n144      True\n145      True\n146      True\n147      True\n148      True\n149      True\n150      True\n151      True\n152      True\n153      True\n154      True\n155      True\n156      True\n157      True\n158      True\n159      True\n160      True\n161      True\n162     False\n163      True\n164      True\n165      True\n166      True\n167      True\n168      True\n169      True\n170      True\n171      True\n172      True\n173      True\n174      True\n175      True\n176      True\n177      True\n178      True\n179      True\n180      True\n181      True\n182      True\n183      True\n184      True\n185      True\n186      True\n187      True\n188      True\n189      True\n190      True\n191      True\n192      True\n193      True\n194      True\n195      True\n196      True\n197      True\n198      True\n199      True\n200      True\n201      True\n202      True\n203      True\n204      True\n205      True\n206      True\n207      True\n208      True\n209      True\n210      True\n211      True\n212      True\n213      True\n214      True\n215      True\n216      True\n217      True\n218      True\n219      True\n220      True\n221      True\n222      True\n223      True\n224      True\n225      True\n226      True\n227      True\n228      True\n229      True\n230      True\n231      True\n232      True\n233      True\n234      True\n235      True\n236      True\n237      True\n238      True\n239      True\n240      True\n241      True\n242      True\n243      True\n244      True\n245     False\n246      True\n247      True\n248      True\n249     False\n250      True\n251     False\n252      True\n253     False\n254      True\n255      True\n256      True\n257      True\n258      True\n259      True\n260      True\n261      True\n262      True\n263      True\n264      True\n265      True\n266      True\n267      True\n268      True\n269      True\n270      True\n271      True\n272      True\n273      True\n274      True\n275      True\n276      True\n277      True\n278      True\n279      True\n280      True\n281      True\n282     False\n283      True\n284     False\n285      True\n286      True\n287      True\n288     False\n289      True\n290     False\n291     False\n292     False\n293      True\n294      True\n295      True\n296      True\n297      True\n298      True\n299      True\n300      True\n301      True\n302      True\n303      True\n304      True\n305      True\n306     False\n307      True\n308      True\n309      True\n310      True\n311      True\n312      True\n313      True\n314      True\n315      True\n316      True\n317      True\n318      True\n319      True\n320      True\n321     False\n322      True\n323      True\n324      True\n325      True\n326      True\n327     False\n328      True\n329     False\n330      True\n331      True\n332      True\n333      True\n334      True\n335     False\n336      True\n337      True\n338      True\n339      True\n340      True\n341      True\n342      True\n343      True\n344      True\n345      True\n346      True\n347      True\n348      True\n349      True\n350      True\n351      True\n352      True\n353      True\n354      True\n355      True\n356      True\n357      True\n358      True\n359      True\n360      True\n361      True\n362      True\n363     False\n364      True\n365      True\n366      True\n367      True\n368      True\n369     False\n370      True\n371     False\n372      True\n373      True\n374      True\n375      True\n376     False\n377      True\n378     False\n379      True\n380     False\n381      True\n382      True\n383     False\n384     False\n385      True\n386      True\n387      True\n388      True\n389      True\n390      True\n391      True\n392      True\n393      True\n394      True\n395     False\n396      True\n397      True\n398      True\n399      True\n400     False\n401     False\n402      True\n403      True\n404      True\n405      True\n406      True\n407      True\n408      True\n409      True\n410     False\n411      True\n412      True\n413      True\n414     False\n415      True\n416     False\n417      True\n418      True\n419      True\n420      True\n421     False\n422      True\n423      True\n424      True\n425     False\n426      True\n427      True\n428      True\n429      True\n430      True\n431      True\n432      True\n433      True\n434      True\n435      True\n436      True\n437     False\n438      True\n439      True\n440      True\n441      True\n442      True\n443      True\n444      True\n445     False\n446      True\n447      True\n448      True\n449      True\n450      True\n451     False\n452      True\n453      True\n454      True\n455     False\n456      True\n457      True\n458      True\n459     False\n460     False\n461     False\n462      True\n463      True\n464      True\n465      True\n466      True\n467      True\n468      True\n469      True\n470      True\n471     False\n472      True\n473      True\n474      True\n475      True\n476      True\n477      True\n478      True\n479      True\n480     False\n481      True\n482      True\n483     False\n484      True\n485      True\n486      True\n487      True\n488      True\n489      True\n490      True\n491      True\n492      True\n493      True\n494      True\n495      True\n496     False\n497     False\n498     False\n499      True\n500      True\n501      True\n502      True\n503      True\n504      True\n505      True\n506      True\n507      True\n508      True\n509      True\n510      True\n511      True\n512      True\n513      True\n514      True\n515      True\n516      True\n517      True\n518      True\n519     False\n520      True\n521      True\n522      True\n523      True\n524      True\n525     False\n526      True\n527      True\n528      True\n529      True\n530      True\n531      True\n532      True\n533      True\n534      True\n535     False\n536      True\n537      True\n538     False\n539      True\n540      True\n541      True\n542      True\n543      True\n544      True\n545     False\n546     False\n547      True\n548      True\n549      True\n550     False\n551      True\n552      True\n553      True\n554     False\n555      True\n556      True\n557      True\n558     False\n559      True\n560     False\n561      True\n562     False\n563      True\n564     False\n565      True\n566      True\n567      True\n568      True\n569      True\n570      True\n571      True\n572      True\n573      True\n574     False\n575      True\n576      True\n577      True\n578      True\n579      True\n580      True\n581     False\n582      True\n583      True\n584     False\n585      True\n586      True\n587      True\n588      True\n589      True\n590      True\n591      True\n592      True\n593      True\n594      True\n595      True\n596      True\n597     False\n598     False\n599      True\n600      True\n601      True\n602      True\n603      True\n604      True\n605     False\n606      True\n607     False\n608      True\n609     False\n610      True\n611      True\n612      True\n613      True\n614      True\n615      True\n616      True\n617      True\n618      True\n619      True\n620      True\n621      True\n622      True\n623      True\n624      True\n625      True\n626      True\n627      True\n628      True\n629      True\n630      True\n631      True\n632      True\n633      True\n634      True\n635      True\n636      True\n637      True\n638      True\n639      True\n640      True\n641     False\n642      True\n643      True\n644      True\n645      True\n646      True\n647      True\n648      True\n649      True\n650      True\n651      True\n652      True\n653      True\n654      True\n655      True\n656     False\n657     False\n658      True\n659      True\n660      True\n661      True\n662      True\n663      True\n664      True\n665      True\n666      True\n667     False\n668      True\n669      True\n670      True\n671      True\n672     False\n673      True\n674     False\n675      True\n676      True\n677      True\n678      True\n679      True\n680      True\n681     False\n682      True\n683     False\n684     False\n685      True\n686      True\n687      True\n688      True\n689      True\n690      True\n691      True\n692     False\n693     False\n694      True\n695      True\n696     False\n697      True\n698      True\n699      True\n700      True\n701      True\n702      True\n703      True\n704      True\n705      True\n706      True\n707      True\n708      True\n709      True\n710      True\n711      True\n712      True\n713      True\n714      True\n715      True\n716      True\n717     False\n718      True\n719      True\n720      True\n721      True\n722     False\n723      True\n724      True\n725      True\n726      True\n727      True\n728     False\n729      True\n730     False\n731      True\n732      True\n733     False\n734      True\n735      True\n736      True\n737      True\n738      True\n739      True\n740      True\n741      True\n742     False\n743      True\n744      True\n745      True\n746      True\n747      True\n748      True\n749      True\n750     False\n751      True\n752      True\n753     False\n754      True\n755      True\n756     False\n757      True\n758      True\n759      True\n760      True\n761      True\n762     False\n763      True\n764      True\n765      True\n766      True\n767      True\n768      True\n769      True\n770      True\n771      True\n772      True\n773      True\n774      True\n775     False\n776      True\n777      True\n778      True\n779      True\n780     False\n781      True\n782      True\n783     False\n784      True\n785      True\n786      True\n787      True\n788      True\n789      True\n790      True\n791      True\n792     False\n793      True\n794      True\n795      True\n796      True\n797      True\n798      True\n799     False\n800      True\n801      True\n802      True\n803      True\n804      True\n805      True\n806      True\n807      True\n808      True\n809      True\n810      True\n811      True\n812      True\n813      True\n814     False\n815      True\n816      True\n817     False\n818      True\n819      True\n820      True\n821      True\n822      True\n823      True\n824      True\n825      True\n826      True\n827      True\n828      True\n829      True\n830     False\n831      True\n832      True\n833     False\n834      True\n835      True\n836      True\n837      True\n838      True\n839      True\n840     False\n841      True\n842      True\n843      True\n844     False\n845      True\n846      True\n847      True\n848      True\n849      True\n850     False\n851      True\n852     False\n853      True\n854      True\n855      True\n856     False\n857      True\n858      True\n859      True\n860      True\n861      True\n862      True\n863      True\n864      True\n865      True\n866      True\n867      True\n868      True\n869      True\n870      True\n871      True\n872     False\n873      True\n874      True\n875      True\n876      True\n877     False\n878      True\n879      True\n880      True\n881      True\n882      True\n883     False\n884      True\n885      True\n886      True\n887      True\n888      True\n889      True\n890      True\n891      True\n892      True\n893     False\n894      True\n895      True\n896      True\n897      True\n898      True\n899      True\n900      True\n901      True\n902      True\n903      True\n904      True\n905      True\n906      True\n907      True\n908      True\n909      True\n910      True\n911      True\n912      True\n913     False\n914      True\n915      True\n916      True\n917      True\n918      True\n919     False\n920      True\n921     False\n922     False\n923      True\n924      True\n925     False\n926      True\n927      True\n928      True\n929      True\n930      True\n931      True\n932      True\n933      True\n934      True\n935      True\n936      True\n937      True\n938      True\n939     False\n940      True\n941      True\n942      True\n943      True\n944      True\n945      True\n946      True\n947      True\n948      True\n949      True\n950     False\n951     False\n952      True\n953     False\n954      True\n955      True\n956     False\n957     False\n958      True\n959     False\n960      True\n961     False\n962      True\n963      True\n964      True\n965      True\n966      True\n967      True\n968      True\n969      True\n970      True\n971      True\n972     False\n973      True\n974     False\n975      True\n976      True\n977     False\n978      True\n979      True\n980     False\n981      True\n982     False\n983      True\n984      True\n985      True\n986     False\n987      True\n988      True\n989      True\n990      True\n991      True\n992      True\n993      True\n994      True\n995     False\n996     False\n997      True\n998      True\n999     False\n1000     True\n1001     True\n1002     True\n1003     True\n1004     True\n1005     True\n1006    False\n1007     True\n1008     True\n1009    False\n1010     True\n1011     True\n1012    False\n1013     True\n1014     True\n1015     True\n1016     True\n1017     True\n1018     True\n1019     True\n1020     True\n1021     True\n1022     True\n1023     True\n1024     True\n1025     True\n1026     True\n1027     True\n1028     True\n1029     True\n1030     True\n1031     True\n1032    False\n1033     True\n1034     True\n1035     True\n1036     True\n1037     True\n1038     True\n1039    False\n1040     True\n1041     True\n1042     True\n1043     True\n1044     True\n1045     True\n1046     True\n1047    False\n1048     True\n1049     True\n1050     True\n1051     True\n1052     True\n1053     True\n1054     True\n1055     True\n1056    False\n1057     True\n1058     True\n1059     True\n1060     True\n1061     True\n1062     True\n1063    False\n1064     True\n1065     True\n1066     True\n1067     True\n1068     True\n1069    False\n1070     True\n1071     True\n1072     True\n1073     True\n1074    False\n1075     True\n1076     True\n1077     True\n1078     True\n1079     True\n1080     True\n1081     True\n1082     True\n1083     True\n1084     True\n1085     True\n1086     True\n1087     True\n1088     True\n1089     True\n1090     True\n1091     True\n1092     True\n1093    False\n1094     True\n1095    False\n1096     True\n1097     True\n1098     True\n1099     True\n1100     True\n1101    False\n1102     True\n1103     True\n1104     True\n1105     True\n1106     True\n1107     True\n1108     True\n1109     True\n1110     True\n1111    False\n1112     True\n1113     True\n1114     True\n1115    False\n1116     True\n1117     True\n1118     True\n1119     True\n1120     True\n1121     True\n1122     True\n1123    False\n1124    False\n1125     True\n1126     True\n1127     True\n1128     True\n1129     True\n1130     True\n1131     True\n1132    False\n1133     True\n1134    False\n1135     True\n1136     True\n1137    False\n1138     True\n1139     True\n1140     True\n1141     True\n1142     True\n1143    False\n1144     True\n1145    False\n1146     True\n1147     True\n1148     True\n1149     True\n1150     True\n1151     True\n1152     True\n1153     True\n1154     True\n1155    False\n1156     True\n1157     True\n1158     True\n1159    False\n1160     True\n1161     True\n1162     True\n1163     True\n1164     True\n1165     True\n1166     True\n1167     True\n1168     True\n1169    False\n1170     True\n1171     True\n1172     True\n1173     True\n1174    False\n1175     True\n1176     True\n1177     True\n1178     True\n1179     True\n1180     True\n1181     True\n1182    False\n1183     True\n1184     True\n1185    False\n1186     True\n1187     True\n1188     True\n1189     True\n1190     True\n1191     True\n1192     True\n1193     True\n1194    False\n1195     True\n1196     True\n1197    False\n1198     True\n1199     True\n1200     True\n1201     True\n1202     True\n1203     True\n1204     True\n1205     True\n1206    False\n1207     True\n1208     True\n1209     True\n1210     True\n1211     True\n1212     True\n1213     True\n1214     True\n1215     True\n1216     True\n1217     True\n1218    False\n1219     True\n1220     True\n1221     True\n1222    False\n1223    False\n1224     True\n1225     True\n1226     True\n1227     True\n1228     True\n1229     True\n1230     True\n1231    False\n1232     True\n1233     True\n1234     True\n1235     True\n1236     True\n1237     True\n1238     True\n1239     True\n1240     True\n1241     True\n1242    False\n1243    False\n1244    False\n1245     True\n1246    False\n1247     True\n1248     True\n1249    False\n1250     True\n1251    False\n1252    False\n1253    False\n1254     True\n1255     True\n1256     True\n1257     True\n1258     True\n1259     True\n1260     True\n1261     True\n1262     True\n1263     True\n1264     True\n1265    False\n1266     True\n1267     True\n1268     True\n1269     True\n1270    False\n1271     True\n1272     True\n1273     True\n1274     True\n1275     True\n1276     True\n1277    False\n1278    False\n1279     True\n1280     True\n1281    False\n1282     True\n1283     True\n1284     True\n1285     True\n1286     True\n1287    False\n1288     True\n1289     True\n1290     True\n1291     True\n1292    False\n1293     True\n1294     True\n1295     True\n1296     True\n1297     True\n1298    False\n1299     True\n1300     True\n1301    False\n1302     True\n1303     True\n1304     True\n1305     True\n1306     True\n1307     True\n1308     True\n1309     True\n1310     True\n1311     True\n1312    False\n1313     True\n1314     True\n1315     True\n1316     True\n1317    False\n1318     True\n1319     True\n1320     True\n1321     True\n1322     True\n1323     True\n1324     True\n1325     True\n1326     True\n1327     True\n1328     True\n1329     True\n1330     True\n1331     True\n1332     True\n1333     True\n1334     True\n1335     True\n1336     True\n1337     True\n1338    False\n1339     True\n1340     True\n1341     True\n1342     True\n1343     True\n1344     True\n1345     True\n1346     True\n1347     True\n1348     True\n1349     True\n1350     True\n1351     True\n1352     True\n1353     True\n1354     True\n1355     True\n1356     True\n1357     True\n1358    False\n1359    False\n1360     True\n1361     True\n1362     True\n1363     True\n1364    False\n1365     True\n1366    False\n1367     True\n1368     True\n1369     True\n1370    False\n1371    False\n1372     True\n1373     True\n1374     True\n1375    False\n1376     True\n1377     True\n1378     True\n1379     True\n1380    False\n1381     True\n1382     True\n1383     True\n1384     True\n1385     True\n1386    False\n1387     True\n1388     True\n1389    False\n1390    False\n1391     True\n1392    False\n1393     True\n1394     True\n1395     True\n1396    False\n1397     True\n1398     True\n1399     True\n1400     True\n1401     True\n1402     True\n1403     True\n1404     True\n1405    False\n1406    False\n1407     True\n1408    False\n1409     True\n1410     True\n1411     True\n1412     True\n1413     True\n1414     True\n1415     True\n1416     True\n1417     True\n1418     True\n1419     True\n1420     True\n1421    False\n1422    False\n1423     True\n1424    False\n1425    False\n1426    False\n1427     True\n1428     True\n1429    False\n1430    False\n1431     True\n1432    False\n1433     True\n1434     True\n1435     True\n1436     True\n1437     True\n1438     True\n1439     True\n1440     True\n1441     True\n1442    False\n1443     True\n1444     True\n1445    False\n1446     True\n1447     True\n1448     True\n1449     True\n1450    False\n1451     True\n1452     True\n1453     True\n1454     True\n1455    False\n1456     True\n1457     True\n1458     True\n1459     True\n1460     True\n1461     True\n1462    False\n1463     True\n1464    False\n1465     True\n1466     True\n1467    False\n1468     True\n1469    False\n1470    False\n1471    False\n1472     True\n1473     True\n1474     True\n1475     True\n1476     True\n1477     True\n1478     True\n1479     True\n1480     True\n1481     True\n1482     True\n1483    False\n1484    False\n1485     True\n1486    False\n1487     True\n1488    False\n1489     True\n1490     True\n1491     True\n1492     True\n1493    False\n1494     True\n1495     True\n1496     True\n1497     True\n1498     True\n1499    False\n1500     True\n1501     True\n1502     True\n1503     True\n1504     True\n1505     True\n1506     True\n1507     True\n1508     True\n1509     True\n1510     True\n1511     True\n1512    False\n1513    False\n1514     True\n1515     True\n1516     True\n1517     True\n1518     True\n1519     True\n1520     True\n1521     True\n1522     True\n1523     True\n1524     True\n1525     True\n1526     True\n1527     True\n1528     True\n1529     True\n1530     True\n1531     True\n1532     True\n1533     True\n1534     True\n1535     True\n1536    False\n1537     True\n1538     True\n1539     True\n1540     True\n1541     True\n1542     True\n1543     True\n1544     True\n1545     True\n1546     True\n1547     True\n1548    False\n1549     True\n1550     True\n1551     True\n1552     True\n1553     True\n1554     True\n1555    False\n1556     True\n1557     True\n1558    False\n1559     True\n1560     True\n1561     True\n1562     True\n1563     True\n1564     True\n1565    False\n1566     True\n1567     True\n1568     True\n1569     True\n1570     True\n1571     True\n1572    False\n1573     True\n1574     True\n1575    False\n1576     True\n1577     True\n1578     True\n1579     True\n1580     True\n1581     True\n1582     True\n1583     True\n1584     True\n1585     True\n1586     True\n1587    False\n1588     True\n1589    False\n1590    False\n1591     True\n1592     True\n1593     True\n1594     True\n1595     True\n1596     True\n1597    False\n1598     True\n1599     True\n1600    False\n1601     True\n1602     True\n1603     True\n1604     True\n1605     True\n1606     True\n1607     True\n1608     True\n1609    False\n1610    False\n1611     True\n1612    False\n1613     True\n1614    False\n1615     True\n1616     True\n1617     True\n1618     True\n1619    False\n1620     True\n1621     True\n1622     True\n1623    False\n1624     True\n1625     True\n1626     True\n1627     True\n1628     True\n1629     True\n1630     True\n1631     True\n1632    False\n1633    False\n1634     True\n1635     True\n1636     True\n1637     True\n1638     True\n1639     True\n1640     True\n1641     True\n1642     True\n1643     True\n1644     True\n1645     True\n1646     True\n1647    False\n1648     True\n1649     True\n1650     True\n1651     True\n1652     True\n1653     True\n1654     True\n1655     True\n1656     True\n1657     True\n1658     True\n1659     True\n1660     True\n1661     True\n1662     True\n1663     True\n1664     True\n1665     True\n1666    False\n1667     True\n1668    False\n1669     True\n1670     True\n1671     True\n1672     True\n1673     True\n1674     True\n1675     True\n1676     True\n1677     True\n1678     True\n1679     True\n1680     True\n1681     True\n1682     True\n1683     True\n1684    False\n1685     True\n1686    False\n1687     True\n1688     True\n1689     True\n1690     True\n1691     True\n1692     True\n1693     True\n1694     True\n1695     True\n1696     True\n1697     True\n1698     True\n1699     True\n1700     True\n1701    False\n1702    False\n1703     True\n1704     True\n1705     True\n1706     True\n1707     True\n1708    False\n1709     True\n1710     True\n1711     True\n1712     True\n1713     True\n1714    False\n1715     True\n1716     True\n1717     True\n1718     True\n1719     True\n1720     True\n1721     True\n1722     True\n1723     True\n1724    False\n1725     True\n1726    False\n1727     True\n1728    False\n1729     True\n1730     True\n1731     True\n1732     True\n1733     True\n1734     True\n1735     True\n1736     True\n1737     True\n1738     True\n1739    False\n1740     True\n1741     True\n1742     True\n1743     True\n1744    False\n1745     True\n1746     True\n1747     True\n1748     True\n1749     True\n1750     True\n1751     True\n1752     True\n1753     True\n1754     True\n1755     True\n1756     True\n1757     True\n1758    False\n1759     True\n1760     True\n1761     True\n1762     True\n1763    False\n1764     True\n1765    False\n1766     True\n1767    False\n1768     True\n1769     True\n1770     True\n1771     True\n1772     True\n1773     True\n1774    False\n1775     True\n1776     True\n1777    False\n1778     True\n1779     True\n1780     True\n1781     True\n1782     True\n1783    False\n1784     True\n1785     True\n1786     True\n1787     True\n1788     True\n1789    False\n1790     True\n1791    False\n1792     True\n1793     True\n1794    False\n1795     True\n1796     True\n1797     True\n1798     True\n1799     True\n1800     True\n1801     True\n1802     True\n1803     True\n1804     True\n1805     True\n1806    False\n1807     True\n1808    False\n1809    False\n1810     True\n1811     True\n1812     True\n1813     True\n1814     True\n1815     True\n1816     True\n1817     True\n1818     True\n1819     True\n1820     True\n1821    False\n1822     True\n1823     True\n1824    False\n1825     True\n1826    False\n1827     True\n1828     True\n1829     True\n1830     True\n1831    False\n1832     True\n1833    False\n1834     True\n1835     True\n1836     True\n1837     True\n1838     True\n1839     True\n1840     True\n1841    False\n1842     True\n1843     True\n1844     True\n1845     True\n1846    False\n1847     True\n1848     True\n1849    False\n1850     True\n1851    False\n1852     True\n1853     True\n1854     True\n1855     True\n1856     True\n1857     True\n1858     True\n1859     True\n1860     True\n1861     True\n1862     True\n1863    False\n1864     True\n1865     True\n1866    False\n1867     True\n1868     True\n1869     True\n1870     True\n1871     True\n1872     True\n1873     True\n1874     True\n1875     True\n1876     True\n1877    False\n1878     True\n1879     True\n1880     True\n1881     True\n1882     True\n1883     True\n1884     True\n1885     True\n1886     True\n1887     True\n1888     True\n1889     True\n1890     True\n1891     True\n1892     True\n1893     True\n1894     True\n1895     True\n1896     True\n1897     True\n1898     True\n1899     True\n1900    False\n1901     True\n1902     True\n1903     True\n1904     True\n1905     True\n1906     True\n1907     True\n1908     True\n1909     True\n1910    False\n1911     True\n1912     True\n1913     True\n1914     True\n1915     True\n1916     True\n1917    False\n1918     True\n1919    False\n1920     True\n1921     True\n1922    False\n1923     True\n1924     True\n1925     True\n1926     True\n1927    False\n1928    False\n1929    False\n1930     True\n1931     True\n1932     True\n1933     True\n1934     True\n1935     True\n1936     True\n1937     True\n1938     True\n1939     True\n1940     True\n1941     True\n1942    False\n1943     True\n1944     True\n1945     True\n1946     True\n1947     True\n1948    False\n1949     True\n1950    False\n1951     True\n1952     True\n1953     True\n1954     True\n1955     True\n1956    False\n1957    False\n1958    False\n1959    False\n1960    False\n1961     True\n1962     True\n1963     True\n1964     True\n1965    False\n1966     True\n1967     True\n1968     True\n1969     True\n1970     True\n1971     True\n1972     True\n1973    False\n1974     True\n1975    False\n1976    False\n1977     True\n1978     True\n1979     True\n1980    False\n1981     True\n1982     True\n1983     True\n1984     True\n1985     True\n1986     True\n1987    False\n1988     True\n1989     True\n1990    False\n1991     True\n1992     True\n1993     True\n1994     True\n1995     True\n1996     True\n1997     True\n1998     True\n1999    False\n2000     True\n2001     True\n2002     True\n2003     True\n2004     True\n2005     True\n2006     True\n2007     True\n2008    False\n2009     True\n2010     True\n2011     True\n2012    False\n2013    False\n2014     True\n2015    False\n2016     True\n2017     True\n2018     True\n2019     True\n2020     True\n2021     True\n2022     True\n2023     True\n2024     True\n2025     True\n2026     True\n2027     True\n2028     True\n2029     True\n2030    False\n2031     True\n2032     True\n2033     True\n2034     True\n2035     True\n2036    False\n2037     True\n2038     True\n2039     True\n2040     True\n2041     True\n2042    False\n2043    False\n2044     True\n2045    False\n2046     True\n2047     True\n2048     True\n2049     True\n2050    False\n2051     True\n2052     True\n2053     True\n2054     True\n2055     True\n2056    False\n2057     True\n2058     True\n2059     True\n2060     True\n2061     True\n2062    False\n2063     True\n2064     True\n2065     True\n2066     True\n2067     True\n2068     True\n2069     True\n2070     True\n2071     True\n2072     True\n2073    False\n2074    False\n2075     True\n2076    False\n2077     True\n2078     True\n2079    False\n2080     True\n2081     True\n2082     True\n2083     True\n2084     True\n2085     True\n2086     True\n2087     True\n2088     True\n2089     True\n2090    False\n2091    False\n2092     True\n2093     True\n2094     True\n2095     True\n2096     True\n2097     True\n2098     True\n2099     True\n2100     True\n2101     True\n2102     True\n2103     True\n2104     True\n2105     True\n2106     True\n2107     True\n2108     True\n2109     True\n2110     True\n2111     True\n2112    False\n2113    False\n2114     True\n2115     True\n2116    False\n2117     True\n2118     True\n2119     True\n2120     True\n2121     True\n2122     True\n2123     True\n2124     True\n2125     True\n2126     True\n2127     True\n2128    False\n2129     True\n2130     True\n2131     True\n2132     True\n2133    False\n2134     True\n2135     True\n2136     True\n2137     True\n2138     True\n2139     True\n2140     True\n2141     True\n2142     True\n2143     True\n2144     True\n2145     True\n2146    False\n2147     True\n2148    False\n2149     True\n2150     True\n2151     True\n2152    False\n2153     True\n2154    False\n2155     True\n2156     True\n2157    False\n2158     True\n2159     True\n2160     True\n2161     True\n2162     True\n2163    False\n2164     True\n2165    False\n2166     True\n2167     True\n2168     True\n2169    False\n2170     True\n2171    False\n2172     True\n2173     True\n2174     True\n2175    False\n2176     True\n2177    False\n2178     True\n2179     True\n2180     True\n2181    False\n2182     True\n2183     True\n2184     True\n2185     True\n2186    False\n2187     True\n2188     True\n2189     True\n2190     True\n2191    False\n2192     True\n2193     True\n2194    False\n2195    False\n2196     True\n2197     True\n2198     True\n2199     True\n2200     True\n2201     True\n2202     True\n2203     True\n2204     True\n2205     True\n2206     True\n2207     True\n2208     True\n2209     True\n2210     True\n2211     True\n2212     True\n2213    False\n2214     True\n2215     True\n2216     True\n2217    False\n2218     True\n2219     True\n2220     True\n2221     True\n2222    False\n2223     True\n2224     True\n2225     True\n2226     True\n2227     True\n2228     True\n2229     True\n2230    False\n2231     True\n2232     True\n2233     True\n2234     True\n2235     True\n2236     True\n2237     True\n2238     True\n2239     True\n2240    False\n2241    False\n2242    False\n2243     True\n2244     True\n2245    False\n2246     True\n2247    False\n2248     True\n2249    False\n2250     True\n2251     True\n2252     True\n2253     True\n2254    False\n2255     True\n2256     True\n2257     True\n2258    False\n2259    False\n2260     True\n2261     True\n2262     True\n2263     True\n2264     True\n2265     True\n2266     True\n2267     True\n2268    False\n2269     True\n2270     True\n2271     True\n2272     True\n2273     True\n2274     True\n2275     True\n2276    False\n2277     True\n2278     True\n2279     True\n2280     True\n2281     True\n2282     True\n2283     True\n2284     True\n2285     True\n2286     True\n2287     True\n2288     True\n2289    False\n2290     True\n2291    False\n2292     True\n2293     True\n2294     True\n2295     True\n2296     True\n2297     True\n2298     True\n2299     True\n2300    False\n2301     True\n2302     True\n2303     True\n2304    False\n2305    False\n2306     True\n2307     True\n2308    False\n2309     True\n2310    False\n2311    False\n2312     True\n2313    False\n2314     True\n2315     True\n2316     True\n2317     True\n2318     True\n2319     True\n2320     True\n2321     True\n2322     True\n2323    False\n2324     True\n2325     True\n2326     True\n2327     True\n2328     True\n2329    False\n2330     True\n2331     True\n2332     True\n2333    False\n2334     True\n2335     True\n2336     True\n2337     True\n2338     True\n2339     True\n2340     True\n2341     True\n2342     True\n2343     True\n2344     True\n2345     True\n2346    False\n2347    False\n2348    False\n2349     True\n2350     True\n2351     True\n2352     True\n2353    False\n2354     True\n2355     True\n2356     True\n2357     True\n2358    False\n2359     True\n2360     True\n2361     True\n2362     True\n2363     True\n2364    False\n2365     True\n2366     True\n2367     True\n2368     True\n2369     True\n2370    False\n2371     True\n2372     True\n2373     True\n2374     True\n2375     True\n2376     True\n2377     True\n2378     True\n2379    False\n2380     True\n2381     True\n2382     True\n2383     True\n2384     True\n2385     True\n2386     True\n2387     True\n2388    False\n2389    False\n2390     True\n2391    False\n2392     True\n2393     True\n2394     True\n2395     True\n2396     True\n2397    False\n2398     True\n2399     True\n2400     True\n2401     True\n2402     True\n2403     True\n2404     True\n2405     True\n2406     True\n2407     True\n2408     True\n2409     True\n2410     True\n2411    False\n2412     True\n2413     True\n2414     True\n2415     True\n2416     True\n2417     True\n2418     True\n2419     True\n2420     True\n2421     True\n2422     True\n2423    False\n2424     True\n2425    False\n2426    False\n2427     True\n2428     True\n2429    False\n2430     True\n2431     True\n2432    False\n2433     True\n2434     True\n2435     True\n2436    False\n2437    False\n2438     True\n2439     True\n2440     True\n2441     True\n2442     True\n2443    False\n2444     True\n2445     True\n2446     True\n2447     True\n2448     True\n2449     True\n2450    False\n2451     True\n2452     True\n2453     True\n2454     True\n2455    False\n2456     True\n2457    False\n2458     True\n2459     True\n2460     True\n2461     True\n2462     True\n2463     True\n2464     True\n2465     True\n2466     True\n2467     True\n2468     True\n2469     True\n2470     True\n2471    False\n2472    False\n2473     True\n2474    False\n2475     True\n2476     True\n2477     True\n2478    False\n2479    False\n2480    False\n2481    False\n2482     True\n2483     True\n2484    False\n2485    False\n2486     True\n2487     True\n2488    False\n2489     True\n2490    False\n2491     True\n2492     True\n2493     True\n2494     True\n2495     True\n2496     True\n2497     True\n2498    False\n2499     True\n2500     True\n2501     True\n2502     True\n2503     True\n2504     True\n2505     True\n2506     True\n2507     True\n2508     True\n2509     True\n2510     True\n2511     True\n2512     True\n2513     True\n2514    False\n2515     True\n2516     True\n2517     True\n2518     True\n2519     True\n2520     True\n2521     True\n2522     True\n2523     True\n2524     True\n2525     True\n2526    False\n2527     True\n2528     True\n2529     True\n2530    False\n2531    False\n2532     True\n2533     True\n2534     True\n2535     True\n2536     True\n2537     True\n2538    False\n2539     True\n2540     True\n2541     True\n2542    False\n2543    False\n2544     True\n2545     True\n2546     True\n2547     True\n2548     True\n2549     True\n2550     True\n2551     True\n2552     True\n2553     True\n2554    False\n2555     True\n2556     True\n2557     True\n2558     True\n2559     True\n2560    False\n2561     True\n2562     True\n2563     True\n2564     True\n2565     True\n2566    False\n2567     True\n2568     True\n2569     True\n2570     True\n2571     True\n2572     True\n2573     True\n2574     True\n2575     True\n2576     True\n2577     True\n2578     True\n2579    False\n2580     True\n2581     True\n2582     True\n2583     True\n2584     True\n2585     True\n2586     True\n2587     True\n2588    False\n2589     True\n2590    False\n2591     True\n2592     True\n2593    False\n2594     True\n2595    False\n2596     True\n2597     True\n2598     True\n2599     True\n2600     True\n2601     True\n2602     True\n2603     True\n2604     True\n2605    False\n2606     True\n2607     True\n2608     True\n2609     True\n2610     True\n2611     True\n2612     True\n2613     True\n2614     True\n2615     True\n2616     True\n2617     True\n2618     True\n2619    False\n2620    False\n2621     True\n2622     True\n2623     True\n2624     True\n2625     True\n2626     True\n2627     True\n2628     True\n2629     True\n2630    False\n2631     True\n2632     True\n2633     True\n2634     True\n2635     True\n2636     True\n2637     True\n2638     True\n2639     True\n2640     True\n2641     True\n2642     True\n2643     True\n2644    False\n2645     True\n2646     True\n2647     True\n2648     True\n2649    False\n2650     True\n2651     True\n2652    False\n2653    False\n2654     True\n2655     True\n2656     True\n2657     True\n2658     True\n2659    False\n2660    False\n2661     True\n2662     True\n2663    False\n2664     True\n2665     True\n2666     True\n2667    False\n2668     True\n2669     True\n2670     True\n2671     True\n2672     True\n2673     True\n2674     True\n2675     True\n2676     True\n2677     True\n2678     True\n2679    False\n2680     True\n2681    False\n2682     True\n2683     True\n2684     True\n2685     True\n2686     True\n2687    False\n2688     True\n2689     True\n2690     True\n2691     True\n2692    False\n2693     True\n2694     True\n2695     True\n2696     True\n2697     True\n2698     True\n2699     True\n2700     True\n2701     True\n2702     True\n2703     True\n2704     True\n2705     True\n2706     True\n2707     True\n2708    False\n2709     True\n2710     True\n2711     True\n2712     True\n2713     True\n2714    False\n2715     True\n2716    False\n2717    False\n2718     True\n2719     True\n2720     True\n2721    False\n2722     True\n2723     True\n2724     True\n2725    False\n2726     True\n2727     True\n2728     True\n2729    False\n2730     True\n2731     True\n2732     True\n2733    False\n2734     True\n2735     True\n2736     True\n2737     True\n2738     True\n2739    False\n2740    False\n2741     True\n2742     True\n2743     True\n2744    False\n2745     True\n2746     True\n2747    False\n2748     True\n2749     True\n2750     True\n2751     True\n2752     True\n2753    False\n2754     True\n2755    False\n2756     True\n2757     True\n2758     True\n2759     True\n2760     True\n2761     True\n2762    False\n2763     True\n2764     True\n2765     True\n2766     True\n2767     True\n2768     True\n2769     True\n2770     True\n2771     True\n2772     True\n2773     True\n2774     True\n2775     True\n2776    False\n2777     True\n2778     True\n2779    False\n2780     True\n2781    False\n2782     True\n2783     True\n2784     True\n2785     True\n2786     True\n2787     True\n2788    False\n2789     True\n2790    False\n2791     True\n2792     True\n2793     True\n2794    False\n2795     True\n2796     True\n2797     True\n2798     True\n2799     True\n2800     True\n2801    False\n2802     True\n2803    False\n2804     True\n2805    False\n2806     True\n2807     True\n2808    False\n2809     True\n2810     True\n2811     True\n2812    False\n2813     True\n2814     True\n2815     True\n2816     True\n2817     True\n2818     True\n2819    False\n2820     True\n2821     True\n2822     True\n2823     True\n2824     True\n2825     True\n2826     True\n2827    False\n2828     True\n2829     True\n2830     True\n2831     True\n2832     True\n2833     True\n2834     True\n2835     True\n2836     True\n2837     True\n2838     True\n2839     True\n2840     True\n2841     True\n2842     True\n2843    False\n2844     True\n2845    False\n2846     True\n2847     True\n2848     True\n2849     True\n2850     True\n2851     True\n2852     True\n2853     True\n2854    False\n2855     True\n2856    False\n2857     True\n2858    False\n2859     True\n2860     True\n2861    False\n2862     True\n2863     True\n2864     True\n2865     True\n2866     True\n2867     True\n2868     True\n2869     True\n2870     True\n2871    False\n2872     True\n2873     True\n2874     True\n2875    False\n2876     True\n2877     True\n2878     True\n2879     True\n2880     True\n2881     True\n2882     True\n2883     True\n2884     True\n2885     True\n2886     True\n2887    False\n2888     True\n2889    False\n2890     True\n2891     True\n2892    False\n2893     True\n2894     True\n2895     True\n2896     True\n2897     True\n2898    False\n2899     True\n2900     True\n2901     True\n2902     True\n2903     True\n2904     True\n2905     True\n2906     True\n2907     True\n2908     True\n2909     True\n2910     True\n2911    False\n2912     True\n2913     True\n2914     True\n2915     True\n2916     True\n2917    False\n2918     True\n2919     True\n2920     True\n2921    False\n2922     True\n2923     True\n2924     True\n2925     True\n2926     True\n2927    False\n2928    False\n2929    False\n2930     True\n2931     True\n2932     True\n2933     True\n2934     True\n2935     True\n2936    False\n2937     True\n2938     True\n2939     True\n2940     True\n2941     True\n2942     True\n2943     True\n2944     True\n2945     True\n2946    False\n2947     True\n2948     True\n2949     True\n2950    False\n2951     True\n2952     True\n2953     True\n2954    False\n2955     True\n2956    False\n2957     True\n2958    False\n2959     True\n2960     True\n2961     True\n2962     True\n2963     True\n2964     True\n2965     True\n2966     True\n2967     True\n2968     True\n2969     True\n2970     True\n2971     True\n2972    False\n2973     True\n2974     True\n2975     True\n2976     True\n2977     True\n2978     True\n2979     True\n2980     True\n2981     True\n2982     True\n2983     True\n2984    False\n2985     True\n2986     True\n2987    False\n2988     True\n2989     True\n2990     True\n2991     True\n2992     True\n2993     True\n2994     True\n2995     True\n2996     True\n2997     True\n2998     True\n2999    False\n3000     True\n3001     True\n3002     True\n3003     True\n3004    False\n3005     True\n3006     True\n3007     True\n3008     True\n3009    False\n3010     True\n3011     True\n3012     True\n3013     True\n3014     True\n3015     True\n3016     True\n3017     True\n3018     True\n3019     True\n3020     True\n3021     True\n3022     True\n3023     True\n3024     True\n3025    False\n3026     True\n3027     True\n3028     True\n3029     True\n3030     True\n3031    False\n3032     True\n3033     True\n3034     True\n3035     True\n3036     True\n3037     True\n3038     True\n3039     True\n3040     True\n3041     True\n3042    False\n3043     True\n3044    False\n3045     True\n3046     True\n3047     True\n3048     True\n3049     True\n3050     True\n3051    False\n3052     True\n3053     True\n3054     True\n3055     True\n3056     True\n3057     True\n3058    False\n3059     True\n3060     True\n3061     True\n3062     True\n3063    False\n3064     True\n3065     True\n3066     True\n3067     True\n3068     True\n3069     True\n3070     True\n3071     True\n3072     True\n3073     True\n3074     True\n3075     True\n3076     True\n3077     True\n3078     True\n3079    False\n3080     True\n3081     True\n3082     True\n3083     True\n3084     True\n3085     True\n3086    False\n3087    False\n3088     True\n3089     True\n3090     True\n3091     True\n3092    False\n3093     True\n3094    False\n3095     True\n3096    False\n3097    False\n3098     True\n3099     True\n3100     True\n3101     True\n3102     True\n3103     True\n3104     True\n3105     True\n3106     True\n3107    False\n3108     True\n3109     True\n3110    False\n3111     True\n3112     True\n3113     True\n3114     True\n3115     True\n3116     True\n3117    False\n3118     True\n3119     True\n3120     True\n3121     True\n3122     True\n3123     True\n3124     True\n3125     True\n3126     True\n3127     True\n3128     True\n3129    False\n3130     True\n3131    False\n3132    False\n3133    False\n3134     True\n3135     True\n3136     True\n3137    False\n3138     True\n3139     True\n3140     True\n3141     True\n3142     True\n3143     True\n3144     True\n3145    False\n3146     True\n3147     True\n3148     True\n3149     True\n3150     True\n3151     True\n3152     True\n3153     True\n3154     True\n3155     True\n3156     True\n3157     True\n3158    False\n3159     True\n3160    False\n3161     True\n3162     True\n3163     True\n3164     True\n3165     True\n3166     True\n3167     True\n3168     True\n3169     True\n3170    False\n3171     True\n3172     True\n3173     True\n3174     True\n3175    False\n3176     True\n3177     True\n3178     True\n3179     True\n3180     True\n3181     True\n3182     True\n3183     True\n3184     True\n3185     True\n3186     True\n3187     True\n3188     True\n3189     True\n3190     True\n3191     True\n3192     True\n3193     True\n3194     True\n3195     True\n3196    False\n3197     True\n3198     True\n3199     True\n3200    False\n3201     True\n3202     True\n3203     True\n3204     True\n3205     True\n3206     True\n3207     True\n3208    False\n3209     True\n3210     True\n3211     True\n3212     True\n3213     True\n3214     True\n3215     True\n3216     True\n3217     True\n3218     True\n3219     True\n3220     True\n3221     True\n3222     True\n3223     True\n3224     True\n3225     True\n3226    False\n3227     True\n3228     True\n3229     True\n3230     True\n3231     True\n3232     True\n3233    False\n3234     True\n3235     True\n3236     True\n3237     True\n3238     True\n3239     True\n3240    False\n3241     True\n3242     True\n3243     True\n3244     True\n3245     True\n3246     True\n3247     True\n3248     True\n3249     True\n3250     True\n3251    False\n3252     True\n3253     True\n3254     True\n3255    False\n3256    False\n3257     True\n3258     True\n3259     True\n3260     True\n3261    False\n3262     True\n3263     True\n3264     True\n3265     True\n3266     True\n3267     True\n3268    False\n3269     True\n3270     True\n3271     True\n3272     True\n3273     True\n3274     True\n3275     True\n3276     True\n3277     True\n3278     True\n3279     True\n3280     True\n3281    False\n3282    False\n3283     True\n3284     True\n3285     True\n3286     True\n3287     True\n3288     True\n3289     True\n3290     True\n3291     True\n3292    False\n3293     True\n3294     True\n3295    False\n3296     True\n3297     True\n3298     True\n3299     True\n3300    False\n3301    False\n3302     True\n3303     True\n3304    False\n3305     True\n3306     True\n3307     True\n3308     True\n3309     True\n3310     True\n3311    False\n3312     True\n3313    False\n3314     True\n3315    False\n3316     True\n3317     True\n3318     True\n3319    False\n3320     True\n3321    False\n3322     True\n3323    False\n3324    False\n3325     True\n3326     True\n3327     True\n3328     True\n3329     True\n3330     True\n3331    False\n3332     True\n3333     True\n3334    False\n3335     True\n3336     True\n3337     True\n3338    False\n3339     True\n3340    False\n3341     True\n3342     True\n3343    False\n3344     True\n3345     True\n3346     True\n3347     True\n3348     True\n3349     True\n3350     True\n3351     True\n3352     True\n3353     True\n3354     True\n3355     True\n3356     True\n3357    False\n3358     True\n3359     True\n3360     True\n3361     True\n3362     True\n3363     True\n3364     True\n3365     True\n3366     True\n3367     True\n3368     True\n3369     True\n3370    False\n3371     True\n3372     True\n3373     True\n3374    False\n3375     True\n3376     True\n3377     True\n3378     True\n3379     True\n3380     True\n3381     True\n3382     True\n3383     True\n3384     True\n3385    False\n3386     True\n3387     True\n3388     True\n3389     True\n3390     True\n3391     True\n3392    False\n3393     True\n3394    False\n3395     True\n3396     True\n3397    False\n3398     True\n3399     True\n3400     True\n3401    False\n3402    False\n3403     True\n3404     True\n3405     True\n3406     True\n3407     True\n3408     True\n3409     True\n3410     True\n3411     True\n3412    False\n3413    False\n3414    False\n3415    False\n3416     True\n3417     True\n3418     True\n3419     True\n3420    False\n3421     True\n3422     True\n3423    False\n3424     True\n3425     True\n3426    False\n3427     True\n3428     True\n3429     True\n3430     True\n3431     True\n3432     True\n3433     True\n3434    False\n3435    False\n3436     True\n3437     True\n3438    False\n3439     True\n3440    False\n3441     True\n3442     True\n3443     True\n3444     True\n3445     True\n3446     True\n3447    False\n3448     True\n3449     True\n3450     True\n3451     True\n3452     True\n3453     True\n3454     True\n3455     True\n3456     True\n3457    False\n3458     True\n3459     True\n3460     True\n3461     True\n3462     True\n3463     True\n3464    False\n3465     True\n3466     True\n3467     True\n3468    False\n3469     True\n3470     True\n3471     True\n3472    False\n3473     True\n3474     True\n3475     True\n3476     True\n3477    False\n3478     True\n3479     True\n3480     True\n3481     True\n3482     True\n3483    False\n3484     True\n3485     True\n3486    False\n3487     True\n3488    False\n3489     True\n3490     True\n3491     True\n3492     True\n3493     True\n3494     True\n3495     True\n3496    False\n3497     True\n3498     True\n3499     True\n3500     True\n3501    False\n3502     True\n3503     True\n3504     True\n3505     True\n3506     True\n3507     True\n3508     True\n3509     True\n3510    False\n3511     True\n3512     True\n3513     True\n3514     True\n3515     True\n3516     True\n3517     True\n3518     True\n3519     True\n3520    False\n3521     True\n3522     True\n3523     True\n3524     True\n3525     True\n3526     True\n3527    False\n3528     True\n3529     True\n3530     True\n3531     True\n3532    False\n3533    False\n3534     True\n3535     True\n3536     True\n3537     True\n3538     True\n3539    False\n3540     True\n3541     True\n3542     True\n3543    False\n3544     True\n3545     True\n3546    False\n3547     True\n3548     True\n3549     True\n3550     True\n3551     True\n3552     True\n3553     True\n3554     True\n3555    False\n3556     True\n3557     True\n3558     True\n3559     True\n3560    False\n3561     True\n3562     True\n3563     True\n3564     True\n3565     True\n3566     True\n3567     True\n3568     True\n3569     True\n3570     True\n3571     True\n3572     True\n3573    False\n3574     True\n3575     True\n3576     True\n3577     True\n3578     True\n3579     True\n3580     True\n3581     True\n3582     True\n3583     True\n3584    False\n3585     True\n3586     True\n3587     True\n3588     True\n3589     True\n3590     True\n3591     True\n3592     True\n3593     True\n3594     True\n3595     True\n3596     True\n3597     True\n3598     True\n3599     True\n3600     True\n3601     True\n3602     True\n3603     True\n3604     True\n3605    False\n3606     True\n3607     True\n3608     True\n3609    False\n3610    False\n3611     True\n3612    False\n3613     True\n3614     True\n3615     True\n3616    False\n3617     True\n3618    False\n3619    False\n3620     True\n3621     True\n3622     True\n3623     True\n3624    False\n3625     True\n3626    False\n3627     True\n3628     True\n3629     True\n3630     True\n3631     True\n3632     True\n3633     True\n3634     True\n3635     True\n3636     True\n3637     True\n3638     True\n3639     True\n3640     True\n3641     True\n3642     True\n3643     True\n3644    False\n3645     True\n3646     True\n3647    False\n3648     True\n3649     True\n3650     True\n3651    False\n3652     True\n3653    False\n3654     True\n3655    False\n3656     True\n3657    False\n3658     True\n3659     True\n3660     True\n3661    False\n3662    False\n3663     True\n3664     True\n3665     True\n3666     True\n3667     True\n3668     True\n3669     True\n3670     True\n3671    False\n3672     True\n3673     True\n3674     True\n3675     True\n3676    False\n3677     True\n3678    False\n3679     True\n3680     True\n3681    False\n3682     True\n3683     True\n3684    False\n3685    False\n3686     True\n3687     True\n3688     True\n3689     True\n3690     True\n3691     True\n3692    False\n3693     True\n3694     True\n3695    False\n3696     True\n3697     True\n3698     True\n3699     True\n3700     True\n3701     True\n3702     True\n3703     True\n3704     True\n3705    False\n3706     True\n3707     True\n3708     True\n3709     True\n3710     True\n3711     True\n3712    False\n3713    False\n3714    False\n3715    False\n3716     True\n3717    False\n3718     True\n3719    False\n3720     True\n3721    False\n3722     True\n3723     True\n3724     True\n3725     True\n3726    False\n3727     True\n3728    False\n3729     True\n3730     True\n3731    False\n3732     True\n3733     True\n3734    False\n3735     True\n3736     True\n3737     True\n3738     True\n3739    False\n3740     True\n3741     True\n3742     True\n3743     True\n3744    False\n3745     True\n3746    False\n3747     True\n3748     True\n3749    False\n3750     True\n3751     True\n3752     True\n3753     True\n3754     True\n3755     True\n3756     True\n3757     True\n3758    False\n3759     True\n3760     True\n3761     True\n3762    False\n3763     True\n3764     True\n3765     True\n3766     True\n3767     True\n3768     True\n3769     True\n3770     True\n3771     True\n3772     True\n3773     True\n3774    False\n3775     True\n3776     True\n3777    False\n3778     True\n3779     True\n3780     True\n3781     True\n3782     True\n3783     True\n3784     True\n3785    False\n3786    False\n3787    False\n3788     True\n3789    False\n3790     True\n3791     True\n3792     True\n3793     True\n3794     True\n3795     True\n3796    False\n3797     True\n3798    False\n3799     True\n3800     True\n3801     True\n3802     True\n3803     True\n3804     True\n3805     True\n3806    False\n3807    False\n3808     True\n3809    False\n3810     True\n3811     True\n3812     True\n3813     True\n3814     True\n3815     True\n3816     True\n3817     True\n3818     True\n3819    False\n3820     True\n3821     True\n3822     True\n3823     True\n3824     True\n3825     True\n3826     True\n3827     True\n3828     True\n3829    False\n3830     True\n3831     True\n3832     True\n3833     True\n3834     True\n3835    False\n3836    False\n3837     True\n3838     True\n3839     True\n3840    False\n3841     True\n3842     True\n3843     True\n3844    False\n3845     True\n3846    False\n3847     True\n3848     True\n3849    False\n3850     True\n3851    False\n3852     True\n3853     True\n3854     True\n3855     True\n3856     True\n3857     True\n3858     True\n3859    False\n3860     True\n3861     True\n3862     True\n3863     True\n3864    False\n3865     True\n3866     True\n3867     True\n3868    False\n3869     True\n3870    False\n3871     True\n3872     True\n3873     True\n3874     True\n3875     True\n3876    False\n3877     True\n3878     True\n3879     True\n3880     True\n3881     True\n3882     True\n3883    False\n3884     True\n3885     True\n3886     True\n3887     True\n3888    False\n3889     True\n3890     True\n3891     True\n3892     True\n3893     True\n3894    False\n3895     True\n3896     True\n3897    False\n3898     True\n3899     True\n3900     True\n3901     True\n3902     True\n3903     True\n3904     True\n3905     True\n3906     True\n3907     True\n3908    False\n3909     True\n3910     True\n3911     True\n3912     True\n3913     True\n3914     True\n3915     True\n3916     True\n3917     True\n3918     True\n3919     True\n3920     True\n3921    False\n3922     True\n3923     True\n3924    False\n3925     True\n3926     True\n3927     True\n3928    False\n3929     True\n3930     True\n3931     True\n3932     True\n3933     True\n3934     True\n3935     True\n3936     True\n3937    False\n3938    False\n3939     True\n3940    False\n3941     True\n3942    False\n3943     True\n3944     True\n3945     True\n3946    False\n3947     True\n3948     True\n3949     True\n3950     True\n3951     True\n3952     True\n3953     True\n3954     True\n3955    False\n3956     True\n3957     True\n3958     True\n3959     True\n3960     True\n3961     True\n3962     True\n3963     True\n3964    False\n3965     True\n3966     True\n3967     True\n3968    False\n3969     True\n3970    False\n3971     True\n3972    False\n3973     True\n3974     True\n3975     True\n3976     True\n3977     True\n3978     True\n3979     True\n3980     True\n3981     True\n3982     True\n3983     True\n3984     True\n3985     True\n3986    False\n3987     True\n3988     True\n3989     True\n3990     True\n3991     True\n3992     True\n3993     True\n3994     True\n3995     True\n3996     True\n3997     True\n3998     True\n3999     True\n4000     True\n4001    False\n4002     True\n4003     True\n4004     True\n4005     True\n4006    False\n4007    False\n4008     True\n4009     True\n4010     True\n4011     True\n4012     True\n4013     True\n4014     True\n4015     True\n4016    False\n4017     True\n4018    False\n4019    False\n4020    False\n4021    False\n4022     True\n4023     True\n4024     True\n4025    False\n4026     True\n4027     True\n4028     True\n4029     True\n4030    False\n4031     True\n4032     True\n4033     True\n4034     True\n4035     True\n4036     True\n4037     True\n4038     True\n4039    False\n4040    False\n4041    False\n4042    False\n4043    False\n4044     True\n4045     True\n4046     True\n4047     True\n4048     True\n4049     True\n4050     True\n4051     True\n4052     True\n4053    False\n4054     True\n4055     True\n4056    False\n4057     True\n4058    False\n4059     True\n4060     True\n4061     True\n4062     True\n4063     True\n4064     True\n4065    False\n4066     True\n4067     True\n4068    False\n4069     True\n4070     True\n4071     True\n4072     True\n4073     True\n4074     True\n4075    False\n4076     True\n4077     True\n4078     True\n4079    False\n4080     True\n4081     True\n4082    False\n4083     True\n4084    False\n4085     True\n4086     True\n4087    False\n4088     True\n4089     True\n4090     True\n4091     True\n4092     True\n4093     True\n4094     True\n4095     True\n4096     True\n4097     True\n4098     True\n4099     True\n4100    False\n4101     True\n4102     True\n4103    False\n4104     True\n4105     True\n4106     True\n4107     True\n4108     True\n4109     True\n4110     True\n4111     True\n4112     True\n4113     True\n4114     True\n4115     True\n4116     True\n4117     True\n4118     True\n4119     True\n4120     True\n4121     True\n4122     True\n4123     True\n4124     True\n4125     True\n4126     True\n4127     True\n4128    False\n4129     True\n4130     True\n4131    False\n4132     True\n4133    False\n4134     True\n4135     True\n4136     True\n4137     True\n4138     True\n4139     True\n4140     True\n4141     True\n4142     True\n4143     True\n4144     True\n4145     True\n4146     True\n4147     True\n4148    False\n4149     True\n4150     True\n4151    False\n4152     True\n4153     True\n4154     True\n4155     True\n4156     True\n4157    False\n4158     True\n4159     True\n4160    False\n4161     True\n4162     True\n4163     True\n4164     True\n4165     True\n4166     True\n4167     True\n4168     True\n4169     True\n4170    False\n4171     True\n4172    False\n4173    False\n4174     True\n4175     True\n4176     True\n4177     True\n4178     True\n4179     True\n4180     True\n4181     True\n4182     True\n4183     True\n4184     True\n4185     True\n4186     True\n4187     True\n4188     True\n4189     True\n4190    False\n4191     True\n4192     True\n4193     True\n4194     True\n4195     True\n4196    False\n4197     True\n4198     True\n4199     True\n4200     True\n4201     True\n4202     True\n4203    False\n4204     True\n4205     True\n4206    False\n4207     True\n4208     True\n4209     True\n4210    False\n4211     True\n4212     True\n4213     True\n4214     True\n4215    False\n4216    False\n4217     True\n4218    False\n4219     True\n4220     True\n4221     True\n4222     True\n4223     True\n4224     True\n4225     True\n4226     True\n4227    False\n4228     True\n4229     True\n4230    False\n4231     True\n4232    False\n4233    False\n4234     True\n4235     True\n4236     True\n4237     True\n4238     True\n4239     True\n4240     True\n4241     True\n4242     True\n4243    False\n4244    False\n4245     True\n4246    False\n4247     True\n4248     True\n4249     True\n4250     True\n4251     True\n4252    False\n4253     True\n4254    False\n4255    False\n4256    False\n4257     True\n4258     True\n4259     True\n4260     True\n4261     True\n4262    False\n4263     True\n4264     True\n4265     True\n4266     True\n4267     True\n4268     True\n4269     True\n4270     True\n4271     True\n4272    False\n4273     True\n4274     True\n4275    False\n4276     True\n4277    False\n4278     True\n4279     True\n4280    False\n4281     True\n4282     True\n4283     True\n4284     True\n4285     True\n4286    False\n4287     True\n4288     True\n4289     True\n4290     True\n4291     True\n4292     True\n4293    False\n4294    False\n4295     True\n4296     True\n4297     True\n4298    False\n4299     True\n4300     True\n4301     True\n4302     True\n4303    False\n4304     True\n4305     True\n4306     True\n4307     True\n4308     True\n4309     True\n4310     True\n4311     True\n4312     True\n4313     True\n4314     True\n4315     True\n4316     True\n4317     True\n4318     True\n4319    False\n4320     True\n4321     True\n4322    False\n4323    False\n4324     True\n4325     True\n4326     True\n4327     True\n4328    False\n4329     True\n4330     True\n4331     True\n4332    False\n4333     True\n4334     True\n4335     True\n4336     True\n4337     True\n4338     True\n4339     True\n4340     True\n4341     True\n4342    False\n4343     True\n4344     True\n4345     True\n4346     True\n4347     True\n4348     True\n4349     True\n4350     True\n4351     True\n4352     True\n4353     True\n4354     True\n4355     True\n4356     True\n4357     True\n4358     True\n4359     True\n4360     True\n4361    False\n4362     True\n4363    False\n4364    False\n4365     True\n4366     True\n4367     True\n4368     True\n4369     True\n4370    False\n4371     True\n4372     True\n4373    False\n4374     True\n4375     True\n4376     True\n4377     True\n4378    False\n4379    False\n4380     True\n4381     True\n4382    False\n4383    False\n4384     True\n4385     True\n4386     True\n4387     True\n4388     True\n4389     True\n4390     True\n4391    False\n4392    False\n4393     True\n4394     True\n4395     True\n4396     True\n4397     True\n4398    False\n4399     True\n4400     True\n4401     True\n4402     True\n4403     True\n4404     True\n4405     True\n4406     True\n4407     True\n4408     True\n4409    False\n4410    False\n4411     True\n4412     True\n4413     True\n4414     True\n4415     True\n4416     True\n4417     True\n4418    False\n4419     True\n4420     True\n4421    False\n4422     True\n4423    False\n4424    False\n4425     True\n4426     True\n4427     True\n4428     True\n4429     True\n4430     True\n4431     True\n4432    False\n4433     True\n4434     True\n4435    False\n4436     True\n4437     True\n4438     True\n4439    False\n4440     True\n4441     True\n4442     True\n4443     True\n4444     True\n4445     True\n4446     True\n4447     True\n4448     True\n4449     True\n4450     True\n4451     True\n4452     True\n4453     True\n4454     True\n4455    False\n4456     True\n4457     True\n4458    False\n4459     True\n4460     True\n4461     True\n4462    False\n4463     True\n4464     True\n4465    False\n4466    False\n4467     True\n4468     True\n4469     True\n4470     True\n4471     True\n4472    False\n4473     True\n4474     True\n4475     True\n4476     True\n4477     True\n4478     True\n4479     True\n4480     True\n4481     True\n4482     True\n4483     True\n4484     True\n4485     True\n4486    False\n4487    False\n4488     True\n4489     True\n4490     True\n4491     True\n4492    False\n4493     True\n4494     True\n4495    False\n4496     True\n4497     True\n4498     True\n4499     True\n4500     True\n4501    False\n4502    False\n4503     True\n4504     True\n4505     True\n4506     True\n4507     True\n4508    False\n4509    False\n4510    False\n4511     True\n4512     True\n4513     True\n4514     True\n4515     True\n4516     True\n4517     True\n4518     True\n4519     True\n4520    False\n4521     True\n4522     True\n4523     True\n4524     True\n4525     True\n4526     True\n4527    False\n4528     True\n4529     True\n4530     True\n4531     True\n4532     True\n4533     True\n4534     True\n4535    False\n4536     True\n4537     True\n4538    False\n4539     True\n4540    False\n4541     True\n4542     True\n4543     True\n4544     True\n4545    False\n4546    False\n4547     True\n4548     True\n4549    False\n4550    False\n4551     True\n4552     True\n4553     True\n4554     True\n4555     True\n4556     True\n4557    False\n4558     True\n4559     True\n4560     True\n4561     True\n4562     True\n4563     True\n4564     True\n4565     True\n4566     True\n4567    False\n4568    False\n4569    False\n4570     True\n4571     True\n4572    False\n4573     True\n4574     True\n4575     True\n4576     True\n4577     True\n4578     True\n4579     True\n4580     True\n4581    False\n4582     True\n4583     True\n4584     True\n4585    False\n4586     True\n4587    False\n4588     True\n4589     True\n4590     True\n4591     True\n4592    False\n4593    False\n4594    False\n4595     True\n4596    False\n4597     True\n4598     True\n4599     True\n4600    False\n4601     True\n4602     True\n4603     True\n4604    False\n4605     True\n4606     True\n4607     True\n4608     True\n4609     True\n4610     True\n4611    False\n4612     True\n4613     True\n4614     True\n4615     True\n4616     True\n4617     True\n4618     True\n4619     True\n4620     True\n4621     True\n4622     True\n4623     True\n4624     True\n4625     True\n4626     True\n4627     True\n4628     True\n4629     True\n4630     True\n4631     True\n4632     True\n4633     True\n4634     True\n4635     True\n4636     True\n4637     True\n4638     True\n4639     True\n4640    False\n4641     True\n4642     True\n4643     True\n4644     True\n4645    False\n4646     True\n4647     True\n4648     True\n4649    False\n4650     True\n4651     True\n4652     True\n4653     True\n4654     True\n4655    False\n4656     True\n4657    False\n4658     True\n4659     True\n4660     True\n4661     True\n4662    False\n4663     True\n4664     True\n4665     True\n4666     True\n4667     True\n4668     True\n4669     True\n4670     True\n4671     True\n4672     True\n4673     True\n4674    False\n4675    False\n4676     True\n4677     True\n4678     True\n4679     True\n4680     True\n4681     True\n4682     True\n4683     True\n4684     True\n4685     True\n4686     True\n4687     True\n4688     True\n4689     True\n4690    False\n4691     True\n4692     True\n4693     True\n4694    False\n4695     True\n4696     True\n4697     True\n4698     True\n4699     True\n4700     True\n4701     True\n4702     True\n4703     True\n4704     True\n4705     True\n4706     True\n4707     True\n4708     True\n4709    False\n4710     True\n4711     True\n4712     True\n4713     True\n4714    False\n4715     True\n4716     True\n4717     True\n4718     True\n4719     True\n4720     True\n4721     True\n4722     True\n4723     True\n4724     True\n4725     True\n4726     True\n4727     True\n4728     True\n4729    False\n4730    False\n4731     True\n4732     True\n4733     True\n4734     True\n4735    False\n4736     True\n4737     True\n4738     True\n4739     True\n4740     True\n4741     True\n4742     True\n4743     True\n4744     True\n4745     True\n4746     True\n4747    False\n4748     True\n4749     True\n4750     True\n4751     True\n4752    False\n4753     True\n4754     True\n4755     True\n4756    False\n4757     True\n4758     True\n4759     True\n4760     True\n4761    False\n4762     True\n4763     True\n4764    False\n4765     True\n4766    False\n4767     True\n4768    False\n4769     True\n4770     True\n4771    False\n4772    False\n4773     True\n4774    False\n4775     True\n4776     True\n4777     True\n4778     True\n4779     True\n4780     True\n4781    False\n4782     True\n4783    False\n4784     True\n4785    False\n4786     True\n4787     True\n4788    False\n4789     True\n4790     True\n4791     True\n4792    False\n4793    False\n4794    False\n4795     True\n4796     True\n4797     True\n4798    False\n4799    False\n4800     True\n4801     True\n4802    False\n4803     True\n4804     True\n4805     True\n4806    False\n4807     True\n4808     True\n4809     True\n4810     True\n4811     True\n4812     True\n4813    False\n4814    False\n4815     True\n4816     True\n4817     True\n4818     True\n4819     True\n4820     True\n4821     True\n4822     True\n4823     True\n4824     True\n4825    False\n4826     True\n4827     True\n4828     True\n4829     True\n4830     True\n4831    False\n4832     True\n4833     True\n4834     True\n4835     True\n4836     True\n4837     True\n4838     True\n4839    False\n4840     True\n4841    False\n4842    False\n4843     True\n4844    False\n4845     True\n4846     True\n4847     True\n4848    False\n4849     True\n4850    False\n4851     True\n4852     True\n4853    False\n4854     True\n4855     True\n4856     True\n4857     True\n4858     True\n4859     True\n4860    False\n4861     True\n4862     True\n4863    False\n4864    False\n4865    False\n4866     True\n4867     True\n4868     True\n4869     True\n4870    False\n4871    False\n4872    False\n4873     True\n4874     True\n4875     True\n4876     True\n4877     True\n4878    False\n4879    False\n4880     True\n4881     True\n4882     True\n4883     True\n4884     True\n4885     True\n4886     True\n4887    False\n4888     True\n4889     True\n4890     True\n4891     True\n4892     True\n4893     True\n4894     True\n4895     True\n4896     True\n4897     True\n4898    False\n4899     True\n4900    False\n4901     True\n4902     True\n4903    False\n4904    False\n4905     True\n4906     True\n4907     True\n4908     True\n4909     True\n4910    False\n4911     True\n4912     True\n4913     True\n4914     True\n4915     True\n4916     True\n4917     True\n4918     True\n4919     True\n4920     True\n4921     True\n4922     True\n4923    False\n4924     True\n4925     True\n4926     True\n4927    False\n4928    False\n4929    False\n4930    False\n4931     True\n4932     True\n4933     True\n4934    False\n4935    False\n4936     True\n4937     True\n4938     True\n4939     True\n4940     True\n4941     True\n4942     True\n4943     True\n4944    False\n4945    False\n4946     True\n4947     True\n4948     True\n4949     True\n4950    False\n4951     True\n4952     True\n4953     True\n4954     True\n4955     True\n4956     True\n4957     True\n4958     True\n4959     True\n4960     True\n4961    False\n4962     True\n4963     True\n4964     True\n4965    False\n4966     True\n4967     True\n4968    False\n4969     True\n4970     True\n4971     True\n4972     True\n4973     True\n4974     True\n4975     True\n4976    False\n4977     True\n4978    False\n4979     True\n4980     True\n4981    False\n4982     True\n4983     True\n4984     True\n4985     True\n4986     True\n4987     True\n4988     True\n4989    False\n4990    False\n4991     True\n4992     True\n4993     True\n4994     True\n4995     True\n4996     True\n4997    False\n4998     True\n4999    False\n5000     True\n5001     True\n5002     True\n5003    False\n5004    False\n5005     True\n5006     True\n5007     True\n5008     True\n5009     True\n5010     True\n5011     True\n5012     True\n5013     True\n5014     True\n5015     True\n5016     True\n5017     True\n5018     True\n5019     True\n5020    False\n5021     True\n5022     True\n5023     True\n5024     True\n5025     True\n5026     True\n5027     True\n5028    False\n5029     True\n5030     True\n5031     True\n5032    False\n5033     True\n5034     True\n5035     True\n5036     True\n5037     True\n5038     True\n5039     True\n5040     True\n5041     True\n5042     True\n5043     True\n5044     True\n5045     True\n5046     True\n5047     True\n5048     True\n5049     True\n5050    False\n5051     True\n5052    False\n5053     True\n5054     True\n5055     True\n5056     True\n5057     True\n5058     True\n5059     True\n5060     True\n5061     True\n5062     True\n5063     True\n5064     True\n5065     True\n5066     True\n5067     True\n5068     True\n5069     True\n5070    False\n5071     True\n5072     True\n5073     True\n5074     True\n5075     True\n5076     True\n5077    False\n5078    False\n5079    False\n5080     True\n5081     True\n5082     True\n5083     True\n5084     True\n5085     True\n5086     True\n5087     True\n5088     True\n5089    False\n5090     True\n5091     True\n5092     True\n5093     True\n5094    False\n5095    False\n5096     True\n5097     True\n5098    False\n5099     True\n5100     True\n5101     True\n5102     True\n5103    False\n5104    False\n5105     True\n5106     True\n5107     True\n5108     True\n5109     True\nName: age, dtype: bool"
     },
     "execution_count": 136,
     "metadata": {},
     "output_type": "execute_result"
    }
   ],
   "source": [
    "# 추가 코딩\n",
    "df['age'] > 18   # c는 기준(criterion)의 약자"
   ]
  },
  {
   "cell_type": "code",
   "execution_count": 137,
   "metadata": {
    "id": "XDg9QB5teUHW",
    "outputId": "6545786e-b08a-4152-8c4d-23ae43cd6366",
    "colab": {
     "base_uri": "https://localhost:8080/",
     "height": 225
    },
    "executionInfo": {
     "status": "ok",
     "timestamp": 1662431077766,
     "user_tz": -540,
     "elapsed": 291,
     "user": {
      "displayName": "Jason SJ Yim",
      "userId": "00334139127424328539"
     }
    },
    "ExecuteTime": {
     "end_time": "2023-07-31T08:52:12.323626Z",
     "start_time": "2023-07-31T08:52:11.681804Z"
    }
   },
   "outputs": [
    {
     "data": {
      "text/plain": "      id  gender   age  hypertension  heart_disease ever_married  \\\n0   9046    Male 67.00             0              1          Yes   \n1  51676  Female 61.00             0              0          Yes   \n2  31112    Male 80.00             0              1          Yes   \n\n       work_type Residence_type  avg_glucose_level   bmi   smoking_status  \\\n0        Private          Urban             228.69 36.60  formerly smoked   \n1  Self-employed          Rural             202.21   NaN     never smoked   \n2        Private          Rural             105.92 32.50     never smoked   \n\n   stroke  \n0       1  \n1       1  \n2       1  ",
      "text/html": "<div>\n<style scoped>\n    .dataframe tbody tr th:only-of-type {\n        vertical-align: middle;\n    }\n\n    .dataframe tbody tr th {\n        vertical-align: top;\n    }\n\n    .dataframe thead th {\n        text-align: right;\n    }\n</style>\n<table border=\"1\" class=\"dataframe\">\n  <thead>\n    <tr style=\"text-align: right;\">\n      <th></th>\n      <th>id</th>\n      <th>gender</th>\n      <th>age</th>\n      <th>hypertension</th>\n      <th>heart_disease</th>\n      <th>ever_married</th>\n      <th>work_type</th>\n      <th>Residence_type</th>\n      <th>avg_glucose_level</th>\n      <th>bmi</th>\n      <th>smoking_status</th>\n      <th>stroke</th>\n    </tr>\n  </thead>\n  <tbody>\n    <tr>\n      <th>0</th>\n      <td>9046</td>\n      <td>Male</td>\n      <td>67.00</td>\n      <td>0</td>\n      <td>1</td>\n      <td>Yes</td>\n      <td>Private</td>\n      <td>Urban</td>\n      <td>228.69</td>\n      <td>36.60</td>\n      <td>formerly smoked</td>\n      <td>1</td>\n    </tr>\n    <tr>\n      <th>1</th>\n      <td>51676</td>\n      <td>Female</td>\n      <td>61.00</td>\n      <td>0</td>\n      <td>0</td>\n      <td>Yes</td>\n      <td>Self-employed</td>\n      <td>Rural</td>\n      <td>202.21</td>\n      <td>NaN</td>\n      <td>never smoked</td>\n      <td>1</td>\n    </tr>\n    <tr>\n      <th>2</th>\n      <td>31112</td>\n      <td>Male</td>\n      <td>80.00</td>\n      <td>0</td>\n      <td>1</td>\n      <td>Yes</td>\n      <td>Private</td>\n      <td>Rural</td>\n      <td>105.92</td>\n      <td>32.50</td>\n      <td>never smoked</td>\n      <td>1</td>\n    </tr>\n  </tbody>\n</table>\n</div>"
     },
     "execution_count": 137,
     "metadata": {},
     "output_type": "execute_result"
    }
   ],
   "source": [
    "c = df['age'] > 18   # c는 기준(criterion)의 약자\n",
    "df[c].head(3)"
   ]
  },
  {
   "cell_type": "code",
   "execution_count": 138,
   "metadata": {
    "scrolled": true,
    "id": "17HN82zyeUHW",
    "outputId": "d96bacd4-f50e-4ba1-aeef-f92928f75e2b",
    "colab": {
     "base_uri": "https://localhost:8080/"
    },
    "executionInfo": {
     "status": "ok",
     "timestamp": 1662431112282,
     "user_tz": -540,
     "elapsed": 262,
     "user": {
      "displayName": "Jason SJ Yim",
      "userId": "00334139127424328539"
     }
    },
    "ExecuteTime": {
     "end_time": "2023-07-31T08:52:12.323873Z",
     "start_time": "2023-07-31T08:52:11.695432Z"
    }
   },
   "outputs": [
    {
     "data": {
      "text/plain": "4194"
     },
     "execution_count": 138,
     "metadata": {},
     "output_type": "execute_result"
    }
   ],
   "source": [
    "len(df[c])   # df[c]의 자료 개수(행 기준)"
   ]
  },
  {
   "cell_type": "code",
   "execution_count": 139,
   "metadata": {
    "id": "7KZIthAaeUHW",
    "outputId": "4aa487e4-bbef-4308-8d9b-0882a2ec4a51",
    "colab": {
     "base_uri": "https://localhost:8080/"
    },
    "executionInfo": {
     "status": "ok",
     "timestamp": 1662431113898,
     "user_tz": -540,
     "elapsed": 346,
     "user": {
      "displayName": "Jason SJ Yim",
      "userId": "00334139127424328539"
     }
    },
    "ExecuteTime": {
     "end_time": "2023-07-31T08:52:12.324071Z",
     "start_time": "2023-07-31T08:52:11.700611Z"
    }
   },
   "outputs": [
    {
     "data": {
      "text/plain": "0.8207436399217222"
     },
     "execution_count": 139,
     "metadata": {},
     "output_type": "execute_result"
    }
   ],
   "source": [
    "# 추가 코딩\n",
    "len(df[c]) / len(df)   # df에 대비해서 df[c]의 자료 개수(행 기준) 비율"
   ]
  },
  {
   "cell_type": "code",
   "execution_count": 139,
   "outputs": [],
   "source": [],
   "metadata": {
    "collapsed": false,
    "ExecuteTime": {
     "end_time": "2023-07-31T08:52:12.324193Z",
     "start_time": "2023-07-31T08:52:11.706946Z"
    }
   }
  },
  {
   "cell_type": "code",
   "execution_count": 140,
   "metadata": {
    "id": "XBmMtiDMeUHX",
    "outputId": "9562a143-1fa5-488a-b5fa-1d2683814140",
    "colab": {
     "base_uri": "https://localhost:8080/"
    },
    "executionInfo": {
     "status": "ok",
     "timestamp": 1662431115443,
     "user_tz": -540,
     "elapsed": 281,
     "user": {
      "displayName": "Jason SJ Yim",
      "userId": "00334139127424328539"
     }
    },
    "ExecuteTime": {
     "end_time": "2023-07-31T08:52:12.324439Z",
     "start_time": "2023-07-31T08:52:11.710959Z"
    }
   },
   "outputs": [
    {
     "data": {
      "text/plain": "(4194, 12)"
     },
     "execution_count": 140,
     "metadata": {},
     "output_type": "execute_result"
    }
   ],
   "source": [
    "df1 = df[c]   # 데이터프레임 df[c]를 df1에 저장\n",
    "\n",
    "# 추가 코딩\n",
    "df1.shape"
   ]
  },
  {
   "cell_type": "code",
   "execution_count": 141,
   "metadata": {
    "id": "5t5bvCpZeUHX",
    "ExecuteTime": {
     "end_time": "2023-07-31T08:52:12.324559Z",
     "start_time": "2023-07-31T08:52:11.717072Z"
    }
   },
   "outputs": [],
   "source": [
    "# Residence_type 변수명을 소문자로 시작하게 변경\n",
    "df1 = df1.rename(columns={'Residence_type' : 'residence_type'}) "
   ]
  },
  {
   "cell_type": "code",
   "execution_count": 142,
   "metadata": {
    "id": "_KH4APcNeUHX",
    "outputId": "60d6afb1-eb3d-41da-b26e-3077e128bb60",
    "colab": {
     "base_uri": "https://localhost:8080/"
    },
    "executionInfo": {
     "status": "ok",
     "timestamp": 1662431199333,
     "user_tz": -540,
     "elapsed": 277,
     "user": {
      "displayName": "Jason SJ Yim",
      "userId": "00334139127424328539"
     }
    },
    "ExecuteTime": {
     "end_time": "2023-07-31T08:52:12.324767Z",
     "start_time": "2023-07-31T08:52:11.722066Z"
    }
   },
   "outputs": [
    {
     "data": {
      "text/plain": "gender            0\nhypertension      0\nheart_disease     0\never_married      0\nwork_type         0\nresidence_type    0\nsmoking_status    0\ndtype: int64"
     },
     "execution_count": 142,
     "metadata": {},
     "output_type": "execute_result"
    }
   ],
   "source": [
    "# 범주형 변수를 cols1에 저장.\n",
    "cols1 = ['gender', 'hypertension', 'heart_disease', 'ever_married',\n",
    "        'work_type', 'residence_type', 'smoking_status']\n",
    "df1[cols1].isnull().sum()"
   ]
  },
  {
   "cell_type": "code",
   "execution_count": 143,
   "metadata": {
    "id": "NZRJvaFJeUHY",
    "outputId": "41b2b625-d454-4fe3-d23b-bcb73d2d35ce",
    "colab": {
     "base_uri": "https://localhost:8080/"
    },
    "executionInfo": {
     "status": "ok",
     "timestamp": 1662431203662,
     "user_tz": -540,
     "elapsed": 384,
     "user": {
      "displayName": "Jason SJ Yim",
      "userId": "00334139127424328539"
     }
    },
    "ExecuteTime": {
     "end_time": "2023-07-31T08:52:12.325031Z",
     "start_time": "2023-07-31T08:52:11.733906Z"
    }
   },
   "outputs": [
    {
     "data": {
      "text/plain": "gender            object\nhypertension       int64\nheart_disease      int64\never_married      object\nwork_type         object\nresidence_type    object\nsmoking_status    object\ndtype: object"
     },
     "execution_count": 143,
     "metadata": {},
     "output_type": "execute_result"
    }
   ],
   "source": [
    "df1[cols1].dtypes"
   ]
  },
  {
   "cell_type": "markdown",
   "metadata": {
    "id": "iX9Q9CZbeUHY"
   },
   "source": [
    "# 5.1.8 결측값 50% 초과 변수 제거"
   ]
  },
  {
   "cell_type": "code",
   "execution_count": 144,
   "metadata": {
    "id": "OjjTkEXpeUHY",
    "outputId": "963d4f3d-29e1-4c2b-aa2b-3facee44f687",
    "colab": {
     "base_uri": "https://localhost:8080/"
    },
    "executionInfo": {
     "status": "ok",
     "timestamp": 1662431226803,
     "user_tz": -540,
     "elapsed": 286,
     "user": {
      "displayName": "Jason SJ Yim",
      "userId": "00334139127424328539"
     }
    },
    "ExecuteTime": {
     "end_time": "2023-07-31T08:52:12.325342Z",
     "start_time": "2023-07-31T08:52:11.739687Z"
    }
   },
   "outputs": [
    {
     "data": {
      "text/plain": "bmi    True\ndtype: bool"
     },
     "execution_count": 144,
     "metadata": {},
     "output_type": "execute_result"
    }
   ],
   "source": [
    "# 추가 코딩\n",
    "df1.isna().any()[lambda x: x]   # 결측값을 갖고 있는 변수명(컬럼명) 찾기"
   ]
  },
  {
   "cell_type": "code",
   "execution_count": 145,
   "metadata": {
    "id": "RlFyM11ueUHY",
    "outputId": "aa7bb328-cac8-4b4c-c0ec-4c9599effcec",
    "colab": {
     "base_uri": "https://localhost:8080/"
    },
    "executionInfo": {
     "status": "ok",
     "timestamp": 1662431228487,
     "user_tz": -540,
     "elapsed": 289,
     "user": {
      "displayName": "Jason SJ Yim",
      "userId": "00334139127424328539"
     }
    },
    "ExecuteTime": {
     "end_time": "2023-07-31T08:52:12.325586Z",
     "start_time": "2023-07-31T08:52:11.747849Z"
    }
   },
   "outputs": [
    {
     "data": {
      "text/plain": "0.03933463796477495"
     },
     "execution_count": 145,
     "metadata": {},
     "output_type": "execute_result"
    }
   ],
   "source": [
    "# 추가 코딩\n",
    "# bmi의 결측값 비율 확인\n",
    "\n",
    "df['bmi'].isnull().mean()"
   ]
  },
  {
   "cell_type": "markdown",
   "metadata": {
    "id": "KPagPMGUeUHZ"
   },
   "source": [
    "# 5.1.9 요약통계 및 도수분포표 점검"
   ]
  },
  {
   "cell_type": "code",
   "execution_count": 146,
   "metadata": {
    "id": "49QAxerteUHZ",
    "outputId": "ee114e7b-ebae-40d1-fb66-c348a4be79b2",
    "colab": {
     "base_uri": "https://localhost:8080/",
     "height": 300
    },
    "executionInfo": {
     "status": "ok",
     "timestamp": 1662431275162,
     "user_tz": -540,
     "elapsed": 297,
     "user": {
      "displayName": "Jason SJ Yim",
      "userId": "00334139127424328539"
     }
    },
    "ExecuteTime": {
     "end_time": "2023-07-31T08:52:12.326104Z",
     "start_time": "2023-07-31T08:52:11.752114Z"
    }
   },
   "outputs": [
    {
     "data": {
      "text/plain": "          age  avg_glucose_level     bmi\ncount 4194.00            4194.00 4014.00\nmean    50.66             108.63   30.49\nstd     17.53              48.00    7.22\nmin     19.00              55.12   11.30\n25%     37.00              77.42   25.50\n50%     51.00              92.36   29.30\n75%     64.00             116.22   34.20\nmax     82.00             271.74   92.00",
      "text/html": "<div>\n<style scoped>\n    .dataframe tbody tr th:only-of-type {\n        vertical-align: middle;\n    }\n\n    .dataframe tbody tr th {\n        vertical-align: top;\n    }\n\n    .dataframe thead th {\n        text-align: right;\n    }\n</style>\n<table border=\"1\" class=\"dataframe\">\n  <thead>\n    <tr style=\"text-align: right;\">\n      <th></th>\n      <th>age</th>\n      <th>avg_glucose_level</th>\n      <th>bmi</th>\n    </tr>\n  </thead>\n  <tbody>\n    <tr>\n      <th>count</th>\n      <td>4194.00</td>\n      <td>4194.00</td>\n      <td>4014.00</td>\n    </tr>\n    <tr>\n      <th>mean</th>\n      <td>50.66</td>\n      <td>108.63</td>\n      <td>30.49</td>\n    </tr>\n    <tr>\n      <th>std</th>\n      <td>17.53</td>\n      <td>48.00</td>\n      <td>7.22</td>\n    </tr>\n    <tr>\n      <th>min</th>\n      <td>19.00</td>\n      <td>55.12</td>\n      <td>11.30</td>\n    </tr>\n    <tr>\n      <th>25%</th>\n      <td>37.00</td>\n      <td>77.42</td>\n      <td>25.50</td>\n    </tr>\n    <tr>\n      <th>50%</th>\n      <td>51.00</td>\n      <td>92.36</td>\n      <td>29.30</td>\n    </tr>\n    <tr>\n      <th>75%</th>\n      <td>64.00</td>\n      <td>116.22</td>\n      <td>34.20</td>\n    </tr>\n    <tr>\n      <th>max</th>\n      <td>82.00</td>\n      <td>271.74</td>\n      <td>92.00</td>\n    </tr>\n  </tbody>\n</table>\n</div>"
     },
     "execution_count": 146,
     "metadata": {},
     "output_type": "execute_result"
    }
   ],
   "source": [
    "cols = ['age','avg_glucose_level','bmi'] # 구간 변수를 cols에 저장 \n",
    "df1[cols].describe()                     # 구간(interval) 변수의 요약통계 구하기"
   ]
  },
  {
   "cell_type": "code",
   "execution_count": 147,
   "metadata": {
    "id": "61gdXx9_eUHZ",
    "outputId": "c6febe5a-8151-4aba-d180-b3716298c7a6",
    "colab": {
     "base_uri": "https://localhost:8080/"
    },
    "executionInfo": {
     "status": "ok",
     "timestamp": 1662431283090,
     "user_tz": -540,
     "elapsed": 309,
     "user": {
      "displayName": "Jason SJ Yim",
      "userId": "00334139127424328539"
     }
    },
    "ExecuteTime": {
     "end_time": "2023-07-31T08:52:12.329926Z",
     "start_time": "2023-07-31T08:52:11.768414Z"
    }
   },
   "outputs": [
    {
     "data": {
      "text/plain": "age                 0.03\navg_glucose_level   1.45\nbmi                 1.24\ndtype: float64"
     },
     "execution_count": 147,
     "metadata": {},
     "output_type": "execute_result"
    }
   ],
   "source": [
    "df1[cols].skew()"
   ]
  },
  {
   "cell_type": "code",
   "execution_count": 148,
   "metadata": {
    "id": "fDPcPKbSeUHZ",
    "outputId": "d65e59d0-d929-4d25-8e14-5437873b2c1f",
    "colab": {
     "base_uri": "https://localhost:8080/"
    },
    "executionInfo": {
     "status": "ok",
     "timestamp": 1662431287410,
     "user_tz": -540,
     "elapsed": 283,
     "user": {
      "displayName": "Jason SJ Yim",
      "userId": "00334139127424328539"
     }
    },
    "ExecuteTime": {
     "end_time": "2023-07-31T08:52:12.330294Z",
     "start_time": "2023-07-31T08:52:11.774831Z"
    }
   },
   "outputs": [
    {
     "data": {
      "text/plain": "age                 -1.02\navg_glucose_level    1.09\nbmi                  3.45\ndtype: float64"
     },
     "execution_count": 148,
     "metadata": {},
     "output_type": "execute_result"
    }
   ],
   "source": [
    "df1[cols].kurtosis()"
   ]
  },
  {
   "cell_type": "code",
   "execution_count": 149,
   "metadata": {
    "id": "KryqL6yYeUHZ",
    "outputId": "b3527a55-c7f4-4e1f-de65-8807bfa16b4a",
    "colab": {
     "base_uri": "https://localhost:8080/"
    },
    "executionInfo": {
     "status": "ok",
     "timestamp": 1662431295470,
     "user_tz": -540,
     "elapsed": 299,
     "user": {
      "displayName": "Jason SJ Yim",
      "userId": "00334139127424328539"
     }
    },
    "ExecuteTime": {
     "end_time": "2023-07-31T08:52:12.330569Z",
     "start_time": "2023-07-31T08:52:11.782071Z"
    }
   },
   "outputs": [
    {
     "data": {
      "text/plain": "Private          2740\nSelf-employed     804\nGovt_job          648\nNever_worked        2\nName: work_type, dtype: int64"
     },
     "execution_count": 149,
     "metadata": {},
     "output_type": "execute_result"
    }
   ],
   "source": [
    "df1['work_type'].value_counts(dropna=False)"
   ]
  },
  {
   "cell_type": "code",
   "execution_count": 150,
   "metadata": {
    "id": "M4Mfa3AgeUHa",
    "outputId": "52e3a5f7-e1a4-4083-92c1-fb319c589f13",
    "colab": {
     "base_uri": "https://localhost:8080/",
     "height": 206
    },
    "executionInfo": {
     "status": "ok",
     "timestamp": 1662431300025,
     "user_tz": -540,
     "elapsed": 276,
     "user": {
      "displayName": "Jason SJ Yim",
      "userId": "00334139127424328539"
     }
    },
    "ExecuteTime": {
     "end_time": "2023-07-31T08:52:12.331110Z",
     "start_time": "2023-07-31T08:52:11.789602Z"
    }
   },
   "outputs": [
    {
     "data": {
      "text/plain": "col_0          count\nwork_type           \nGovt_job         648\nNever_worked       2\nPrivate         2740\nSelf-employed    804",
      "text/html": "<div>\n<style scoped>\n    .dataframe tbody tr th:only-of-type {\n        vertical-align: middle;\n    }\n\n    .dataframe tbody tr th {\n        vertical-align: top;\n    }\n\n    .dataframe thead th {\n        text-align: right;\n    }\n</style>\n<table border=\"1\" class=\"dataframe\">\n  <thead>\n    <tr style=\"text-align: right;\">\n      <th>col_0</th>\n      <th>count</th>\n    </tr>\n    <tr>\n      <th>work_type</th>\n      <th></th>\n    </tr>\n  </thead>\n  <tbody>\n    <tr>\n      <th>Govt_job</th>\n      <td>648</td>\n    </tr>\n    <tr>\n      <th>Never_worked</th>\n      <td>2</td>\n    </tr>\n    <tr>\n      <th>Private</th>\n      <td>2740</td>\n    </tr>\n    <tr>\n      <th>Self-employed</th>\n      <td>804</td>\n    </tr>\n  </tbody>\n</table>\n</div>"
     },
     "execution_count": 150,
     "metadata": {},
     "output_type": "execute_result"
    }
   ],
   "source": [
    "pd.crosstab(df1['work_type'], columns='count')   # frequency table 생성(개수 기준)"
   ]
  },
  {
   "cell_type": "code",
   "execution_count": 151,
   "metadata": {
    "id": "alLX4uM7eUHa",
    "outputId": "0d42d85d-334a-4f91-a38f-f8b0b5bd40de",
    "colab": {
     "base_uri": "https://localhost:8080/",
     "height": 206
    },
    "executionInfo": {
     "status": "ok",
     "timestamp": 1662431306912,
     "user_tz": -540,
     "elapsed": 316,
     "user": {
      "displayName": "Jason SJ Yim",
      "userId": "00334139127424328539"
     }
    },
    "ExecuteTime": {
     "end_time": "2023-07-31T08:52:12.331514Z",
     "start_time": "2023-07-31T08:52:11.803649Z"
    }
   },
   "outputs": [
    {
     "data": {
      "text/plain": "col_0          ratio\nwork_type           \nGovt_job        0.15\nNever_worked    0.00\nPrivate         0.65\nSelf-employed   0.19",
      "text/html": "<div>\n<style scoped>\n    .dataframe tbody tr th:only-of-type {\n        vertical-align: middle;\n    }\n\n    .dataframe tbody tr th {\n        vertical-align: top;\n    }\n\n    .dataframe thead th {\n        text-align: right;\n    }\n</style>\n<table border=\"1\" class=\"dataframe\">\n  <thead>\n    <tr style=\"text-align: right;\">\n      <th>col_0</th>\n      <th>ratio</th>\n    </tr>\n    <tr>\n      <th>work_type</th>\n      <th></th>\n    </tr>\n  </thead>\n  <tbody>\n    <tr>\n      <th>Govt_job</th>\n      <td>0.15</td>\n    </tr>\n    <tr>\n      <th>Never_worked</th>\n      <td>0.00</td>\n    </tr>\n    <tr>\n      <th>Private</th>\n      <td>0.65</td>\n    </tr>\n    <tr>\n      <th>Self-employed</th>\n      <td>0.19</td>\n    </tr>\n  </tbody>\n</table>\n</div>"
     },
     "execution_count": 151,
     "metadata": {},
     "output_type": "execute_result"
    }
   ],
   "source": [
    "# 추가 코딩\n",
    "pd.crosstab(df1['work_type'], columns='ratio', normalize=True)   # frequency table 생성(비율 기준)."
   ]
  },
  {
   "cell_type": "code",
   "execution_count": 152,
   "metadata": {
    "id": "crCgeeSLeUHa",
    "outputId": "50c47112-dffc-49ce-ea8c-104449b445b7",
    "colab": {
     "base_uri": "https://localhost:8080/",
     "height": 206
    },
    "executionInfo": {
     "status": "ok",
     "timestamp": 1662431310300,
     "user_tz": -540,
     "elapsed": 309,
     "user": {
      "displayName": "Jason SJ Yim",
      "userId": "00334139127424328539"
     }
    },
    "ExecuteTime": {
     "end_time": "2023-07-31T08:52:12.331974Z",
     "start_time": "2023-07-31T08:52:11.819463Z"
    }
   },
   "outputs": [
    {
     "data": {
      "text/plain": "stroke            0    1\nwork_type               \nGovt_job        615   33\nNever_worked      2    0\nPrivate        2591  149\nSelf-employed   739   65",
      "text/html": "<div>\n<style scoped>\n    .dataframe tbody tr th:only-of-type {\n        vertical-align: middle;\n    }\n\n    .dataframe tbody tr th {\n        vertical-align: top;\n    }\n\n    .dataframe thead th {\n        text-align: right;\n    }\n</style>\n<table border=\"1\" class=\"dataframe\">\n  <thead>\n    <tr style=\"text-align: right;\">\n      <th>stroke</th>\n      <th>0</th>\n      <th>1</th>\n    </tr>\n    <tr>\n      <th>work_type</th>\n      <th></th>\n      <th></th>\n    </tr>\n  </thead>\n  <tbody>\n    <tr>\n      <th>Govt_job</th>\n      <td>615</td>\n      <td>33</td>\n    </tr>\n    <tr>\n      <th>Never_worked</th>\n      <td>2</td>\n      <td>0</td>\n    </tr>\n    <tr>\n      <th>Private</th>\n      <td>2591</td>\n      <td>149</td>\n    </tr>\n    <tr>\n      <th>Self-employed</th>\n      <td>739</td>\n      <td>65</td>\n    </tr>\n  </tbody>\n</table>\n</div>"
     },
     "execution_count": 152,
     "metadata": {},
     "output_type": "execute_result"
    }
   ],
   "source": [
    "# 추가 코딩\n",
    "pd.crosstab(df1['work_type'], df1['stroke'])   # frequency table 생성(개수 기준)"
   ]
  },
  {
   "cell_type": "code",
   "execution_count": 153,
   "metadata": {
    "id": "ccY7ahZreUHa",
    "outputId": "a66f2f1f-928a-47b4-d3ec-74e3e036d672",
    "colab": {
     "base_uri": "https://localhost:8080/",
     "height": 206
    },
    "executionInfo": {
     "status": "ok",
     "timestamp": 1662431317609,
     "user_tz": -540,
     "elapsed": 319,
     "user": {
      "displayName": "Jason SJ Yim",
      "userId": "00334139127424328539"
     }
    },
    "ExecuteTime": {
     "end_time": "2023-07-31T08:52:12.332402Z",
     "start_time": "2023-07-31T08:52:11.837516Z"
    }
   },
   "outputs": [
    {
     "data": {
      "text/plain": "stroke           0    1\nwork_type              \nGovt_job      0.15 0.01\nNever_worked  0.00 0.00\nPrivate       0.62 0.04\nSelf-employed 0.18 0.02",
      "text/html": "<div>\n<style scoped>\n    .dataframe tbody tr th:only-of-type {\n        vertical-align: middle;\n    }\n\n    .dataframe tbody tr th {\n        vertical-align: top;\n    }\n\n    .dataframe thead th {\n        text-align: right;\n    }\n</style>\n<table border=\"1\" class=\"dataframe\">\n  <thead>\n    <tr style=\"text-align: right;\">\n      <th>stroke</th>\n      <th>0</th>\n      <th>1</th>\n    </tr>\n    <tr>\n      <th>work_type</th>\n      <th></th>\n      <th></th>\n    </tr>\n  </thead>\n  <tbody>\n    <tr>\n      <th>Govt_job</th>\n      <td>0.15</td>\n      <td>0.01</td>\n    </tr>\n    <tr>\n      <th>Never_worked</th>\n      <td>0.00</td>\n      <td>0.00</td>\n    </tr>\n    <tr>\n      <th>Private</th>\n      <td>0.62</td>\n      <td>0.04</td>\n    </tr>\n    <tr>\n      <th>Self-employed</th>\n      <td>0.18</td>\n      <td>0.02</td>\n    </tr>\n  </tbody>\n</table>\n</div>"
     },
     "execution_count": 153,
     "metadata": {},
     "output_type": "execute_result"
    }
   ],
   "source": [
    "pd.crosstab(df1['work_type'], df1['stroke'], normalize=True)   # frequency table 생성(비율 기준)"
   ]
  },
  {
   "cell_type": "markdown",
   "metadata": {
    "id": "2LZXxvCzeUHa"
   },
   "source": [
    "# 5.1.10 이상값 제거"
   ]
  },
  {
   "cell_type": "code",
   "execution_count": 154,
   "metadata": {
    "id": "JEjm7wHMeUHb",
    "outputId": "148d07e1-6daf-4543-a4a0-3ea757e01d5a",
    "colab": {
     "base_uri": "https://localhost:8080/",
     "height": 247
    },
    "executionInfo": {
     "status": "ok",
     "timestamp": 1662431347464,
     "user_tz": -540,
     "elapsed": 2942,
     "user": {
      "displayName": "Jason SJ Yim",
      "userId": "00334139127424328539"
     }
    },
    "ExecuteTime": {
     "end_time": "2023-07-31T08:52:13.054477Z",
     "start_time": "2023-07-31T08:52:11.860229Z"
    }
   },
   "outputs": [
    {
     "data": {
      "text/plain": "<Figure size 1500x400 with 3 Axes>",
      "image/png": "[encoded data removed]"
     },
     "metadata": {},
     "output_type": "display_data"
    }
   ],
   "source": [
    "import matplotlib.pyplot as plt\n",
    "import seaborn as sns\n",
    "\n",
    "fig, axes = plt.subplots(1, 3, figsize=(15, 4))\n",
    "\n",
    "sns.histplot(ax=axes[0], data=df, x=\"age\", kde=True, bins=20);\n",
    "sns.histplot(ax=axes[1], data=df, x=\"avg_glucose_level\", kde=True, bins=20);\n",
    "sns.histplot(ax=axes[2], data=df, x=\"bmi\", kde=True, bins=20)\n",
    "plt.show(); "
   ]
  },
  {
   "cell_type": "code",
   "execution_count": 155,
   "metadata": {
    "id": "Tc-bX688eUHb",
    "outputId": "14571003-0805-4681-d12d-d9fc7c47671d",
    "colab": {
     "base_uri": "https://localhost:8080/",
     "height": 256
    },
    "executionInfo": {
     "status": "ok",
     "timestamp": 1662431358172,
     "user_tz": -540,
     "elapsed": 945,
     "user": {
      "displayName": "Jason SJ Yim",
      "userId": "00334139127424328539"
     }
    },
    "ExecuteTime": {
     "end_time": "2023-07-31T08:52:13.213820Z",
     "start_time": "2023-07-31T08:52:12.535133Z"
    }
   },
   "outputs": [
    {
     "data": {
      "text/plain": "<Figure size 1500x400 with 3 Axes>",
      "image/png": "[encoded data removed]"
     },
     "metadata": {},
     "output_type": "display_data"
    }
   ],
   "source": [
    "sns.set_style('whitegrid')\n",
    "\n",
    "fig, axes = plt.subplots(1, 3, figsize=(15, 4))\n",
    "\n",
    "sns.boxplot(ax=axes[0], x = 'age', data = df1) \n",
    "sns.boxplot(ax=axes[1], x = 'avg_glucose_level', data = df1) \n",
    "sns.boxplot(ax=axes[2], x = 'bmi', data = df1); "
   ]
  },
  {
   "cell_type": "code",
   "execution_count": 156,
   "metadata": {
    "id": "dN8MJgaQeUHb",
    "outputId": "04d40174-6ef0-4445-e041-5a89c343d114",
    "colab": {
     "base_uri": "https://localhost:8080/"
    },
    "executionInfo": {
     "status": "ok",
     "timestamp": 1662431375343,
     "user_tz": -540,
     "elapsed": 325,
     "user": {
      "displayName": "Jason SJ Yim",
      "userId": "00334139127424328539"
     }
    },
    "ExecuteTime": {
     "end_time": "2023-07-31T08:52:13.297442Z",
     "start_time": "2023-07-31T08:52:12.996302Z"
    }
   },
   "outputs": [
    {
     "name": "stdout",
     "output_type": "stream",
     "text": [
      "age                 27.00\n",
      "avg_glucose_level   38.80\n",
      "bmi                  8.70\n",
      "dtype: float64\n"
     ]
    }
   ],
   "source": [
    "Q1 = df1[['age','avg_glucose_level','bmi']].quantile(0.25)\n",
    "Q3 = df1[['age','avg_glucose_level','bmi']].quantile(0.75)\n",
    "IQR = Q3 - Q1\n",
    "print(IQR)"
   ]
  },
  {
   "cell_type": "code",
   "execution_count": 157,
   "metadata": {
    "id": "Mcu5fJBweUHb",
    "outputId": "11aa02dd-2ade-4ae4-d615-b380b8428491",
    "colab": {
     "base_uri": "https://localhost:8080/"
    },
    "executionInfo": {
     "status": "ok",
     "timestamp": 1662431377922,
     "user_tz": -540,
     "elapsed": 3,
     "user": {
      "displayName": "Jason SJ Yim",
      "userId": "00334139127424328539"
     }
    },
    "ExecuteTime": {
     "end_time": "2023-07-31T08:52:13.340221Z",
     "start_time": "2023-07-31T08:52:13.005373Z"
    }
   },
   "outputs": [
    {
     "name": "stdout",
     "output_type": "stream",
     "text": [
      "age                 -44.00\n",
      "avg_glucose_level   -38.99\n",
      "bmi                  -0.60\n",
      "dtype: float64\n"
     ]
    }
   ],
   "source": [
    "Lower = Q1-3.0*IQR\n",
    "Upper = Q3+3.0*IQR\n",
    "print(Lower)"
   ]
  },
  {
   "cell_type": "code",
   "execution_count": 157,
   "outputs": [],
   "source": [],
   "metadata": {
    "collapsed": false,
    "ExecuteTime": {
     "end_time": "2023-07-31T08:52:13.340442Z",
     "start_time": "2023-07-31T08:52:13.013586Z"
    }
   }
  },
  {
   "cell_type": "code",
   "execution_count": 158,
   "metadata": {
    "id": "vgtm_HdleUHc",
    "outputId": "1d6a7082-f8c3-439c-d077-ef79e187e7ee",
    "colab": {
     "base_uri": "https://localhost:8080/"
    },
    "executionInfo": {
     "status": "ok",
     "timestamp": 1662431381006,
     "user_tz": -540,
     "elapsed": 3,
     "user": {
      "displayName": "Jason SJ Yim",
      "userId": "00334139127424328539"
     }
    },
    "ExecuteTime": {
     "end_time": "2023-07-31T08:52:13.340681Z",
     "start_time": "2023-07-31T08:52:13.019907Z"
    }
   },
   "outputs": [
    {
     "name": "stdout",
     "output_type": "stream",
     "text": [
      "age                 145.00\n",
      "avg_glucose_level   232.64\n",
      "bmi                  60.30\n",
      "dtype: float64\n"
     ]
    }
   ],
   "source": [
    "print(Upper)"
   ]
  },
  {
   "cell_type": "code",
   "execution_count": 159,
   "metadata": {
    "id": "ROKutwMqeUHc",
    "outputId": "c13950dc-4449-4a6e-f28f-1ae7743cfc0d",
    "colab": {
     "base_uri": "https://localhost:8080/"
    },
    "executionInfo": {
     "status": "ok",
     "timestamp": 1662431387543,
     "user_tz": -540,
     "elapsed": 298,
     "user": {
      "displayName": "Jason SJ Yim",
      "userId": "00334139127424328539"
     }
    },
    "ExecuteTime": {
     "end_time": "2023-07-31T08:52:13.340977Z",
     "start_time": "2023-07-31T08:52:13.027031Z"
    }
   },
   "outputs": [
    {
     "data": {
      "text/plain": "(3915, 12)"
     },
     "execution_count": 159,
     "metadata": {},
     "output_type": "execute_result"
    }
   ],
   "source": [
    "c1 = df1['avg_glucose_level'] <= 232.64\n",
    "c2 = df1['bmi'] <= 60.3\n",
    "\n",
    "df2 = df1[c1 & c2]\n",
    "df2.shape"
   ]
  },
  {
   "cell_type": "code",
   "execution_count": 160,
   "metadata": {
    "id": "AUGcBSbneUHc",
    "outputId": "b7c91995-8291-4597-b1ee-70a2ab40849a",
    "colab": {
     "base_uri": "https://localhost:8080/",
     "height": 256
    },
    "executionInfo": {
     "status": "ok",
     "timestamp": 1662431431500,
     "user_tz": -540,
     "elapsed": 1021,
     "user": {
      "displayName": "Jason SJ Yim",
      "userId": "00334139127424328539"
     }
    },
    "ExecuteTime": {
     "end_time": "2023-07-31T08:52:13.569505Z",
     "start_time": "2023-07-31T08:52:13.045445Z"
    }
   },
   "outputs": [
    {
     "data": {
      "text/plain": "<Figure size 1500x400 with 3 Axes>",
      "image/png": "[encoded data removed]"
     },
     "metadata": {},
     "output_type": "display_data"
    }
   ],
   "source": [
    "# 추가 코딩\n",
    "fig, axes = plt.subplots(1, 3, figsize=(15, 4))\n",
    "\n",
    "sns.boxplot(ax=axes[0], x = 'age', data = df2) \n",
    "sns.boxplot(ax=axes[1], x = 'avg_glucose_level', data = df2) \n",
    "sns.boxplot(ax=axes[2], x = 'bmi', data = df2); "
   ]
  },
  {
   "cell_type": "markdown",
   "metadata": {
    "id": "J5Hmv3joeUHd"
   },
   "source": [
    "# 5.1.11 상관관계 검토"
   ]
  },
  {
   "cell_type": "code",
   "execution_count": 161,
   "metadata": {
    "id": "76Z6-5BneUHd",
    "outputId": "685f5c97-315b-46ac-8463-7ef8d3196668",
    "colab": {
     "base_uri": "https://localhost:8080/",
     "height": 143
    },
    "executionInfo": {
     "status": "ok",
     "timestamp": 1662431454509,
     "user_tz": -540,
     "elapsed": 301,
     "user": {
      "displayName": "Jason SJ Yim",
      "userId": "00334139127424328539"
     }
    },
    "ExecuteTime": {
     "end_time": "2023-07-31T08:52:13.570225Z",
     "start_time": "2023-07-31T08:52:13.450698Z"
    }
   },
   "outputs": [
    {
     "data": {
      "text/plain": "                   age  avg_glucose_level  bmi\nage               1.00               0.20 0.02\navg_glucose_level 0.20               1.00 0.16\nbmi               0.02               0.16 1.00",
      "text/html": "<div>\n<style scoped>\n    .dataframe tbody tr th:only-of-type {\n        vertical-align: middle;\n    }\n\n    .dataframe tbody tr th {\n        vertical-align: top;\n    }\n\n    .dataframe thead th {\n        text-align: right;\n    }\n</style>\n<table border=\"1\" class=\"dataframe\">\n  <thead>\n    <tr style=\"text-align: right;\">\n      <th></th>\n      <th>age</th>\n      <th>avg_glucose_level</th>\n      <th>bmi</th>\n    </tr>\n  </thead>\n  <tbody>\n    <tr>\n      <th>age</th>\n      <td>1.00</td>\n      <td>0.20</td>\n      <td>0.02</td>\n    </tr>\n    <tr>\n      <th>avg_glucose_level</th>\n      <td>0.20</td>\n      <td>1.00</td>\n      <td>0.16</td>\n    </tr>\n    <tr>\n      <th>bmi</th>\n      <td>0.02</td>\n      <td>0.16</td>\n      <td>1.00</td>\n    </tr>\n  </tbody>\n</table>\n</div>"
     },
     "execution_count": 161,
     "metadata": {},
     "output_type": "execute_result"
    }
   ],
   "source": [
    "cols = ['age','avg_glucose_level','bmi'] # 구간 변수를 cols에 저장\n",
    "round(df2[cols].corr(), 2)               # 구간 변수간 상관계수 디스플레이"
   ]
  },
  {
   "cell_type": "code",
   "execution_count": 162,
   "metadata": {
    "id": "Yg6MX9OBeUHd",
    "outputId": "551894fd-2803-4714-bb14-6d91a449598b",
    "ExecuteTime": {
     "end_time": "2023-07-31T08:52:13.684080Z",
     "start_time": "2023-07-31T08:52:13.461153Z"
    }
   },
   "outputs": [
    {
     "data": {
      "text/plain": "<Figure size 640x480 with 2 Axes>",
      "image/png": "[encoded data removed]"
     },
     "metadata": {},
     "output_type": "display_data"
    }
   ],
   "source": [
    "# 추가 코딩\n",
    "import seaborn as sns\n",
    "\n",
    "corr = df2[cols].corr()  \n",
    "annot_kws = {\"ha\": 'center',\"va\": 'top'}\n",
    "sns.heatmap(data=corr, annot=True, annot_kws=annot_kws, cmap=\"YlGnBu\");"
   ]
  },
  {
   "cell_type": "code",
   "execution_count": 163,
   "metadata": {
    "id": "_JRKeY34eUHd",
    "ExecuteTime": {
     "end_time": "2023-07-31T08:52:13.685325Z",
     "start_time": "2023-07-31T08:52:13.644877Z"
    }
   },
   "outputs": [],
   "source": [
    "df2.to_csv('healthcare-dataset-2.csv', index=False) "
   ]
  },
  {
   "cell_type": "markdown",
   "source": [
    "# 5.1.13 t-검정"
   ],
   "metadata": {
    "id": "CixvnUv21ipn"
   }
  },
  {
   "cell_type": "code",
   "source": [
    "from scipy import stats\n",
    "\n",
    "data_1 = df2[df2['stroke'] == 1]['age']\n",
    "data_0 = df2[df2['stroke'] == 0]['age']\n",
    "\n",
    "stats.ttest_ind(data_1, data_0)   # 결과는 pvalue < 0.05 "
   ],
   "metadata": {
    "colab": {
     "base_uri": "https://localhost:8080/"
    },
    "id": "N1tRdiOR1c6c",
    "executionInfo": {
     "status": "ok",
     "timestamp": 1662435045709,
     "user_tz": -540,
     "elapsed": 290,
     "user": {
      "displayName": "Jason SJ Yim",
      "userId": "00334139127424328539"
     }
    },
    "outputId": "d29fbdbe-d253-4202-b05d-88aaf95e80c7",
    "ExecuteTime": {
     "end_time": "2023-07-31T08:52:13.704125Z",
     "start_time": "2023-07-31T08:52:13.666420Z"
    }
   },
   "execution_count": 164,
   "outputs": [
    {
     "data": {
      "text/plain": "Ttest_indResult(statistic=14.84966867789424, pvalue=1.4355395712390346e-48)"
     },
     "execution_count": 164,
     "metadata": {},
     "output_type": "execute_result"
    }
   ]
  },
  {
   "cell_type": "code",
   "source": [
    "# 추가 코딩\n",
    "from scipy import stats\n",
    "\n",
    "data_1 = df2[df2['stroke'] == 1]['avg_glucose_level']\n",
    "data_0 = df2[df2['stroke'] == 0]['avg_glucose_level']\n",
    "\n",
    "stats.ttest_ind(data_1, data_0)   # 결과는 pvalue < 0.05 "
   ],
   "metadata": {
    "colab": {
     "base_uri": "https://localhost:8080/"
    },
    "id": "YGURtGFQ1vOx",
    "executionInfo": {
     "status": "ok",
     "timestamp": 1662435055253,
     "user_tz": -540,
     "elapsed": 278,
     "user": {
      "displayName": "Jason SJ Yim",
      "userId": "00334139127424328539"
     }
    },
    "outputId": "2050b80d-05bf-4de8-856a-3516c5a88e20",
    "ExecuteTime": {
     "end_time": "2023-07-31T08:52:13.704460Z",
     "start_time": "2023-07-31T08:52:13.676964Z"
    }
   },
   "execution_count": 165,
   "outputs": [
    {
     "data": {
      "text/plain": "Ttest_indResult(statistic=7.200791069659755, pvalue=7.144119062259364e-13)"
     },
     "execution_count": 165,
     "metadata": {},
     "output_type": "execute_result"
    }
   ]
  },
  {
   "cell_type": "code",
   "source": [
    "# 추가 코딩\n",
    "from scipy import stats\n",
    "\n",
    "data_1 = df2[df2['stroke'] == 1]['bmi']\n",
    "data_0 = df2[df2['stroke'] == 0]['bmi']\n",
    "\n",
    "stats.ttest_ind(data_1, data_0)   # 결과는 pvalue > 0.05 "
   ],
   "metadata": {
    "colab": {
     "base_uri": "https://localhost:8080/"
    },
    "id": "xc5DVjGF1vrb",
    "executionInfo": {
     "status": "ok",
     "timestamp": 1662435058118,
     "user_tz": -540,
     "elapsed": 302,
     "user": {
      "displayName": "Jason SJ Yim",
      "userId": "00334139127424328539"
     }
    },
    "outputId": "4bc91eca-3b60-4392-ad69-c20c87993c58",
    "ExecuteTime": {
     "end_time": "2023-07-31T08:52:13.763753Z",
     "start_time": "2023-07-31T08:52:13.686056Z"
    }
   },
   "execution_count": 166,
   "outputs": [
    {
     "data": {
      "text/plain": "Ttest_indResult(statistic=-0.42810612400712617, pvalue=0.6685974193789274)"
     },
     "execution_count": 166,
     "metadata": {},
     "output_type": "execute_result"
    }
   ]
  }
 ],
 "metadata": {
  "kernelspec": {
   "display_name": "Python 3 (ipykernel)",
   "language": "python",
   "name": "python3"
  },
  "language_info": {
   "codemirror_mode": {
    "name": "ipython",
    "version": 3
   },
   "file_extension": ".py",
   "mimetype": "text/x-python",
   "name": "python",
   "nbconvert_exporter": "python",
   "pygments_lexer": "ipython3",
   "version": "3.9.7"
  },
  "colab": {
   "provenance": [],
   "collapsed_sections": []
  }
 },
 "nbformat": 4,
 "nbformat_minor": 0
}
