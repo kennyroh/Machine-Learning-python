{
 "cells": [
  {
   "cell_type": "markdown",
   "metadata": {
    "id": "QglvmlTet9Rs"
   },
   "source": [
    "# 5.6 최근접 이웃(KNN) 분류 모델"
   ]
  },
  {
   "cell_type": "code",
   "source": [
    "# from google.colab import drive\n",
    "# drive.mount('/content/drive')"
   ],
   "metadata": {
    "colab": {
     "base_uri": "https://localhost:8080/"
    },
    "id": "dlAd14ZTJEs6",
    "executionInfo": {
     "status": "ok",
     "timestamp": 1662439971319,
     "user_tz": -540,
     "elapsed": 20788,
     "user": {
      "displayName": "Jason SJ Yim",
      "userId": "00334139127424328539"
     }
    },
    "outputId": "8267e605-f82b-48b4-9604-fd67384c2ba5"
   },
   "execution_count": 1,
   "outputs": [
    {
     "output_type": "stream",
     "name": "stdout",
     "text": [
      "Mounted at /content/drive\n"
     ]
    }
   ]
  },
  {
   "cell_type": "code",
   "execution_count": 2,
   "metadata": {
    "colab": {
     "base_uri": "https://localhost:8080/"
    },
    "id": "GrDEdi4Ft9Ry",
    "executionInfo": {
     "status": "ok",
     "timestamp": 1662439989238,
     "user_tz": -540,
     "elapsed": 2444,
     "user": {
      "displayName": "Jason SJ Yim",
      "userId": "00334139127424328539"
     }
    },
    "outputId": "e7569d0b-f3ce-4ce5-eb5a-22a798e5cc64",
    "ExecuteTime": {
     "end_time": "2023-08-02T06:06:11.442779Z",
     "start_time": "2023-08-02T06:06:11.429381Z"
    }
   },
   "outputs": [
    {
     "data": {
      "text/plain": "(3915, 16)"
     },
     "execution_count": 2,
     "metadata": {},
     "output_type": "execute_result"
    }
   ],
   "source": [
    "import pandas as pd\n",
    "import numpy as np\n",
    "df = pd.read_csv('stroke-standard.csv')\n",
    "df.shape"
   ]
  },
  {
   "cell_type": "code",
   "execution_count": 3,
   "metadata": {
    "id": "tdXXjIdit9Ry",
    "executionInfo": {
     "status": "ok",
     "timestamp": 1662440001308,
     "user_tz": -540,
     "elapsed": 289,
     "user": {
      "displayName": "Jason SJ Yim",
      "userId": "00334139127424328539"
     }
    },
    "ExecuteTime": {
     "end_time": "2023-08-02T06:06:12.425114Z",
     "start_time": "2023-08-02T06:06:12.210085Z"
    }
   },
   "outputs": [],
   "source": [
    "data = df.drop(['stroke'], axis=1)   # 타겟변수를 제외한 변수만 data에 저장\n",
    "target = df['stroke']                # 타겟변수만 target에 저장\n",
    "\n",
    "from imblearn.under_sampling import RandomUnderSampler    # RandomUnderSampler를 import\n",
    "undersample = RandomUnderSampler(sampling_strategy=0.333, random_state=2) \n",
    "                                                          # 타겟변수의 소수 클래스 및 다수 클래스를\n",
    "                                                          # 1:3의 비율(=1/3)로 언더샘플링\n",
    "data_under, target_under = undersample.fit_resample(data, target)\n",
    "                                                          # data 및 target에 언더샘플링 적용"
   ]
  },
  {
   "cell_type": "code",
   "execution_count": 4,
   "metadata": {
    "colab": {
     "base_uri": "https://localhost:8080/"
    },
    "id": "Q497c3AMt9Rz",
    "executionInfo": {
     "status": "ok",
     "timestamp": 1662440003960,
     "user_tz": -540,
     "elapsed": 297,
     "user": {
      "displayName": "Jason SJ Yim",
      "userId": "00334139127424328539"
     }
    },
    "outputId": "e44bd8a7-024e-4560-a0ea-4c905eec8fb9",
    "ExecuteTime": {
     "end_time": "2023-08-02T06:06:14.527324Z",
     "start_time": "2023-08-02T06:06:14.517940Z"
    }
   },
   "outputs": [
    {
     "name": "stdout",
     "output_type": "stream",
     "text": [
      "X_train shape: (386, 15)\n",
      "X_test shape: (386, 15)\n"
     ]
    }
   ],
   "source": [
    "# 50:50 데이터 분할\n",
    "from sklearn.model_selection import train_test_split \n",
    "X_train, X_test, y_train, y_test = train_test_split( \n",
    "    data_under, target_under, test_size=0.5, random_state=42, stratify=target_under)\n",
    "\n",
    "print(\"X_train shape:\", X_train.shape) \n",
    "print(\"X_test shape:\", X_test.shape) "
   ]
  },
  {
   "cell_type": "code",
   "execution_count": 5,
   "metadata": {
    "collapsed": true,
    "id": "Gv1rVKNdt9Rz",
    "ExecuteTime": {
     "end_time": "2023-08-02T06:06:15.465928Z",
     "start_time": "2023-08-02T06:06:15.459926Z"
    }
   },
   "outputs": [
    {
     "name": "stdout",
     "output_type": "stream",
     "text": [
      "           age  avg_glucose_level       bmi  hypertension  heart_disease  \\\n",
      "3447  1.599480          -0.096170  0.255075             1              0   \n",
      "3687 -0.748656          -0.223311  0.543718             0              0   \n",
      "2462 -0.977743          -0.376533  0.327236             0              0   \n",
      "3904  0.511319          -0.224010  0.081889             1              0   \n",
      "124   1.771295          -0.713713 -0.769608             1              0   \n",
      "...        ...                ...       ...           ...            ...   \n",
      "2485 -0.175940          -0.267554  1.770451             0              0   \n",
      "3434 -0.405027          -0.766107 -0.495397             0              0   \n",
      "157   1.771295          -0.571436 -1.000522             0              0   \n",
      "2009 -1.665002           0.378864 -0.091297             0              0   \n",
      "3507 -0.405027          -0.480388  0.038593             0              0   \n",
      "\n",
      "      ever_married_encoded  residence_type_encoded  gender_encoded_1.0  \\\n",
      "3447                   1.0                     0.0                   0   \n",
      "3687                   1.0                     1.0                   0   \n",
      "2462                   0.0                     0.0                   1   \n",
      "3904                   1.0                     0.0                   1   \n",
      "124                    1.0                     0.0                   0   \n",
      "...                    ...                     ...                 ...   \n",
      "2485                   1.0                     1.0                   0   \n",
      "3434                   0.0                     1.0                   0   \n",
      "157                    1.0                     0.0                   0   \n",
      "2009                   0.0                     1.0                   1   \n",
      "3507                   1.0                     0.0                   0   \n",
      "\n",
      "      gender_encoded_2.0  work_type_encoded_0.0  work_type_encoded_2.0  \\\n",
      "3447                   0                      0                      1   \n",
      "3687                   0                      0                      0   \n",
      "2462                   0                      0                      1   \n",
      "3904                   0                      0                      1   \n",
      "124                    0                      0                      0   \n",
      "...                  ...                    ...                    ...   \n",
      "2485                   0                      0                      1   \n",
      "3434                   0                      0                      1   \n",
      "157                    0                      0                      1   \n",
      "2009                   0                      0                      1   \n",
      "3507                   0                      0                      1   \n",
      "\n",
      "      work_type_encoded_3.0  smoking_status_encoded_0.0  \\\n",
      "3447                      0                           0   \n",
      "3687                      1                           0   \n",
      "2462                      0                           0   \n",
      "3904                      0                           0   \n",
      "124                       1                           0   \n",
      "...                     ...                         ...   \n",
      "2485                      0                           0   \n",
      "3434                      0                           0   \n",
      "157                       0                           0   \n",
      "2009                      0                           0   \n",
      "3507                      0                           1   \n",
      "\n",
      "      smoking_status_encoded_1.0  smoking_status_encoded_3.0  \n",
      "3447                           0                           1  \n",
      "3687                           0                           0  \n",
      "2462                           1                           0  \n",
      "3904                           0                           0  \n",
      "124                            0                           0  \n",
      "...                          ...                         ...  \n",
      "2485                           1                           0  \n",
      "3434                           0                           0  \n",
      "157                            0                           0  \n",
      "2009                           1                           0  \n",
      "3507                           0                           0  \n",
      "\n",
      "[386 rows x 15 columns]\n"
     ]
    }
   ],
   "source": [
    "# 참조 코딩\n",
    "print(X_train)"
   ]
  },
  {
   "cell_type": "code",
   "execution_count": 7,
   "metadata": {
    "colab": {
     "base_uri": "https://localhost:8080/"
    },
    "id": "pSDglssTt9R0",
    "executionInfo": {
     "status": "ok",
     "timestamp": 1661896233604,
     "user_tz": -540,
     "elapsed": 314,
     "user": {
      "displayName": "Jason SJ Yim",
      "userId": "00334139127424328539"
     }
    },
    "outputId": "15b8a414-e2ae-4f1f-c357-d3f0b70fdf3c",
    "ExecuteTime": {
     "end_time": "2023-08-02T06:07:29.734513Z",
     "start_time": "2023-08-02T06:07:29.696800Z"
    }
   },
   "outputs": [
    {
     "name": "stdout",
     "output_type": "stream",
     "text": [
      "KNN Training set score:0.84456\n",
      "KNN Test set score:0.74352\n"
     ]
    }
   ],
   "source": [
    "# KNN 모델 (Default 모델 with n_neighbors=3)\n",
    "from sklearn.neighbors import KNeighborsClassifier\n",
    "from sklearn.metrics import accuracy_score\n",
    "\n",
    "clf_knn = KNeighborsClassifier(n_neighbors=3) # random_state 파라미터가 없음에 주의!\n",
    "clf_knn.fit(X_train, y_train)\n",
    "pred = clf_knn.predict(X_test)   # 학습된 Classifier로 테스트 데이터셋 자료이용해서 타겟변수 예측값 생성\n",
    "accuracy = accuracy_score(y_test, pred)\n",
    "\n",
    "print (\"KNN Training set score:{:.5f}\".format(clf_knn.score(X_train, y_train))) \n",
    "print (\"KNN Test set score:{:.5f}\".format(accuracy_score(y_test, pred)))"
   ]
  },
  {
   "cell_type": "code",
   "execution_count": 10,
   "metadata": {
    "colab": {
     "base_uri": "https://localhost:8080/"
    },
    "id": "nc1l6BQft9R1",
    "executionInfo": {
     "status": "ok",
     "timestamp": 1661896250806,
     "user_tz": -540,
     "elapsed": 3100,
     "user": {
      "displayName": "Jason SJ Yim",
      "userId": "00334139127424328539"
     }
    },
    "outputId": "dc292700-17e5-45b5-fe11-715ae4b8f0d1",
    "ExecuteTime": {
     "end_time": "2023-08-02T06:09:34.317880Z",
     "start_time": "2023-08-02T06:09:34.031169Z"
    }
   },
   "outputs": [
    {
     "name": "stdout",
     "output_type": "stream",
     "text": [
      "GridSearchCV max accuracy:0.76950\n",
      "GridSearchCV best parameter: {'n_neighbors': 22}\n"
     ]
    }
   ],
   "source": [
    "# KNN 모델 (Default 모델 with n_neighbors=3)\n",
    "clf_knn = KNeighborsClassifier(n_neighbors=3) # random_state 파라미터가 없음에 주의!\n",
    "\n",
    "# 그리드 서치 실행\n",
    "from sklearn.model_selection import GridSearchCV\n",
    "params = {'n_neighbors': range(3, 31)}\n",
    "\n",
    "grid_knn = GridSearchCV(clf_knn, param_grid=params, scoring='accuracy', cv=5, n_jobs=-1)\n",
    "grid_knn.fit(X_train, y_train)\n",
    "\n",
    "print(\"GridSearchCV max accuracy:{:.5f}\".format(grid_knn.best_score_))\n",
    "print(\"GridSearchCV best parameter:\", (grid_knn.best_params_)) "
   ]
  },
  {
   "cell_type": "code",
   "execution_count": 11,
   "metadata": {
    "colab": {
     "base_uri": "https://localhost:8080/"
    },
    "id": "w45D_nhHt9R2",
    "executionInfo": {
     "status": "ok",
     "timestamp": 1661896258102,
     "user_tz": -540,
     "elapsed": 305,
     "user": {
      "displayName": "Jason SJ Yim",
      "userId": "00334139127424328539"
     }
    },
    "outputId": "b719ed51-918c-40f6-cfea-7ea99182c135",
    "ExecuteTime": {
     "end_time": "2023-08-02T06:09:35.950122Z",
     "start_time": "2023-08-02T06:09:35.922925Z"
    }
   },
   "outputs": [
    {
     "name": "stdout",
     "output_type": "stream",
     "text": [
      "Accuracy on test set:0.74870\n"
     ]
    }
   ],
   "source": [
    "best_clf = grid_knn.best_estimator_\n",
    "pred = best_clf.predict(X_test)\n",
    "print(\"Accuracy on test set:{:.5f}\".format(accuracy_score(y_test, pred)))"
   ]
  },
  {
   "cell_type": "code",
   "execution_count": null,
   "metadata": {
    "id": "5pUrTaDdt9R2"
   },
   "outputs": [],
   "source": []
  }
 ],
 "metadata": {
  "kernelspec": {
   "display_name": "Python 3 (ipykernel)",
   "language": "python",
   "name": "python3"
  },
  "language_info": {
   "codemirror_mode": {
    "name": "ipython",
    "version": 3
   },
   "file_extension": ".py",
   "mimetype": "text/x-python",
   "name": "python",
   "nbconvert_exporter": "python",
   "pygments_lexer": "ipython3",
   "version": "3.9.7"
  },
  "colab": {
   "provenance": [],
   "collapsed_sections": []
  }
 },
 "nbformat": 4,
 "nbformat_minor": 0
}
