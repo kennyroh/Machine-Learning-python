{
 "cells": [
  {
   "cell_type": "markdown",
   "metadata": {
    "id": "R71YQGBlrqA3"
   },
   "source": [
    "# 5.5 사이킷런 신경망(Neural Network) 분류 모델"
   ]
  },
  {
   "cell_type": "code",
   "source": [
    "# from google.colab import drive\n",
    "# drive.mount('/content/drive')"
   ],
   "metadata": {
    "colab": {
     "base_uri": "https://localhost:8080/"
    },
    "id": "SpYm3fMXrt2p",
    "executionInfo": {
     "status": "ok",
     "timestamp": 1662439220046,
     "user_tz": -540,
     "elapsed": 18103,
     "user": {
      "displayName": "Jason SJ Yim",
      "userId": "00334139127424328539"
     }
    },
    "outputId": "a0a23650-42a3-4654-bdcf-28ad0b3e93b6"
   },
   "execution_count": null,
   "outputs": [
    {
     "output_type": "stream",
     "name": "stdout",
     "text": [
      "Mounted at /content/drive\n"
     ]
    }
   ]
  },
  {
   "cell_type": "code",
   "execution_count": 1,
   "metadata": {
    "colab": {
     "base_uri": "https://localhost:8080/"
    },
    "id": "3kBcqYmPrqA7",
    "executionInfo": {
     "status": "ok",
     "timestamp": 1662439237047,
     "user_tz": -540,
     "elapsed": 1173,
     "user": {
      "displayName": "Jason SJ Yim",
      "userId": "00334139127424328539"
     }
    },
    "outputId": "79201b5e-382a-4b16-8e26-ef48268ed46a",
    "ExecuteTime": {
     "end_time": "2023-08-02T05:45:14.886565Z",
     "start_time": "2023-08-02T05:45:14.866913Z"
    }
   },
   "outputs": [
    {
     "data": {
      "text/plain": "(3915, 16)"
     },
     "execution_count": 1,
     "metadata": {},
     "output_type": "execute_result"
    }
   ],
   "source": [
    "import pandas as pd\n",
    "import numpy as np\n",
    "df = pd.read_csv('stroke-standard.csv')\n",
    "df.shape"
   ]
  },
  {
   "cell_type": "code",
   "execution_count": 2,
   "metadata": {
    "id": "Lju28g9-rqA8",
    "ExecuteTime": {
     "end_time": "2023-08-02T05:45:26.203693Z",
     "start_time": "2023-08-02T05:45:25.871914Z"
    }
   },
   "outputs": [],
   "source": [
    "data = df.drop(['stroke'], axis=1)   # 타겟변수를 제외한 변수만 data에 저장\n",
    "target = df['stroke']                # 타겟변수만 target에 저장\n",
    "\n",
    "from imblearn.under_sampling import RandomUnderSampler    # RandomUnderSampler를 import\n",
    "undersample = RandomUnderSampler(sampling_strategy=0.333, random_state=2) \n",
    "                                                          # 타겟변수의 소수 클래스 및 다수 클래스를\n",
    "                                                          # 1:3의 비율(=1/3)로 언더샘플링\n",
    "data_under, target_under = undersample.fit_resample(data, target)\n",
    "                                                          # data 및 target에 언더샘플링 적용"
   ]
  },
  {
   "cell_type": "code",
   "execution_count": 3,
   "metadata": {
    "colab": {
     "base_uri": "https://localhost:8080/"
    },
    "id": "upKCqyutrqA9",
    "executionInfo": {
     "status": "ok",
     "timestamp": 1661895445405,
     "user_tz": -540,
     "elapsed": 4,
     "user": {
      "displayName": "Jason SJ Yim",
      "userId": "00334139127424328539"
     }
    },
    "outputId": "755ef517-792f-4ebe-bffc-e466f1d814cc",
    "ExecuteTime": {
     "end_time": "2023-08-02T05:45:31.308008Z",
     "start_time": "2023-08-02T05:45:31.299424Z"
    }
   },
   "outputs": [
    {
     "name": "stdout",
     "output_type": "stream",
     "text": [
      "X_train shape: (386, 15)\n",
      "X_test shape: (386, 15)\n"
     ]
    }
   ],
   "source": [
    "# 50:50 데이터 분할\n",
    "from sklearn.model_selection import train_test_split \n",
    "X_train, X_test, y_train, y_test = train_test_split( \n",
    "    data_under, target_under, test_size=0.5, random_state=42, stratify=target_under)\n",
    "\n",
    "print(\"X_train shape:\", X_train.shape) \n",
    "print(\"X_test shape:\", X_test.shape) "
   ]
  },
  {
   "cell_type": "code",
   "execution_count": 7,
   "metadata": {
    "colab": {
     "base_uri": "https://localhost:8080/"
    },
    "id": "LYiGPed_rqA-",
    "executionInfo": {
     "status": "ok",
     "timestamp": 1661895454064,
     "user_tz": -540,
     "elapsed": 3971,
     "user": {
      "displayName": "Jason SJ Yim",
      "userId": "00334139127424328539"
     }
    },
    "outputId": "16038d5d-5f9a-4af3-b697-c44568b7a79e",
    "ExecuteTime": {
     "end_time": "2023-08-02T05:47:59.484313Z",
     "start_time": "2023-08-02T05:47:57.229539Z"
    }
   },
   "outputs": [
    {
     "name": "stdout",
     "output_type": "stream",
     "text": [
      "Neural Network Training set score:0.98964\n",
      "Neural Network Test set score:0.72280\n"
     ]
    }
   ],
   "source": [
    "# Neural Network 모델 (Default 모델 with adam solver)\n",
    "from sklearn.neural_network import MLPClassifier \n",
    "from sklearn.metrics import accuracy_score\n",
    "clf_mlp = MLPClassifier(max_iter = 2000, random_state = 0)\n",
    "                       # convergence warinng을 회피하기 위해 max_iter = 2000으로 올려서 설정\n",
    "clf_mlp.fit(X_train, y_train)\n",
    "pred = clf_mlp.predict(X_test)  # 학습된 Classifier로 테스트 데이터셋 자료이용해서 타겟변수 예측값 생성\n",
    "accuracy = accuracy_score(y_test, pred)\n",
    "\n",
    "print (\"Neural Network Training set score:{:.5f}\".format(clf_mlp.score(X_train, y_train))) \n",
    "print (\"Neural Network Test set score:{:.5f}\".format(accuracy_score(y_test, pred)))"
   ]
  },
  {
   "cell_type": "code",
   "execution_count": 8,
   "metadata": {
    "id": "3sc9RhKXrqA-",
    "ExecuteTime": {
     "end_time": "2023-08-02T05:48:08.855038Z",
     "start_time": "2023-08-02T05:48:08.844119Z"
    }
   },
   "outputs": [],
   "source": [
    "# alpha=0.0001이 default값임\n",
    "# alpha=0.01 옵션: 이는 중간 정도의 regularization on weights를 의미\n",
    "# alpha=1 옵션 추가: 이는 stronger regularization on weights를 의미"
   ]
  },
  {
   "cell_type": "code",
   "execution_count": 10,
   "metadata": {
    "colab": {
     "base_uri": "https://localhost:8080/"
    },
    "id": "aaB26HAurqA_",
    "executionInfo": {
     "status": "ok",
     "timestamp": 1661895623430,
     "user_tz": -540,
     "elapsed": 150300,
     "user": {
      "displayName": "Jason SJ Yim",
      "userId": "00334139127424328539"
     }
    },
    "outputId": "2949450f-d8c8-40ae-cfbc-41dacef42df6",
    "ExecuteTime": {
     "end_time": "2023-08-02T05:51:46.702218Z",
     "start_time": "2023-08-02T05:51:23.332082Z"
    }
   },
   "outputs": [
    {
     "name": "stdout",
     "output_type": "stream",
     "text": [
      "GridSearchCV max accuracy:0.78505\n",
      "GridSearchCV best parameter: {'activation': 'relu', 'alpha': 0.0001, 'solver': 'sgd'}\n"
     ]
    }
   ],
   "source": [
    "# 신경망 기본 모델 (with adam solver)\n",
    "clf_mlp = MLPClassifier(max_iter = 2000, random_state = 0)\n",
    "\n",
    "# 그리드 서치 실행\n",
    "from sklearn.model_selection import GridSearchCV\n",
    "params = {'solver':['sgd', 'lbfgs', 'adam'],\n",
    "          'alpha':[0.0001, 0.001, 0.01, 0.1, 1],\n",
    "          'activation':['tanh','relu', 'logistic']\n",
    "         }\n",
    "\n",
    "grid_mlp = GridSearchCV(clf_mlp, param_grid=params, scoring='accuracy', cv=5, n_jobs=-1)\n",
    "grid_mlp.fit(X_train, y_train)\n",
    "\n",
    "print(\"GridSearchCV max accuracy:{:.5f}\".format(grid_mlp.best_score_))\n",
    "print(\"GridSearchCV best parameter:\", (grid_mlp.best_params_)) "
   ]
  },
  {
   "cell_type": "code",
   "execution_count": 13,
   "metadata": {
    "colab": {
     "base_uri": "https://localhost:8080/"
    },
    "id": "04wBIi72rqBA",
    "executionInfo": {
     "status": "ok",
     "timestamp": 1661895635466,
     "user_tz": -540,
     "elapsed": 13,
     "user": {
      "displayName": "Jason SJ Yim",
      "userId": "00334139127424328539"
     }
    },
    "outputId": "648c8655-09c3-4d0c-b102-82993e89aad2",
    "ExecuteTime": {
     "end_time": "2023-08-02T05:54:30.491522Z",
     "start_time": "2023-08-02T05:54:30.481097Z"
    }
   },
   "outputs": [
    {
     "name": "stdout",
     "output_type": "stream",
     "text": [
      "Accuracy on test set:0.75648\n"
     ]
    }
   ],
   "source": [
    "best_clf = grid_mlp.best_estimator_\n",
    "pred = best_clf.predict(X_test)\n",
    "print(\"Accuracy on test set:{:.5f}\".format(accuracy_score(y_test, pred)))"
   ]
  },
  {
   "cell_type": "code",
   "execution_count": null,
   "metadata": {
    "colab": {
     "base_uri": "https://localhost:8080/"
    },
    "id": "ekTEExAZrqBB",
    "executionInfo": {
     "status": "ok",
     "timestamp": 1661895892981,
     "user_tz": -540,
     "elapsed": 244823,
     "user": {
      "displayName": "Jason SJ Yim",
      "userId": "00334139127424328539"
     }
    },
    "outputId": "803d89f8-601b-41eb-c952-68aec8123787"
   },
   "outputs": [
    {
     "output_type": "stream",
     "name": "stdout",
     "text": [
      "GridSearchCV max accuracy:0.78505\n",
      "GridSearchCV best parameter: {'activation': 'relu', 'alpha': 0.0001, 'hidden_layer_sizes': (100,), 'solver': 'sgd'}\n"
     ]
    }
   ],
   "source": [
    "# 신경망 기본 모델 (with adam solver)\n",
    "clf_mlp = MLPClassifier(max_iter = 2000, random_state = 0)\n",
    "\n",
    "# 그리드 서치 재실행\n",
    "from sklearn.model_selection import GridSearchCV\n",
    "params = {'solver':['sgd', 'lbfgs', 'adam'],\n",
    "          'alpha':[0.0001, 0.01, 1],\n",
    "          'activation':['tanh','relu', 'logistic'],\n",
    "          'hidden_layer_sizes': [(100,), (100,100)]\n",
    "         }\n",
    "\n",
    "grid_mlp = GridSearchCV(clf_mlp, param_grid=params, scoring='accuracy', cv=5, n_jobs=-1)\n",
    "grid_mlp.fit(X_train, y_train)\n",
    "\n",
    "print(\"GridSearchCV max accuracy:{:.5f}\".format(grid_mlp.best_score_))\n",
    "print(\"GridSearchCV best parameter:\", (grid_mlp.best_params_)) "
   ]
  },
  {
   "cell_type": "code",
   "execution_count": null,
   "metadata": {
    "colab": {
     "base_uri": "https://localhost:8080/"
    },
    "id": "3jJ2LXJqrqBB",
    "executionInfo": {
     "status": "ok",
     "timestamp": 1661895987792,
     "user_tz": -540,
     "elapsed": 674,
     "user": {
      "displayName": "Jason SJ Yim",
      "userId": "00334139127424328539"
     }
    },
    "outputId": "a52cf0a7-bf10-45ba-f706-34306f52d369"
   },
   "outputs": [
    {
     "output_type": "stream",
     "name": "stdout",
     "text": [
      "Accuracy on test set:0.75648\n"
     ]
    }
   ],
   "source": [
    "best_clf = grid_mlp.best_estimator_\n",
    "pred = best_clf.predict(X_test)\n",
    "print(\"Accuracy on test set:{:.5f}\".format(accuracy_score(y_test, pred)))"
   ]
  },
  {
   "cell_type": "code",
   "execution_count": null,
   "metadata": {
    "id": "b2vrpHO7rqBC"
   },
   "outputs": [],
   "source": []
  }
 ],
 "metadata": {
  "kernelspec": {
   "display_name": "Python 3 (ipykernel)",
   "language": "python",
   "name": "python3"
  },
  "language_info": {
   "codemirror_mode": {
    "name": "ipython",
    "version": 3
   },
   "file_extension": ".py",
   "mimetype": "text/x-python",
   "name": "python",
   "nbconvert_exporter": "python",
   "pygments_lexer": "ipython3",
   "version": "3.9.7"
  },
  "colab": {
   "provenance": [],
   "collapsed_sections": []
  }
 },
 "nbformat": 4,
 "nbformat_minor": 0
}
