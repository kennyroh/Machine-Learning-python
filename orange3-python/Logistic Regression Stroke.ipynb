{
 "cells": [
  {
   "cell_type": "markdown",
   "metadata": {
    "id": "-wJ52vZzk37p"
   },
   "source": [
    "# 5.4 로지스틱 회귀(Logistic Regression) 분류 모델"
   ]
  },
  {
   "cell_type": "code",
   "source": [
    "# from google.colab import drive\n",
    "# drive.mount('/content/drive')"
   ],
   "metadata": {
    "colab": {
     "base_uri": "https://localhost:8080/"
    },
    "id": "g4cln3irlDVQ",
    "executionInfo": {
     "status": "ok",
     "timestamp": 1662438696299,
     "user_tz": -540,
     "elapsed": 19985,
     "user": {
      "displayName": "Jason SJ Yim",
      "userId": "00334139127424328539"
     }
    },
    "outputId": "affdb727-1c45-421e-c52d-a09bb66f385c",
    "ExecuteTime": {
     "end_time": "2023-08-02T04:15:14.096818Z",
     "start_time": "2023-08-02T04:15:13.838576Z"
    }
   },
   "execution_count": 2,
   "outputs": []
  },
  {
   "cell_type": "code",
   "execution_count": 3,
   "metadata": {
    "scrolled": true,
    "colab": {
     "base_uri": "https://localhost:8080/"
    },
    "id": "fIhHKz4Ak37t",
    "executionInfo": {
     "status": "ok",
     "timestamp": 1662438701753,
     "user_tz": -540,
     "elapsed": 853,
     "user": {
      "displayName": "Jason SJ Yim",
      "userId": "00334139127424328539"
     }
    },
    "outputId": "7e823317-beb6-46b7-f76f-e1d53e3d9813",
    "ExecuteTime": {
     "end_time": "2023-08-02T04:15:14.242956Z",
     "start_time": "2023-08-02T04:15:13.846647Z"
    }
   },
   "outputs": [
    {
     "data": {
      "text/plain": "(3915, 11)"
     },
     "execution_count": 3,
     "metadata": {},
     "output_type": "execute_result"
    }
   ],
   "source": [
    "import pandas as pd\n",
    "import numpy as np\n",
    "df = pd.read_csv('healthcare-dataset-3.csv')   \n",
    "df.shape"
   ]
  },
  {
   "cell_type": "code",
   "execution_count": 4,
   "metadata": {
    "id": "vksRwdvPk37v",
    "ExecuteTime": {
     "end_time": "2023-08-02T04:15:14.243277Z",
     "start_time": "2023-08-02T04:15:13.864402Z"
    }
   },
   "outputs": [],
   "source": [
    "# 범주형 변수중에서 값으로 0과 1만 가지는(이미 더미 변수화 되어 있는)4개 변수명을 제외하고서 cols2에 저장\n",
    "\n",
    "cols2 = ['gender_encoded', 'work_type_encoded', 'smoking_status_encoded']"
   ]
  },
  {
   "cell_type": "code",
   "execution_count": 5,
   "metadata": {
    "id": "xrg55_iLk37w",
    "ExecuteTime": {
     "end_time": "2023-08-02T04:15:14.243567Z",
     "start_time": "2023-08-02T04:15:13.879062Z"
    }
   },
   "outputs": [],
   "source": [
    "df1 = pd.get_dummies(df, columns=cols2)   # cols2에 담긴 변수들의 더미변수를 생성 \n",
    "                                          # 이 명령은 더미변수를 생성한 원본변수는 제거함에 유의"
   ]
  },
  {
   "cell_type": "code",
   "execution_count": 6,
   "metadata": {
    "colab": {
     "base_uri": "https://localhost:8080/",
     "height": 207
    },
    "id": "SZKOGRxOk37w",
    "executionInfo": {
     "status": "ok",
     "timestamp": 1662438734671,
     "user_tz": -540,
     "elapsed": 312,
     "user": {
      "displayName": "Jason SJ Yim",
      "userId": "00334139127424328539"
     }
    },
    "outputId": "244c8eb8-afae-4607-a937-6e8393b81cf8",
    "ExecuteTime": {
     "end_time": "2023-08-02T04:15:14.244489Z",
     "start_time": "2023-08-02T04:15:13.889403Z"
    }
   },
   "outputs": [
    {
     "data": {
      "text/plain": "    age  hypertension  heart_disease  avg_glucose_level   bmi  stroke  \\\n0  67.0             0              1             228.69  36.6       1   \n1  80.0             0              1             105.92  32.5       1   \n2  49.0             0              0             171.23  34.4       1   \n\n   ever_married_encoded  residence_type_encoded  gender_encoded_0.0  \\\n0                   1.0                     1.0                   0   \n1                   1.0                     0.0                   0   \n2                   1.0                     1.0                   1   \n\n   gender_encoded_1.0  gender_encoded_2.0  work_type_encoded_0.0  \\\n0                   1                   0                      0   \n1                   1                   0                      0   \n2                   0                   0                      0   \n\n   work_type_encoded_1.0  work_type_encoded_2.0  work_type_encoded_3.0  \\\n0                      0                      1                      0   \n1                      0                      1                      0   \n2                      0                      1                      0   \n\n   smoking_status_encoded_0.0  smoking_status_encoded_1.0  \\\n0                           0                           1   \n1                           0                           0   \n2                           0                           0   \n\n   smoking_status_encoded_2.0  smoking_status_encoded_3.0  \n0                           0                           0  \n1                           1                           0  \n2                           0                           1  ",
      "text/html": "<div>\n<style scoped>\n    .dataframe tbody tr th:only-of-type {\n        vertical-align: middle;\n    }\n\n    .dataframe tbody tr th {\n        vertical-align: top;\n    }\n\n    .dataframe thead th {\n        text-align: right;\n    }\n</style>\n<table border=\"1\" class=\"dataframe\">\n  <thead>\n    <tr style=\"text-align: right;\">\n      <th></th>\n      <th>age</th>\n      <th>hypertension</th>\n      <th>heart_disease</th>\n      <th>avg_glucose_level</th>\n      <th>bmi</th>\n      <th>stroke</th>\n      <th>ever_married_encoded</th>\n      <th>residence_type_encoded</th>\n      <th>gender_encoded_0.0</th>\n      <th>gender_encoded_1.0</th>\n      <th>gender_encoded_2.0</th>\n      <th>work_type_encoded_0.0</th>\n      <th>work_type_encoded_1.0</th>\n      <th>work_type_encoded_2.0</th>\n      <th>work_type_encoded_3.0</th>\n      <th>smoking_status_encoded_0.0</th>\n      <th>smoking_status_encoded_1.0</th>\n      <th>smoking_status_encoded_2.0</th>\n      <th>smoking_status_encoded_3.0</th>\n    </tr>\n  </thead>\n  <tbody>\n    <tr>\n      <th>0</th>\n      <td>67.0</td>\n      <td>0</td>\n      <td>1</td>\n      <td>228.69</td>\n      <td>36.6</td>\n      <td>1</td>\n      <td>1.0</td>\n      <td>1.0</td>\n      <td>0</td>\n      <td>1</td>\n      <td>0</td>\n      <td>0</td>\n      <td>0</td>\n      <td>1</td>\n      <td>0</td>\n      <td>0</td>\n      <td>1</td>\n      <td>0</td>\n      <td>0</td>\n    </tr>\n    <tr>\n      <th>1</th>\n      <td>80.0</td>\n      <td>0</td>\n      <td>1</td>\n      <td>105.92</td>\n      <td>32.5</td>\n      <td>1</td>\n      <td>1.0</td>\n      <td>0.0</td>\n      <td>0</td>\n      <td>1</td>\n      <td>0</td>\n      <td>0</td>\n      <td>0</td>\n      <td>1</td>\n      <td>0</td>\n      <td>0</td>\n      <td>0</td>\n      <td>1</td>\n      <td>0</td>\n    </tr>\n    <tr>\n      <th>2</th>\n      <td>49.0</td>\n      <td>0</td>\n      <td>0</td>\n      <td>171.23</td>\n      <td>34.4</td>\n      <td>1</td>\n      <td>1.0</td>\n      <td>1.0</td>\n      <td>1</td>\n      <td>0</td>\n      <td>0</td>\n      <td>0</td>\n      <td>0</td>\n      <td>1</td>\n      <td>0</td>\n      <td>0</td>\n      <td>0</td>\n      <td>0</td>\n      <td>1</td>\n    </tr>\n  </tbody>\n</table>\n</div>"
     },
     "execution_count": 6,
     "metadata": {},
     "output_type": "execute_result"
    }
   ],
   "source": [
    "df1.head(3)"
   ]
  },
  {
   "cell_type": "code",
   "execution_count": 7,
   "metadata": {
    "colab": {
     "base_uri": "https://localhost:8080/"
    },
    "id": "xy0NQfFyk37x",
    "executionInfo": {
     "status": "ok",
     "timestamp": 1662438741783,
     "user_tz": -540,
     "elapsed": 249,
     "user": {
      "displayName": "Jason SJ Yim",
      "userId": "00334139127424328539"
     }
    },
    "outputId": "0c287cc0-c1db-4087-dfee-10a10645c0fc",
    "ExecuteTime": {
     "end_time": "2023-08-02T04:15:14.244852Z",
     "start_time": "2023-08-02T04:15:13.905841Z"
    }
   },
   "outputs": [
    {
     "data": {
      "text/plain": "(3915, 19)"
     },
     "execution_count": 7,
     "metadata": {},
     "output_type": "execute_result"
    }
   ],
   "source": [
    "df1.shape"
   ]
  },
  {
   "cell_type": "code",
   "execution_count": 8,
   "metadata": {
    "scrolled": true,
    "colab": {
     "base_uri": "https://localhost:8080/"
    },
    "id": "QJrtqvy4k37x",
    "executionInfo": {
     "status": "ok",
     "timestamp": 1662438743656,
     "user_tz": -540,
     "elapsed": 242,
     "user": {
      "displayName": "Jason SJ Yim",
      "userId": "00334139127424328539"
     }
    },
    "outputId": "0a5b107c-252d-44d9-fe13-2f934c5eb1db",
    "ExecuteTime": {
     "end_time": "2023-08-02T04:15:14.245185Z",
     "start_time": "2023-08-02T04:15:13.910829Z"
    }
   },
   "outputs": [
    {
     "data": {
      "text/plain": "['age',\n 'hypertension',\n 'heart_disease',\n 'avg_glucose_level',\n 'bmi',\n 'stroke',\n 'ever_married_encoded',\n 'residence_type_encoded',\n 'gender_encoded_0.0',\n 'gender_encoded_1.0',\n 'gender_encoded_2.0',\n 'work_type_encoded_0.0',\n 'work_type_encoded_1.0',\n 'work_type_encoded_2.0',\n 'work_type_encoded_3.0',\n 'smoking_status_encoded_0.0',\n 'smoking_status_encoded_1.0',\n 'smoking_status_encoded_2.0',\n 'smoking_status_encoded_3.0']"
     },
     "execution_count": 8,
     "metadata": {},
     "output_type": "execute_result"
    }
   ],
   "source": [
    "list(df1.columns)"
   ]
  },
  {
   "cell_type": "code",
   "execution_count": 9,
   "metadata": {
    "colab": {
     "base_uri": "https://localhost:8080/"
    },
    "id": "DezUW9vik37y",
    "executionInfo": {
     "status": "ok",
     "timestamp": 1662438752825,
     "user_tz": -540,
     "elapsed": 247,
     "user": {
      "displayName": "Jason SJ Yim",
      "userId": "00334139127424328539"
     }
    },
    "outputId": "9803604a-cbb5-478d-d6eb-535bea40d42a",
    "ExecuteTime": {
     "end_time": "2023-08-02T04:15:14.245505Z",
     "start_time": "2023-08-02T04:15:13.918004Z"
    }
   },
   "outputs": [
    {
     "data": {
      "text/plain": "(3915, 16)"
     },
     "execution_count": 9,
     "metadata": {},
     "output_type": "execute_result"
    }
   ],
   "source": [
    "# 기준 더미 변수(base dummy variable)로 정한 3개 더미 변수명을 cols3에 저장\n",
    "cols3 = ['gender_encoded_0.0','work_type_encoded_1.0','smoking_status_encoded_2.0']\n",
    "\n",
    "df1.drop(cols3, axis=1, inplace=True)   # cols2에 저장된 15개 더미 변수명을 데이터프레임에서 제거\n",
    "df1.shape"
   ]
  },
  {
   "cell_type": "code",
   "execution_count": 10,
   "metadata": {
    "id": "dsOKAMOPk37z",
    "ExecuteTime": {
     "end_time": "2023-08-02T04:15:14.266998Z",
     "start_time": "2023-08-02T04:15:13.923750Z"
    }
   },
   "outputs": [],
   "source": [
    "df1.to_csv('healthcare-dataset-3-dummy.csv', index=False)"
   ]
  },
  {
   "cell_type": "code",
   "execution_count": 11,
   "metadata": {
    "colab": {
     "base_uri": "https://localhost:8080/"
    },
    "id": "OGyJNPCQk37z",
    "executionInfo": {
     "status": "ok",
     "timestamp": 1662438761843,
     "user_tz": -540,
     "elapsed": 744,
     "user": {
      "displayName": "Jason SJ Yim",
      "userId": "00334139127424328539"
     }
    },
    "outputId": "60d2583e-081d-481c-9b6b-6a22ca204889",
    "ExecuteTime": {
     "end_time": "2023-08-02T04:15:14.267541Z",
     "start_time": "2023-08-02T04:15:13.950397Z"
    }
   },
   "outputs": [
    {
     "data": {
      "text/plain": "(3915, 16)"
     },
     "execution_count": 11,
     "metadata": {},
     "output_type": "execute_result"
    }
   ],
   "source": [
    "import pandas as pd\n",
    "import numpy as np\n",
    "df = pd.read_csv('healthcare-dataset-3-dummy.csv')\n",
    "df.shape"
   ]
  },
  {
   "cell_type": "code",
   "execution_count": 12,
   "metadata": {
    "colab": {
     "base_uri": "https://localhost:8080/"
    },
    "id": "ABUuzmEak370",
    "executionInfo": {
     "status": "ok",
     "timestamp": 1662438783127,
     "user_tz": -540,
     "elapsed": 239,
     "user": {
      "displayName": "Jason SJ Yim",
      "userId": "00334139127424328539"
     }
    },
    "outputId": "1fc23f22-e90d-4d85-86a0-28ed5523ff23",
    "ExecuteTime": {
     "end_time": "2023-08-02T04:15:14.267932Z",
     "start_time": "2023-08-02T04:15:13.963802Z"
    }
   },
   "outputs": [
    {
     "data": {
      "text/plain": "age                           float64\nhypertension                    int64\nheart_disease                   int64\navg_glucose_level             float64\nbmi                           float64\nstroke                          int64\never_married_encoded          float64\nresidence_type_encoded        float64\ngender_encoded_1.0              int64\ngender_encoded_2.0              int64\nwork_type_encoded_0.0           int64\nwork_type_encoded_2.0           int64\nwork_type_encoded_3.0           int64\nsmoking_status_encoded_0.0      int64\nsmoking_status_encoded_1.0      int64\nsmoking_status_encoded_3.0      int64\ndtype: object"
     },
     "execution_count": 12,
     "metadata": {},
     "output_type": "execute_result"
    }
   ],
   "source": [
    "# 참조 코딩\n",
    "df.dtypes"
   ]
  },
  {
   "cell_type": "code",
   "execution_count": 13,
   "metadata": {
    "id": "jSN8F0fmk370",
    "ExecuteTime": {
     "end_time": "2023-08-02T04:15:14.268113Z",
     "start_time": "2023-08-02T04:15:13.968365Z"
    }
   },
   "outputs": [],
   "source": [
    "# 참조 코딩\n",
    "# dtype을 category로 지정해 줄 변수들을 cols에 임시 저장\n",
    "cols = ['hypertension', 'heart_disease', 'stroke', 'ever_married_encoded', 'residence_type_encoded',\\\n",
    "        'gender_encoded_1.0', 'gender_encoded_2.0',\\\n",
    "        'work_type_encoded_0.0', 'work_type_encoded_2.0', 'work_type_encoded_3.0',\\\n",
    "        'smoking_status_encoded_0.0', 'smoking_status_encoded_1.0', 'smoking_status_encoded_3.0']\n",
    "\n",
    "df[cols] = df[cols].astype('category')   # cols에 저장된 변수들의 dtype을 category로 변경"
   ]
  },
  {
   "cell_type": "code",
   "execution_count": 14,
   "metadata": {
    "colab": {
     "base_uri": "https://localhost:8080/"
    },
    "id": "mzzzo7fJk371",
    "executionInfo": {
     "status": "ok",
     "timestamp": 1662438802200,
     "user_tz": -540,
     "elapsed": 375,
     "user": {
      "displayName": "Jason SJ Yim",
      "userId": "00334139127424328539"
     }
    },
    "outputId": "f452e173-fb31-4c67-91cf-0ec2faffa6d7",
    "ExecuteTime": {
     "end_time": "2023-08-02T04:15:14.268845Z",
     "start_time": "2023-08-02T04:15:13.983855Z"
    }
   },
   "outputs": [
    {
     "data": {
      "text/plain": "age                            float64\nhypertension                  category\nheart_disease                 category\navg_glucose_level              float64\nbmi                            float64\nstroke                        category\never_married_encoded          category\nresidence_type_encoded        category\ngender_encoded_1.0            category\ngender_encoded_2.0            category\nwork_type_encoded_0.0         category\nwork_type_encoded_2.0         category\nwork_type_encoded_3.0         category\nsmoking_status_encoded_0.0    category\nsmoking_status_encoded_1.0    category\nsmoking_status_encoded_3.0    category\ndtype: object"
     },
     "execution_count": 14,
     "metadata": {},
     "output_type": "execute_result"
    }
   ],
   "source": [
    "# 참조 코딩\n",
    "df.dtypes"
   ]
  },
  {
   "cell_type": "code",
   "execution_count": 15,
   "metadata": {
    "id": "NJ1ag7djk371",
    "ExecuteTime": {
     "end_time": "2023-08-02T04:15:14.997260Z",
     "start_time": "2023-08-02T04:15:13.996192Z"
    }
   },
   "outputs": [],
   "source": [
    "data = df.drop(['stroke'], axis=1)   # 타겟변수를 제외한 변수만 data에 저장\n",
    "target = df['stroke']                # 타겟변수만 target에 저장\n",
    "\n",
    "from imblearn.under_sampling import RandomUnderSampler    # RandomUnderSampler를 import\n",
    "undersample = RandomUnderSampler(sampling_strategy=0.333, random_state=2) \n",
    "                                                          # 타겟변수의 소수 클래스 및 다수 클래스를\n",
    "                                                          # 1:3의 비율(=1/3)로 언더샘플링\n",
    "data_under, target_under = undersample.fit_resample(data, target)\n",
    "                                                          # data 및 target에 언더샘플링 적용"
   ]
  },
  {
   "cell_type": "code",
   "execution_count": 16,
   "metadata": {
    "colab": {
     "base_uri": "https://localhost:8080/"
    },
    "id": "q1EL27hqk372",
    "executionInfo": {
     "status": "ok",
     "timestamp": 1662438817624,
     "user_tz": -540,
     "elapsed": 241,
     "user": {
      "displayName": "Jason SJ Yim",
      "userId": "00334139127424328539"
     }
    },
    "outputId": "0595a231-304c-40f6-973b-c202dc7f884f",
    "ExecuteTime": {
     "end_time": "2023-08-02T04:15:14.998138Z",
     "start_time": "2023-08-02T04:15:14.986999Z"
    }
   },
   "outputs": [
    {
     "name": "stdout",
     "output_type": "stream",
     "text": [
      "X_train shape: (386, 15)\n",
      "X_test shape: (386, 15)\n"
     ]
    }
   ],
   "source": [
    "# 50:50 데이터 분할\n",
    "from sklearn.model_selection import train_test_split \n",
    "X_train, X_test, y_train, y_test = train_test_split( \n",
    "    data_under, target_under, test_size=0.5, random_state=42, stratify=target_under)\n",
    "\n",
    "print(\"X_train shape:\", X_train.shape) \n",
    "print(\"X_test shape:\", X_test.shape) "
   ]
  },
  {
   "cell_type": "code",
   "execution_count": 17,
   "metadata": {
    "colab": {
     "base_uri": "https://localhost:8080/"
    },
    "id": "YrSm_GJNk372",
    "executionInfo": {
     "status": "ok",
     "timestamp": 1662438850002,
     "user_tz": -540,
     "elapsed": 2026,
     "user": {
      "displayName": "Jason SJ Yim",
      "userId": "00334139127424328539"
     }
    },
    "outputId": "387f2c04-e40b-4368-8617-9b08e523b866",
    "ExecuteTime": {
     "end_time": "2023-08-02T04:15:16.896960Z",
     "start_time": "2023-08-02T04:15:15.000871Z"
    }
   },
   "outputs": [
    {
     "name": "stdout",
     "output_type": "stream",
     "text": [
      "Logreg Training set score:0.79275\n",
      "Logreg Test set score:0.75907\n"
     ]
    }
   ],
   "source": [
    "# Logistic Regression 모형 (Default 모델)\n",
    "from sklearn.linear_model import LogisticRegression\n",
    "from sklearn.metrics import accuracy_score\n",
    "lr = LogisticRegression(solver='lbfgs',penalty='none',random_state=0,n_jobs=-1)\n",
    "model = lr.fit(X_train, y_train)\n",
    "pred = model.predict(X_test)\n",
    "\n",
    "print (\"Logreg Training set score:{:.5f}\".format(model.score(X_train, y_train))) \n",
    "print (\"Logreg Test set score:{:.5f}\".format(accuracy_score(y_test, pred))) # y_test 정답"
   ]
  },
  {
   "cell_type": "code",
   "execution_count": 18,
   "metadata": {
    "colab": {
     "base_uri": "https://localhost:8080/"
    },
    "id": "4VLlPoy3k373",
    "executionInfo": {
     "status": "ok",
     "timestamp": 1662438899440,
     "user_tz": -540,
     "elapsed": 1478,
     "user": {
      "displayName": "Jason SJ Yim",
      "userId": "00334139127424328539"
     }
    },
    "outputId": "e21d6119-4c9e-4305-aab3-b0b71bbe4813",
    "ExecuteTime": {
     "end_time": "2023-08-02T04:15:18.369353Z",
     "start_time": "2023-08-02T04:15:16.897288Z"
    }
   },
   "outputs": [
    {
     "name": "stdout",
     "output_type": "stream",
     "text": [
      "GridSearchCV max accuracy:0.76697\n",
      "GridSearchCV best parameter: {'penalty': 'none', 'solver': 'lbfgs'}\n"
     ]
    }
   ],
   "source": [
    "# Logistic Regression 모형 (Default 모델)\n",
    "lr = LogisticRegression(solver='lbfgs',penalty='none',random_state=0,n_jobs=-1)\n",
    "\n",
    "# 그리드 서치\n",
    "from sklearn.model_selection import GridSearchCV\n",
    "params = {'solver':['lbfgs', 'saga'], 'penalty':['none']}\n",
    "\n",
    "grid_lr = GridSearchCV(lr, param_grid=params, scoring='accuracy', cv=5, n_jobs=-1,)\n",
    "grid_lr.fit(X_train, y_train)\n",
    "\n",
    "print(\"GridSearchCV max accuracy:{:.5f}\".format(grid_lr.best_score_))\n",
    "print(\"GridSearchCV best parameter:\", (grid_lr.best_params_)) "
   ]
  },
  {
   "cell_type": "code",
   "execution_count": 19,
   "metadata": {
    "colab": {
     "base_uri": "https://localhost:8080/"
    },
    "id": "sZK32dJ9k373",
    "executionInfo": {
     "status": "ok",
     "timestamp": 1662438910537,
     "user_tz": -540,
     "elapsed": 3,
     "user": {
      "displayName": "Jason SJ Yim",
      "userId": "00334139127424328539"
     }
    },
    "outputId": "445d6ec4-efe2-484b-8844-14c880c0373c",
    "ExecuteTime": {
     "end_time": "2023-08-02T04:15:18.379611Z",
     "start_time": "2023-08-02T04:15:18.369224Z"
    }
   },
   "outputs": [
    {
     "name": "stdout",
     "output_type": "stream",
     "text": [
      "Accuracy on test set:0.75907\n"
     ]
    }
   ],
   "source": [
    "best_clf = grid_lr.best_estimator_\n",
    "pred = best_clf.predict(X_test)\n",
    "print(\"Accuracy on test set:{:.5f}\".format(accuracy_score(y_test, pred)))"
   ]
  },
  {
   "cell_type": "code",
   "execution_count": 20,
   "metadata": {
    "colab": {
     "base_uri": "https://localhost:8080/"
    },
    "id": "V8X2hYJYk374",
    "executionInfo": {
     "status": "ok",
     "timestamp": 1662438941793,
     "user_tz": -540,
     "elapsed": 3,
     "user": {
      "displayName": "Jason SJ Yim",
      "userId": "00334139127424328539"
     }
    },
    "outputId": "b55de554-5096-45ed-c2f3-5bb33048c9e6",
    "ExecuteTime": {
     "end_time": "2023-08-02T04:15:18.383936Z",
     "start_time": "2023-08-02T04:15:18.380266Z"
    }
   },
   "outputs": [
    {
     "name": "stdout",
     "output_type": "stream",
     "text": [
      "절편 [-4.979]\n",
      "회귀계수 [[ 0.087  0.147  0.112  0.006  0.002 -0.179  0.133 -0.479  0.    -1.581\n",
      "  -1.606 -1.793 -0.012 -0.355 -0.221]]\n"
     ]
    }
   ],
   "source": [
    "# 참조 코딩\n",
    "print('절편', np.round(best_clf.intercept_, 3))\n",
    "print('회귀계수', np.round(best_clf.coef_, 3))"
   ]
  },
  {
   "cell_type": "code",
   "execution_count": 21,
   "metadata": {
    "colab": {
     "base_uri": "https://localhost:8080/",
     "height": 520
    },
    "id": "PyVMRhN8k374",
    "executionInfo": {
     "status": "ok",
     "timestamp": 1662438949916,
     "user_tz": -540,
     "elapsed": 286,
     "user": {
      "displayName": "Jason SJ Yim",
      "userId": "00334139127424328539"
     }
    },
    "outputId": "211a044f-8b0e-4fc4-bcd9-c1de928ef870",
    "ExecuteTime": {
     "end_time": "2023-08-02T04:15:18.445437Z",
     "start_time": "2023-08-02T04:15:18.390579Z"
    }
   },
   "outputs": [
    {
     "data": {
      "text/plain": "                             coef\nwork_type_encoded_3.0      -1.793\nwork_type_encoded_2.0      -1.606\nwork_type_encoded_0.0      -1.581\ngender_encoded_1.0         -0.479\nsmoking_status_encoded_1.0 -0.355\nsmoking_status_encoded_3.0 -0.221\never_married_encoded       -0.179\nsmoking_status_encoded_0.0 -0.012\ngender_encoded_2.0          0.000\nbmi                         0.002\navg_glucose_level           0.006\nage                         0.087\nheart_disease               0.112\nresidence_type_encoded      0.133\nhypertension                0.147",
      "text/html": "<div>\n<style scoped>\n    .dataframe tbody tr th:only-of-type {\n        vertical-align: middle;\n    }\n\n    .dataframe tbody tr th {\n        vertical-align: top;\n    }\n\n    .dataframe thead th {\n        text-align: right;\n    }\n</style>\n<table border=\"1\" class=\"dataframe\">\n  <thead>\n    <tr style=\"text-align: right;\">\n      <th></th>\n      <th>coef</th>\n    </tr>\n  </thead>\n  <tbody>\n    <tr>\n      <th>work_type_encoded_3.0</th>\n      <td>-1.793</td>\n    </tr>\n    <tr>\n      <th>work_type_encoded_2.0</th>\n      <td>-1.606</td>\n    </tr>\n    <tr>\n      <th>work_type_encoded_0.0</th>\n      <td>-1.581</td>\n    </tr>\n    <tr>\n      <th>gender_encoded_1.0</th>\n      <td>-0.479</td>\n    </tr>\n    <tr>\n      <th>smoking_status_encoded_1.0</th>\n      <td>-0.355</td>\n    </tr>\n    <tr>\n      <th>smoking_status_encoded_3.0</th>\n      <td>-0.221</td>\n    </tr>\n    <tr>\n      <th>ever_married_encoded</th>\n      <td>-0.179</td>\n    </tr>\n    <tr>\n      <th>smoking_status_encoded_0.0</th>\n      <td>-0.012</td>\n    </tr>\n    <tr>\n      <th>gender_encoded_2.0</th>\n      <td>0.000</td>\n    </tr>\n    <tr>\n      <th>bmi</th>\n      <td>0.002</td>\n    </tr>\n    <tr>\n      <th>avg_glucose_level</th>\n      <td>0.006</td>\n    </tr>\n    <tr>\n      <th>age</th>\n      <td>0.087</td>\n    </tr>\n    <tr>\n      <th>heart_disease</th>\n      <td>0.112</td>\n    </tr>\n    <tr>\n      <th>residence_type_encoded</th>\n      <td>0.133</td>\n    </tr>\n    <tr>\n      <th>hypertension</th>\n      <td>0.147</td>\n    </tr>\n  </tbody>\n</table>\n</div>"
     },
     "execution_count": 21,
     "metadata": {},
     "output_type": "execute_result"
    }
   ],
   "source": [
    "# 변수명을 Index로 만들고 coefficient값을 매칭한 데이터프레임 만들기 \n",
    "\n",
    "feature_names = list(data.columns)   # 변수명(컬럼명)을 리스트 형태로 만들기\n",
    "dft = pd.DataFrame(np.round(best_clf.coef_, 3).transpose(), index=feature_names,\n",
    "                   columns=['coef'])\n",
    "dft1 = dft.sort_values(by='coef', ascending=True)   # 컬럼 coef의 값들을 오름차순으로 정리\n",
    "dft1                                            "
   ]
  },
  {
   "cell_type": "code",
   "execution_count": 22,
   "metadata": {
    "colab": {
     "base_uri": "https://localhost:8080/",
     "height": 520
    },
    "id": "upXUgI66k374",
    "executionInfo": {
     "status": "ok",
     "timestamp": 1662438958412,
     "user_tz": -540,
     "elapsed": 275,
     "user": {
      "displayName": "Jason SJ Yim",
      "userId": "00334139127424328539"
     }
    },
    "outputId": "113be82b-6c7b-4e62-efbd-e83db1c2a9c9",
    "ExecuteTime": {
     "end_time": "2023-08-02T04:15:18.446973Z",
     "start_time": "2023-08-02T04:15:18.401642Z"
    }
   },
   "outputs": [
    {
     "data": {
      "text/plain": "                            Odds_ratio\nhypertension                     1.158\nresidence_type_encoded           1.143\nheart_disease                    1.118\nage                              1.091\navg_glucose_level                1.006\nbmi                              1.002\ngender_encoded_2.0               1.000\nsmoking_status_encoded_0.0       0.988\never_married_encoded             0.836\nsmoking_status_encoded_3.0       0.802\nsmoking_status_encoded_1.0       0.701\ngender_encoded_1.0               0.620\nwork_type_encoded_0.0            0.206\nwork_type_encoded_2.0            0.201\nwork_type_encoded_3.0            0.166",
      "text/html": "<div>\n<style scoped>\n    .dataframe tbody tr th:only-of-type {\n        vertical-align: middle;\n    }\n\n    .dataframe tbody tr th {\n        vertical-align: top;\n    }\n\n    .dataframe thead th {\n        text-align: right;\n    }\n</style>\n<table border=\"1\" class=\"dataframe\">\n  <thead>\n    <tr style=\"text-align: right;\">\n      <th></th>\n      <th>Odds_ratio</th>\n    </tr>\n  </thead>\n  <tbody>\n    <tr>\n      <th>hypertension</th>\n      <td>1.158</td>\n    </tr>\n    <tr>\n      <th>residence_type_encoded</th>\n      <td>1.143</td>\n    </tr>\n    <tr>\n      <th>heart_disease</th>\n      <td>1.118</td>\n    </tr>\n    <tr>\n      <th>age</th>\n      <td>1.091</td>\n    </tr>\n    <tr>\n      <th>avg_glucose_level</th>\n      <td>1.006</td>\n    </tr>\n    <tr>\n      <th>bmi</th>\n      <td>1.002</td>\n    </tr>\n    <tr>\n      <th>gender_encoded_2.0</th>\n      <td>1.000</td>\n    </tr>\n    <tr>\n      <th>smoking_status_encoded_0.0</th>\n      <td>0.988</td>\n    </tr>\n    <tr>\n      <th>ever_married_encoded</th>\n      <td>0.836</td>\n    </tr>\n    <tr>\n      <th>smoking_status_encoded_3.0</th>\n      <td>0.802</td>\n    </tr>\n    <tr>\n      <th>smoking_status_encoded_1.0</th>\n      <td>0.701</td>\n    </tr>\n    <tr>\n      <th>gender_encoded_1.0</th>\n      <td>0.620</td>\n    </tr>\n    <tr>\n      <th>work_type_encoded_0.0</th>\n      <td>0.206</td>\n    </tr>\n    <tr>\n      <th>work_type_encoded_2.0</th>\n      <td>0.201</td>\n    </tr>\n    <tr>\n      <th>work_type_encoded_3.0</th>\n      <td>0.166</td>\n    </tr>\n  </tbody>\n</table>\n</div>"
     },
     "execution_count": 22,
     "metadata": {},
     "output_type": "execute_result"
    }
   ],
   "source": [
    "# 변수명을 Index로 만들고 coefficient값을 제곱한 Odds ratio값을 Index에 매칭한 데이터프레임 만들기 \n",
    "\n",
    "feature_names = list(data.columns)   # 변수명(컬럼명)을 리스트 형태로 만들기\n",
    "dft = pd.DataFrame(np.round(np.exp(best_clf.coef_),3).transpose(), index=feature_names,\n",
    "                   columns=['Odds_ratio'])\n",
    "dft1 = dft.sort_values(by='Odds_ratio', ascending=False)   # 컬럼 coef의 값들을 내림차순으로 정리\n",
    "dft1                                           "
   ]
  },
  {
   "cell_type": "code",
   "execution_count": 28,
   "metadata": {
    "colab": {
     "base_uri": "https://localhost:8080/",
     "height": 280
    },
    "id": "woAI_DE5k374",
    "executionInfo": {
     "status": "ok",
     "timestamp": 1662438969038,
     "user_tz": -540,
     "elapsed": 857,
     "user": {
      "displayName": "Jason SJ Yim",
      "userId": "00334139127424328539"
     }
    },
    "outputId": "926e0f78-a6db-479e-ff26-31db38463d94",
    "ExecuteTime": {
     "end_time": "2023-08-02T04:16:52.860736Z",
     "start_time": "2023-08-02T04:16:52.586502Z"
    }
   },
   "outputs": [
    {
     "data": {
      "text/plain": "<Figure size 640x480 with 1 Axes>",
      "image/png": "[encoded data removed]"
     },
     "metadata": {},
     "output_type": "display_data"
    }
   ],
   "source": [
    "# 데이터프레임 dft1의 막대그래프(barplot) 그리기\n",
    "import matplotlib.pyplot as plt\n",
    "import seaborn as sns\n",
    "%matplotlib inline\n",
    "\n",
    "ax = sns.barplot(y=dft1.index, x=\"Odds_ratio\", data=dft1)\n",
    "\n",
    "for p in ax.patches:\n",
    "    ax.annotate(\"%.3f\" % p.get_width(), (p.get_x() + p.get_width(), p.get_y()+1.2),\n",
    "                xytext=(5, 10), textcoords='offset points')"
   ]
  },
  {
   "cell_type": "markdown",
   "metadata": {
    "id": "LWvFEOozk375"
   },
   "source": [
    "# StandardScaler( )로 표준화한 데이터셋 생성 및 저장"
   ]
  },
  {
   "cell_type": "code",
   "execution_count": 29,
   "metadata": {
    "colab": {
     "base_uri": "https://localhost:8080/",
     "height": 206
    },
    "id": "N9glF5H-k375",
    "executionInfo": {
     "status": "ok",
     "timestamp": 1662438979624,
     "user_tz": -540,
     "elapsed": 264,
     "user": {
      "displayName": "Jason SJ Yim",
      "userId": "00334139127424328539"
     }
    },
    "outputId": "0f79e379-b96a-4b4e-b765-75965e7ef38d",
    "ExecuteTime": {
     "end_time": "2023-08-02T05:04:32.301700Z",
     "start_time": "2023-08-02T05:04:32.285846Z"
    }
   },
   "outputs": [
    {
     "data": {
      "text/plain": "        age  avg_glucose_level       bmi\n0  0.969492           2.887925  0.904522\n1  1.714023           0.029109  0.312804\n2 -0.061397           1.549914  0.587015\n3  1.656752           1.617210 -0.913930\n4  1.771295           1.898738 -0.192322",
      "text/html": "<div>\n<style scoped>\n    .dataframe tbody tr th:only-of-type {\n        vertical-align: middle;\n    }\n\n    .dataframe tbody tr th {\n        vertical-align: top;\n    }\n\n    .dataframe thead th {\n        text-align: right;\n    }\n</style>\n<table border=\"1\" class=\"dataframe\">\n  <thead>\n    <tr style=\"text-align: right;\">\n      <th></th>\n      <th>age</th>\n      <th>avg_glucose_level</th>\n      <th>bmi</th>\n    </tr>\n  </thead>\n  <tbody>\n    <tr>\n      <th>0</th>\n      <td>0.969492</td>\n      <td>2.887925</td>\n      <td>0.904522</td>\n    </tr>\n    <tr>\n      <th>1</th>\n      <td>1.714023</td>\n      <td>0.029109</td>\n      <td>0.312804</td>\n    </tr>\n    <tr>\n      <th>2</th>\n      <td>-0.061397</td>\n      <td>1.549914</td>\n      <td>0.587015</td>\n    </tr>\n    <tr>\n      <th>3</th>\n      <td>1.656752</td>\n      <td>1.617210</td>\n      <td>-0.913930</td>\n    </tr>\n    <tr>\n      <th>4</th>\n      <td>1.771295</td>\n      <td>1.898738</td>\n      <td>-0.192322</td>\n    </tr>\n  </tbody>\n</table>\n</div>"
     },
     "execution_count": 29,
     "metadata": {},
     "output_type": "execute_result"
    }
   ],
   "source": [
    "# 구간 변수들만 별도로 모아 데이터프레임 df_num을 만든다. \n",
    "numeric_cols = ['age','avg_glucose_level','bmi']\n",
    "df_num = df[numeric_cols]\n",
    "\n",
    "# StandardScaler( )로 데이터 스케일 표준화를 실행하고 결과를 데이터프레임으로 만든다.\n",
    "from sklearn.preprocessing import StandardScaler\n",
    "scaler = StandardScaler()\n",
    "df_num_standard = pd.DataFrame(scaler.fit_transform(df_num))\n",
    "\n",
    "# StandardScaler( )는 변수명을 지우므로, 새로 만든 데이터프레임에 다시 변수명을 넣는다.\n",
    "df_num_standard.columns = df_num.columns\n",
    "df_num_standard.head()"
   ]
  },
  {
   "cell_type": "code",
   "execution_count": 31,
   "metadata": {
    "id": "Cz-vm9VDk375",
    "ExecuteTime": {
     "end_time": "2023-08-02T05:04:56.538105Z",
     "start_time": "2023-08-02T05:04:56.521359Z"
    }
   },
   "outputs": [],
   "source": [
    "df_cat = df.drop(numeric_cols, axis=1) # 원래 데이터프레임 df에서 구간변수들을 제거하여 df_cat에 저장"
   ]
  },
  {
   "cell_type": "code",
   "execution_count": 32,
   "metadata": {
    "colab": {
     "base_uri": "https://localhost:8080/"
    },
    "id": "-IchNnAyk375",
    "executionInfo": {
     "status": "ok",
     "timestamp": 1662438995961,
     "user_tz": -540,
     "elapsed": 257,
     "user": {
      "displayName": "Jason SJ Yim",
      "userId": "00334139127424328539"
     }
    },
    "outputId": "6eaa4984-af10-42e1-86eb-8e4e353bedf4",
    "ExecuteTime": {
     "end_time": "2023-08-02T05:04:58.801104Z",
     "start_time": "2023-08-02T05:04:58.786069Z"
    }
   },
   "outputs": [
    {
     "data": {
      "text/plain": "Index(['age', 'avg_glucose_level', 'bmi', 'hypertension', 'heart_disease',\n       'stroke', 'ever_married_encoded', 'residence_type_encoded',\n       'gender_encoded_1.0', 'gender_encoded_2.0', 'work_type_encoded_0.0',\n       'work_type_encoded_2.0', 'work_type_encoded_3.0',\n       'smoking_status_encoded_0.0', 'smoking_status_encoded_1.0',\n       'smoking_status_encoded_3.0'],\n      dtype='object')"
     },
     "execution_count": 32,
     "metadata": {},
     "output_type": "execute_result"
    }
   ],
   "source": [
    "# 구간변수 스케일을 표준화한 df_num_standard와 범주형 변수만 담은 df_cat을 병합\n",
    "dfu_standard = pd.concat([df_num_standard, df_cat], axis=1)\n",
    "dfu_standard.columns   # dfu의 변수명을 나열"
   ]
  },
  {
   "cell_type": "code",
   "execution_count": 34,
   "metadata": {
    "id": "SlFlAfwZk377",
    "ExecuteTime": {
     "end_time": "2023-08-02T05:05:27.362993Z",
     "start_time": "2023-08-02T05:05:27.325381Z"
    }
   },
   "outputs": [],
   "source": [
    "dfu_standard.to_csv('/content/drive/MyDrive/Colab Notebooks/Book2/Ch5/stroke-standard.csv', index=False)  # 병합한 데이터프레임을 csv 형태로 저장"
   ]
  },
  {
   "cell_type": "code",
   "execution_count": null,
   "metadata": {
    "id": "YNIkTRFPk377",
    "ExecuteTime": {
     "start_time": "2023-08-02T04:15:18.949111Z"
    }
   },
   "outputs": [],
   "source": []
  },
  {
   "cell_type": "markdown",
   "metadata": {
    "id": "FkSjyqcIk377"
   },
   "source": [
    "# 표준화한 데이터셋으로 로지스틱 회귀 재시행"
   ]
  },
  {
   "cell_type": "code",
   "execution_count": 38,
   "metadata": {
    "id": "jrjUQcyWk377",
    "ExecuteTime": {
     "end_time": "2023-08-02T05:10:01.687652Z",
     "start_time": "2023-08-02T05:10:01.664366Z"
    }
   },
   "outputs": [],
   "source": [
    "data = dfu_standard.drop(['stroke'], axis=1)   # 타겟변수를 제외한 변수만 data에 저장\n",
    "target = dfu_standard['stroke']                # 타겟변수만 target에 저장\n",
    "\n",
    "from imblearn.under_sampling import RandomUnderSampler    # RandomUnderSampler를 import\n",
    "undersample = RandomUnderSampler(sampling_strategy=0.333, random_state=2) \n",
    "                                                          # 타겟변수의 소수 클래스 및 다수 클래스를\n",
    "                                                          # 1:3의 비율(=1/3)로 언더샘플링\n",
    "data_under, target_under = undersample.fit_resample(data, target)\n",
    "                                                          # data 및 target에 언더샘플링 적용"
   ]
  },
  {
   "cell_type": "code",
   "execution_count": 36,
   "metadata": {
    "colab": {
     "base_uri": "https://localhost:8080/"
    },
    "id": "JJYTy0Oyk377",
    "executionInfo": {
     "status": "ok",
     "timestamp": 1662439019223,
     "user_tz": -540,
     "elapsed": 244,
     "user": {
      "displayName": "Jason SJ Yim",
      "userId": "00334139127424328539"
     }
    },
    "outputId": "abde808a-c5a2-4fcb-b7dc-e9ab0d17f48f",
    "ExecuteTime": {
     "end_time": "2023-08-02T05:08:39.032894Z",
     "start_time": "2023-08-02T05:08:39.026241Z"
    }
   },
   "outputs": [
    {
     "name": "stdout",
     "output_type": "stream",
     "text": [
      "X_train shape: (386, 15)\n",
      "X_test shape: (386, 15)\n"
     ]
    }
   ],
   "source": [
    "# 50:50 데이터 분할\n",
    "from sklearn.model_selection import train_test_split \n",
    "X_train, X_test, y_train, y_test = train_test_split( \n",
    "    data_under, target_under, test_size=0.5, random_state=42, stratify=target_under)\n",
    "\n",
    "print(\"X_train shape:\", X_train.shape) \n",
    "print(\"X_test shape:\", X_test.shape) "
   ]
  },
  {
   "cell_type": "code",
   "execution_count": null,
   "metadata": {
    "colab": {
     "base_uri": "https://localhost:8080/"
    },
    "id": "csWC6CRGk378",
    "executionInfo": {
     "status": "ok",
     "timestamp": 1662439043778,
     "user_tz": -540,
     "elapsed": 241,
     "user": {
      "displayName": "Jason SJ Yim",
      "userId": "00334139127424328539"
     }
    },
    "outputId": "e0c1bbe9-9773-410f-c13a-8e3d9af79990",
    "ExecuteTime": {
     "start_time": "2023-08-02T04:15:18.956202Z"
    }
   },
   "outputs": [],
   "source": [
    "# 추가 코딩\n",
    "# Logistic Regression 모형 (Default 모델)\n",
    "from sklearn.linear_model import LogisticRegression\n",
    "from sklearn.metrics import accuracy_score\n",
    "lr = LogisticRegression(solver='lbfgs',penalty='none',random_state=0,n_jobs=-1)\n",
    "model = lr.fit(X_train, y_train)\n",
    "pred = model.predict(X_test)  # 학습된 Classifier로 테스트 데이터셋 자료이용해서 타겟변수 예측값 생성\n",
    "\n",
    "print (\"Logreg Training set score:{:.5f}\".format(model.score(X_train, y_train))) \n",
    "print (\"Logreg Test set score:{:.5f}\".format(accuracy_score(y_test, pred)))"
   ]
  },
  {
   "cell_type": "code",
   "execution_count": null,
   "metadata": {
    "colab": {
     "base_uri": "https://localhost:8080/"
    },
    "id": "n_zTmOibk378",
    "executionInfo": {
     "status": "ok",
     "timestamp": 1662439065871,
     "user_tz": -540,
     "elapsed": 990,
     "user": {
      "displayName": "Jason SJ Yim",
      "userId": "00334139127424328539"
     }
    },
    "outputId": "94f5dc44-0aef-4eff-f2a5-ed11a49806cd",
    "ExecuteTime": {
     "start_time": "2023-08-02T04:15:18.958348Z"
    }
   },
   "outputs": [],
   "source": [
    "# Logistic Regression 모형 (Default 모델)\n",
    "lr = LogisticRegression(solver='lbfgs',penalty='none',random_state=0,n_jobs=-1)\n",
    "\n",
    "# 그리드 서치 실행\n",
    "from sklearn.model_selection import GridSearchCV\n",
    "params = {'solver':['lbfgs', 'saga'], 'penalty':['none']}\n",
    "\n",
    "grid_lr = GridSearchCV(lr, param_grid=params, scoring='accuracy', cv=5, n_jobs=-1,)\n",
    "grid_lr.fit(X_train, y_train)\n",
    "\n",
    "print(\"GridSearchCV max accuracy:{:.5f}\".format(grid_lr.best_score_))\n",
    "print(\"GridSearchCV best parameter:\", (grid_lr.best_params_)) "
   ]
  },
  {
   "cell_type": "code",
   "execution_count": null,
   "metadata": {
    "colab": {
     "base_uri": "https://localhost:8080/"
    },
    "id": "CgfXG6gNk378",
    "executionInfo": {
     "status": "ok",
     "timestamp": 1662439075710,
     "user_tz": -540,
     "elapsed": 249,
     "user": {
      "displayName": "Jason SJ Yim",
      "userId": "00334139127424328539"
     }
    },
    "outputId": "785b37aa-ef99-42c6-a14c-bae1a3f2b78c",
    "ExecuteTime": {
     "start_time": "2023-08-02T04:15:18.960347Z"
    }
   },
   "outputs": [],
   "source": [
    "best_clf = grid_lr.best_estimator_\n",
    "pred = best_clf.predict(X_test)\n",
    "print(\"Accuracy on test set:{:.5f}\".format(accuracy_score(y_test, pred)))"
   ]
  },
  {
   "cell_type": "code",
   "execution_count": null,
   "metadata": {
    "id": "6z2N4y1Dk378",
    "ExecuteTime": {
     "start_time": "2023-08-02T04:15:18.961892Z"
    }
   },
   "outputs": [],
   "source": []
  }
 ],
 "metadata": {
  "kernelspec": {
   "display_name": "Python 3 (ipykernel)",
   "language": "python",
   "name": "python3"
  },
  "language_info": {
   "codemirror_mode": {
    "name": "ipython",
    "version": 3
   },
   "file_extension": ".py",
   "mimetype": "text/x-python",
   "name": "python",
   "nbconvert_exporter": "python",
   "pygments_lexer": "ipython3",
   "version": "3.9.7"
  },
  "colab": {
   "provenance": [],
   "collapsed_sections": []
  }
 },
 "nbformat": 4,
 "nbformat_minor": 0
}
