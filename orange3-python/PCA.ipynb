{
 "cells": [
  {
   "cell_type": "code",
   "execution_count": 32,
   "outputs": [
    {
     "data": {
      "text/plain": "'3.7.16'"
     },
     "execution_count": 32,
     "metadata": {},
     "output_type": "execute_result"
    }
   ],
   "source": [
    "from platform import python_version\n",
    "python_version()"
   ],
   "metadata": {
    "collapsed": false,
    "ExecuteTime": {
     "end_time": "2023-07-27T07:07:24.328725Z",
     "start_time": "2023-07-27T07:07:24.313919Z"
    }
   },
   "id": "9a1ed66f6df0fa06"
  },
  {
   "cell_type": "code",
   "execution_count": 33,
   "outputs": [
    {
     "data": {
      "text/plain": "      id  gender   age  hypertension  heart_disease ever_married  \\\n0   9046    Male  67.0             0              1          Yes   \n1  51676  Female  61.0             0              0          Yes   \n2  31112    Male  80.0             0              1          Yes   \n\n       work_type Residence_type  avg_glucose_level   bmi   smoking_status  \\\n0        Private          Urban             228.69  36.6  formerly smoked   \n1  Self-employed          Rural             202.21   NaN     never smoked   \n2        Private          Rural             105.92  32.5     never smoked   \n\n   stroke  \n0       1  \n1       1  \n2       1  ",
      "text/html": "<div>\n<style scoped>\n    .dataframe tbody tr th:only-of-type {\n        vertical-align: middle;\n    }\n\n    .dataframe tbody tr th {\n        vertical-align: top;\n    }\n\n    .dataframe thead th {\n        text-align: right;\n    }\n</style>\n<table border=\"1\" class=\"dataframe\">\n  <thead>\n    <tr style=\"text-align: right;\">\n      <th></th>\n      <th>id</th>\n      <th>gender</th>\n      <th>age</th>\n      <th>hypertension</th>\n      <th>heart_disease</th>\n      <th>ever_married</th>\n      <th>work_type</th>\n      <th>Residence_type</th>\n      <th>avg_glucose_level</th>\n      <th>bmi</th>\n      <th>smoking_status</th>\n      <th>stroke</th>\n    </tr>\n  </thead>\n  <tbody>\n    <tr>\n      <th>0</th>\n      <td>9046</td>\n      <td>Male</td>\n      <td>67.0</td>\n      <td>0</td>\n      <td>1</td>\n      <td>Yes</td>\n      <td>Private</td>\n      <td>Urban</td>\n      <td>228.69</td>\n      <td>36.6</td>\n      <td>formerly smoked</td>\n      <td>1</td>\n    </tr>\n    <tr>\n      <th>1</th>\n      <td>51676</td>\n      <td>Female</td>\n      <td>61.0</td>\n      <td>0</td>\n      <td>0</td>\n      <td>Yes</td>\n      <td>Self-employed</td>\n      <td>Rural</td>\n      <td>202.21</td>\n      <td>NaN</td>\n      <td>never smoked</td>\n      <td>1</td>\n    </tr>\n    <tr>\n      <th>2</th>\n      <td>31112</td>\n      <td>Male</td>\n      <td>80.0</td>\n      <td>0</td>\n      <td>1</td>\n      <td>Yes</td>\n      <td>Private</td>\n      <td>Rural</td>\n      <td>105.92</td>\n      <td>32.5</td>\n      <td>never smoked</td>\n      <td>1</td>\n    </tr>\n  </tbody>\n</table>\n</div>"
     },
     "execution_count": 33,
     "metadata": {},
     "output_type": "execute_result"
    }
   ],
   "source": [
    "import pandas as pd\n",
    "import numpy as np\n",
    "\n",
    "df = pd.read_csv('./healthcare-dataset-stroke-data.csv')\n",
    "df.shape\n",
    "df.head(3)\n",
    "\n"
   ],
   "metadata": {
    "collapsed": false,
    "ExecuteTime": {
     "end_time": "2023-07-27T07:07:24.371211Z",
     "start_time": "2023-07-27T07:07:24.320337Z"
    }
   },
   "id": "720b0827ad8e6b19"
  },
  {
   "cell_type": "code",
   "execution_count": 34,
   "outputs": [
    {
     "data": {
      "text/plain": "    age  avg_glucose_level   bmi\n0  67.0             228.69  36.6\n1  61.0             202.21   NaN\n2  80.0             105.92  32.5",
      "text/html": "<div>\n<style scoped>\n    .dataframe tbody tr th:only-of-type {\n        vertical-align: middle;\n    }\n\n    .dataframe tbody tr th {\n        vertical-align: top;\n    }\n\n    .dataframe thead th {\n        text-align: right;\n    }\n</style>\n<table border=\"1\" class=\"dataframe\">\n  <thead>\n    <tr style=\"text-align: right;\">\n      <th></th>\n      <th>age</th>\n      <th>avg_glucose_level</th>\n      <th>bmi</th>\n    </tr>\n  </thead>\n  <tbody>\n    <tr>\n      <th>0</th>\n      <td>67.0</td>\n      <td>228.69</td>\n      <td>36.6</td>\n    </tr>\n    <tr>\n      <th>1</th>\n      <td>61.0</td>\n      <td>202.21</td>\n      <td>NaN</td>\n    </tr>\n    <tr>\n      <th>2</th>\n      <td>80.0</td>\n      <td>105.92</td>\n      <td>32.5</td>\n    </tr>\n  </tbody>\n</table>\n</div>"
     },
     "execution_count": 34,
     "metadata": {},
     "output_type": "execute_result"
    }
   ],
   "source": [
    "cols = ['age', 'avg_glucose_level', 'bmi']\n",
    "df1 = df[cols]\n",
    "\n",
    "df1.shape\n",
    "df1.head(3)"
   ],
   "metadata": {
    "collapsed": false,
    "ExecuteTime": {
     "end_time": "2023-07-27T07:07:24.371911Z",
     "start_time": "2023-07-27T07:07:24.338264Z"
    }
   },
   "id": "31f9ce2b95113eeb"
  },
  {
   "cell_type": "code",
   "execution_count": 35,
   "outputs": [
    {
     "data": {
      "text/plain": "               age  avg_glucose_level          bmi\ncount  5110.000000        5110.000000  4909.000000\nmean     43.226614         106.147677    28.893237\nstd      22.612647          45.283560     7.854067\nmin       0.080000          55.120000    10.300000\n25%      25.000000          77.245000    23.500000\n50%      45.000000          91.885000    28.100000\n75%      61.000000         114.090000    33.100000\nmax      82.000000         271.740000    97.600000",
      "text/html": "<div>\n<style scoped>\n    .dataframe tbody tr th:only-of-type {\n        vertical-align: middle;\n    }\n\n    .dataframe tbody tr th {\n        vertical-align: top;\n    }\n\n    .dataframe thead th {\n        text-align: right;\n    }\n</style>\n<table border=\"1\" class=\"dataframe\">\n  <thead>\n    <tr style=\"text-align: right;\">\n      <th></th>\n      <th>age</th>\n      <th>avg_glucose_level</th>\n      <th>bmi</th>\n    </tr>\n  </thead>\n  <tbody>\n    <tr>\n      <th>count</th>\n      <td>5110.000000</td>\n      <td>5110.000000</td>\n      <td>4909.000000</td>\n    </tr>\n    <tr>\n      <th>mean</th>\n      <td>43.226614</td>\n      <td>106.147677</td>\n      <td>28.893237</td>\n    </tr>\n    <tr>\n      <th>std</th>\n      <td>22.612647</td>\n      <td>45.283560</td>\n      <td>7.854067</td>\n    </tr>\n    <tr>\n      <th>min</th>\n      <td>0.080000</td>\n      <td>55.120000</td>\n      <td>10.300000</td>\n    </tr>\n    <tr>\n      <th>25%</th>\n      <td>25.000000</td>\n      <td>77.245000</td>\n      <td>23.500000</td>\n    </tr>\n    <tr>\n      <th>50%</th>\n      <td>45.000000</td>\n      <td>91.885000</td>\n      <td>28.100000</td>\n    </tr>\n    <tr>\n      <th>75%</th>\n      <td>61.000000</td>\n      <td>114.090000</td>\n      <td>33.100000</td>\n    </tr>\n    <tr>\n      <th>max</th>\n      <td>82.000000</td>\n      <td>271.740000</td>\n      <td>97.600000</td>\n    </tr>\n  </tbody>\n</table>\n</div>"
     },
     "execution_count": 35,
     "metadata": {},
     "output_type": "execute_result"
    }
   ],
   "source": [
    "df1.describe()"
   ],
   "metadata": {
    "collapsed": false,
    "ExecuteTime": {
     "end_time": "2023-07-27T07:07:24.372763Z",
     "start_time": "2023-07-27T07:07:24.351893Z"
    }
   },
   "id": "5ae0233be421e2ce"
  },
  {
   "cell_type": "code",
   "execution_count": 36,
   "outputs": [
    {
     "data": {
      "text/plain": "               age  avg_glucose_level          bmi\ncount  4909.000000        4909.000000  4909.000000\nmean     42.865374         105.305150    28.893237\nstd      22.555115          44.424341     7.854067\nmin       0.080000          55.120000    10.300000\n25%      25.000000          77.070000    23.500000\n50%      44.000000          91.680000    28.100000\n75%      60.000000         113.570000    33.100000\nmax      82.000000         271.740000    97.600000",
      "text/html": "<div>\n<style scoped>\n    .dataframe tbody tr th:only-of-type {\n        vertical-align: middle;\n    }\n\n    .dataframe tbody tr th {\n        vertical-align: top;\n    }\n\n    .dataframe thead th {\n        text-align: right;\n    }\n</style>\n<table border=\"1\" class=\"dataframe\">\n  <thead>\n    <tr style=\"text-align: right;\">\n      <th></th>\n      <th>age</th>\n      <th>avg_glucose_level</th>\n      <th>bmi</th>\n    </tr>\n  </thead>\n  <tbody>\n    <tr>\n      <th>count</th>\n      <td>4909.000000</td>\n      <td>4909.000000</td>\n      <td>4909.000000</td>\n    </tr>\n    <tr>\n      <th>mean</th>\n      <td>42.865374</td>\n      <td>105.305150</td>\n      <td>28.893237</td>\n    </tr>\n    <tr>\n      <th>std</th>\n      <td>22.555115</td>\n      <td>44.424341</td>\n      <td>7.854067</td>\n    </tr>\n    <tr>\n      <th>min</th>\n      <td>0.080000</td>\n      <td>55.120000</td>\n      <td>10.300000</td>\n    </tr>\n    <tr>\n      <th>25%</th>\n      <td>25.000000</td>\n      <td>77.070000</td>\n      <td>23.500000</td>\n    </tr>\n    <tr>\n      <th>50%</th>\n      <td>44.000000</td>\n      <td>91.680000</td>\n      <td>28.100000</td>\n    </tr>\n    <tr>\n      <th>75%</th>\n      <td>60.000000</td>\n      <td>113.570000</td>\n      <td>33.100000</td>\n    </tr>\n    <tr>\n      <th>max</th>\n      <td>82.000000</td>\n      <td>271.740000</td>\n      <td>97.600000</td>\n    </tr>\n  </tbody>\n</table>\n</div>"
     },
     "execution_count": 36,
     "metadata": {},
     "output_type": "execute_result"
    }
   ],
   "source": [
    "df2 = df1.dropna() # 데이터 프레임 df1의 결측값이 있는 행을 제거하고\n",
    "df2.describe()"
   ],
   "metadata": {
    "collapsed": false,
    "ExecuteTime": {
     "end_time": "2023-07-27T07:07:24.382280Z",
     "start_time": "2023-07-27T07:07:24.368276Z"
    }
   },
   "id": "bd4a86ebc836184c"
  },
  {
   "cell_type": "code",
   "execution_count": 37,
   "outputs": [
    {
     "data": {
      "text/plain": "numpy.ndarray"
     },
     "execution_count": 37,
     "metadata": {},
     "output_type": "execute_result"
    }
   ],
   "source": [
    "from sklearn.preprocessing import StandardScaler\n",
    "X_scaled = StandardScaler().fit_transform(df2)\n",
    "\n",
    "type(X_scaled)"
   ],
   "metadata": {
    "collapsed": false,
    "ExecuteTime": {
     "end_time": "2023-07-27T07:07:24.408823Z",
     "start_time": "2023-07-27T07:07:24.385690Z"
    }
   },
   "id": "5c7f4d44cb5d584b"
  },
  {
   "cell_type": "code",
   "execution_count": 38,
   "outputs": [
    {
     "ename": "ValueError",
     "evalue": "Shape of passed values is (4909, 2), indices imply (4909, 3)",
     "output_type": "error",
     "traceback": [
      "\u001B[0;31m---------------------------------------------------------------------------\u001B[0m",
      "\u001B[0;31mValueError\u001B[0m                                Traceback (most recent call last)",
      "\u001B[0;32m/var/folders/wy/lf510fmd5_bg4dg6s40n38vm0000gn/T/ipykernel_12961/3913926870.py\u001B[0m in \u001B[0;36m<module>\u001B[0;34m\u001B[0m\n\u001B[1;32m      3\u001B[0m \u001B[0mX_pca\u001B[0m \u001B[0;34m=\u001B[0m \u001B[0mpca\u001B[0m\u001B[0;34m.\u001B[0m\u001B[0mfit_transform\u001B[0m\u001B[0;34m(\u001B[0m\u001B[0mX_scaled\u001B[0m\u001B[0;34m)\u001B[0m \u001B[0;31m# X_scaled에 저장된 자료를 통해 주성분 분석\u001B[0m\u001B[0;34m\u001B[0m\u001B[0;34m\u001B[0m\u001B[0m\n\u001B[1;32m      4\u001B[0m \u001B[0;34m\u001B[0m\u001B[0m\n\u001B[0;32m----> 5\u001B[0;31m \u001B[0mdf_pca\u001B[0m \u001B[0;34m=\u001B[0m \u001B[0mpd\u001B[0m\u001B[0;34m.\u001B[0m\u001B[0mDataFrame\u001B[0m\u001B[0;34m(\u001B[0m\u001B[0mdata\u001B[0m\u001B[0;34m=\u001B[0m\u001B[0mX_pca\u001B[0m\u001B[0;34m,\u001B[0m \u001B[0mcolumns\u001B[0m\u001B[0;34m=\u001B[0m\u001B[0;34m[\u001B[0m\u001B[0;34m'PC1'\u001B[0m\u001B[0;34m,\u001B[0m \u001B[0;34m'PC2'\u001B[0m\u001B[0;34m,\u001B[0m \u001B[0;34m'PC3'\u001B[0m\u001B[0;34m]\u001B[0m\u001B[0;34m)\u001B[0m \u001B[0;31m#X_pca가 numpy array 이를 데이터\u001B[0m\u001B[0;34m\u001B[0m\u001B[0;34m\u001B[0m\u001B[0m\n\u001B[0m\u001B[1;32m      6\u001B[0m \u001B[0mdf_pca\u001B[0m\u001B[0;34m.\u001B[0m\u001B[0mshape\u001B[0m\u001B[0;34m\u001B[0m\u001B[0;34m\u001B[0m\u001B[0m\n\u001B[1;32m      7\u001B[0m \u001B[0;34m\u001B[0m\u001B[0m\n",
      "\u001B[0;32m~/.conda/envs/helloworld/lib/python3.7/site-packages/pandas/core/frame.py\u001B[0m in \u001B[0;36m__init__\u001B[0;34m(self, data, index, columns, dtype, copy)\u001B[0m\n\u001B[1;32m    676\u001B[0m                     \u001B[0mdtype\u001B[0m\u001B[0;34m=\u001B[0m\u001B[0mdtype\u001B[0m\u001B[0;34m,\u001B[0m\u001B[0;34m\u001B[0m\u001B[0;34m\u001B[0m\u001B[0m\n\u001B[1;32m    677\u001B[0m                     \u001B[0mcopy\u001B[0m\u001B[0;34m=\u001B[0m\u001B[0mcopy\u001B[0m\u001B[0;34m,\u001B[0m\u001B[0;34m\u001B[0m\u001B[0;34m\u001B[0m\u001B[0m\n\u001B[0;32m--> 678\u001B[0;31m                     \u001B[0mtyp\u001B[0m\u001B[0;34m=\u001B[0m\u001B[0mmanager\u001B[0m\u001B[0;34m,\u001B[0m\u001B[0;34m\u001B[0m\u001B[0;34m\u001B[0m\u001B[0m\n\u001B[0m\u001B[1;32m    679\u001B[0m                 )\n\u001B[1;32m    680\u001B[0m \u001B[0;34m\u001B[0m\u001B[0m\n",
      "\u001B[0;32m~/.conda/envs/helloworld/lib/python3.7/site-packages/pandas/core/internals/construction.py\u001B[0m in \u001B[0;36mndarray_to_mgr\u001B[0;34m(values, index, columns, dtype, copy, typ)\u001B[0m\n\u001B[1;32m    322\u001B[0m     )\n\u001B[1;32m    323\u001B[0m \u001B[0;34m\u001B[0m\u001B[0m\n\u001B[0;32m--> 324\u001B[0;31m     \u001B[0m_check_values_indices_shape_match\u001B[0m\u001B[0;34m(\u001B[0m\u001B[0mvalues\u001B[0m\u001B[0;34m,\u001B[0m \u001B[0mindex\u001B[0m\u001B[0;34m,\u001B[0m \u001B[0mcolumns\u001B[0m\u001B[0;34m)\u001B[0m\u001B[0;34m\u001B[0m\u001B[0;34m\u001B[0m\u001B[0m\n\u001B[0m\u001B[1;32m    325\u001B[0m \u001B[0;34m\u001B[0m\u001B[0m\n\u001B[1;32m    326\u001B[0m     \u001B[0;32mif\u001B[0m \u001B[0mtyp\u001B[0m \u001B[0;34m==\u001B[0m \u001B[0;34m\"array\"\u001B[0m\u001B[0;34m:\u001B[0m\u001B[0;34m\u001B[0m\u001B[0;34m\u001B[0m\u001B[0m\n",
      "\u001B[0;32m~/.conda/envs/helloworld/lib/python3.7/site-packages/pandas/core/internals/construction.py\u001B[0m in \u001B[0;36m_check_values_indices_shape_match\u001B[0;34m(values, index, columns)\u001B[0m\n\u001B[1;32m    391\u001B[0m         \u001B[0mpassed\u001B[0m \u001B[0;34m=\u001B[0m \u001B[0mvalues\u001B[0m\u001B[0;34m.\u001B[0m\u001B[0mshape\u001B[0m\u001B[0;34m\u001B[0m\u001B[0;34m\u001B[0m\u001B[0m\n\u001B[1;32m    392\u001B[0m         \u001B[0mimplied\u001B[0m \u001B[0;34m=\u001B[0m \u001B[0;34m(\u001B[0m\u001B[0mlen\u001B[0m\u001B[0;34m(\u001B[0m\u001B[0mindex\u001B[0m\u001B[0;34m)\u001B[0m\u001B[0;34m,\u001B[0m \u001B[0mlen\u001B[0m\u001B[0;34m(\u001B[0m\u001B[0mcolumns\u001B[0m\u001B[0;34m)\u001B[0m\u001B[0;34m)\u001B[0m\u001B[0;34m\u001B[0m\u001B[0;34m\u001B[0m\u001B[0m\n\u001B[0;32m--> 393\u001B[0;31m         \u001B[0;32mraise\u001B[0m \u001B[0mValueError\u001B[0m\u001B[0;34m(\u001B[0m\u001B[0;34mf\"Shape of passed values is {passed}, indices imply {implied}\"\u001B[0m\u001B[0;34m)\u001B[0m\u001B[0;34m\u001B[0m\u001B[0;34m\u001B[0m\u001B[0m\n\u001B[0m\u001B[1;32m    394\u001B[0m \u001B[0;34m\u001B[0m\u001B[0m\n\u001B[1;32m    395\u001B[0m \u001B[0;34m\u001B[0m\u001B[0m\n",
      "\u001B[0;31mValueError\u001B[0m: Shape of passed values is (4909, 2), indices imply (4909, 3)"
     ]
    }
   ],
   "source": [
    "from sklearn.decomposition import PCA\n",
    "pca = PCA(n_components=2)     # 주성분을 2개 지정\n",
    "X_pca = pca.fit_transform(X_scaled) # X_scaled에 저장된 자료를 통해 주성분 분석\n",
    "\n",
    "df_pca = pd.DataFrame(data=X_pca, columns=['PC1', 'PC2']) #X_pca가 numpy array 이를 데이터\n",
    "df_pca.shape\n"
   ],
   "metadata": {
    "collapsed": false,
    "ExecuteTime": {
     "end_time": "2023-07-27T07:07:24.539812Z",
     "start_time": "2023-07-27T07:07:24.393967Z"
    }
   },
   "id": "618c9257ac634ddb"
  },
  {
   "cell_type": "code",
   "execution_count": null,
   "outputs": [],
   "source": [
    "df_pca.head(3)"
   ],
   "metadata": {
    "collapsed": false,
    "ExecuteTime": {
     "start_time": "2023-07-27T07:07:24.409930Z"
    }
   },
   "id": "a0696186747444"
  },
  {
   "cell_type": "code",
   "execution_count": null,
   "outputs": [],
   "source": [
    "print(pca.explained_variance_ratio_) # 각 주성분이 설명하는 분산 비용을 표기"
   ],
   "metadata": {
    "collapsed": false,
    "ExecuteTime": {
     "start_time": "2023-07-27T07:07:24.412566Z"
    }
   },
   "id": "e300e446193acdb6"
  },
  {
   "cell_type": "code",
   "execution_count": 43,
   "outputs": [],
   "source": [
    "df_scaled = pd.DataFrame(data=X_scaled, columns=['PC1', 'PC2', 'PC3'])\n",
    " #X_scaled가 numpy array 형태인데 이를 데이터\n",
    "\n",
    "df_scaled.to_csv('./healthcare-dataset-stroke-data-scaled.csv', index=False)"
   ],
   "metadata": {
    "collapsed": false,
    "ExecuteTime": {
     "end_time": "2023-07-27T07:08:20.715289Z",
     "start_time": "2023-07-27T07:08:20.687534Z"
    }
   },
   "id": "6a882308e982fa8e"
  }
 ],
 "metadata": {
  "kernelspec": {
   "display_name": "Python 3",
   "language": "python",
   "name": "python3"
  },
  "language_info": {
   "codemirror_mode": {
    "name": "ipython",
    "version": 2
   },
   "file_extension": ".py",
   "mimetype": "text/x-python",
   "name": "python",
   "nbconvert_exporter": "python",
   "pygments_lexer": "ipython2",
   "version": "2.7.6"
  }
 },
 "nbformat": 4,
 "nbformat_minor": 5
}
