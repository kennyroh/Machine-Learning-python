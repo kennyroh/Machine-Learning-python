{
 "cells": [
  {
   "cell_type": "markdown",
   "metadata": {
    "id": "NxXaTbLQ28FN"
   },
   "source": [
    "# 5.2.1 데이터 추가 처리\n"
   ]
  },
  {
   "cell_type": "code",
   "source": [
    "# from google.colab import drive\n",
    "# drive.mount('/content/drive')"
   ],
   "metadata": {
    "colab": {
     "base_uri": "https://localhost:8080/"
    },
    "id": "E-91uj1c3EVH",
    "executionInfo": {
     "status": "ok",
     "timestamp": 1662435245310,
     "user_tz": -540,
     "elapsed": 25516,
     "user": {
      "displayName": "Jason SJ Yim",
      "userId": "00334139127424328539"
     }
    },
    "outputId": "2355a7d6-1866-4a9f-df4d-fdd7d24bffe8",
    "ExecuteTime": {
     "end_time": "2023-08-01T05:01:59.193479Z",
     "start_time": "2023-08-01T05:01:59.035922Z"
    }
   },
   "execution_count": 34,
   "outputs": []
  },
  {
   "cell_type": "code",
   "execution_count": 35,
   "metadata": {
    "colab": {
     "base_uri": "https://localhost:8080/"
    },
    "id": "5rZ5klwr28FP",
    "executionInfo": {
     "status": "ok",
     "timestamp": 1662435277274,
     "user_tz": -540,
     "elapsed": 978,
     "user": {
      "displayName": "Jason SJ Yim",
      "userId": "00334139127424328539"
     }
    },
    "outputId": "70689232-2bfb-4fb5-9f0b-d9395a98b482",
    "ExecuteTime": {
     "end_time": "2023-08-01T05:01:59.194466Z",
     "start_time": "2023-08-01T05:01:59.038514Z"
    }
   },
   "outputs": [
    {
     "data": {
      "text/plain": "(3915, 12)"
     },
     "execution_count": 35,
     "metadata": {},
     "output_type": "execute_result"
    }
   ],
   "source": [
    "import pandas as pd\n",
    "import numpy as np\n",
    "pd.set_option('display.max_columns', None)\n",
    "pd.set_option('display.max_rows', None)\n",
    "df = pd.read_csv('healthcare-dataset-2.csv')\n",
    "df.shape"
   ]
  },
  {
   "cell_type": "code",
   "execution_count": 36,
   "metadata": {
    "id": "PCoK3J_K28FR",
    "outputId": "86b7f0b9-01b0-44c6-9863-6431856427e0",
    "ExecuteTime": {
     "end_time": "2023-08-01T05:01:59.194870Z",
     "start_time": "2023-08-01T05:01:59.051077Z"
    }
   },
   "outputs": [
    {
     "data": {
      "text/plain": "id                     int64\ngender                object\nage                  float64\nhypertension           int64\nheart_disease          int64\never_married          object\nwork_type             object\nresidence_type        object\navg_glucose_level    float64\nbmi                  float64\nsmoking_status        object\nstroke                 int64\ndtype: object"
     },
     "execution_count": 36,
     "metadata": {},
     "output_type": "execute_result"
    }
   ],
   "source": [
    "df.dtypes"
   ]
  },
  {
   "cell_type": "code",
   "execution_count": 37,
   "metadata": {
    "id": "WiljWY_b28FR",
    "outputId": "d8307a52-c54a-4db7-8386-eb92c2584c99",
    "ExecuteTime": {
     "end_time": "2023-08-01T05:01:59.195225Z",
     "start_time": "2023-08-01T05:01:59.057301Z"
    }
   },
   "outputs": [
    {
     "data": {
      "text/plain": "Female    2402\nMale      1512\nOther        1\nName: gender, dtype: int64"
     },
     "execution_count": 37,
     "metadata": {},
     "output_type": "execute_result"
    }
   ],
   "source": [
    "df['gender'].value_counts(dropna=False)   # 개수 기준 분포 구하기"
   ]
  },
  {
   "cell_type": "code",
   "execution_count": 38,
   "metadata": {
    "id": "xiFCrOUu28FS",
    "outputId": "187fbfb4-f5df-467e-d704-d05997371811",
    "ExecuteTime": {
     "end_time": "2023-08-01T05:01:59.195549Z",
     "start_time": "2023-08-01T05:01:59.069541Z"
    }
   },
   "outputs": [
    {
     "data": {
      "text/plain": "Female    0.613538\nMale      0.386207\nOther     0.000255\nName: gender, dtype: float64"
     },
     "execution_count": 38,
     "metadata": {},
     "output_type": "execute_result"
    }
   ],
   "source": [
    "# 참조 코딩\n",
    "df['gender'].value_counts(dropna=False, normalize=True)   # 분포 기준 분포 구하기"
   ]
  },
  {
   "cell_type": "code",
   "execution_count": 39,
   "metadata": {
    "id": "_sR4GVXr28FS",
    "outputId": "f4d82984-4d29-4dd4-b6cb-04b885901210",
    "ExecuteTime": {
     "end_time": "2023-08-01T05:01:59.195865Z",
     "start_time": "2023-08-01T05:01:59.084199Z"
    }
   },
   "outputs": [
    {
     "name": "stdout",
     "output_type": "stream",
     "text": [
      "\n",
      "---- gender ---\n",
      "Female    0.613538\n",
      "Male      0.386207\n",
      "Other     0.000255\n",
      "Name: gender, dtype: float64\n",
      "\n",
      "---- hypertension ---\n",
      "0    0.891699\n",
      "1    0.108301\n",
      "Name: hypertension, dtype: float64\n",
      "\n",
      "---- heart_disease ---\n",
      "0    0.941507\n",
      "1    0.058493\n",
      "Name: heart_disease, dtype: float64\n",
      "\n",
      "---- ever_married ---\n",
      "Yes    0.794636\n",
      "No     0.205364\n",
      "Name: ever_married, dtype: float64\n",
      "\n",
      "---- work_type ---\n",
      "Private          0.655428\n",
      "Self-employed    0.187995\n",
      "Govt_job         0.156066\n",
      "Never_worked     0.000511\n",
      "Name: work_type, dtype: float64\n",
      "\n",
      "---- residence_type ---\n",
      "Urban    0.5106\n",
      "Rural    0.4894\n",
      "Name: residence_type, dtype: float64\n",
      "\n",
      "---- smoking_status ---\n",
      "never smoked       0.419668\n",
      "formerly smoked    0.201277\n",
      "Unknown            0.199234\n",
      "smokes             0.179821\n",
      "Name: smoking_status, dtype: float64\n"
     ]
    }
   ],
   "source": [
    "# 범주형 변수를 cols1에 저장\n",
    "cols1 = ['gender', 'hypertension', 'heart_disease', 'ever_married',\n",
    "        'work_type', 'residence_type', 'smoking_status']\n",
    "df1 = df[cols1]   # 범주형 변수만 모은 cols1로 구성된 데이터프레임 df1을 생성\n",
    "\n",
    "# 데이터프레임 df1안의 컬럼명을 순차적으로 value_counts() 구문에 넣어서 결과 출력\n",
    "for col in df1.columns:\n",
    "    print (\"\") \n",
    "    print (\"---- %s ---\" % col)\n",
    "    print (df[col].value_counts(dropna=False, normalize=True))  "
   ]
  },
  {
   "cell_type": "code",
   "execution_count": 40,
   "metadata": {
    "id": "I3rpVdND28FT",
    "outputId": "6ef5475f-0c2c-473c-e1d3-6075a537ea63",
    "ExecuteTime": {
     "end_time": "2023-08-01T05:01:59.196177Z",
     "start_time": "2023-08-01T05:01:59.089304Z"
    }
   },
   "outputs": [
    {
     "data": {
      "text/plain": "['id',\n 'gender',\n 'age',\n 'hypertension',\n 'heart_disease',\n 'ever_married',\n 'work_type',\n 'residence_type',\n 'avg_glucose_level',\n 'bmi',\n 'smoking_status',\n 'stroke']"
     },
     "execution_count": 40,
     "metadata": {},
     "output_type": "execute_result"
    }
   ],
   "source": [
    "# 참조 코딩\n",
    "list(df.columns)"
   ]
  },
  {
   "cell_type": "code",
   "execution_count": 41,
   "metadata": {
    "id": "zWxeM0JS28FU",
    "outputId": "c54e0159-73fb-48ff-c3eb-b2d80d86869f",
    "ExecuteTime": {
     "end_time": "2023-08-01T05:01:59.196478Z",
     "start_time": "2023-08-01T05:01:59.092409Z"
    }
   },
   "outputs": [
    {
     "data": {
      "text/plain": "Yes    3111\nNo      804\nName: ever_married, dtype: int64"
     },
     "execution_count": 41,
     "metadata": {},
     "output_type": "execute_result"
    }
   ],
   "source": [
    "# 참조 코딩\n",
    "df['ever_married'].value_counts()"
   ]
  },
  {
   "cell_type": "code",
   "execution_count": 42,
   "metadata": {
    "id": "8Pps12K528FU",
    "ExecuteTime": {
     "end_time": "2023-08-01T05:01:59.196630Z",
     "start_time": "2023-08-01T05:01:59.102162Z"
    }
   },
   "outputs": [],
   "source": [
    "# 참조 코딩\n",
    "cols2 = ['ever_married']\n",
    "df100 = pd.get_dummies(df, columns=cols2) \n",
    "#df100['ever_married'].value_counts()"
   ]
  },
  {
   "cell_type": "code",
   "execution_count": 43,
   "metadata": {
    "id": "1nsg0eew28FV",
    "outputId": "ed6fdc52-543c-480a-d155-9a1a40e3d84b",
    "ExecuteTime": {
     "end_time": "2023-08-01T05:01:59.196976Z",
     "start_time": "2023-08-01T05:01:59.108960Z"
    }
   },
   "outputs": [
    {
     "data": {
      "text/plain": "['id',\n 'gender',\n 'age',\n 'hypertension',\n 'heart_disease',\n 'work_type',\n 'residence_type',\n 'avg_glucose_level',\n 'bmi',\n 'smoking_status',\n 'stroke',\n 'ever_married_No',\n 'ever_married_Yes']"
     },
     "execution_count": 43,
     "metadata": {},
     "output_type": "execute_result"
    }
   ],
   "source": [
    "# 참조 코딩\n",
    "list(df100.columns)"
   ]
  },
  {
   "cell_type": "code",
   "execution_count": 44,
   "metadata": {
    "id": "5zMIOw8J28FW",
    "outputId": "bbbcb297-aea6-4d80-ce52-b98a4798352f",
    "ExecuteTime": {
     "end_time": "2023-08-01T05:01:59.197302Z",
     "start_time": "2023-08-01T05:01:59.116252Z"
    }
   },
   "outputs": [
    {
     "data": {
      "text/plain": "ever_married  ever_married_encoded\nNo            0.0                      804\nYes           1.0                     3111\ndtype: int64"
     },
     "execution_count": 44,
     "metadata": {},
     "output_type": "execute_result"
    }
   ],
   "source": [
    "from sklearn.preprocessing import OrdinalEncoder   # OrdinalEncoder를 import\n",
    "df['ever_married_encoded'] = OrdinalEncoder().fit_transform(df['ever_married'].values.reshape(-1,1))\n",
    "df.groupby(['ever_married', 'ever_married_encoded']).size()   # 변경전후 변수값 비교표 디스플레이"
   ]
  },
  {
   "cell_type": "code",
   "execution_count": 45,
   "metadata": {
    "id": "o33t5Vwy28FW",
    "outputId": "a5fafdaa-61c5-4925-ddfe-e0a01fb85cdb",
    "ExecuteTime": {
     "end_time": "2023-08-01T05:01:59.197639Z",
     "start_time": "2023-08-01T05:01:59.122989Z"
    }
   },
   "outputs": [
    {
     "data": {
      "text/plain": "gender  gender_encoded\nFemale  0.0               2402\nMale    1.0               1512\nOther   2.0                  1\ndtype: int64"
     },
     "execution_count": 45,
     "metadata": {},
     "output_type": "execute_result"
    }
   ],
   "source": [
    "df['gender_encoded'] = OrdinalEncoder().fit_transform(df['gender'].values.reshape(-1,1))\n",
    "df.groupby(['gender', 'gender_encoded']).size()   # 변경전후 변수값 비교표를 출력"
   ]
  },
  {
   "cell_type": "code",
   "execution_count": 46,
   "metadata": {
    "id": "6lIMISlY28FX",
    "outputId": "a7799f88-0123-49c6-ef60-8650b0acb5a9",
    "ExecuteTime": {
     "end_time": "2023-08-01T05:01:59.198082Z",
     "start_time": "2023-08-01T05:01:59.138114Z"
    }
   },
   "outputs": [
    {
     "data": {
      "text/plain": "work_type      work_type_encoded\nGovt_job       0.0                   611\nNever_worked   1.0                     2\nPrivate        2.0                  2566\nSelf-employed  3.0                   736\ndtype: int64"
     },
     "execution_count": 46,
     "metadata": {},
     "output_type": "execute_result"
    }
   ],
   "source": [
    "df['work_type_encoded'] = OrdinalEncoder().fit_transform(df['work_type'].values.reshape(-1,1))\n",
    "df.groupby(['work_type', 'work_type_encoded']).size()   # 변경전후 변수값 비교표를 출력"
   ]
  },
  {
   "cell_type": "code",
   "execution_count": 47,
   "metadata": {
    "id": "sYy2MHxf28FX",
    "outputId": "83850ece-6073-4bee-f3cc-4b8145d2eb82",
    "ExecuteTime": {
     "end_time": "2023-08-01T05:01:59.198526Z",
     "start_time": "2023-08-01T05:01:59.151784Z"
    }
   },
   "outputs": [
    {
     "data": {
      "text/plain": "residence_type  residence_type_encoded\nRural           0.0                       1916\nUrban           1.0                       1999\ndtype: int64"
     },
     "execution_count": 47,
     "metadata": {},
     "output_type": "execute_result"
    }
   ],
   "source": [
    "df['residence_type_encoded'] = OrdinalEncoder().fit_transform(df['residence_type'].values.reshape(-1,1))\n",
    "df.groupby(['residence_type', 'residence_type_encoded']).size()   # 변경전후 변수값 비교표를 출력"
   ]
  },
  {
   "cell_type": "code",
   "execution_count": 48,
   "metadata": {
    "id": "zZbt76ZB28FX",
    "outputId": "bb239b06-c5cf-4d8b-a14c-7193da5a5c8f",
    "ExecuteTime": {
     "end_time": "2023-08-01T05:01:59.198958Z",
     "start_time": "2023-08-01T05:01:59.161634Z"
    }
   },
   "outputs": [
    {
     "data": {
      "text/plain": "smoking_status   smoking_status_encoded\nUnknown          0.0                        780\nformerly smoked  1.0                        788\nnever smoked     2.0                       1643\nsmokes           3.0                        704\ndtype: int64"
     },
     "execution_count": 48,
     "metadata": {},
     "output_type": "execute_result"
    }
   ],
   "source": [
    "df['smoking_status_encoded'] = OrdinalEncoder().fit_transform(df['smoking_status'].values.reshape(-1,1))\n",
    "df.groupby(['smoking_status', 'smoking_status_encoded']).size()   # 변경전후 변수값 비교표를 출력"
   ]
  },
  {
   "cell_type": "code",
   "execution_count": 49,
   "metadata": {
    "scrolled": true,
    "id": "Q-tYoCLd28FY",
    "outputId": "1fdd1ad9-8319-4d29-947e-782513598193",
    "ExecuteTime": {
     "end_time": "2023-08-01T05:01:59.207413Z",
     "start_time": "2023-08-01T05:01:59.168831Z"
    }
   },
   "outputs": [
    {
     "data": {
      "text/plain": "Index(['id', 'gender', 'age', 'hypertension', 'heart_disease', 'ever_married',\n       'work_type', 'residence_type', 'avg_glucose_level', 'bmi',\n       'smoking_status', 'stroke', 'ever_married_encoded', 'gender_encoded',\n       'work_type_encoded', 'residence_type_encoded',\n       'smoking_status_encoded'],\n      dtype='object')"
     },
     "execution_count": 49,
     "metadata": {},
     "output_type": "execute_result"
    }
   ],
   "source": [
    "df.columns"
   ]
  },
  {
   "cell_type": "code",
   "execution_count": 50,
   "metadata": {
    "id": "sN6jT4W528FY",
    "ExecuteTime": {
     "end_time": "2023-08-01T05:01:59.207645Z",
     "start_time": "2023-08-01T05:01:59.174448Z"
    }
   },
   "outputs": [],
   "source": [
    "# drop(inplace=True)가 있는 구문은 한 번만 실행할 수 있습니다.\n",
    "# 두번째 실행하면 이미 특정 변수명이 drop된 상태여서 에러를 발생합니다.\n",
    "df.drop(['id','residence_type','ever_married','gender','work_type','smoking_status'],\n",
    "        axis=1, inplace=True)   "
   ]
  },
  {
   "cell_type": "code",
   "execution_count": 51,
   "metadata": {
    "id": "bN2N79xZ28FY",
    "outputId": "d58ef442-1fcc-4481-dc36-2a8841e05678",
    "ExecuteTime": {
     "end_time": "2023-08-01T05:01:59.207962Z",
     "start_time": "2023-08-01T05:01:59.182795Z"
    }
   },
   "outputs": [
    {
     "data": {
      "text/plain": "['age',\n 'hypertension',\n 'heart_disease',\n 'avg_glucose_level',\n 'bmi',\n 'stroke',\n 'ever_married_encoded',\n 'gender_encoded',\n 'work_type_encoded',\n 'residence_type_encoded',\n 'smoking_status_encoded']"
     },
     "execution_count": 51,
     "metadata": {},
     "output_type": "execute_result"
    }
   ],
   "source": [
    "# 책에서는 df.columns라는 더 간단한 명령어를 사용했습니다.\n",
    "list(df.columns)"
   ]
  },
  {
   "cell_type": "code",
   "execution_count": 52,
   "metadata": {
    "id": "blS_NyYE28FZ",
    "outputId": "6c46279a-0ccb-4cba-bc0c-368e75b762b5",
    "ExecuteTime": {
     "end_time": "2023-08-01T05:01:59.208294Z",
     "start_time": "2023-08-01T05:01:59.186054Z"
    }
   },
   "outputs": [
    {
     "data": {
      "text/plain": "(3915, 11)"
     },
     "execution_count": 52,
     "metadata": {},
     "output_type": "execute_result"
    }
   ],
   "source": [
    "df.shape"
   ]
  },
  {
   "cell_type": "code",
   "execution_count": 53,
   "metadata": {
    "id": "tRjJE0FP28FZ",
    "outputId": "84c7ee02-42e0-4b5b-e4e8-d7c44cac6334",
    "ExecuteTime": {
     "end_time": "2023-08-01T05:01:59.239266Z",
     "start_time": "2023-08-01T05:01:59.192984Z"
    }
   },
   "outputs": [
    {
     "data": {
      "text/plain": "Series([], dtype: bool)"
     },
     "execution_count": 53,
     "metadata": {},
     "output_type": "execute_result"
    }
   ],
   "source": [
    "df.isna().any()[lambda x: x]   # null value를 갖고 있는 변수명(컬럼명) 찾기"
   ]
  },
  {
   "cell_type": "code",
   "execution_count": 54,
   "metadata": {
    "id": "ssk9bTIG28FZ",
    "outputId": "a744efdb-5747-4bd8-d3f6-e8c2ba2ea071",
    "ExecuteTime": {
     "end_time": "2023-08-01T05:01:59.250901Z",
     "start_time": "2023-08-01T05:01:59.198280Z"
    }
   },
   "outputs": [
    {
     "data": {
      "text/plain": "0"
     },
     "execution_count": 54,
     "metadata": {},
     "output_type": "execute_result"
    }
   ],
   "source": [
    "df['bmi'].isnull().sum()       # bmi의 결측값 개수 확인"
   ]
  },
  {
   "cell_type": "code",
   "execution_count": 56,
   "metadata": {
    "id": "vg3bfvzH28Fa",
    "ExecuteTime": {
     "end_time": "2023-08-01T05:02:09.342455Z",
     "start_time": "2023-08-01T05:02:09.315598Z"
    }
   },
   "outputs": [],
   "source": [
    "df.to_csv('healthcare-dataset-3.csv', index=False)"
   ]
  },
  {
   "cell_type": "code",
   "execution_count": 55,
   "outputs": [],
   "source": [],
   "metadata": {
    "collapsed": false,
    "ExecuteTime": {
     "end_time": "2023-08-01T05:01:59.380108Z",
     "start_time": "2023-08-01T05:01:59.230303Z"
    }
   }
  }
 ],
 "metadata": {
  "kernelspec": {
   "display_name": "Python 3 (ipykernel)",
   "language": "python",
   "name": "python3"
  },
  "language_info": {
   "codemirror_mode": {
    "name": "ipython",
    "version": 3
   },
   "file_extension": ".py",
   "mimetype": "text/x-python",
   "name": "python",
   "nbconvert_exporter": "python",
   "pygments_lexer": "ipython3",
   "version": "3.9.7"
  },
  "colab": {
   "provenance": [],
   "collapsed_sections": []
  }
 },
 "nbformat": 4,
 "nbformat_minor": 0
}
