{
 "cells": [
  {
   "cell_type": "markdown",
   "metadata": {
    "id": "TkIz7PbIjyTH"
   },
   "source": [
    "# 5.2.2 데이터 분할 및 대체 "
   ]
  },
  {
   "cell_type": "code",
   "source": [
    "# from google.colab import drive\n",
    "# drive.mount('/content/drive')"
   ],
   "metadata": {
    "colab": {
     "base_uri": "https://localhost:8080/"
    },
    "id": "TVfHzoIH48xw",
    "executionInfo": {
     "status": "ok",
     "timestamp": 1662435772969,
     "user_tz": -540,
     "elapsed": 46781,
     "user": {
      "displayName": "Jason SJ Yim",
      "userId": "00334139127424328539"
     }
    },
    "outputId": "3678ff34-f699-47aa-9c23-3ac0ad6ef276",
    "ExecuteTime": {
     "end_time": "2023-08-01T09:41:49.575711Z",
     "start_time": "2023-08-01T09:41:49.401494Z"
    }
   },
   "execution_count": 11,
   "outputs": []
  },
  {
   "cell_type": "code",
   "execution_count": 12,
   "outputs": [],
   "source": [
    "# pip install -U imbalanced-learn"
   ],
   "metadata": {
    "collapsed": false,
    "ExecuteTime": {
     "end_time": "2023-08-01T09:41:49.584915Z",
     "start_time": "2023-08-01T09:41:49.409863Z"
    }
   }
  },
  {
   "cell_type": "code",
   "execution_count": 13,
   "outputs": [
    {
     "name": "stdout",
     "output_type": "stream",
     "text": [
      "0.11.0\n"
     ]
    }
   ],
   "source": [
    "# 참조 코딩\n",
    "import imblearn\n",
    "print(imblearn.__version__)"
   ],
   "metadata": {
    "collapsed": false,
    "ExecuteTime": {
     "end_time": "2023-08-01T09:41:49.633892Z",
     "start_time": "2023-08-01T09:41:49.412798Z"
    }
   }
  },
  {
   "cell_type": "code",
   "source": [
    "!pip install graphviz"
   ],
   "metadata": {
    "colab": {
     "base_uri": "https://localhost:8080/"
    },
    "id": "a0Irm04A4pH5",
    "executionInfo": {
     "status": "ok",
     "timestamp": 1662435884182,
     "user_tz": -540,
     "elapsed": 3919,
     "user": {
      "displayName": "Jason SJ Yim",
      "userId": "00334139127424328539"
     }
    },
    "outputId": "5b5f4b9c-4043-404e-c505-6082f57de7f2",
    "ExecuteTime": {
     "end_time": "2023-08-01T09:41:51.427251Z",
     "start_time": "2023-08-01T09:41:49.520831Z"
    }
   },
   "execution_count": 14,
   "outputs": [
    {
     "name": "stdout",
     "output_type": "stream",
     "text": [
      "Requirement already satisfied: graphviz in /Users/kenny/.conda/envs/helloworld/lib/python3.7/site-packages (0.20.1)\r\n"
     ]
    }
   ]
  },
  {
   "cell_type": "code",
   "source": [
    "import graphviz"
   ],
   "metadata": {
    "id": "UcmXq9gD4x-j",
    "ExecuteTime": {
     "end_time": "2023-08-01T09:41:51.473733Z",
     "start_time": "2023-08-01T09:41:51.431685Z"
    }
   },
   "execution_count": 15,
   "outputs": []
  },
  {
   "cell_type": "code",
   "execution_count": 16,
   "metadata": {
    "id": "UCJ0i0HvjyTL",
    "executionInfo": {
     "status": "ok",
     "timestamp": 1662436300787,
     "user_tz": -540,
     "elapsed": 1424,
     "user": {
      "displayName": "Jason SJ Yim",
      "userId": "00334139127424328539"
     }
    },
    "colab": {
     "base_uri": "https://localhost:8080/"
    },
    "outputId": "e4040cfe-619b-4c30-f910-fd3f58800c04",
    "ExecuteTime": {
     "end_time": "2023-08-01T09:41:51.477578Z",
     "start_time": "2023-08-01T09:41:51.461969Z"
    }
   },
   "outputs": [
    {
     "data": {
      "text/plain": "(3915, 11)"
     },
     "execution_count": 16,
     "metadata": {},
     "output_type": "execute_result"
    }
   ],
   "source": [
    "import pandas as pd\n",
    "import numpy as np\n",
    "df = pd.read_csv('/content/drive/MyDrive/Colab Notebooks/Book2/Ch5/healthcare-dataset-3.csv')\n",
    "df.shape"
   ]
  },
  {
   "cell_type": "code",
   "source": [
    "# 참조 코딩 (아래 코딩을 실행 안해도 추후 결과는 동일합니다.)\n",
    "# dtype을 category로 지정해 줄 변수들을 cols2에 임시 저장\n",
    "cols2 = ['hypertension', 'heart_disease', 'stroke', 'ever_married_encoded', 'gender_encoded',\n",
    "         'work_type_encoded', 'residence_type_encoded', 'smoking_status_encoded']\n",
    "\n",
    "df[cols2] = df[cols2].astype('category')   # cols2에 저장된 변수들의 dtype을 category로 변경"
   ],
   "metadata": {
    "id": "_sPCmQY_68de",
    "ExecuteTime": {
     "end_time": "2023-08-01T09:41:51.488119Z",
     "start_time": "2023-08-01T09:41:51.476211Z"
    }
   },
   "execution_count": 17,
   "outputs": []
  },
  {
   "cell_type": "code",
   "source": [
    "data = df.drop(['stroke'], axis=1)   # 타겟변수를 제외한 변수만 data에 저장\n",
    "target = df['stroke']                # 타겟변수만 target에 저장\n",
    "data.shape"
   ],
   "metadata": {
    "colab": {
     "base_uri": "https://localhost:8080/"
    },
    "id": "IKH7vp-y7GEB",
    "executionInfo": {
     "status": "ok",
     "timestamp": 1662436311805,
     "user_tz": -540,
     "elapsed": 283,
     "user": {
      "displayName": "Jason SJ Yim",
      "userId": "00334139127424328539"
     }
    },
    "outputId": "f032bf9d-d415-4bee-8ae6-c9c998046345",
    "ExecuteTime": {
     "end_time": "2023-08-01T09:41:51.494972Z",
     "start_time": "2023-08-01T09:41:51.488754Z"
    }
   },
   "execution_count": 18,
   "outputs": [
    {
     "data": {
      "text/plain": "(3915, 10)"
     },
     "execution_count": 18,
     "metadata": {},
     "output_type": "execute_result"
    }
   ]
  },
  {
   "cell_type": "code",
   "source": [
    "target.shape"
   ],
   "metadata": {
    "colab": {
     "base_uri": "https://localhost:8080/"
    },
    "id": "1zNu2ztb7Vhj",
    "executionInfo": {
     "status": "ok",
     "timestamp": 1662436347682,
     "user_tz": -540,
     "elapsed": 307,
     "user": {
      "displayName": "Jason SJ Yim",
      "userId": "00334139127424328539"
     }
    },
    "outputId": "b6d92abe-975f-4a39-8391-e700d65658c2",
    "ExecuteTime": {
     "end_time": "2023-08-01T09:41:51.527296Z",
     "start_time": "2023-08-01T09:41:51.495593Z"
    }
   },
   "execution_count": 19,
   "outputs": [
    {
     "data": {
      "text/plain": "(3915,)"
     },
     "execution_count": 19,
     "metadata": {},
     "output_type": "execute_result"
    }
   ]
  },
  {
   "cell_type": "code",
   "source": [
    "df['stroke'].value_counts(dropna=False)"
   ],
   "metadata": {
    "colab": {
     "base_uri": "https://localhost:8080/"
    },
    "id": "mYJDDld-7cC_",
    "executionInfo": {
     "status": "ok",
     "timestamp": 1662436380502,
     "user_tz": -540,
     "elapsed": 3,
     "user": {
      "displayName": "Jason SJ Yim",
      "userId": "00334139127424328539"
     }
    },
    "outputId": "54a754d0-abdd-4860-8247-04f2a2cd4ac9",
    "ExecuteTime": {
     "end_time": "2023-08-01T09:41:51.537138Z",
     "start_time": "2023-08-01T09:41:51.500865Z"
    }
   },
   "execution_count": 20,
   "outputs": [
    {
     "data": {
      "text/plain": "0    3722\n1     193\nName: stroke, dtype: int64"
     },
     "execution_count": 20,
     "metadata": {},
     "output_type": "execute_result"
    }
   ]
  },
  {
   "cell_type": "code",
   "source": [
    "df['stroke'].value_counts(dropna=False, normalize=True)"
   ],
   "metadata": {
    "colab": {
     "base_uri": "https://localhost:8080/"
    },
    "id": "LH36OQ_u7iJE",
    "executionInfo": {
     "status": "ok",
     "timestamp": 1662436405336,
     "user_tz": -540,
     "elapsed": 2,
     "user": {
      "displayName": "Jason SJ Yim",
      "userId": "00334139127424328539"
     }
    },
    "outputId": "e9c0604d-42f9-4093-987c-8697e91e4c9b",
    "ExecuteTime": {
     "end_time": "2023-08-01T09:41:51.538629Z",
     "start_time": "2023-08-01T09:41:51.510888Z"
    }
   },
   "execution_count": 21,
   "outputs": [
    {
     "data": {
      "text/plain": "0    0.950702\n1    0.049298\nName: stroke, dtype: float64"
     },
     "execution_count": 21,
     "metadata": {},
     "output_type": "execute_result"
    }
   ]
  },
  {
   "cell_type": "code",
   "execution_count": 22,
   "metadata": {
    "id": "vh_jMP_kjyTM",
    "ExecuteTime": {
     "end_time": "2023-08-01T09:41:51.539235Z",
     "start_time": "2023-08-01T09:41:51.515361Z"
    }
   },
   "outputs": [],
   "source": [
    "from imblearn.under_sampling import RandomUnderSampler    # RandomUnderSampler를 import\n",
    "undersample = RandomUnderSampler(sampling_strategy=0.333, random_state=2) \n",
    "                                                          # 타겟변수의 소수 클래스 및 다수 클래스를\n",
    "                                                          # 1:3의 비율(=1/3)로 언더샘플링\n",
    "data_under, target_under = undersample.fit_resample(data, target)\n",
    "                                                          # data 및 target에 언더샘플링 적용"
   ]
  },
  {
   "cell_type": "code",
   "execution_count": 23,
   "metadata": {
    "id": "sqLf4I3ajyTM",
    "outputId": "38399b6a-b263-49b9-b3b9-92b1d6b3bc2d",
    "colab": {
     "base_uri": "https://localhost:8080/"
    },
    "executionInfo": {
     "status": "ok",
     "timestamp": 1662436429177,
     "user_tz": -540,
     "elapsed": 275,
     "user": {
      "displayName": "Jason SJ Yim",
      "userId": "00334139127424328539"
     }
    },
    "ExecuteTime": {
     "end_time": "2023-08-01T09:41:51.541009Z",
     "start_time": "2023-08-01T09:41:51.527949Z"
    }
   },
   "outputs": [
    {
     "data": {
      "text/plain": "0    579\n1    193\nName: stroke, dtype: int64"
     },
     "execution_count": 23,
     "metadata": {},
     "output_type": "execute_result"
    }
   ],
   "source": [
    "target_under.value_counts(dropna=True)"
   ]
  },
  {
   "cell_type": "code",
   "execution_count": 24,
   "metadata": {
    "id": "f220WFYojyTN",
    "outputId": "e6a4f260-5640-4944-c1d3-8ac33da2b703",
    "colab": {
     "base_uri": "https://localhost:8080/"
    },
    "executionInfo": {
     "status": "ok",
     "timestamp": 1662436431618,
     "user_tz": -540,
     "elapsed": 2,
     "user": {
      "displayName": "Jason SJ Yim",
      "userId": "00334139127424328539"
     }
    },
    "ExecuteTime": {
     "end_time": "2023-08-01T09:41:51.563423Z",
     "start_time": "2023-08-01T09:41:51.539330Z"
    }
   },
   "outputs": [
    {
     "data": {
      "text/plain": "0    0.75\n1    0.25\nName: stroke, dtype: float64"
     },
     "execution_count": 24,
     "metadata": {},
     "output_type": "execute_result"
    }
   ],
   "source": [
    "target_under.value_counts(dropna=True, normalize=True)"
   ]
  },
  {
   "cell_type": "code",
   "execution_count": 25,
   "metadata": {
    "colab": {
     "base_uri": "https://localhost:8080/"
    },
    "id": "sg-8eyasjyTN",
    "executionInfo": {
     "status": "ok",
     "timestamp": 1662436520324,
     "user_tz": -540,
     "elapsed": 334,
     "user": {
      "displayName": "Jason SJ Yim",
      "userId": "00334139127424328539"
     }
    },
    "outputId": "b0ba9999-ca1c-406c-da84-410b6702ff68",
    "ExecuteTime": {
     "end_time": "2023-08-01T09:41:51.585167Z",
     "start_time": "2023-08-01T09:41:51.543222Z"
    }
   },
   "outputs": [
    {
     "name": "stdout",
     "output_type": "stream",
     "text": [
      "X_train shape: (386, 10)\n",
      "X_test shape: (386, 10)\n"
     ]
    }
   ],
   "source": [
    "# 50:50 비율로 데이터 분할\n",
    "from sklearn.model_selection import train_test_split \n",
    "X_train, X_test, y_train, y_test = train_test_split( \n",
    "    data_under, target_under, test_size=0.5, random_state=42, stratify = target_under)\n",
    "\n",
    "print(\"X_train shape:\", X_train.shape) \n",
    "print(\"X_test shape:\", X_test.shape) "
   ]
  },
  {
   "cell_type": "code",
   "execution_count": 26,
   "metadata": {
    "id": "98phGAwpjyTO",
    "outputId": "ab8d353e-d9e9-40dd-e7be-43a45c1dcb32",
    "colab": {
     "base_uri": "https://localhost:8080/"
    },
    "executionInfo": {
     "status": "ok",
     "timestamp": 1662436526199,
     "user_tz": -540,
     "elapsed": 341,
     "user": {
      "displayName": "Jason SJ Yim",
      "userId": "00334139127424328539"
     }
    },
    "ExecuteTime": {
     "end_time": "2023-08-01T09:41:51.586080Z",
     "start_time": "2023-08-01T09:41:51.552135Z"
    }
   },
   "outputs": [
    {
     "name": "stdout",
     "output_type": "stream",
     "text": [
      "y_train shape: (386,)\n",
      "y_test shape: (386,)\n"
     ]
    }
   ],
   "source": [
    "print(\"y_train shape:\", y_train.shape) \n",
    "print(\"y_test shape:\", y_test.shape) "
   ]
  },
  {
   "cell_type": "code",
   "execution_count": 27,
   "metadata": {
    "id": "Vfc0oIijjyTO",
    "outputId": "b27f3fce-27eb-4f6e-a9c6-c3e3219d17a2",
    "colab": {
     "base_uri": "https://localhost:8080/"
    },
    "executionInfo": {
     "status": "ok",
     "timestamp": 1662436530340,
     "user_tz": -540,
     "elapsed": 486,
     "user": {
      "displayName": "Jason SJ Yim",
      "userId": "00334139127424328539"
     }
    },
    "ExecuteTime": {
     "end_time": "2023-08-01T09:41:51.588157Z",
     "start_time": "2023-08-01T09:41:51.559204Z"
    }
   },
   "outputs": [
    {
     "data": {
      "text/plain": "0    0.748705\n1    0.251295\nName: stroke, dtype: float64"
     },
     "execution_count": 27,
     "metadata": {},
     "output_type": "execute_result"
    }
   ],
   "source": [
    "y_train.value_counts(normalize=True)"
   ]
  },
  {
   "cell_type": "code",
   "execution_count": 28,
   "metadata": {
    "id": "MRtUfZN7jyTP",
    "outputId": "22d151ba-5ead-4059-ff2d-a5d9e9972975",
    "colab": {
     "base_uri": "https://localhost:8080/"
    },
    "executionInfo": {
     "status": "ok",
     "timestamp": 1662436536100,
     "user_tz": -540,
     "elapsed": 269,
     "user": {
      "displayName": "Jason SJ Yim",
      "userId": "00334139127424328539"
     }
    },
    "ExecuteTime": {
     "end_time": "2023-08-01T09:41:51.597937Z",
     "start_time": "2023-08-01T09:41:51.563861Z"
    }
   },
   "outputs": [
    {
     "data": {
      "text/plain": "0    289\n1     97\nName: stroke, dtype: int64"
     },
     "execution_count": 28,
     "metadata": {},
     "output_type": "execute_result"
    }
   ],
   "source": [
    "y_train.value_counts()"
   ]
  },
  {
   "cell_type": "markdown",
   "metadata": {
    "id": "lydeQELPjyTP"
   },
   "source": [
    "# 5.3 결정 트리(Decision Tree) 분류 모델"
   ]
  },
  {
   "cell_type": "code",
   "execution_count": 41,
   "metadata": {
    "colab": {
     "base_uri": "https://localhost:8080/"
    },
    "id": "H603hDIBjyTQ",
    "executionInfo": {
     "status": "ok",
     "timestamp": 1662436603033,
     "user_tz": -540,
     "elapsed": 355,
     "user": {
      "displayName": "Jason SJ Yim",
      "userId": "00334139127424328539"
     }
    },
    "outputId": "bbd16825-a796-4c71-c6a3-304dcafc499f",
    "ExecuteTime": {
     "end_time": "2023-08-01T09:44:33.794234Z",
     "start_time": "2023-08-01T09:44:33.782667Z"
    }
   },
   "outputs": [
    {
     "name": "stdout",
     "output_type": "stream",
     "text": [
      "Accuracy(GINI) on training set:1.00000\n",
      "Accuracy(GINI) on test set:0.69171\n"
     ]
    }
   ],
   "source": [
    "# Decision Tree 모델 (Default인 GINI기준이자 Maximal depth 조건)\n",
    "from sklearn.tree import DecisionTreeClassifier\n",
    "from sklearn.metrics import accuracy_score\n",
    "tree = DecisionTreeClassifier(random_state=0)   # Classifier로 DecisionTreeClassifer 지정\n",
    "model = tree.fit(X_train, y_train)   # Clssifier를 트레이닝 데이터셋에서 학습시킴\n",
    "pred = model.predict(X_test)  # 학습된 Classifier로 테스트 데이터셋 자료이용해서 타겟변수 예측값 생성\n",
    " \n",
    "print(\"Accuracy(GINI) on training set:{:.5f}\".format(model.score(X_train, y_train))) \n",
    "print(\"Accuracy(GINI) on test set:{:.5f}\".format(accuracy_score(y_test, pred)))"
   ]
  },
  {
   "cell_type": "code",
   "execution_count": 30,
   "metadata": {
    "colab": {
     "base_uri": "https://localhost:8080/"
    },
    "id": "OkP8dfNfjyTR",
    "executionInfo": {
     "status": "ok",
     "timestamp": 1662436765432,
     "user_tz": -540,
     "elapsed": 3510,
     "user": {
      "displayName": "Jason SJ Yim",
      "userId": "00334139127424328539"
     }
    },
    "outputId": "f3a93b8a-5c98-4f9a-d3ea-32b624ee6631",
    "ExecuteTime": {
     "end_time": "2023-08-01T09:41:55.036668Z",
     "start_time": "2023-08-01T09:41:51.588542Z"
    }
   },
   "outputs": [
    {
     "name": "stdout",
     "output_type": "stream",
     "text": [
      "Fitting 5 folds for each of 40 candidates, totalling 200 fits\n",
      "GridSearchCV max accuracy:0.79534\n",
      "GridSearchCV best parameter: {'criterion': 'gini', 'max_depth': 4}\n"
     ]
    }
   ],
   "source": [
    "# Decision Tree 모델 (Gini 기준)\n",
    "from sklearn.tree import DecisionTreeClassifier\n",
    "from sklearn.metrics import accuracy_score\n",
    "from sklearn.model_selection import GridSearchCV\n",
    "\n",
    "tree = DecisionTreeClassifier(criterion=\"gini\", random_state=0, max_depth=5) \n",
    "\n",
    "params = {'criterion':['gini','entropy'],'max_depth': range(1,21)}\n",
    "\n",
    "grid_tree = GridSearchCV(tree, param_grid=params, scoring='accuracy', cv=5, n_jobs=-1,\n",
    "                     verbose=1)\n",
    "grid_tree.fit(X_train, y_train)\n",
    "\n",
    "print(\"GridSearchCV max accuracy:{:.5f}\".format(grid_tree.best_score_))\n",
    "print(\"GridSearchCV best parameter:\", (grid_tree.best_params_))  "
   ]
  },
  {
   "cell_type": "code",
   "execution_count": 45,
   "metadata": {
    "id": "_yQga4UejyTR",
    "outputId": "6085859f-4fd7-45ea-b71a-92d4516f501d",
    "colab": {
     "base_uri": "https://localhost:8080/"
    },
    "executionInfo": {
     "status": "ok",
     "timestamp": 1662436777206,
     "user_tz": -540,
     "elapsed": 367,
     "user": {
      "displayName": "Jason SJ Yim",
      "userId": "00334139127424328539"
     }
    },
    "ExecuteTime": {
     "end_time": "2023-08-01T10:09:07.471491Z",
     "start_time": "2023-08-01T10:09:07.464149Z"
    }
   },
   "outputs": [
    {
     "name": "stdout",
     "output_type": "stream",
     "text": [
      "1 2 3 4 5 6 7 8 9 10 11 12 13 14 15 16 17 18 19 20 "
     ]
    }
   ],
   "source": [
    "# 참조 코딩\n",
    "# range() 함수의 결과를 디스플레이\n",
    "\n",
    "for i in range(1,21):\n",
    "    print(i, end =\" \")"
   ]
  },
  {
   "cell_type": "code",
   "execution_count": 47,
   "metadata": {
    "colab": {
     "base_uri": "https://localhost:8080/"
    },
    "id": "tAVGP8CGjyTS",
    "executionInfo": {
     "status": "ok",
     "timestamp": 1662436787337,
     "user_tz": -540,
     "elapsed": 305,
     "user": {
      "displayName": "Jason SJ Yim",
      "userId": "00334139127424328539"
     }
    },
    "outputId": "7a888572-ac8e-4054-eda5-7764ada65dd6",
    "ExecuteTime": {
     "end_time": "2023-08-01T10:10:47.857373Z",
     "start_time": "2023-08-01T10:10:47.851400Z"
    }
   },
   "outputs": [
    {
     "name": "stdout",
     "output_type": "stream",
     "text": [
      "Accuracy on test set:0.76943\n"
     ]
    }
   ],
   "source": [
    "best_clf = grid_tree.best_estimator_\n",
    "pred = best_clf.predict(X_test)\n",
    "print(\"Accuracy on test set:{:.5f}\".format(accuracy_score(y_test, pred)))"
   ]
  },
  {
   "cell_type": "code",
   "execution_count": 46,
   "metadata": {
    "id": "9GP3IwugjyTS",
    "outputId": "bf078425-de0c-411d-adb1-3659bfd44546",
    "colab": {
     "base_uri": "https://localhost:8080/"
    },
    "executionInfo": {
     "status": "ok",
     "timestamp": 1662436794065,
     "user_tz": -540,
     "elapsed": 278,
     "user": {
      "displayName": "Jason SJ Yim",
      "userId": "00334139127424328539"
     }
    },
    "ExecuteTime": {
     "end_time": "2023-08-01T10:10:07.854267Z",
     "start_time": "2023-08-01T10:10:07.847134Z"
    }
   },
   "outputs": [
    {
     "name": "stdout",
     "output_type": "stream",
     "text": [
      "ROC AUC on test set:0.76651\n"
     ]
    }
   ],
   "source": [
    "# 참조 코딩\n",
    "from sklearn.metrics import roc_auc_score\n",
    "ROC_AUC = roc_auc_score(y_test,best_clf.predict_proba(X_test)[:, 1])\n",
    "print(\"ROC AUC on test set:{:.5f}\".format(ROC_AUC))"
   ]
  },
  {
   "cell_type": "code",
   "execution_count": 49,
   "metadata": {
    "colab": {
     "base_uri": "https://localhost:8080/"
    },
    "id": "TwjLWJ18jyTS",
    "executionInfo": {
     "status": "ok",
     "timestamp": 1662436801423,
     "user_tz": -540,
     "elapsed": 307,
     "user": {
      "displayName": "Jason SJ Yim",
      "userId": "00334139127424328539"
     }
    },
    "outputId": "8fdbe8f4-b0a6-4147-db19-04f11c3e73e2",
    "ExecuteTime": {
     "end_time": "2023-08-01T10:13:45.592061Z",
     "start_time": "2023-08-01T10:13:45.585321Z"
    }
   },
   "outputs": [
    {
     "name": "stdout",
     "output_type": "stream",
     "text": [
      "Feature importances:\n",
      "[0.62704795 0.03801011 0.         0.14192898 0.11210499 0.\n",
      " 0.         0.         0.03342888 0.0474791 ]\n"
     ]
    }
   ],
   "source": [
    "print (\"Feature importances:\") \n",
    "print (best_clf.feature_importances_) "
   ]
  },
  {
   "cell_type": "code",
   "execution_count": 35,
   "metadata": {
    "scrolled": true,
    "colab": {
     "base_uri": "https://localhost:8080/",
     "height": 363
    },
    "id": "icLBQzPtjyTS",
    "executionInfo": {
     "status": "ok",
     "timestamp": 1662436813762,
     "user_tz": -540,
     "elapsed": 365,
     "user": {
      "displayName": "Jason SJ Yim",
      "userId": "00334139127424328539"
     }
    },
    "outputId": "4d350adb-c188-43d6-9ff1-b0f907b6453f",
    "ExecuteTime": {
     "end_time": "2023-08-01T09:41:55.102565Z",
     "start_time": "2023-08-01T09:41:55.061130Z"
    }
   },
   "outputs": [
    {
     "data": {
      "text/plain": "                        Feature_importances\nage                                  0.6270\navg_glucose_level                    0.1419\nbmi                                  0.1121\nsmoking_status_encoded               0.0475\nhypertension                         0.0380\nresidence_type_encoded               0.0334\nheart_disease                        0.0000\never_married_encoded                 0.0000\ngender_encoded                       0.0000\nwork_type_encoded                    0.0000",
      "text/html": "<div>\n<style scoped>\n    .dataframe tbody tr th:only-of-type {\n        vertical-align: middle;\n    }\n\n    .dataframe tbody tr th {\n        vertical-align: top;\n    }\n\n    .dataframe thead th {\n        text-align: right;\n    }\n</style>\n<table border=\"1\" class=\"dataframe\">\n  <thead>\n    <tr style=\"text-align: right;\">\n      <th></th>\n      <th>Feature_importances</th>\n    </tr>\n  </thead>\n  <tbody>\n    <tr>\n      <th>age</th>\n      <td>0.6270</td>\n    </tr>\n    <tr>\n      <th>avg_glucose_level</th>\n      <td>0.1419</td>\n    </tr>\n    <tr>\n      <th>bmi</th>\n      <td>0.1121</td>\n    </tr>\n    <tr>\n      <th>smoking_status_encoded</th>\n      <td>0.0475</td>\n    </tr>\n    <tr>\n      <th>hypertension</th>\n      <td>0.0380</td>\n    </tr>\n    <tr>\n      <th>residence_type_encoded</th>\n      <td>0.0334</td>\n    </tr>\n    <tr>\n      <th>heart_disease</th>\n      <td>0.0000</td>\n    </tr>\n    <tr>\n      <th>ever_married_encoded</th>\n      <td>0.0000</td>\n    </tr>\n    <tr>\n      <th>gender_encoded</th>\n      <td>0.0000</td>\n    </tr>\n    <tr>\n      <th>work_type_encoded</th>\n      <td>0.0000</td>\n    </tr>\n  </tbody>\n</table>\n</div>"
     },
     "execution_count": 35,
     "metadata": {},
     "output_type": "execute_result"
    }
   ],
   "source": [
    "# 변수명을 Index로 만들고 feature_importances를 매칭해서 나열한 데이터프레임 만들기 \n",
    "\n",
    "feature_names = list(data.columns)   # 변수명(컬럼명)을 리스트 형태로 만들기\n",
    "dft = pd.DataFrame(np.round(best_clf.feature_importances_, 4), index=feature_names,\n",
    "                   columns=['Feature_importances'])\n",
    "dft1 = dft.sort_values(by='Feature_importances', ascending=False)   \n",
    "dft1                                 # 컬럼 Feature_importances의 값들을 내림차순으로 정리 "
   ]
  },
  {
   "cell_type": "code",
   "execution_count": 36,
   "metadata": {
    "colab": {
     "base_uri": "https://localhost:8080/",
     "height": 280
    },
    "id": "0o5jIx8JjyTT",
    "executionInfo": {
     "status": "ok",
     "timestamp": 1662436824204,
     "user_tz": -540,
     "elapsed": 822,
     "user": {
      "displayName": "Jason SJ Yim",
      "userId": "00334139127424328539"
     }
    },
    "outputId": "b0e9f706-74f3-4594-82d1-7ed076eb3377",
    "ExecuteTime": {
     "end_time": "2023-08-01T09:41:55.387289Z",
     "start_time": "2023-08-01T09:41:55.084862Z"
    }
   },
   "outputs": [
    {
     "data": {
      "text/plain": "<Figure size 640x480 with 1 Axes>",
      "image/png": "[encoded data removed]"
     },
     "metadata": {},
     "output_type": "display_data"
    }
   ],
   "source": [
    "# 데이터프레임 dft1의 막대그래프 그리기\n",
    "\n",
    "import seaborn as sns\n",
    "sns.barplot(y=dft1.index, x=\"Feature_importances\", data=dft1);"
   ]
  },
  {
   "cell_type": "code",
   "execution_count": 37,
   "metadata": {
    "colab": {
     "base_uri": "https://localhost:8080/",
     "height": 280
    },
    "id": "ggb96YzVjyTT",
    "executionInfo": {
     "status": "ok",
     "timestamp": 1662436854717,
     "user_tz": -540,
     "elapsed": 466,
     "user": {
      "displayName": "Jason SJ Yim",
      "userId": "00334139127424328539"
     }
    },
    "outputId": "118e84a4-1620-4495-b2ad-8cce8e09498f",
    "ExecuteTime": {
     "end_time": "2023-08-01T09:41:55.653105Z",
     "start_time": "2023-08-01T09:41:55.405591Z"
    }
   },
   "outputs": [
    {
     "data": {
      "text/plain": "<Figure size 640x480 with 1 Axes>",
      "image/png": "[encoded data removed]"
     },
     "metadata": {},
     "output_type": "display_data"
    }
   ],
   "source": [
    "# 참조 코딩\n",
    "# 데이터프레임 dft1의 막대그래프 그리기 및 값 표시\n",
    "import matplotlib.pyplot as plt\n",
    "%matplotlib inline\n",
    "\n",
    "ax = sns.barplot(y=dft1.index, x=\"Feature_importances\", data=dft1)\n",
    "\n",
    "for p in ax.patches:\n",
    "    ax.annotate(\"%.3f\" % p.get_width(), (p.get_x() + p.get_width(), p.get_y()+1),\n",
    "                xytext=(5, 10), textcoords='offset points')"
   ]
  },
  {
   "cell_type": "code",
   "execution_count": 38,
   "metadata": {
    "colab": {
     "base_uri": "https://localhost:8080/",
     "height": 577
    },
    "id": "MhGl0A2ajyTU",
    "executionInfo": {
     "status": "ok",
     "timestamp": 1662436956138,
     "user_tz": -540,
     "elapsed": 278,
     "user": {
      "displayName": "Jason SJ Yim",
      "userId": "00334139127424328539"
     }
    },
    "outputId": "da5fa195-17f8-4c62-98cd-dde7c0af7a89",
    "ExecuteTime": {
     "end_time": "2023-08-01T09:41:56.174463Z",
     "start_time": "2023-08-01T09:41:55.649978Z"
    }
   },
   "outputs": [
    {
     "data": {
      "image/svg+xml": "<?xml version=\"1.0\" encoding=\"UTF-8\" standalone=\"no\"?>\n<!DOCTYPE svg PUBLIC \"-//W3C//DTD SVG 1.1//EN\"\n \"http://www.w3.org/Graphics/SVG/1.1/DTD/svg11.dtd\">\n<!-- Generated by graphviz version 8.0.5 (20230430.1635)\n -->\n<!-- Title: Tree Pages: 1 -->\n<svg width=\"1667pt\" height=\"402pt\"\n viewBox=\"0.00 0.00 1666.75 402.00\" xmlns=\"http://www.w3.org/2000/svg\" xmlns:xlink=\"http://www.w3.org/1999/xlink\">\n<g id=\"graph0\" class=\"graph\" transform=\"scale(1 1) rotate(0) translate(4 398)\">\n<title>Tree</title>\n<polygon fill=\"white\" stroke=\"none\" points=\"-4,4 -4,-398 1662.75,-398 1662.75,4 -4,4\"/>\n<!-- 0 -->\n<g id=\"node1\" class=\"node\">\n<title>0</title>\n<polygon fill=\"#eeab7b\" stroke=\"black\" points=\"800,-394 683.5,-394 683.5,-341 800,-341 800,-394\"/>\n<text text-anchor=\"middle\" x=\"741.75\" y=\"-376.7\" font-family=\"Helvetica,sans-Serif\" font-size=\"14.00\">age &lt;= 65.5</text>\n<text text-anchor=\"middle\" x=\"741.75\" y=\"-361.7\" font-family=\"Helvetica,sans-Serif\" font-size=\"14.00\">samples = 386</text>\n<text text-anchor=\"middle\" x=\"741.75\" y=\"-346.7\" font-family=\"Helvetica,sans-Serif\" font-size=\"14.00\">value = [289, 97]</text>\n</g>\n<!-- 1 -->\n<g id=\"node2\" class=\"node\">\n<title>1</title>\n<polygon fill=\"#e99355\" stroke=\"black\" points=\"589,-305 472.5,-305 472.5,-252 589,-252 589,-305\"/>\n<text text-anchor=\"middle\" x=\"530.75\" y=\"-287.7\" font-family=\"Helvetica,sans-Serif\" font-size=\"14.00\">age &lt;= 53.5</text>\n<text text-anchor=\"middle\" x=\"530.75\" y=\"-272.7\" font-family=\"Helvetica,sans-Serif\" font-size=\"14.00\">samples = 272</text>\n<text text-anchor=\"middle\" x=\"530.75\" y=\"-257.7\" font-family=\"Helvetica,sans-Serif\" font-size=\"14.00\">value = [238, 34]</text>\n</g>\n<!-- 0&#45;&gt;1 -->\n<g id=\"edge1\" class=\"edge\">\n<title>0&#45;&gt;1</title>\n<path fill=\"none\" stroke=\"black\" d=\"M683.25,-342.38C657.3,-331.68 626.57,-319.01 599.53,-307.86\"/>\n<polygon fill=\"black\" stroke=\"black\" points=\"600.94,-304.24 590.36,-303.67 598.27,-310.71 600.94,-304.24\"/>\n<text text-anchor=\"middle\" x=\"598.96\" y=\"-320.95\" font-family=\"Helvetica,sans-Serif\" font-size=\"14.00\">True</text>\n</g>\n<!-- 14 -->\n<g id=\"node15\" class=\"node\">\n<title>14</title>\n<polygon fill=\"#d9ecfa\" stroke=\"black\" points=\"1029.25,-305 920.25,-305 920.25,-252 1029.25,-252 1029.25,-305\"/>\n<text text-anchor=\"middle\" x=\"974.75\" y=\"-287.7\" font-family=\"Helvetica,sans-Serif\" font-size=\"14.00\">age &lt;= 75.5</text>\n<text text-anchor=\"middle\" x=\"974.75\" y=\"-272.7\" font-family=\"Helvetica,sans-Serif\" font-size=\"14.00\">samples = 114</text>\n<text text-anchor=\"middle\" x=\"974.75\" y=\"-257.7\" font-family=\"Helvetica,sans-Serif\" font-size=\"14.00\">value = [51, 63]</text>\n</g>\n<!-- 0&#45;&gt;14 -->\n<g id=\"edge14\" class=\"edge\">\n<title>0&#45;&gt;14</title>\n<path fill=\"none\" stroke=\"black\" d=\"M800.24,-344.66C833.62,-332.2 875.51,-316.55 909.89,-303.72\"/>\n<polygon fill=\"black\" stroke=\"black\" points=\"910.69,-306.78 918.84,-300 908.24,-300.22 910.69,-306.78\"/>\n<text text-anchor=\"middle\" x=\"909.46\" y=\"-316.95\" font-family=\"Helvetica,sans-Serif\" font-size=\"14.00\">False</text>\n</g>\n<!-- 2 -->\n<g id=\"node3\" class=\"node\">\n<title>2</title>\n<polygon fill=\"#e78845\" stroke=\"black\" points=\"274,-216 157.5,-216 157.5,-163 274,-163 274,-216\"/>\n<text text-anchor=\"middle\" x=\"215.75\" y=\"-198.7\" font-family=\"Helvetica,sans-Serif\" font-size=\"14.00\">age &lt;= 37.5</text>\n<text text-anchor=\"middle\" x=\"215.75\" y=\"-183.7\" font-family=\"Helvetica,sans-Serif\" font-size=\"14.00\">samples = 178</text>\n<text text-anchor=\"middle\" x=\"215.75\" y=\"-168.7\" font-family=\"Helvetica,sans-Serif\" font-size=\"14.00\">value = [168, 10]</text>\n</g>\n<!-- 1&#45;&gt;2 -->\n<g id=\"edge2\" class=\"edge\">\n<title>1&#45;&gt;2</title>\n<path fill=\"none\" stroke=\"black\" d=\"M472.24,-261.34C419.25,-246.71 341.13,-225.13 285.04,-209.64\"/>\n<polygon fill=\"black\" stroke=\"black\" points=\"286.05,-206.01 275.48,-206.72 284.19,-212.76 286.05,-206.01\"/>\n</g>\n<!-- 7 -->\n<g id=\"node8\" class=\"node\">\n<title>7</title>\n<polygon fill=\"#eeac7d\" stroke=\"black\" points=\"626.88,-216 434.62,-216 434.62,-163 626.88,-163 626.88,-216\"/>\n<text text-anchor=\"middle\" x=\"530.75\" y=\"-198.7\" font-family=\"Helvetica,sans-Serif\" font-size=\"14.00\">avg_glucose_level &lt;= 100.76</text>\n<text text-anchor=\"middle\" x=\"530.75\" y=\"-183.7\" font-family=\"Helvetica,sans-Serif\" font-size=\"14.00\">samples = 94</text>\n<text text-anchor=\"middle\" x=\"530.75\" y=\"-168.7\" font-family=\"Helvetica,sans-Serif\" font-size=\"14.00\">value = [70, 24]</text>\n</g>\n<!-- 1&#45;&gt;7 -->\n<g id=\"edge7\" class=\"edge\">\n<title>1&#45;&gt;7</title>\n<path fill=\"none\" stroke=\"black\" d=\"M530.75,-251.87C530.75,-244.15 530.75,-235.52 530.75,-227.23\"/>\n<polygon fill=\"black\" stroke=\"black\" points=\"534.25,-227.25 530.75,-217.25 527.25,-227.25 534.25,-227.25\"/>\n</g>\n<!-- 3 -->\n<g id=\"node4\" class=\"node\">\n<title>3</title>\n<polygon fill=\"#e58139\" stroke=\"black\" points=\"101.5,-119.5 0,-119.5 0,-81.5 101.5,-81.5 101.5,-119.5\"/>\n<text text-anchor=\"middle\" x=\"50.75\" y=\"-102.2\" font-family=\"Helvetica,sans-Serif\" font-size=\"14.00\">samples = 84</text>\n<text text-anchor=\"middle\" x=\"50.75\" y=\"-87.2\" font-family=\"Helvetica,sans-Serif\" font-size=\"14.00\">value = [84, 0]</text>\n</g>\n<!-- 2&#45;&gt;3 -->\n<g id=\"edge3\" class=\"edge\">\n<title>2&#45;&gt;3</title>\n<path fill=\"none\" stroke=\"black\" d=\"M166.69,-162.63C144.02,-150.68 117.29,-136.58 95.21,-124.94\"/>\n<polygon fill=\"black\" stroke=\"black\" points=\"97.22,-121.52 86.74,-119.95 93.96,-127.71 97.22,-121.52\"/>\n</g>\n<!-- 4 -->\n<g id=\"node5\" class=\"node\">\n<title>4</title>\n<polygon fill=\"#e89051\" stroke=\"black\" points=\"311.88,-127 119.62,-127 119.62,-74 311.88,-74 311.88,-127\"/>\n<text text-anchor=\"middle\" x=\"215.75\" y=\"-109.7\" font-family=\"Helvetica,sans-Serif\" font-size=\"14.00\">avg_glucose_level &lt;= 223.84</text>\n<text text-anchor=\"middle\" x=\"215.75\" y=\"-94.7\" font-family=\"Helvetica,sans-Serif\" font-size=\"14.00\">samples = 94</text>\n<text text-anchor=\"middle\" x=\"215.75\" y=\"-79.7\" font-family=\"Helvetica,sans-Serif\" font-size=\"14.00\">value = [84, 10]</text>\n</g>\n<!-- 2&#45;&gt;4 -->\n<g id=\"edge4\" class=\"edge\">\n<title>2&#45;&gt;4</title>\n<path fill=\"none\" stroke=\"black\" d=\"M215.75,-162.87C215.75,-155.15 215.75,-146.52 215.75,-138.23\"/>\n<polygon fill=\"black\" stroke=\"black\" points=\"219.25,-138.25 215.75,-128.25 212.25,-138.25 219.25,-138.25\"/>\n</g>\n<!-- 5 -->\n<g id=\"node6\" class=\"node\">\n<title>5</title>\n<polygon fill=\"#e88e4e\" stroke=\"black\" points=\"150.5,-38 49,-38 49,0 150.5,0 150.5,-38\"/>\n<text text-anchor=\"middle\" x=\"99.75\" y=\"-20.7\" font-family=\"Helvetica,sans-Serif\" font-size=\"14.00\">samples = 93</text>\n<text text-anchor=\"middle\" x=\"99.75\" y=\"-5.7\" font-family=\"Helvetica,sans-Serif\" font-size=\"14.00\">value = [84, 9]</text>\n</g>\n<!-- 4&#45;&gt;5 -->\n<g id=\"edge5\" class=\"edge\">\n<title>4&#45;&gt;5</title>\n<path fill=\"none\" stroke=\"black\" d=\"M178.09,-73.69C164.44,-64.33 149.06,-53.8 135.57,-44.55\"/>\n<polygon fill=\"black\" stroke=\"black\" points=\"137.81,-41.15 127.58,-38.39 133.85,-46.93 137.81,-41.15\"/>\n</g>\n<!-- 6 -->\n<g id=\"node7\" class=\"node\">\n<title>6</title>\n<polygon fill=\"#399de5\" stroke=\"black\" points=\"262.75,-38 168.75,-38 168.75,0 262.75,0 262.75,-38\"/>\n<text text-anchor=\"middle\" x=\"215.75\" y=\"-20.7\" font-family=\"Helvetica,sans-Serif\" font-size=\"14.00\">samples = 1</text>\n<text text-anchor=\"middle\" x=\"215.75\" y=\"-5.7\" font-family=\"Helvetica,sans-Serif\" font-size=\"14.00\">value = [0, 1]</text>\n</g>\n<!-- 4&#45;&gt;6 -->\n<g id=\"edge6\" class=\"edge\">\n<title>4&#45;&gt;6</title>\n<path fill=\"none\" stroke=\"black\" d=\"M215.75,-73.91C215.75,-66.07 215.75,-57.39 215.75,-49.33\"/>\n<polygon fill=\"black\" stroke=\"black\" points=\"219.25,-49.49 215.75,-39.49 212.25,-49.49 219.25,-49.49\"/>\n</g>\n<!-- 8 -->\n<g id=\"node9\" class=\"node\">\n<title>8</title>\n<polygon fill=\"#e99659\" stroke=\"black\" points=\"548,-127 335.5,-127 335.5,-74 548,-74 548,-127\"/>\n<text text-anchor=\"middle\" x=\"441.75\" y=\"-109.7\" font-family=\"Helvetica,sans-Serif\" font-size=\"14.00\">smoking_status_encoded &lt;= 0.5</text>\n<text text-anchor=\"middle\" x=\"441.75\" y=\"-94.7\" font-family=\"Helvetica,sans-Serif\" font-size=\"14.00\">samples = 57</text>\n<text text-anchor=\"middle\" x=\"441.75\" y=\"-79.7\" font-family=\"Helvetica,sans-Serif\" font-size=\"14.00\">value = [49, 8]</text>\n</g>\n<!-- 7&#45;&gt;8 -->\n<g id=\"edge8\" class=\"edge\">\n<title>7&#45;&gt;8</title>\n<path fill=\"none\" stroke=\"black\" d=\"M504.53,-162.87C495.56,-154.1 485.38,-144.15 475.88,-134.86\"/>\n<polygon fill=\"black\" stroke=\"black\" points=\"478.69,-132.74 469.09,-128.25 473.8,-137.74 478.69,-132.74\"/>\n</g>\n<!-- 11 -->\n<g id=\"node12\" class=\"node\">\n<title>11</title>\n<polygon fill=\"#f9e1d0\" stroke=\"black\" points=\"675.25,-127 566.25,-127 566.25,-74 675.25,-74 675.25,-127\"/>\n<text text-anchor=\"middle\" x=\"620.75\" y=\"-109.7\" font-family=\"Helvetica,sans-Serif\" font-size=\"14.00\">bmi &lt;= 35.35</text>\n<text text-anchor=\"middle\" x=\"620.75\" y=\"-94.7\" font-family=\"Helvetica,sans-Serif\" font-size=\"14.00\">samples = 37</text>\n<text text-anchor=\"middle\" x=\"620.75\" y=\"-79.7\" font-family=\"Helvetica,sans-Serif\" font-size=\"14.00\">value = [21, 16]</text>\n</g>\n<!-- 7&#45;&gt;11 -->\n<g id=\"edge11\" class=\"edge\">\n<title>7&#45;&gt;11</title>\n<path fill=\"none\" stroke=\"black\" d=\"M557.27,-162.87C566.34,-154.1 576.63,-144.15 586.24,-134.86\"/>\n<polygon fill=\"black\" stroke=\"black\" points=\"588.36,-137.72 593.11,-128.25 583.49,-132.68 588.36,-137.72\"/>\n</g>\n<!-- 9 -->\n<g id=\"node10\" class=\"node\">\n<title>9</title>\n<polygon fill=\"#f2c09c\" stroke=\"black\" points=\"378.62,-38 280.88,-38 280.88,0 378.62,0 378.62,-38\"/>\n<text text-anchor=\"middle\" x=\"329.75\" y=\"-20.7\" font-family=\"Helvetica,sans-Serif\" font-size=\"14.00\">samples = 12</text>\n<text text-anchor=\"middle\" x=\"329.75\" y=\"-5.7\" font-family=\"Helvetica,sans-Serif\" font-size=\"14.00\">value = [8, 4]</text>\n</g>\n<!-- 8&#45;&gt;9 -->\n<g id=\"edge9\" class=\"edge\">\n<title>8&#45;&gt;9</title>\n<path fill=\"none\" stroke=\"black\" d=\"M405.39,-73.69C392.2,-64.33 377.36,-53.8 364.34,-44.55\"/>\n<polygon fill=\"black\" stroke=\"black\" points=\"366.83,-41.32 356.65,-38.39 362.78,-47.03 366.83,-41.32\"/>\n</g>\n<!-- 10 -->\n<g id=\"node11\" class=\"node\">\n<title>10</title>\n<polygon fill=\"#e88d4c\" stroke=\"black\" points=\"498.5,-38 397,-38 397,0 498.5,0 498.5,-38\"/>\n<text text-anchor=\"middle\" x=\"447.75\" y=\"-20.7\" font-family=\"Helvetica,sans-Serif\" font-size=\"14.00\">samples = 45</text>\n<text text-anchor=\"middle\" x=\"447.75\" y=\"-5.7\" font-family=\"Helvetica,sans-Serif\" font-size=\"14.00\">value = [41, 4]</text>\n</g>\n<!-- 8&#45;&gt;10 -->\n<g id=\"edge10\" class=\"edge\">\n<title>8&#45;&gt;10</title>\n<path fill=\"none\" stroke=\"black\" d=\"M443.68,-73.91C444.27,-66.07 444.93,-57.39 445.54,-49.33\"/>\n<polygon fill=\"black\" stroke=\"black\" points=\"449.09,-49.72 446.35,-39.49 442.11,-49.2 449.09,-49.72\"/>\n</g>\n<!-- 12 -->\n<g id=\"node13\" class=\"node\">\n<title>12</title>\n<polygon fill=\"#f1ba92\" stroke=\"black\" points=\"618.5,-38 517,-38 517,0 618.5,0 618.5,-38\"/>\n<text text-anchor=\"middle\" x=\"567.75\" y=\"-20.7\" font-family=\"Helvetica,sans-Serif\" font-size=\"14.00\">samples = 29</text>\n<text text-anchor=\"middle\" x=\"567.75\" y=\"-5.7\" font-family=\"Helvetica,sans-Serif\" font-size=\"14.00\">value = [20, 9]</text>\n</g>\n<!-- 11&#45;&gt;12 -->\n<g id=\"edge12\" class=\"edge\">\n<title>11&#45;&gt;12</title>\n<path fill=\"none\" stroke=\"black\" d=\"M603.69,-73.91C598.04,-65.44 591.74,-55.99 586.01,-47.39\"/>\n<polygon fill=\"black\" stroke=\"black\" points=\"588.53,-45.87 580.07,-39.49 582.71,-49.75 588.53,-45.87\"/>\n</g>\n<!-- 13 -->\n<g id=\"node14\" class=\"node\">\n<title>13</title>\n<polygon fill=\"#55abe9\" stroke=\"black\" points=\"730.75,-38 636.75,-38 636.75,0 730.75,0 730.75,-38\"/>\n<text text-anchor=\"middle\" x=\"683.75\" y=\"-20.7\" font-family=\"Helvetica,sans-Serif\" font-size=\"14.00\">samples = 8</text>\n<text text-anchor=\"middle\" x=\"683.75\" y=\"-5.7\" font-family=\"Helvetica,sans-Serif\" font-size=\"14.00\">value = [1, 7]</text>\n</g>\n<!-- 11&#45;&gt;13 -->\n<g id=\"edge13\" class=\"edge\">\n<title>11&#45;&gt;13</title>\n<path fill=\"none\" stroke=\"black\" d=\"M641.03,-73.91C647.88,-65.26 655.55,-55.59 662.48,-46.84\"/>\n<polygon fill=\"black\" stroke=\"black\" points=\"665.63,-49.5 669.1,-39.49 660.15,-45.15 665.63,-49.5\"/>\n</g>\n<!-- 15 -->\n<g id=\"node16\" class=\"node\">\n<title>15</title>\n<polygon fill=\"#f6d2b9\" stroke=\"black\" points=\"1042.75,-216 906.75,-216 906.75,-163 1042.75,-163 1042.75,-216\"/>\n<text text-anchor=\"middle\" x=\"974.75\" y=\"-198.7\" font-family=\"Helvetica,sans-Serif\" font-size=\"14.00\">hypertension &lt;= 0.5</text>\n<text text-anchor=\"middle\" x=\"974.75\" y=\"-183.7\" font-family=\"Helvetica,sans-Serif\" font-size=\"14.00\">samples = 51</text>\n<text text-anchor=\"middle\" x=\"974.75\" y=\"-168.7\" font-family=\"Helvetica,sans-Serif\" font-size=\"14.00\">value = [31, 20]</text>\n</g>\n<!-- 14&#45;&gt;15 -->\n<g id=\"edge15\" class=\"edge\">\n<title>14&#45;&gt;15</title>\n<path fill=\"none\" stroke=\"black\" d=\"M974.75,-251.87C974.75,-244.15 974.75,-235.52 974.75,-227.23\"/>\n<polygon fill=\"black\" stroke=\"black\" points=\"978.25,-227.25 974.75,-217.25 971.25,-227.25 978.25,-227.25\"/>\n</g>\n<!-- 22 -->\n<g id=\"node23\" class=\"node\">\n<title>22</title>\n<polygon fill=\"#95cbf1\" stroke=\"black\" points=\"1376,-216 1163.5,-216 1163.5,-163 1376,-163 1376,-216\"/>\n<text text-anchor=\"middle\" x=\"1269.75\" y=\"-198.7\" font-family=\"Helvetica,sans-Serif\" font-size=\"14.00\">smoking_status_encoded &lt;= 2.5</text>\n<text text-anchor=\"middle\" x=\"1269.75\" y=\"-183.7\" font-family=\"Helvetica,sans-Serif\" font-size=\"14.00\">samples = 63</text>\n<text text-anchor=\"middle\" x=\"1269.75\" y=\"-168.7\" font-family=\"Helvetica,sans-Serif\" font-size=\"14.00\">value = [20, 43]</text>\n</g>\n<!-- 14&#45;&gt;22 -->\n<g id=\"edge22\" class=\"edge\">\n<title>14&#45;&gt;22</title>\n<path fill=\"none\" stroke=\"black\" d=\"M1029.55,-261.34C1069.29,-249.62 1124.12,-233.45 1171.37,-219.51\"/>\n<polygon fill=\"black\" stroke=\"black\" points=\"1172.04,-222.67 1180.64,-216.49 1170.06,-215.96 1172.04,-222.67\"/>\n</g>\n<!-- 16 -->\n<g id=\"node17\" class=\"node\">\n<title>16</title>\n<polygon fill=\"#f0b68d\" stroke=\"black\" points=\"989.88,-127 797.62,-127 797.62,-74 989.88,-74 989.88,-127\"/>\n<text text-anchor=\"middle\" x=\"893.75\" y=\"-109.7\" font-family=\"Helvetica,sans-Serif\" font-size=\"14.00\">avg_glucose_level &lt;= 130.89</text>\n<text text-anchor=\"middle\" x=\"893.75\" y=\"-94.7\" font-family=\"Helvetica,sans-Serif\" font-size=\"14.00\">samples = 37</text>\n<text text-anchor=\"middle\" x=\"893.75\" y=\"-79.7\" font-family=\"Helvetica,sans-Serif\" font-size=\"14.00\">value = [26, 11]</text>\n</g>\n<!-- 15&#45;&gt;16 -->\n<g id=\"edge16\" class=\"edge\">\n<title>15&#45;&gt;16</title>\n<path fill=\"none\" stroke=\"black\" d=\"M950.89,-162.87C942.8,-154.18 933.65,-144.35 925.07,-135.14\"/>\n<polygon fill=\"black\" stroke=\"black\" points=\"928.1,-133.18 918.72,-128.25 922.98,-137.95 928.1,-133.18\"/>\n</g>\n<!-- 19 -->\n<g id=\"node20\" class=\"node\">\n<title>19</title>\n<polygon fill=\"#a7d3f3\" stroke=\"black\" points=\"1105.62,-127 1007.88,-127 1007.88,-74 1105.62,-74 1105.62,-127\"/>\n<text text-anchor=\"middle\" x=\"1056.75\" y=\"-109.7\" font-family=\"Helvetica,sans-Serif\" font-size=\"14.00\">bmi &lt;= 39.05</text>\n<text text-anchor=\"middle\" x=\"1056.75\" y=\"-94.7\" font-family=\"Helvetica,sans-Serif\" font-size=\"14.00\">samples = 14</text>\n<text text-anchor=\"middle\" x=\"1056.75\" y=\"-79.7\" font-family=\"Helvetica,sans-Serif\" font-size=\"14.00\">value = [5, 9]</text>\n</g>\n<!-- 15&#45;&gt;19 -->\n<g id=\"edge19\" class=\"edge\">\n<title>15&#45;&gt;19</title>\n<path fill=\"none\" stroke=\"black\" d=\"M998.91,-162.87C1007.09,-154.18 1016.36,-144.35 1025.04,-135.14\"/>\n<polygon fill=\"black\" stroke=\"black\" points=\"1027.17,-137.93 1031.48,-128.25 1022.07,-133.13 1027.17,-137.93\"/>\n</g>\n<!-- 17 -->\n<g id=\"node18\" class=\"node\">\n<title>17</title>\n<polygon fill=\"#eb9e66\" stroke=\"black\" points=\"850.5,-38 749,-38 749,0 850.5,0 850.5,-38\"/>\n<text text-anchor=\"middle\" x=\"799.75\" y=\"-20.7\" font-family=\"Helvetica,sans-Serif\" font-size=\"14.00\">samples = 27</text>\n<text text-anchor=\"middle\" x=\"799.75\" y=\"-5.7\" font-family=\"Helvetica,sans-Serif\" font-size=\"14.00\">value = [22, 5]</text>\n</g>\n<!-- 16&#45;&gt;17 -->\n<g id=\"edge17\" class=\"edge\">\n<title>16&#45;&gt;17</title>\n<path fill=\"none\" stroke=\"black\" d=\"M863.23,-73.69C852.49,-64.6 840.43,-54.4 829.73,-45.35\"/>\n<polygon fill=\"black\" stroke=\"black\" points=\"832.39,-42.17 822.49,-38.39 827.87,-47.52 832.39,-42.17\"/>\n</g>\n<!-- 18 -->\n<g id=\"node19\" class=\"node\">\n<title>18</title>\n<polygon fill=\"#bddef6\" stroke=\"black\" points=\"966.62,-38 868.88,-38 868.88,0 966.62,0 966.62,-38\"/>\n<text text-anchor=\"middle\" x=\"917.75\" y=\"-20.7\" font-family=\"Helvetica,sans-Serif\" font-size=\"14.00\">samples = 10</text>\n<text text-anchor=\"middle\" x=\"917.75\" y=\"-5.7\" font-family=\"Helvetica,sans-Serif\" font-size=\"14.00\">value = [4, 6]</text>\n</g>\n<!-- 16&#45;&gt;18 -->\n<g id=\"edge18\" class=\"edge\">\n<title>16&#45;&gt;18</title>\n<path fill=\"none\" stroke=\"black\" d=\"M901.48,-73.91C903.9,-65.89 906.58,-56.99 909.06,-48.77\"/>\n<polygon fill=\"black\" stroke=\"black\" points=\"912.63,-50.07 912.17,-39.49 905.93,-48.05 912.63,-50.07\"/>\n</g>\n<!-- 20 -->\n<g id=\"node21\" class=\"node\">\n<title>20</title>\n<polygon fill=\"#65b3eb\" stroke=\"black\" points=\"1082.62,-38 984.88,-38 984.88,0 1082.62,0 1082.62,-38\"/>\n<text text-anchor=\"middle\" x=\"1033.75\" y=\"-20.7\" font-family=\"Helvetica,sans-Serif\" font-size=\"14.00\">samples = 11</text>\n<text text-anchor=\"middle\" x=\"1033.75\" y=\"-5.7\" font-family=\"Helvetica,sans-Serif\" font-size=\"14.00\">value = [2, 9]</text>\n</g>\n<!-- 19&#45;&gt;20 -->\n<g id=\"edge20\" class=\"edge\">\n<title>19&#45;&gt;20</title>\n<path fill=\"none\" stroke=\"black\" d=\"M1049.35,-73.91C1047.05,-65.98 1044.51,-57.19 1042.15,-49.05\"/>\n<polygon fill=\"black\" stroke=\"black\" points=\"1045.24,-48.12 1039.1,-39.49 1038.52,-50.07 1045.24,-48.12\"/>\n</g>\n<!-- 21 -->\n<g id=\"node22\" class=\"node\">\n<title>21</title>\n<polygon fill=\"#e58139\" stroke=\"black\" points=\"1194.75,-38 1100.75,-38 1100.75,0 1194.75,0 1194.75,-38\"/>\n<text text-anchor=\"middle\" x=\"1147.75\" y=\"-20.7\" font-family=\"Helvetica,sans-Serif\" font-size=\"14.00\">samples = 3</text>\n<text text-anchor=\"middle\" x=\"1147.75\" y=\"-5.7\" font-family=\"Helvetica,sans-Serif\" font-size=\"14.00\">value = [3, 0]</text>\n</g>\n<!-- 19&#45;&gt;21 -->\n<g id=\"edge21\" class=\"edge\">\n<title>19&#45;&gt;21</title>\n<path fill=\"none\" stroke=\"black\" d=\"M1086.3,-73.69C1096.59,-64.69 1108.14,-54.6 1118.42,-45.62\"/>\n<polygon fill=\"black\" stroke=\"black\" points=\"1120.48,-47.6 1125.7,-38.39 1115.87,-42.33 1120.48,-47.6\"/>\n</g>\n<!-- 23 -->\n<g id=\"node24\" class=\"node\">\n<title>23</title>\n<polygon fill=\"#80c0ee\" stroke=\"black\" points=\"1365.88,-127 1173.62,-127 1173.62,-74 1365.88,-74 1365.88,-127\"/>\n<text text-anchor=\"middle\" x=\"1269.75\" y=\"-109.7\" font-family=\"Helvetica,sans-Serif\" font-size=\"14.00\">avg_glucose_level &lt;= 58.065</text>\n<text text-anchor=\"middle\" x=\"1269.75\" y=\"-94.7\" font-family=\"Helvetica,sans-Serif\" font-size=\"14.00\">samples = 53</text>\n<text text-anchor=\"middle\" x=\"1269.75\" y=\"-79.7\" font-family=\"Helvetica,sans-Serif\" font-size=\"14.00\">value = [14, 39]</text>\n</g>\n<!-- 22&#45;&gt;23 -->\n<g id=\"edge23\" class=\"edge\">\n<title>22&#45;&gt;23</title>\n<path fill=\"none\" stroke=\"black\" d=\"M1269.75,-162.87C1269.75,-155.15 1269.75,-146.52 1269.75,-138.23\"/>\n<polygon fill=\"black\" stroke=\"black\" points=\"1273.25,-138.25 1269.75,-128.25 1266.25,-138.25 1273.25,-138.25\"/>\n</g>\n<!-- 26 -->\n<g id=\"node27\" class=\"node\">\n<title>26</title>\n<polygon fill=\"#f6d5bd\" stroke=\"black\" points=\"1604.5,-127 1395,-127 1395,-74 1604.5,-74 1604.5,-127\"/>\n<text text-anchor=\"middle\" x=\"1499.75\" y=\"-109.7\" font-family=\"Helvetica,sans-Serif\" font-size=\"14.00\">residence_type_encoded &lt;= 0.5</text>\n<text text-anchor=\"middle\" x=\"1499.75\" y=\"-94.7\" font-family=\"Helvetica,sans-Serif\" font-size=\"14.00\">samples = 10</text>\n<text text-anchor=\"middle\" x=\"1499.75\" y=\"-79.7\" font-family=\"Helvetica,sans-Serif\" font-size=\"14.00\">value = [6, 4]</text>\n</g>\n<!-- 22&#45;&gt;26 -->\n<g id=\"edge26\" class=\"edge\">\n<title>22&#45;&gt;26</title>\n<path fill=\"none\" stroke=\"black\" d=\"M1338.45,-162.51C1364.5,-152.66 1394.37,-141.36 1421.26,-131.19\"/>\n<polygon fill=\"black\" stroke=\"black\" points=\"1422.29,-134.16 1430.41,-127.35 1419.82,-127.62 1422.29,-134.16\"/>\n</g>\n<!-- 24 -->\n<g id=\"node25\" class=\"node\">\n<title>24</title>\n<polygon fill=\"#e58139\" stroke=\"black\" points=\"1306.75,-38 1212.75,-38 1212.75,0 1306.75,0 1306.75,-38\"/>\n<text text-anchor=\"middle\" x=\"1259.75\" y=\"-20.7\" font-family=\"Helvetica,sans-Serif\" font-size=\"14.00\">samples = 1</text>\n<text text-anchor=\"middle\" x=\"1259.75\" y=\"-5.7\" font-family=\"Helvetica,sans-Serif\" font-size=\"14.00\">value = [1, 0]</text>\n</g>\n<!-- 23&#45;&gt;24 -->\n<g id=\"edge24\" class=\"edge\">\n<title>23&#45;&gt;24</title>\n<path fill=\"none\" stroke=\"black\" d=\"M1266.53,-73.91C1265.55,-66.07 1264.45,-57.39 1263.44,-49.33\"/>\n<polygon fill=\"black\" stroke=\"black\" points=\"1266.8,-48.97 1262.08,-39.49 1259.85,-49.85 1266.8,-48.97\"/>\n</g>\n<!-- 25 -->\n<g id=\"node26\" class=\"node\">\n<title>25</title>\n<polygon fill=\"#7bbeee\" stroke=\"black\" points=\"1434.25,-38 1325.25,-38 1325.25,0 1434.25,0 1434.25,-38\"/>\n<text text-anchor=\"middle\" x=\"1379.75\" y=\"-20.7\" font-family=\"Helvetica,sans-Serif\" font-size=\"14.00\">samples = 52</text>\n<text text-anchor=\"middle\" x=\"1379.75\" y=\"-5.7\" font-family=\"Helvetica,sans-Serif\" font-size=\"14.00\">value = [13, 39]</text>\n</g>\n<!-- 23&#45;&gt;25 -->\n<g id=\"edge25\" class=\"edge\">\n<title>23&#45;&gt;25</title>\n<path fill=\"none\" stroke=\"black\" d=\"M1305.46,-73.69C1318.29,-64.42 1332.71,-54 1345.41,-44.82\"/>\n<polygon fill=\"black\" stroke=\"black\" points=\"1347.26,-47.08 1353.31,-38.39 1343.15,-41.41 1347.26,-47.08\"/>\n</g>\n<!-- 27 -->\n<g id=\"node28\" class=\"node\">\n<title>27</title>\n<polygon fill=\"#e58139\" stroke=\"black\" points=\"1546.75,-38 1452.75,-38 1452.75,0 1546.75,0 1546.75,-38\"/>\n<text text-anchor=\"middle\" x=\"1499.75\" y=\"-20.7\" font-family=\"Helvetica,sans-Serif\" font-size=\"14.00\">samples = 4</text>\n<text text-anchor=\"middle\" x=\"1499.75\" y=\"-5.7\" font-family=\"Helvetica,sans-Serif\" font-size=\"14.00\">value = [4, 0]</text>\n</g>\n<!-- 26&#45;&gt;27 -->\n<g id=\"edge27\" class=\"edge\">\n<title>26&#45;&gt;27</title>\n<path fill=\"none\" stroke=\"black\" d=\"M1499.75,-73.91C1499.75,-66.07 1499.75,-57.39 1499.75,-49.33\"/>\n<polygon fill=\"black\" stroke=\"black\" points=\"1503.25,-49.49 1499.75,-39.49 1496.25,-49.49 1503.25,-49.49\"/>\n</g>\n<!-- 28 -->\n<g id=\"node29\" class=\"node\">\n<title>28</title>\n<polygon fill=\"#9ccef2\" stroke=\"black\" points=\"1658.75,-38 1564.75,-38 1564.75,0 1658.75,0 1658.75,-38\"/>\n<text text-anchor=\"middle\" x=\"1611.75\" y=\"-20.7\" font-family=\"Helvetica,sans-Serif\" font-size=\"14.00\">samples = 6</text>\n<text text-anchor=\"middle\" x=\"1611.75\" y=\"-5.7\" font-family=\"Helvetica,sans-Serif\" font-size=\"14.00\">value = [2, 4]</text>\n</g>\n<!-- 26&#45;&gt;28 -->\n<g id=\"edge28\" class=\"edge\">\n<title>26&#45;&gt;28</title>\n<path fill=\"none\" stroke=\"black\" d=\"M1536.11,-73.69C1549.3,-64.33 1564.14,-53.8 1577.16,-44.55\"/>\n<polygon fill=\"black\" stroke=\"black\" points=\"1578.72,-47.03 1584.85,-38.39 1574.67,-41.32 1578.72,-47.03\"/>\n</g>\n</g>\n</svg>\n",
      "text/plain": "<graphviz.sources.Source at 0x7fbd28e13290>"
     },
     "metadata": {},
     "output_type": "display_data"
    }
   ],
   "source": [
    "# model의 결과물을 tree.dot에 저장      \n",
    "import graphviz\n",
    "from sklearn.tree import export_graphviz \n",
    "export_graphviz(best_clf, out_file = \"tree.dot\",   \n",
    "                feature_names = list(data.columns), impurity = False , filled = True )\n",
    "\n",
    "# tree.dot을 graphviz 기능을 통해 디스플레이.\n",
    "import graphviz\n",
    "with open(\"tree.dot\") as f:\n",
    "    dot_graph = f.read() \n",
    "display(graphviz.Source(dot_graph)) "
   ]
  },
  {
   "cell_type": "code",
   "execution_count": 39,
   "metadata": {
    "id": "-bDqH3dIjyTU",
    "ExecuteTime": {
     "end_time": "2023-08-01T09:41:56.345400Z",
     "start_time": "2023-08-01T09:41:56.177004Z"
    }
   },
   "outputs": [
    {
     "name": "stdout",
     "output_type": "stream",
     "text": [
      "zsh:1: command not found: apt-get\r\n"
     ]
    },
    {
     "ename": "ModuleNotFoundError",
     "evalue": "No module named 'pydot'",
     "output_type": "error",
     "traceback": [
      "\u001B[0;31m---------------------------------------------------------------------------\u001B[0m",
      "\u001B[0;31mModuleNotFoundError\u001B[0m                       Traceback (most recent call last)",
      "\u001B[0;32m/var/folders/wy/lf510fmd5_bg4dg6s40n38vm0000gn/T/ipykernel_20584/3989582702.py\u001B[0m in \u001B[0;36m<module>\u001B[0;34m\u001B[0m\n\u001B[1;32m      5\u001B[0m \u001B[0;31m# Install graphviz on Colab\u001B[0m\u001B[0;34m\u001B[0m\u001B[0;34m\u001B[0m\u001B[0;34m\u001B[0m\u001B[0m\n\u001B[1;32m      6\u001B[0m \u001B[0mget_ipython\u001B[0m\u001B[0;34m(\u001B[0m\u001B[0;34m)\u001B[0m\u001B[0;34m.\u001B[0m\u001B[0msystem\u001B[0m\u001B[0;34m(\u001B[0m\u001B[0;34m'apt-get -qq install -y graphviz && pip install -q pydot'\u001B[0m\u001B[0;34m)\u001B[0m\u001B[0;34m\u001B[0m\u001B[0;34m\u001B[0m\u001B[0m\n\u001B[0;32m----> 7\u001B[0;31m \u001B[0;32mimport\u001B[0m \u001B[0mpydot\u001B[0m\u001B[0;34m\u001B[0m\u001B[0;34m\u001B[0m\u001B[0m\n\u001B[0m",
      "\u001B[0;31mModuleNotFoundError\u001B[0m: No module named 'pydot'"
     ]
    }
   ],
   "source": [
    "# 참조 코딩\n",
    "# 위의 코딩문으로 graphviz가 설치됐는데도 코랩에서 결정트리 결과물 디스플레이가 안될 때 \n",
    "# 추가로 시도해 보는 코드\n",
    "\n",
    "# Install graphviz on Colab \n",
    "!apt-get -qq install -y graphviz && pip install -q pydot\n",
    "import pydot"
   ]
  }
 ],
 "metadata": {
  "kernelspec": {
   "display_name": "Python 3 (ipykernel)",
   "language": "python",
   "name": "python3"
  },
  "language_info": {
   "codemirror_mode": {
    "name": "ipython",
    "version": 3
   },
   "file_extension": ".py",
   "mimetype": "text/x-python",
   "name": "python",
   "nbconvert_exporter": "python",
   "pygments_lexer": "ipython3",
   "version": "3.9.7"
  },
  "colab": {
   "provenance": [],
   "collapsed_sections": []
  }
 },
 "nbformat": 4,
 "nbformat_minor": 0
}
