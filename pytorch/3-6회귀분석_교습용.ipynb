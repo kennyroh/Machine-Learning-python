{
 "nbformat": 4,
 "nbformat_minor": 0,
 "metadata": {
  "colab": {
   "name": "Ch03_6회귀분석_강의용.ipynb",
   "private_outputs": true,
   "provenance": [],
   "collapsed_sections": []
  },
  "kernelspec": {
   "name": "python3",
   "language": "python",
   "display_name": "Python 3 (ipykernel)"
  }
 },
 "cells": [
  {
   "cell_type": "markdown",
   "metadata": {
    "id": "a2P6daF5vIFw"
   },
   "source": [
    "## Logistic regression example\n"
   ]
  },
  {
   "cell_type": "code",
   "metadata": {
    "id": "CZBioPbovEhF",
    "ExecuteTime": {
     "end_time": "2023-07-26T08:23:06.179450Z",
     "start_time": "2023-07-26T08:22:59.424537Z"
    }
   },
   "source": [
    "# 라이브러리 호출\n",
    "import torch\n",
    "import torch.nn as nn\n",
    "import torch.optim as optim\n",
    "import torch.nn.functional as F\n",
    "\n",
    "import pandas as pd\n",
    "import numpy as np\n",
    "import matplotlib.pyplot as plt\n",
    "%matplotlib inline"
   ],
   "execution_count": 1,
   "outputs": []
  },
  {
   "cell_type": "code",
   "metadata": {
    "id": "kKtuHGLdvWki",
    "ExecuteTime": {
     "end_time": "2023-07-26T08:23:06.193721Z",
     "start_time": "2023-07-26T08:23:06.181710Z"
    }
   },
   "source": [
    "data = pd.read_csv('./mba_admission.csv')"
   ],
   "execution_count": 2,
   "outputs": []
  },
  {
   "cell_type": "code",
   "metadata": {
    "id": "zlY62Aix0K26",
    "ExecuteTime": {
     "end_time": "2023-07-26T08:23:06.253186Z",
     "start_time": "2023-07-26T08:23:06.246797Z"
    }
   },
   "source": [
    "data.columns"
   ],
   "execution_count": 3,
   "outputs": [
    {
     "data": {
      "text/plain": "Index(['gmat', 'gpa', 'work_experience', 'admitted'], dtype='object')"
     },
     "execution_count": 3,
     "metadata": {},
     "output_type": "execute_result"
    }
   ]
  },
  {
   "cell_type": "code",
   "metadata": {
    "id": "r4Wp60771_9R",
    "ExecuteTime": {
     "end_time": "2023-07-26T08:23:06.268976Z",
     "start_time": "2023-07-26T08:23:06.258324Z"
    }
   },
   "source": [
    "data.head()"
   ],
   "execution_count": 4,
   "outputs": [
    {
     "data": {
      "text/plain": "   gmat  gpa  work_experience  admitted\n0   780  4.0                3         1\n1   750  3.9                4         1\n2   690  3.3                3         1\n3   710  3.7                5         1\n4   680  3.9                4         1",
      "text/html": "<div>\n<style scoped>\n    .dataframe tbody tr th:only-of-type {\n        vertical-align: middle;\n    }\n\n    .dataframe tbody tr th {\n        vertical-align: top;\n    }\n\n    .dataframe thead th {\n        text-align: right;\n    }\n</style>\n<table border=\"1\" class=\"dataframe\">\n  <thead>\n    <tr style=\"text-align: right;\">\n      <th></th>\n      <th>gmat</th>\n      <th>gpa</th>\n      <th>work_experience</th>\n      <th>admitted</th>\n    </tr>\n  </thead>\n  <tbody>\n    <tr>\n      <th>0</th>\n      <td>780</td>\n      <td>4.0</td>\n      <td>3</td>\n      <td>1</td>\n    </tr>\n    <tr>\n      <th>1</th>\n      <td>750</td>\n      <td>3.9</td>\n      <td>4</td>\n      <td>1</td>\n    </tr>\n    <tr>\n      <th>2</th>\n      <td>690</td>\n      <td>3.3</td>\n      <td>3</td>\n      <td>1</td>\n    </tr>\n    <tr>\n      <th>3</th>\n      <td>710</td>\n      <td>3.7</td>\n      <td>5</td>\n      <td>1</td>\n    </tr>\n    <tr>\n      <th>4</th>\n      <td>680</td>\n      <td>3.9</td>\n      <td>4</td>\n      <td>1</td>\n    </tr>\n  </tbody>\n</table>\n</div>"
     },
     "execution_count": 4,
     "metadata": {},
     "output_type": "execute_result"
    }
   ]
  },
  {
   "cell_type": "code",
   "metadata": {
    "id": "WfQZFMnO0Sxw",
    "ExecuteTime": {
     "end_time": "2023-07-26T08:23:06.300665Z",
     "start_time": "2023-07-26T08:23:06.274505Z"
    }
   },
   "source": [
    "# Train - validation - test 용도는 만들지 않을께요!\n",
    "class dataset(torch.utils.data.Dataset):\n",
    "  def __init__(self,data):\n",
    "    self.data = data\n",
    "    self.data['gmat'] /= self.data['gmat'].max()\n",
    "    self.data['gpa'] /= self.data['gpa'].max()\n",
    "    self.data['work_experience'] /= self.data['work_experience'].max()\n",
    "\n",
    "  def __getitem__(self,idx):\n",
    "    X = torch.Tensor(self.data[self.data.columns[:3]].values)\n",
    "    Y = torch.Tensor(self.data['admitted'])\n",
    "    return X[idx,:], Y[idx]\n",
    "\n",
    "  def __len__(self):\n",
    "    return self.data.shape[0]"
   ],
   "execution_count": 5,
   "outputs": []
  },
  {
   "cell_type": "code",
   "metadata": {
    "id": "wpB934A71ZHI",
    "ExecuteTime": {
     "end_time": "2023-07-26T08:23:06.301590Z",
     "start_time": "2023-07-26T08:23:06.277394Z"
    }
   },
   "source": [
    "train_dataset = dataset(data)\n",
    "train_loader = torch.utils.data.DataLoader(train_dataset,batch_size=8,shuffle=True,drop_last=False)"
   ],
   "execution_count": 6,
   "outputs": []
  },
  {
   "cell_type": "code",
   "metadata": {
    "id": "KEh81_Ku1fwA",
    "ExecuteTime": {
     "end_time": "2023-07-26T08:23:06.312920Z",
     "start_time": "2023-07-26T08:23:06.286914Z"
    }
   },
   "source": [
    "# neural network 모델 생성\n",
    "# 구조:  입력(3), 은닉(10), 출력(1)\n",
    "# 활성화:         tanh      sigmoid\n",
    "class admission_model(nn.Module):\n",
    "  def __init__(self):\n",
    "    super(admission_model,self).__init__()\n",
    "    self.lin1 = nn.Linear(3,10)\n",
    "    self.lin2 = nn.Linear(10,1)\n",
    "\n",
    "  def forward(self,x):\n",
    "    x = self.lin1(x)\n",
    "    x = F.tanh(x)\n",
    "    x = self.lin2(x)\n",
    "    x = F.sigmoid(x)\n",
    "    return x"
   ],
   "execution_count": 7,
   "outputs": []
  },
  {
   "cell_type": "code",
   "metadata": {
    "id": "8KX_0Tsm3jTS",
    "ExecuteTime": {
     "end_time": "2023-07-26T08:23:06.340789Z",
     "start_time": "2023-07-26T08:23:06.301037Z"
    }
   },
   "source": [
    "model = admission_model()\n",
    "optimizer = optim.SGD(model.parameters(),lr=0.5)"
   ],
   "execution_count": 8,
   "outputs": []
  },
  {
   "cell_type": "code",
   "metadata": {
    "id": "Fwy4T71K3pFC",
    "ExecuteTime": {
     "end_time": "2023-07-26T08:23:08.215520Z",
     "start_time": "2023-07-26T08:23:06.311863Z"
    }
   },
   "source": [
    "for ep in range(100):\n",
    "  loss_buffer = []\n",
    "  for X,Y in train_loader:\n",
    "    optimizer.zero_grad()\n",
    "    y_infer = model(X).view(-1)\n",
    "    loss = -torch.mean(Y*torch.log(y_infer)+(1-Y)*torch.log(1-y_infer)) # cross entropy 함수 --> MNIST예제에서 상세히\n",
    "    loss.backward()\n",
    "    optimizer.step()\n",
    "    loss_buffer.append(loss.item())\n",
    "\n",
    "  if ep % 10 == 0:\n",
    "    print('Epoch: {}, Loss: {}'.format(ep,np.mean(loss_buffer)))"
   ],
   "execution_count": 9,
   "outputs": [
    {
     "name": "stderr",
     "output_type": "stream",
     "text": [
      "/Users/kenny/.conda/envs/helloworld/lib/python3.7/site-packages/torch/nn/functional.py:1956: UserWarning: nn.functional.tanh is deprecated. Use torch.tanh instead.\n",
      "  warnings.warn(\"nn.functional.tanh is deprecated. Use torch.tanh instead.\")\n",
      "/Users/kenny/.conda/envs/helloworld/lib/python3.7/site-packages/torch/nn/functional.py:1967: UserWarning: nn.functional.sigmoid is deprecated. Use torch.sigmoid instead.\n",
      "  warnings.warn(\"nn.functional.sigmoid is deprecated. Use torch.sigmoid instead.\")\n"
     ]
    },
    {
     "name": "stdout",
     "output_type": "stream",
     "text": [
      "Epoch: 0, Loss: 0.7096370577812194\n",
      "Epoch: 10, Loss: 0.41837204098701475\n",
      "Epoch: 20, Loss: 0.2528043031692505\n",
      "Epoch: 30, Loss: 0.2547803074121475\n",
      "Epoch: 40, Loss: 0.18882098346948623\n",
      "Epoch: 50, Loss: 0.0881456457078457\n",
      "Epoch: 60, Loss: 0.07699517235159874\n",
      "Epoch: 70, Loss: 0.0843094427138567\n",
      "Epoch: 80, Loss: 0.0940885073505342\n",
      "Epoch: 90, Loss: 0.04502794481813908\n"
     ]
    }
   ]
  },
  {
   "cell_type": "code",
   "metadata": {
    "id": "Bfb5hxUN4S8L",
    "ExecuteTime": {
     "end_time": "2023-07-26T08:23:08.462495Z",
     "start_time": "2023-07-26T08:23:08.219358Z"
    }
   },
   "source": [
    "# 결과 시각화\n",
    "y_infer = model(torch.Tensor(data[data.columns[:3]].values))\n",
    "\n",
    "plt.scatter(np.arange(data.shape[0]),data['admitted'],color='red',label='True result')\n",
    "plt.scatter(np.arange(data.shape[0]),y_infer.detach().numpy(),color='blue',label='Predicted result')\n",
    "plt.hlines(0.5,-10,60,label='Admission boundary')\n",
    "plt.legend(loc='upper center',fontsize=' 10')\n",
    "plt.xlim(-1,41)\n",
    "plt.ylim(-0.1,1.5)\n",
    "plt.xlabel('Volunteer')\n",
    "plt.ylabel('Result')\n",
    "plt.title('MBA admission result included prediction')"
   ],
   "execution_count": 10,
   "outputs": [
    {
     "data": {
      "text/plain": "Text(0.5, 1.0, 'MBA admission result included prediction')"
     },
     "execution_count": 10,
     "metadata": {},
     "output_type": "execute_result"
    },
    {
     "data": {
      "text/plain": "<Figure size 640x480 with 1 Axes>",
      "image/png": "[encoded data removed]"
     },
     "metadata": {},
     "output_type": "display_data"
    }
   ]
  },
  {
   "cell_type": "code",
   "metadata": {
    "id": "tC_-P4gV7JWN",
    "ExecuteTime": {
     "end_time": "2023-07-26T08:23:08.466126Z",
     "start_time": "2023-07-26T08:23:08.463244Z"
    }
   },
   "source": [],
   "execution_count": 10,
   "outputs": []
  }
 ]
}
