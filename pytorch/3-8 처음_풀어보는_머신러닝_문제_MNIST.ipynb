{
 "nbformat": 4,
 "nbformat_minor": 0,
 "metadata": {
  "colab": {
   "name": "Ch03_8처음_풀어보는_머신러닝_문제_MNIST.ipynb",
   "private_outputs": true,
   "provenance": []
  },
  "kernelspec": {
   "name": "python3",
   "language": "python",
   "display_name": "Python 3 (ipykernel)"
  }
 },
 "cells": [
  {
   "cell_type": "markdown",
   "metadata": {
    "id": "cJrjKHXEeiJz"
   },
   "source": [
    "## MNIST 손글씨 데이터셋 분류"
   ]
  },
  {
   "cell_type": "code",
   "metadata": {
    "id": "AAEEFJi95Qfi",
    "ExecuteTime": {
     "end_time": "2023-07-31T07:26:12.914457Z",
     "start_time": "2023-07-31T07:26:12.912173Z"
    }
   },
   "source": [
    "# 라이브러리 호출\n",
    "import torch\n",
    "import torch.nn as nn\n",
    "import torch.nn.functional as F\n",
    "import torch.optim as optim\n",
    "import torchvision.datasets as dataset  # torchvision 이미지인식\n",
    "import torchvision.transforms as transforms # transforms MNIST 가공 + Tensor형태로 변환.\n",
    "\n",
    "import numpy as np\n",
    "import matplotlib.pyplot as plt\n",
    "%matplotlib inline"
   ],
   "execution_count": 19,
   "outputs": []
  },
  {
   "cell_type": "code",
   "metadata": {
    "id": "_s9BJmAqexiw",
    "ExecuteTime": {
     "end_time": "2023-07-31T07:26:12.973049Z",
     "start_time": "2023-07-31T07:26:12.918322Z"
    }
   },
   "source": [
    "mnist_train = dataset.MNIST(root='MNIST_data/',\n",
    "                          train=True, \n",
    "                          transform=transforms.ToTensor(), \n",
    "                          download=True) # 6만개 이미지와 레이블\n",
    "\n",
    "mnist_test = dataset.MNIST(root='MNIST_data/', \n",
    "                         train=False, \n",
    "                         transform=transforms.ToTensor(), \n",
    "                         download=True) # 만개의 미지와 레이블."
   ],
   "execution_count": 20,
   "outputs": []
  },
  {
   "cell_type": "code",
   "metadata": {
    "id": "aDloX8AigcWs",
    "ExecuteTime": {
     "end_time": "2023-07-31T07:26:13.094206Z",
     "start_time": "2023-07-31T07:26:12.975432Z"
    }
   },
   "source": [
    "print(mnist_train)\n",
    "print(mnist_test)\n",
    "# sample\n",
    "img, label = mnist_train[0]\n",
    "plt.imshow(img[0,:,:])\n",
    "print(label)"
   ],
   "execution_count": 21,
   "outputs": [
    {
     "name": "stdout",
     "output_type": "stream",
     "text": [
      "Dataset MNIST\n",
      "    Number of datapoints: 60000\n",
      "    Root location: MNIST_data/\n",
      "    Split: Train\n",
      "    StandardTransform\n",
      "Transform: ToTensor()\n",
      "Dataset MNIST\n",
      "    Number of datapoints: 10000\n",
      "    Root location: MNIST_data/\n",
      "    Split: Test\n",
      "    StandardTransform\n",
      "Transform: ToTensor()\n",
      "5\n"
     ]
    },
    {
     "data": {
      "text/plain": "<Figure size 640x480 with 1 Axes>",
      "image/png": "[encoded data removed]"
     },
     "metadata": {},
     "output_type": "display_data"
    }
   ]
  },
  {
   "cell_type": "code",
   "metadata": {
    "id": "5DUH-tZNjblw",
    "ExecuteTime": {
     "end_time": "2023-07-31T07:26:13.101916Z",
     "start_time": "2023-07-31T07:26:13.096389Z"
    }
   },
   "source": [
    "# 상대적으로 쉬운 문제이므로 valid_dataset은 따로 상정X\n",
    "train_loader = torch.utils.data.DataLoader(mnist_train,batch_size=32,shuffle=True,drop_last=False)\n",
    "test_loader = torch.utils.data.DataLoader(mnist_test,batch_size=32,shuffle=False,drop_last=False)"
   ],
   "execution_count": 22,
   "outputs": []
  },
  {
   "cell_type": "code",
   "metadata": {
    "id": "xafQv0yMlID-",
    "ExecuteTime": {
     "end_time": "2023-07-31T07:26:13.151857Z",
     "start_time": "2023-07-31T07:26:13.104057Z"
    }
   },
   "source": [
    "# Neural network 모델만들기\n",
    "class MNIST_full(nn.Module):\n",
    "  def __init__(self):\n",
    "    super(MNIST_full,self).__init__()\n",
    "    self.lin1 = nn.Linear(784,256)\n",
    "    self.lin2 = nn.Linear(256,128)\n",
    "    self.lin3 = nn.Linear(128,10)\n",
    "\n",
    "  def forward(self,x):\n",
    "    x = x.view(-1,784)  # (batch, 28, 28, 1) --> (batch, 784) flatten\n",
    "    x = F.relu(self.lin1(x))\n",
    "    x = F.relu(self.lin2(x))\n",
    "    x = F.softmax(self.lin3(x),dim=1)\n",
    "    return x"
   ],
   "execution_count": 23,
   "outputs": []
  },
  {
   "cell_type": "code",
   "metadata": {
    "id": "yptcYonDmXUM",
    "ExecuteTime": {
     "end_time": "2023-07-31T07:26:13.161674Z",
     "start_time": "2023-07-31T07:26:13.106412Z"
    }
   },
   "source": [
    "model = MNIST_full()\n",
    "optimizer = optim.Adam(model.parameters(),lr=0.0001)"
   ],
   "execution_count": 24,
   "outputs": []
  },
  {
   "cell_type": "code",
   "metadata": {
    "id": "shLExfa_mcKb",
    "ExecuteTime": {
     "end_time": "2023-07-31T07:26:13.162756Z",
     "start_time": "2023-07-31T07:26:13.115067Z"
    }
   },
   "source": [
    "def kl_div(prob1, prob2):\n",
    "  return torch.sum(prob1*torch.log(prob1/prob2+1e-15))"
   ],
   "execution_count": 25,
   "outputs": []
  },
  {
   "cell_type": "code",
   "metadata": {
    "id": "g7XcVzjapbvT",
    "ExecuteTime": {
     "end_time": "2023-07-31T07:26:13.163139Z",
     "start_time": "2023-07-31T07:26:13.123761Z"
    }
   },
   "source": [
    "def cross(prob1,prob2):\n",
    "  return -torch.sum(prob1*torch.log(prob2))\n",
    "\n",
    "img, label = mnist_train[0]\n",
    "y_onehot = torch.zeros(10)\n",
    "y_onehot[label]=1\n",
    "y_onehot = y_onehot.view(1,-1)\n",
    "y_infer = model(img)\n",
    "print(y_infer)\n",
    "print(cross(y_onehot,y_infer))"
   ],
   "execution_count": 26,
   "outputs": [
    {
     "name": "stdout",
     "output_type": "stream",
     "text": [
      "tensor([[0.0963, 0.1024, 0.1012, 0.0973, 0.1109, 0.0989, 0.0983, 0.0944, 0.1008,\n",
      "         0.0996]], grad_fn=<SoftmaxBackward0>)\n",
      "tensor(2.3140, grad_fn=<NegBackward0>)\n"
     ]
    }
   ]
  },
  {
   "cell_type": "code",
   "metadata": {
    "id": "tiBp8Wawmnvy",
    "ExecuteTime": {
     "end_time": "2023-07-31T07:27:52.388050Z",
     "start_time": "2023-07-31T07:26:13.131609Z"
    }
   },
   "source": [
    "# Train 단계\n",
    "criterion = nn.CrossEntropyLoss()\n",
    "for epoch in range(10):\n",
    "  loss_buffer = []\n",
    "  for x,y in train_loader: # x: 이미지 y: 레이블(0~9)\n",
    "    optimizer.zero_grad()    # gradient 0으로 초기화\n",
    "    \n",
    "    y_onehot = torch.zeros((y.shape[0],10)) # obe hot encoding\n",
    "    y_onehot[range(y.shape[0]),y]=1   #one_hot encoding 3 --> [ 0,0,0,1,0,0,0,]\n",
    "    y_infer = model(x)\n",
    "    #loss = criterion(y_infer,y)\n",
    "    loss = kl_div(y_onehot,y_infer) # kl divergence: 확률간 거리. (레이블, 추론)\n",
    "    loss.backward() #gradient 획득\n",
    "    optimizer.step() # gradient descent 수행.\n",
    "    loss_buffer.append(loss.item())\n",
    "\n",
    "  print('Epoch: {:d}. Train loss {:f}'.format(epoch,np.mean(loss_buffer)))"
   ],
   "execution_count": 27,
   "outputs": [
    {
     "name": "stdout",
     "output_type": "stream",
     "text": [
      "Epoch: 0. Train loss 17.866371\n",
      "Epoch: 1. Train loss 8.416638\n",
      "Epoch: 2. Train loss 6.653440\n",
      "Epoch: 3. Train loss 5.419057\n",
      "Epoch: 4. Train loss 4.541780\n",
      "Epoch: 5. Train loss 3.868781\n",
      "Epoch: 6. Train loss 3.325493\n",
      "Epoch: 7. Train loss 2.902229\n",
      "Epoch: 8. Train loss 2.539666\n",
      "Epoch: 9. Train loss 2.253255\n"
     ]
    }
   ]
  },
  {
   "cell_type": "code",
   "metadata": {
    "id": "C2MfsjBFoH_p",
    "ExecuteTime": {
     "end_time": "2023-07-31T07:27:53.264795Z",
     "start_time": "2023-07-31T07:27:52.382193Z"
    }
   },
   "source": [
    "# Test 단계\n",
    "acc = []\n",
    "for x,y in test_loader:\n",
    "  # one_hot encoding\n",
    "  y_onehot = torch.zeros((len(y),10))\n",
    "  y_onehot[range(len(y)),y]=1 # one-hot encoding\n",
    "  \n",
    "  y_infer = model(x) #forward propagation\n",
    "\n",
    "  correct_prediction = torch.argmax(y_infer, 1) == y\n",
    "  acc.append(correct_prediction.float().mean())\n",
    "  \n",
    "print('Test loss {:f}, Accuracy {:f}'.format(np.mean(loss_buffer),np.mean(acc)))"
   ],
   "execution_count": 28,
   "outputs": [
    {
     "name": "stdout",
     "output_type": "stream",
     "text": [
      "Test loss 2.253255, Accuracy 0.974441\n"
     ]
    }
   ]
  },
  {
   "cell_type": "code",
   "metadata": {
    "id": "pR8_eWhh0cC8",
    "ExecuteTime": {
     "end_time": "2023-07-31T07:27:53.373687Z",
     "start_time": "2023-07-31T07:27:53.262296Z"
    }
   },
   "source": [
    "# 실물샘플\n",
    "img,label=mnist_test[0]\n",
    "plt.imshow(img[0,:,:])\n",
    "y_infer = model(img)\n",
    "print('실제 이미지의 숫자',label)\n",
    "print('예측 이미지의 숫자',torch.argmax(y_infer,1))"
   ],
   "execution_count": 29,
   "outputs": [
    {
     "name": "stdout",
     "output_type": "stream",
     "text": [
      "실제 이미지의 숫자 7\n",
      "예측 이미지의 숫자 tensor([7])\n"
     ]
    },
    {
     "data": {
      "text/plain": "<Figure size 640x480 with 1 Axes>",
      "image/png": "[encoded data removed]"
     },
     "metadata": {},
     "output_type": "display_data"
    }
   ]
  },
  {
   "cell_type": "code",
   "metadata": {
    "id": "9yOjmXMxBOXH",
    "ExecuteTime": {
     "end_time": "2023-07-31T07:27:53.373875Z",
     "start_time": "2023-07-31T07:27:53.369988Z"
    }
   },
   "source": [],
   "execution_count": 29,
   "outputs": []
  }
 ]
}
